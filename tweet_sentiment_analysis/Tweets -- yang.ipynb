{
 "cells": [
  {
   "cell_type": "code",
   "execution_count": null,
   "metadata": {},
   "outputs": [],
   "source": [
    "# import dependencies\n",
    "import tweepy\n",
    "import csv\n",
    "import pandas as pd"
   ]
  },
  {
   "cell_type": "code",
   "execution_count": null,
   "metadata": {},
   "outputs": [],
   "source": [
    "# Consumer key and Access Token\n",
    "consumer_key = \"YOUR KEY\"\n",
    "consumer_secret = \"YOUR KEY\"\n",
    "access_token = \"YOUR KEY\"\n",
    "access_secret = \"YOUR KEY\""
   ]
  },
  {
   "cell_type": "code",
   "execution_count": null,
   "metadata": {},
   "outputs": [],
   "source": [
    "# Create OAuthHandler object\n",
    "auth = tweepy.OAuthHandler(consumer_key, consumer_secret)\n",
    "# Set access token and secret token \n",
    "auth.set_access_token(access_token, access_secret)\n",
    "# Create Tweepy API Object to Fetch Tweets\n",
    "api = tweepy.API(auth)"
   ]
  },
  {
   "cell_type": "code",
   "execution_count": null,
   "metadata": {},
   "outputs": [],
   "source": [
    "# Open/Create a file to append data\n",
    "csvFile = open('yang.csv', 'a')\n",
    "#Use csv Writer\n",
    "csvWriter = csv.writer(csvFile)"
   ]
  },
  {
   "cell_type": "code",
   "execution_count": null,
   "metadata": {},
   "outputs": [],
   "source": [
    "# Append header to csv \n",
    "header = [\"Date\",\"User Name\", \"Retweeted\", \"Favorite Count\", \"Retweet Count\", \"Tweet Text\"]\n",
    "with open('yang.csv',newline='') as f:\n",
    "    r = csv.reader(f)\n",
    "    data = [line for line in r]\n",
    "with open('yang.csv','w',newline='') as f:\n",
    "    w = csv.writer(f)\n",
    "    w.writerow(header)\n",
    "    w.writerows(data)"
   ]
  },
  {
   "cell_type": "code",
   "execution_count": null,
   "metadata": {
    "scrolled": true
   },
   "outputs": [],
   "source": [
    "# Fetch Tweets (& filter retweets)\n",
    "for tweet in tweepy.Cursor(api.search,q=\"Andrew Yang -filter:retweets\",\n",
    "                           lang=\"en\", \n",
    "                           count=12000).items():\n",
    "    print (tweet.created_at)\n",
    "    print (tweet.user.name)\n",
    "    print (tweet.text)       \n",
    "    print (tweet.truncated)\n",
    "    print (\"~~~~~~~~~~~~~~~~~~~~~~~~~~\")\n",
    "#   Append individual tweets & other relevant information to csv\n",
    "    csvWriter.writerow([tweet.created_at, tweet.user.name, tweet.retweeted, tweet.favorite_count, tweet.retweet_count, tweet.text.encode('utf-8')])\n",
    "    "
   ]
  },
  {
   "cell_type": "code",
   "execution_count": null,
   "metadata": {},
   "outputs": [],
   "source": []
  }
 ],
 "metadata": {
  "kernelspec": {
   "display_name": "Python 3",
   "language": "python",
   "name": "python3"
  },
  "language_info": {
   "codemirror_mode": {
    "name": "ipython",
    "version": 3
   },
   "file_extension": ".py",
   "mimetype": "text/x-python",
   "name": "python",
   "nbconvert_exporter": "python",
   "pygments_lexer": "ipython3",
   "version": "3.6.5"
  }
 },
 "nbformat": 4,
 "nbformat_minor": 2
}
