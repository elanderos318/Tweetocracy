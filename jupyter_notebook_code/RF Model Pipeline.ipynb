{
 "cells": [
  {
   "cell_type": "code",
   "execution_count": 1,
   "metadata": {},
   "outputs": [],
   "source": [
    "import pandas as pd\n",
    "import numpy as np"
   ]
  },
  {
   "cell_type": "code",
   "execution_count": 2,
   "metadata": {},
   "outputs": [],
   "source": [
    "import sqlalchemy\n",
    "from sqlalchemy.ext.automap import automap_base\n",
    "from sqlalchemy.orm import Session\n",
    "from sqlalchemy import create_engine, func"
   ]
  },
  {
   "cell_type": "code",
   "execution_count": 3,
   "metadata": {},
   "outputs": [],
   "source": [
    "import requests\n",
    "from requests_oauthlib import OAuth1"
   ]
  },
  {
   "cell_type": "code",
   "execution_count": 4,
   "metadata": {},
   "outputs": [],
   "source": [
    "import cryptography\n",
    "from cryptography.fernet import Fernet"
   ]
  },
  {
   "cell_type": "code",
   "execution_count": 5,
   "metadata": {},
   "outputs": [],
   "source": [
    "from scipy.sparse import csr_matrix"
   ]
  },
  {
   "cell_type": "code",
   "execution_count": 6,
   "metadata": {},
   "outputs": [],
   "source": [
    "from sklearn.externals import joblib"
   ]
  },
  {
   "cell_type": "code",
   "execution_count": 7,
   "metadata": {},
   "outputs": [],
   "source": [
    "from sklearn.preprocessing import LabelEncoder"
   ]
  },
  {
   "cell_type": "code",
   "execution_count": 8,
   "metadata": {},
   "outputs": [],
   "source": [
    "import datetime as dt"
   ]
  },
  {
   "cell_type": "code",
   "execution_count": 9,
   "metadata": {},
   "outputs": [],
   "source": [
    "import random"
   ]
  },
  {
   "cell_type": "code",
   "execution_count": 10,
   "metadata": {},
   "outputs": [],
   "source": [
    "import pickle"
   ]
  },
  {
   "cell_type": "code",
   "execution_count": 11,
   "metadata": {},
   "outputs": [],
   "source": [
    "from Candidates import candidates_list"
   ]
  },
  {
   "cell_type": "code",
   "execution_count": 12,
   "metadata": {},
   "outputs": [],
   "source": [
    "with open ('../config/config_key.key', 'rb') as ck:\n",
    "    fernet_key = ck.read()\n",
    "\n",
    "with open('../config/config_encrypt_1.key', 'rb') as c1:\n",
    "    cke_e = c1.read()\n",
    "with open('../config/config_encrypt_2.key', 'rb') as c2:\n",
    "    cse_e = c2.read()\n",
    "with open('../config/config_encrypt_3.key', 'rb') as c3:\n",
    "    ate_e = c3.read()\n",
    "with open('../config/config_encrypt_4.key', 'rb') as c4:\n",
    "    atse_e = c4.read()"
   ]
  },
  {
   "cell_type": "code",
   "execution_count": 13,
   "metadata": {},
   "outputs": [],
   "source": [
    "fernet = Fernet(fernet_key)"
   ]
  },
  {
   "cell_type": "code",
   "execution_count": 14,
   "metadata": {},
   "outputs": [],
   "source": [
    "cke_d = fernet.decrypt(cke_e)\n",
    "cse_d = fernet.decrypt(cse_e)\n",
    "ate_d = fernet.decrypt(ate_e)\n",
    "atse_d = fernet.decrypt(atse_e)"
   ]
  },
  {
   "cell_type": "code",
   "execution_count": 15,
   "metadata": {},
   "outputs": [],
   "source": [
    "ck = cke_d.decode()\n",
    "cs = cse_d.decode()\n",
    "at = ate_d.decode()\n",
    "ats = atse_d.decode()"
   ]
  },
  {
   "cell_type": "code",
   "execution_count": 16,
   "metadata": {},
   "outputs": [],
   "source": [
    "# Create authorization object\n",
    "auth = OAuth1(ck, cs, at, ats)"
   ]
  },
  {
   "cell_type": "code",
   "execution_count": 17,
   "metadata": {},
   "outputs": [],
   "source": [
    "callback_url = \"https://tweetocracy.herokuapp.com/\"\n",
    "payload = {\n",
    "    'oauth_callback':callback_url\n",
    "}"
   ]
  },
  {
   "cell_type": "code",
   "execution_count": 18,
   "metadata": {},
   "outputs": [],
   "source": [
    "# Execute a POST/Auth request to twittier api to intitiate access\n",
    "r = requests.post('https://api.twitter.com/oauth/request_token', auth = auth, data = payload)"
   ]
  },
  {
   "cell_type": "code",
   "execution_count": 19,
   "metadata": {},
   "outputs": [
    {
     "name": "stdout",
     "output_type": "stream",
     "text": [
      "Post Request Token URL:https://api.twitter.com/oauth/request_token\n",
      "Post Request Status:200\n",
      "Post Request Text: oauth_token=tSu_RQAAAAAA_QraAAABbNmM9oU&oauth_token_secret=1v328VMwNf915EnMfRkJC80CQh9Y6vLR&oauth_callback_confirmed=true\n"
     ]
    }
   ],
   "source": [
    "print(f'Post Request Token URL:{r.url}')\n",
    "print(f'Post Request Status:{r.status_code}')\n",
    "print(f'Post Request Text: {r.text}')"
   ]
  },
  {
   "cell_type": "code",
   "execution_count": 20,
   "metadata": {},
   "outputs": [],
   "source": [
    "# Collect response information\n",
    "response_output = r.text\n",
    "# Relevant paramters are received as a string, separated by an '&' character\n",
    "response_parameters = response_output.split(\"&\")"
   ]
  },
  {
   "cell_type": "code",
   "execution_count": 21,
   "metadata": {},
   "outputs": [
    {
     "name": "stdout",
     "output_type": "stream",
     "text": [
      "OAuth_token:tSu_RQAAAAAA_QraAAABbNmM9oU\n",
      "Oauth Token Secret:1v328VMwNf915EnMfRkJC80CQh9Y6vLR\n",
      "Callback Confirmed:True\n"
     ]
    }
   ],
   "source": [
    "# Store relevant response paramters in variables\n",
    "oauth_token = response_parameters[0][12:]\n",
    "print(f'OAuth_token:{oauth_token}')\n",
    "oauth_token_secret=response_parameters[1][19:]\n",
    "print(f'Oauth Token Secret:{oauth_token_secret}')\n",
    "oauth_callback_confirmed = bool(response_parameters[2][25:])\n",
    "print(f'Callback Confirmed:{oauth_callback_confirmed}')"
   ]
  },
  {
   "cell_type": "code",
   "execution_count": 22,
   "metadata": {},
   "outputs": [],
   "source": [
    "extended_payload = {\n",
    "    'tweet_mode': 'extended'\n",
    "}"
   ]
  },
  {
   "cell_type": "code",
   "execution_count": 26,
   "metadata": {},
   "outputs": [],
   "source": [
    "with open('top_candidates.pkl', 'rb') as f:\n",
    "   top_candidates = pickle.load(f)"
   ]
  },
  {
   "cell_type": "code",
   "execution_count": 27,
   "metadata": {},
   "outputs": [
    {
     "data": {
      "text/plain": [
       "['Donald J. Trump',\n",
       " 'Bernie Sanders',\n",
       " 'Kamala Harris',\n",
       " 'Elizabeth Warren',\n",
       " 'Joe Biden']"
      ]
     },
     "execution_count": 27,
     "metadata": {},
     "output_type": "execute_result"
    }
   ],
   "source": [
    "top_candidates"
   ]
  },
  {
   "cell_type": "code",
   "execution_count": 28,
   "metadata": {},
   "outputs": [],
   "source": [
    "filtered_candidates = list(filter(lambda x: x[\"name\"] in top_candidates, candidates_list))"
   ]
  },
  {
   "cell_type": "code",
   "execution_count": 29,
   "metadata": {},
   "outputs": [
    {
     "data": {
      "text/plain": [
       "[{'name': 'Joe Biden',\n",
       "  'party': 'Democrat',\n",
       "  'twitter_url': 'https://twitter.com/JoeBiden',\n",
       "  'twitter_screen_name': 'JoeBiden',\n",
       "  'twitter_user_id': '939091',\n",
       "  'announcement_date': 'April 25, 2019',\n",
       "  'status': 'running'},\n",
       " {'name': 'Kamala Harris',\n",
       "  'party': 'Democrat',\n",
       "  'twitter_url': 'https://twitter.com/KamalaHarris',\n",
       "  'twitter_screen_name': 'KamalaHarris',\n",
       "  'twitter_user_id': '30354991',\n",
       "  'announcement_date': 'January 21, 2019',\n",
       "  'status': 'running'},\n",
       " {'name': 'Bernie Sanders',\n",
       "  'party': 'Independent',\n",
       "  'twitter_url': 'https://twitter.com/BernieSanders',\n",
       "  'twitter_screen_name': 'BernieSanders',\n",
       "  'twitter_user_id': '216776631',\n",
       "  'announcement_date': 'February 19, 2019',\n",
       "  'status': 'running'},\n",
       " {'name': 'Donald J. Trump',\n",
       "  'party': 'Republican',\n",
       "  'twitter_url': 'https://twitter.com/realDonaldTrump',\n",
       "  'twitter_screen_name': 'realDonaldTrump',\n",
       "  'twitter_user_id': '25073877',\n",
       "  'announcement_date': 'January 20, 2017',\n",
       "  'status': 'running'},\n",
       " {'name': 'Elizabeth Warren',\n",
       "  'party': 'Democrat',\n",
       "  'twitter_url': 'https://twitter.com/ewarren',\n",
       "  'twitter_screen_name': 'ewarren',\n",
       "  'twitter_user_id': '357606935',\n",
       "  'announcement_date': 'February 9, 2019',\n",
       "  'status': 'running'}]"
      ]
     },
     "execution_count": 29,
     "metadata": {},
     "output_type": "execute_result"
    }
   ],
   "source": [
    "filtered_candidates"
   ]
  },
  {
   "cell_type": "code",
   "execution_count": 30,
   "metadata": {},
   "outputs": [],
   "source": [
    "random_candidate = random.choice(filtered_candidates)\n",
    "candidate_id = random_candidate[\"twitter_user_id\"]"
   ]
  },
  {
   "cell_type": "code",
   "execution_count": 31,
   "metadata": {},
   "outputs": [],
   "source": [
    "user_get = requests.get(f'https://api.twitter.com/1.1/statuses/user_timeline.json?id={candidate_id}&count=100', params = extended_payload, auth = auth)\n"
   ]
  },
  {
   "cell_type": "code",
   "execution_count": 32,
   "metadata": {},
   "outputs": [],
   "source": [
    "user_json = user_get.json()"
   ]
  },
  {
   "cell_type": "code",
   "execution_count": 33,
   "metadata": {},
   "outputs": [],
   "source": [
    "def filter_aged(list_element):\n",
    "    date_string = list_element[\"created_at\"]\n",
    "    datetime_object = dt.datetime.strptime(date_string, \"%a %b %d %H:%M:%S %z %Y\")\n",
    "    date_object = datetime_object.date()\n",
    "    \n",
    "    today_datetime = dt.datetime.utcnow()\n",
    "    today_date = today_datetime.date()\n",
    "    two_days_prior = today_date - dt.timedelta(days = 2)\n",
    "\n",
    "    training_data = dt.date(2019, 8, 14)\n",
    "    \n",
    "    return ((date_object <= two_days_prior) and (date_object > training_data)) \n",
    "\n",
    "#     return date_object > training_data"
   ]
  },
  {
   "cell_type": "code",
   "execution_count": 34,
   "metadata": {},
   "outputs": [],
   "source": [
    "user_filtered = list(filter(lambda x: filter_aged(x), user_json))"
   ]
  },
  {
   "cell_type": "code",
   "execution_count": 35,
   "metadata": {},
   "outputs": [
    {
     "data": {
      "text/plain": [
       "71"
      ]
     },
     "execution_count": 35,
     "metadata": {},
     "output_type": "execute_result"
    }
   ],
   "source": [
    "len(user_filtered)"
   ]
  },
  {
   "cell_type": "code",
   "execution_count": 36,
   "metadata": {},
   "outputs": [],
   "source": [
    "tweet_selection = random.choice(user_filtered)"
   ]
  },
  {
   "cell_type": "code",
   "execution_count": 37,
   "metadata": {},
   "outputs": [
    {
     "data": {
      "text/plain": [
       "{'created_at': 'Sun Aug 25 15:47:31 +0000 2019',\n",
       " 'id': 1165651928400838656,\n",
       " 'id_str': '1165651928400838656',\n",
       " 'full_text': 'Happy Birthday Sean! https://t.co/iQgY6RTWST',\n",
       " 'truncated': False,\n",
       " 'display_text_range': [0, 20],\n",
       " 'entities': {'hashtags': [],\n",
       "  'symbols': [],\n",
       "  'user_mentions': [],\n",
       "  'urls': [{'url': 'https://t.co/iQgY6RTWST',\n",
       "    'expanded_url': 'https://twitter.com/chc_1927/status/1165526646448951297',\n",
       "    'display_url': 'twitter.com/chc_1927/statu…',\n",
       "    'indices': [21, 44]}]},\n",
       " 'source': '<a href=\"http://twitter.com/download/iphone\" rel=\"nofollow\">Twitter for iPhone</a>',\n",
       " 'in_reply_to_status_id': None,\n",
       " 'in_reply_to_status_id_str': None,\n",
       " 'in_reply_to_user_id': None,\n",
       " 'in_reply_to_user_id_str': None,\n",
       " 'in_reply_to_screen_name': None,\n",
       " 'user': {'id': 25073877,\n",
       "  'id_str': '25073877',\n",
       "  'name': 'Donald J. Trump',\n",
       "  'screen_name': 'realDonaldTrump',\n",
       "  'location': 'Washington, DC',\n",
       "  'description': '45th President of the United States of America🇺🇸',\n",
       "  'url': 'https://t.co/OMxB0x7xC5',\n",
       "  'entities': {'url': {'urls': [{'url': 'https://t.co/OMxB0x7xC5',\n",
       "      'expanded_url': 'http://www.Instagram.com/realDonaldTrump',\n",
       "      'display_url': 'Instagram.com/realDonaldTrump',\n",
       "      'indices': [0, 23]}]},\n",
       "   'description': {'urls': []}},\n",
       "  'protected': False,\n",
       "  'followers_count': 63622256,\n",
       "  'friends_count': 47,\n",
       "  'listed_count': 107805,\n",
       "  'created_at': 'Wed Mar 18 13:46:38 +0000 2009',\n",
       "  'favourites_count': 7,\n",
       "  'utc_offset': None,\n",
       "  'time_zone': None,\n",
       "  'geo_enabled': True,\n",
       "  'verified': True,\n",
       "  'statuses_count': 43833,\n",
       "  'lang': None,\n",
       "  'contributors_enabled': False,\n",
       "  'is_translator': False,\n",
       "  'is_translation_enabled': True,\n",
       "  'profile_background_color': '6D5C18',\n",
       "  'profile_background_image_url': 'http://abs.twimg.com/images/themes/theme1/bg.png',\n",
       "  'profile_background_image_url_https': 'https://abs.twimg.com/images/themes/theme1/bg.png',\n",
       "  'profile_background_tile': True,\n",
       "  'profile_image_url': 'http://pbs.twimg.com/profile_images/874276197357596672/kUuht00m_normal.jpg',\n",
       "  'profile_image_url_https': 'https://pbs.twimg.com/profile_images/874276197357596672/kUuht00m_normal.jpg',\n",
       "  'profile_banner_url': 'https://pbs.twimg.com/profile_banners/25073877/1560920145',\n",
       "  'profile_link_color': '1B95E0',\n",
       "  'profile_sidebar_border_color': 'BDDCAD',\n",
       "  'profile_sidebar_fill_color': 'C5CEC0',\n",
       "  'profile_text_color': '333333',\n",
       "  'profile_use_background_image': True,\n",
       "  'has_extended_profile': False,\n",
       "  'default_profile': False,\n",
       "  'default_profile_image': False,\n",
       "  'following': False,\n",
       "  'follow_request_sent': False,\n",
       "  'notifications': False,\n",
       "  'translator_type': 'regular'},\n",
       " 'geo': None,\n",
       " 'coordinates': None,\n",
       " 'place': None,\n",
       " 'contributors': None,\n",
       " 'is_quote_status': True,\n",
       " 'quoted_status_id': 1165526646448951297,\n",
       " 'quoted_status_id_str': '1165526646448951297',\n",
       " 'quoted_status_permalink': {'url': 'https://t.co/iQgY6RTWST',\n",
       "  'expanded': 'https://twitter.com/chc_1927/status/1165526646448951297',\n",
       "  'display': 'twitter.com/chc_1927/statu…'},\n",
       " 'quoted_status': {'created_at': 'Sun Aug 25 07:29:41 +0000 2019',\n",
       "  'id': 1165526646448951297,\n",
       "  'id_str': '1165526646448951297',\n",
       "  'full_text': 'Happy 89th Birthday to Sir Sean Connery!  (August 25, 1930) https://t.co/HErvGdM1tT',\n",
       "  'truncated': False,\n",
       "  'display_text_range': [0, 59],\n",
       "  'entities': {'hashtags': [],\n",
       "   'symbols': [],\n",
       "   'user_mentions': [],\n",
       "   'urls': [],\n",
       "   'media': [{'id': 1165526633316589571,\n",
       "     'id_str': '1165526633316589571',\n",
       "     'indices': [60, 83],\n",
       "     'media_url': 'http://pbs.twimg.com/tweet_video_thumb/ECzITDsXoAM990H.jpg',\n",
       "     'media_url_https': 'https://pbs.twimg.com/tweet_video_thumb/ECzITDsXoAM990H.jpg',\n",
       "     'url': 'https://t.co/HErvGdM1tT',\n",
       "     'display_url': 'pic.twitter.com/HErvGdM1tT',\n",
       "     'expanded_url': 'https://twitter.com/CHC_1927/status/1165526646448951297/photo/1',\n",
       "     'type': 'photo',\n",
       "     'sizes': {'thumb': {'w': 150, 'h': 150, 'resize': 'crop'},\n",
       "      'large': {'w': 500, 'h': 280, 'resize': 'fit'},\n",
       "      'small': {'w': 500, 'h': 280, 'resize': 'fit'},\n",
       "      'medium': {'w': 500, 'h': 280, 'resize': 'fit'}}}]},\n",
       "  'extended_entities': {'media': [{'id': 1165526633316589571,\n",
       "     'id_str': '1165526633316589571',\n",
       "     'indices': [60, 83],\n",
       "     'media_url': 'http://pbs.twimg.com/tweet_video_thumb/ECzITDsXoAM990H.jpg',\n",
       "     'media_url_https': 'https://pbs.twimg.com/tweet_video_thumb/ECzITDsXoAM990H.jpg',\n",
       "     'url': 'https://t.co/HErvGdM1tT',\n",
       "     'display_url': 'pic.twitter.com/HErvGdM1tT',\n",
       "     'expanded_url': 'https://twitter.com/CHC_1927/status/1165526646448951297/photo/1',\n",
       "     'type': 'animated_gif',\n",
       "     'sizes': {'thumb': {'w': 150, 'h': 150, 'resize': 'crop'},\n",
       "      'large': {'w': 500, 'h': 280, 'resize': 'fit'},\n",
       "      'small': {'w': 500, 'h': 280, 'resize': 'fit'},\n",
       "      'medium': {'w': 500, 'h': 280, 'resize': 'fit'}},\n",
       "     'video_info': {'aspect_ratio': [25, 14],\n",
       "      'variants': [{'bitrate': 0,\n",
       "        'content_type': 'video/mp4',\n",
       "        'url': 'https://video.twimg.com/tweet_video/ECzITDsXoAM990H.mp4'}]}}]},\n",
       "  'source': '<a href=\"https://mobile.twitter.com\" rel=\"nofollow\">Twitter Web App</a>',\n",
       "  'in_reply_to_status_id': None,\n",
       "  'in_reply_to_status_id_str': None,\n",
       "  'in_reply_to_user_id': None,\n",
       "  'in_reply_to_user_id_str': None,\n",
       "  'in_reply_to_screen_name': None,\n",
       "  'user': {'id': 3184836920,\n",
       "   'id_str': '3184836920',\n",
       "   'name': 'Classic Hollywood',\n",
       "   'screen_name': 'CHC_1927',\n",
       "   'location': 'Bedford Falls',\n",
       "   'description': '\"The cinema has no boundary; it is a ribbon of dream.\"',\n",
       "   'url': None,\n",
       "   'entities': {'description': {'urls': []}},\n",
       "   'protected': False,\n",
       "   'followers_count': 12438,\n",
       "   'friends_count': 993,\n",
       "   'listed_count': 150,\n",
       "   'created_at': 'Mon May 04 05:48:40 +0000 2015',\n",
       "   'favourites_count': 13857,\n",
       "   'utc_offset': None,\n",
       "   'time_zone': None,\n",
       "   'geo_enabled': False,\n",
       "   'verified': False,\n",
       "   'statuses_count': 2788,\n",
       "   'lang': None,\n",
       "   'contributors_enabled': False,\n",
       "   'is_translator': False,\n",
       "   'is_translation_enabled': False,\n",
       "   'profile_background_color': '000000',\n",
       "   'profile_background_image_url': 'http://abs.twimg.com/images/themes/theme1/bg.png',\n",
       "   'profile_background_image_url_https': 'https://abs.twimg.com/images/themes/theme1/bg.png',\n",
       "   'profile_background_tile': False,\n",
       "   'profile_image_url': 'http://pbs.twimg.com/profile_images/728223709039833089/ouSMOxND_normal.jpg',\n",
       "   'profile_image_url_https': 'https://pbs.twimg.com/profile_images/728223709039833089/ouSMOxND_normal.jpg',\n",
       "   'profile_banner_url': 'https://pbs.twimg.com/profile_banners/3184836920/1486641754',\n",
       "   'profile_link_color': '94D487',\n",
       "   'profile_sidebar_border_color': '000000',\n",
       "   'profile_sidebar_fill_color': '000000',\n",
       "   'profile_text_color': '000000',\n",
       "   'profile_use_background_image': False,\n",
       "   'has_extended_profile': True,\n",
       "   'default_profile': False,\n",
       "   'default_profile_image': False,\n",
       "   'following': False,\n",
       "   'follow_request_sent': False,\n",
       "   'notifications': False,\n",
       "   'translator_type': 'none'},\n",
       "  'geo': None,\n",
       "  'coordinates': None,\n",
       "  'place': None,\n",
       "  'contributors': None,\n",
       "  'is_quote_status': False,\n",
       "  'retweet_count': 3150,\n",
       "  'favorite_count': 10172,\n",
       "  'favorited': False,\n",
       "  'retweeted': False,\n",
       "  'possibly_sensitive': False,\n",
       "  'lang': 'en'},\n",
       " 'retweet_count': 12918,\n",
       " 'favorite_count': 74678,\n",
       " 'favorited': False,\n",
       " 'retweeted': False,\n",
       " 'possibly_sensitive': False,\n",
       " 'lang': 'en'}"
      ]
     },
     "execution_count": 37,
     "metadata": {},
     "output_type": "execute_result"
    }
   ],
   "source": [
    "tweet_selection"
   ]
  },
  {
   "cell_type": "code",
   "execution_count": 38,
   "metadata": {},
   "outputs": [],
   "source": [
    "tweet_dict = {\n",
    "    'full_text': tweet_selection[\"full_text\"],\n",
    "    'retweet_count': tweet_selection[\"retweet_count\"],\n",
    "    'favorite_count': tweet_selection['favorite_count'],\n",
    "    'created_at': tweet_selection['created_at']\n",
    "}"
   ]
  },
  {
   "cell_type": "code",
   "execution_count": 39,
   "metadata": {},
   "outputs": [],
   "source": [
    "def convert_day(date_string):\n",
    "    datetime_object = dt.datetime.strptime(date_string, \"%a %b %d %H:%M:%S %z %Y\")\n",
    "    day = dt.datetime.strftime(datetime_object, \"%A\")\n",
    "    return day\n",
    "def convert_hour(date_string):\n",
    "    datetime_object = dt.datetime.strptime(date_string, \"%a %b %d %H:%M:%S %z %Y\")\n",
    "    hour = dt.datetime.strftime(datetime_object, \"%H\")\n",
    "    return hour\n",
    "def convert_month(date_string):\n",
    "    datetime_object = dt.datetime.strptime(date_string, \"%a %b %d %H:%M:%S %z %Y\")\n",
    "    month = dt.datetime.strftime(datetime_object, \"%B\")\n",
    "    return month"
   ]
  },
  {
   "cell_type": "code",
   "execution_count": 40,
   "metadata": {},
   "outputs": [],
   "source": [
    "tweet_dict['day'] = convert_day(tweet_dict['created_at'])\n",
    "tweet_dict['hour'] = convert_hour(tweet_dict['created_at'])\n",
    "tweet_dict['month']  = convert_month(tweet_dict['created_at'])"
   ]
  },
  {
   "cell_type": "code",
   "execution_count": 41,
   "metadata": {},
   "outputs": [
    {
     "data": {
      "text/plain": [
       "{'full_text': 'Happy Birthday Sean! https://t.co/iQgY6RTWST',\n",
       " 'retweet_count': 12918,\n",
       " 'favorite_count': 74678,\n",
       " 'created_at': 'Sun Aug 25 15:47:31 +0000 2019',\n",
       " 'day': 'Sunday',\n",
       " 'hour': '15',\n",
       " 'month': 'August'}"
      ]
     },
     "execution_count": 41,
     "metadata": {},
     "output_type": "execute_result"
    }
   ],
   "source": [
    "tweet_dict"
   ]
  },
  {
   "cell_type": "code",
   "execution_count": 42,
   "metadata": {},
   "outputs": [],
   "source": [
    "tweet_list = [tweet_dict]"
   ]
  },
  {
   "cell_type": "code",
   "execution_count": 43,
   "metadata": {},
   "outputs": [
    {
     "data": {
      "text/html": [
       "<div>\n",
       "<style scoped>\n",
       "    .dataframe tbody tr th:only-of-type {\n",
       "        vertical-align: middle;\n",
       "    }\n",
       "\n",
       "    .dataframe tbody tr th {\n",
       "        vertical-align: top;\n",
       "    }\n",
       "\n",
       "    .dataframe thead th {\n",
       "        text-align: right;\n",
       "    }\n",
       "</style>\n",
       "<table border=\"1\" class=\"dataframe\">\n",
       "  <thead>\n",
       "    <tr style=\"text-align: right;\">\n",
       "      <th></th>\n",
       "      <th>created_at</th>\n",
       "      <th>day</th>\n",
       "      <th>favorite_count</th>\n",
       "      <th>full_text</th>\n",
       "      <th>hour</th>\n",
       "      <th>month</th>\n",
       "      <th>retweet_count</th>\n",
       "    </tr>\n",
       "  </thead>\n",
       "  <tbody>\n",
       "    <tr>\n",
       "      <th>0</th>\n",
       "      <td>Sun Aug 25 15:47:31 +0000 2019</td>\n",
       "      <td>Sunday</td>\n",
       "      <td>74678</td>\n",
       "      <td>Happy Birthday Sean! https://t.co/iQgY6RTWST</td>\n",
       "      <td>15</td>\n",
       "      <td>August</td>\n",
       "      <td>12918</td>\n",
       "    </tr>\n",
       "  </tbody>\n",
       "</table>\n",
       "</div>"
      ],
      "text/plain": [
       "                       created_at     day  favorite_count  \\\n",
       "0  Sun Aug 25 15:47:31 +0000 2019  Sunday           74678   \n",
       "\n",
       "                                      full_text hour   month  retweet_count  \n",
       "0  Happy Birthday Sean! https://t.co/iQgY6RTWST   15  August          12918  "
      ]
     },
     "execution_count": 43,
     "metadata": {},
     "output_type": "execute_result"
    }
   ],
   "source": [
    "tweet_df = pd.DataFrame(tweet_list)\n",
    "tweet_df.head()"
   ]
  },
  {
   "cell_type": "code",
   "execution_count": 44,
   "metadata": {},
   "outputs": [],
   "source": [
    "import nltk\n",
    "import re\n",
    "import string\n",
    "pd.set_option('display.max_colwidth', 100) # To extend column width\n",
    "\n",
    "stopwords = nltk.corpus.stopwords.words('english')\n",
    "wn = nltk.WordNetLemmatizer()"
   ]
  },
  {
   "cell_type": "code",
   "execution_count": 45,
   "metadata": {},
   "outputs": [],
   "source": [
    "def clean_text(text):\n",
    "    text = text.replace('&amp;', '&')\n",
    "    text = text.replace('\\n', ' ')\n",
    "    text = \"\".join([word.lower() for word in text if word not in string.punctuation])\n",
    "    tokens = re.split('\\W+', text)\n",
    "    text = [wn.lemmatize(word) for word in tokens if word not in stopwords]\n",
    "    return text"
   ]
  },
  {
   "cell_type": "code",
   "execution_count": 46,
   "metadata": {},
   "outputs": [
    {
     "data": {
      "text/plain": [
       "<1x4 sparse matrix of type '<class 'numpy.int64'>'\n",
       "\twith 4 stored elements in Compressed Sparse Row format>"
      ]
     },
     "execution_count": 46,
     "metadata": {},
     "output_type": "execute_result"
    }
   ],
   "source": [
    "from sklearn.feature_extraction.text import CountVectorizer\n",
    "\n",
    "# NGramVectorizer\n",
    "ngram_vect = CountVectorizer(ngram_range=(2,2), analyzer=clean_text)\n",
    "ngram_vect.fit_transform(tweet_df['full_text'])"
   ]
  },
  {
   "cell_type": "code",
   "execution_count": 47,
   "metadata": {},
   "outputs": [
    {
     "data": {
      "text/plain": [
       "['birthday', 'happy', 'httpstcoiqgy6rtwst', 'sean']"
      ]
     },
     "execution_count": 47,
     "metadata": {},
     "output_type": "execute_result"
    }
   ],
   "source": [
    "ngram_vect.get_feature_names()"
   ]
  },
  {
   "cell_type": "code",
   "execution_count": 48,
   "metadata": {},
   "outputs": [],
   "source": [
    "with open('rf_columns.pkl', 'rb') as f:\n",
    "   columns_list = pickle.load(f)"
   ]
  },
  {
   "cell_type": "code",
   "execution_count": 49,
   "metadata": {},
   "outputs": [],
   "source": [
    "null_list = []\n",
    "for i in range(0, len(columns_list)):\n",
    "    null_list.append(0)"
   ]
  },
  {
   "cell_type": "code",
   "execution_count": 50,
   "metadata": {},
   "outputs": [],
   "source": [
    "X_features = dict(zip(columns_list, null_list))"
   ]
  },
  {
   "cell_type": "code",
   "execution_count": 51,
   "metadata": {},
   "outputs": [],
   "source": [
    "X_features['retweet_count'] = tweet_dict['retweet_count']\n",
    "X_features['favorite_count'] = tweet_dict['favorite_count']\n",
    "\n",
    "select_month = tweet_dict['month']\n",
    "select_day = tweet_dict['day']\n",
    "select_hour = tweet_dict['hour']\n",
    "X_features[f'month_{select_month}'] = 1\n",
    "X_features[f'day_{select_day}'] = 1\n",
    "X_features[f'hour_{select_hour}'] = 1"
   ]
  },
  {
   "cell_type": "code",
   "execution_count": 52,
   "metadata": {},
   "outputs": [],
   "source": [
    "for word in ngram_vect.get_feature_names():\n",
    "    if word in X_features.keys():\n",
    "        X_features[word] += 1"
   ]
  },
  {
   "cell_type": "code",
   "execution_count": 53,
   "metadata": {},
   "outputs": [
    {
     "data": {
      "text/plain": [
       "18591"
      ]
     },
     "execution_count": 53,
     "metadata": {},
     "output_type": "execute_result"
    }
   ],
   "source": [
    "len(list(X_features.values()))"
   ]
  },
  {
   "cell_type": "code",
   "execution_count": 55,
   "metadata": {},
   "outputs": [],
   "source": [
    "X_features = np.array(list(X_features.values())).reshape((1, 18591))"
   ]
  },
  {
   "cell_type": "code",
   "execution_count": 56,
   "metadata": {},
   "outputs": [
    {
     "data": {
      "text/plain": [
       "(1, 18591)"
      ]
     },
     "execution_count": 56,
     "metadata": {},
     "output_type": "execute_result"
    }
   ],
   "source": [
    "X_features.shape"
   ]
  },
  {
   "cell_type": "code",
   "execution_count": 57,
   "metadata": {},
   "outputs": [
    {
     "data": {
      "text/plain": [
       "array([[12918, 74678,     0, ...,     0,     0,     0]])"
      ]
     },
     "execution_count": 57,
     "metadata": {},
     "output_type": "execute_result"
    }
   ],
   "source": [
    "X_features"
   ]
  },
  {
   "cell_type": "code",
   "execution_count": 58,
   "metadata": {},
   "outputs": [],
   "source": [
    "X_sparse = csr_matrix(X_features)"
   ]
  },
  {
   "cell_type": "code",
   "execution_count": 59,
   "metadata": {},
   "outputs": [
    {
     "data": {
      "text/plain": [
       "<1x18591 sparse matrix of type '<class 'numpy.int32'>'\n",
       "\twith 8 stored elements in Compressed Sparse Row format>"
      ]
     },
     "execution_count": 59,
     "metadata": {},
     "output_type": "execute_result"
    }
   ],
   "source": [
    "X_sparse"
   ]
  },
  {
   "cell_type": "code",
   "execution_count": 60,
   "metadata": {},
   "outputs": [
    {
     "data": {
      "text/plain": [
       "array([[12918, 74678,     0, ...,     0,     0,     0]], dtype=int32)"
      ]
     },
     "execution_count": 60,
     "metadata": {},
     "output_type": "execute_result"
    }
   ],
   "source": [
    "X_sparse.toarray()"
   ]
  },
  {
   "cell_type": "code",
   "execution_count": 61,
   "metadata": {},
   "outputs": [],
   "source": [
    "scaler_filename = \"rf_scaler.save\"\n",
    "scaler = joblib.load(scaler_filename) "
   ]
  },
  {
   "cell_type": "code",
   "execution_count": 62,
   "metadata": {},
   "outputs": [],
   "source": [
    "X_scaled = scaler.transform(X_sparse)"
   ]
  },
  {
   "cell_type": "code",
   "execution_count": 63,
   "metadata": {},
   "outputs": [],
   "source": [
    "encoder = LabelEncoder()\n",
    "encoder.classes_ = np.load('rf_classes.npy')"
   ]
  },
  {
   "cell_type": "code",
   "execution_count": 64,
   "metadata": {},
   "outputs": [],
   "source": [
    "with open('rf_model.sav', 'rb') as f:\n",
    "   model = pickle.load(f)"
   ]
  },
  {
   "cell_type": "code",
   "execution_count": 65,
   "metadata": {},
   "outputs": [
    {
     "data": {
      "text/plain": [
       "array(['Donald J. Trump'], dtype=object)"
      ]
     },
     "execution_count": 65,
     "metadata": {},
     "output_type": "execute_result"
    }
   ],
   "source": [
    "prediction = model.predict(X_scaled)\n",
    "prediction_label = encoder.inverse_transform(prediction)\n",
    "prediction_label"
   ]
  },
  {
   "cell_type": "code",
   "execution_count": 66,
   "metadata": {},
   "outputs": [
    {
     "data": {
      "text/plain": [
       "array([1])"
      ]
     },
     "execution_count": 66,
     "metadata": {},
     "output_type": "execute_result"
    }
   ],
   "source": [
    "prediction"
   ]
  },
  {
   "cell_type": "code",
   "execution_count": 67,
   "metadata": {},
   "outputs": [
    {
     "data": {
      "text/plain": [
       "array(['Bernie Sanders', 'Donald J. Trump', 'Elizabeth Warren',\n",
       "       'Joe Biden', 'Kamala Harris'], dtype=object)"
      ]
     },
     "execution_count": 67,
     "metadata": {},
     "output_type": "execute_result"
    }
   ],
   "source": [
    "encoder.classes_"
   ]
  },
  {
   "cell_type": "code",
   "execution_count": 68,
   "metadata": {},
   "outputs": [],
   "source": [
    "prediction_prob = model.predict_proba(X_scaled)\n",
    "prediction_prob = [float(i) for i in prediction_prob[0]]\n",
    "classes_prob = list(zip(prediction_prob, encoder.classes_))\n",
    "sorted_class = sorted(classes_prob, key = lambda x: x[0], reverse = True)\n",
    "sorted_top = sorted_class[0:2]"
   ]
  },
  {
   "cell_type": "code",
   "execution_count": 69,
   "metadata": {},
   "outputs": [
    {
     "data": {
      "text/plain": [
       "[(0.8676470588235294, 'Donald J. Trump'), (0.0661764705882353, 'Joe Biden')]"
      ]
     },
     "execution_count": 69,
     "metadata": {},
     "output_type": "execute_result"
    }
   ],
   "source": [
    "sorted_top"
   ]
  },
  {
   "cell_type": "code",
   "execution_count": null,
   "metadata": {},
   "outputs": [],
   "source": []
  }
 ],
 "metadata": {
  "kernelspec": {
   "display_name": "Python 3",
   "language": "python",
   "name": "python3"
  },
  "language_info": {
   "codemirror_mode": {
    "name": "ipython",
    "version": 3
   },
   "file_extension": ".py",
   "mimetype": "text/x-python",
   "name": "python",
   "nbconvert_exporter": "python",
   "pygments_lexer": "ipython3",
   "version": "3.7.1"
  }
 },
 "nbformat": 4,
 "nbformat_minor": 2
}
