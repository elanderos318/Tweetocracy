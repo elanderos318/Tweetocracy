{
 "cells": [
  {
   "cell_type": "code",
   "execution_count": 1,
   "metadata": {},
   "outputs": [],
   "source": [
    "import pandas as pd\n",
    "import numpy as np"
   ]
  },
  {
   "cell_type": "code",
   "execution_count": 2,
   "metadata": {},
   "outputs": [],
   "source": [
    "import sqlalchemy\n",
    "from sqlalchemy.ext.automap import automap_base\n",
    "from sqlalchemy.orm import Session\n",
    "from sqlalchemy import create_engine, func"
   ]
  },
  {
   "cell_type": "code",
   "execution_count": 3,
   "metadata": {},
   "outputs": [],
   "source": [
    "import requests\n",
    "from requests_oauthlib import OAuth1"
   ]
  },
  {
   "cell_type": "code",
   "execution_count": 4,
   "metadata": {},
   "outputs": [],
   "source": [
    "import cryptography\n",
    "from cryptography.fernet import Fernet"
   ]
  },
  {
   "cell_type": "code",
   "execution_count": 51,
   "metadata": {},
   "outputs": [],
   "source": [
    "from scipy.sparse import csr_matrix"
   ]
  },
  {
   "cell_type": "code",
   "execution_count": 55,
   "metadata": {},
   "outputs": [],
   "source": [
    "from sklearn.externals import joblib"
   ]
  },
  {
   "cell_type": "code",
   "execution_count": 58,
   "metadata": {},
   "outputs": [],
   "source": [
    "from sklearn.preprocessing import LabelEncoder"
   ]
  },
  {
   "cell_type": "code",
   "execution_count": 5,
   "metadata": {},
   "outputs": [],
   "source": [
    "import datetime as dt"
   ]
  },
  {
   "cell_type": "code",
   "execution_count": 6,
   "metadata": {},
   "outputs": [],
   "source": [
    "import random"
   ]
  },
  {
   "cell_type": "code",
   "execution_count": 7,
   "metadata": {},
   "outputs": [],
   "source": [
    "import pickle"
   ]
  },
  {
   "cell_type": "code",
   "execution_count": 8,
   "metadata": {},
   "outputs": [],
   "source": [
    "from Candidates import candidates_list"
   ]
  },
  {
   "cell_type": "code",
   "execution_count": 9,
   "metadata": {},
   "outputs": [],
   "source": [
    "with open ('../config/config_key.key', 'rb') as ck:\n",
    "    fernet_key = ck.read()\n",
    "\n",
    "with open('../config/config_encrypt_1.key', 'rb') as c1:\n",
    "    cke_e = c1.read()\n",
    "with open('../config/config_encrypt_2.key', 'rb') as c2:\n",
    "    cse_e = c2.read()\n",
    "with open('../config/config_encrypt_3.key', 'rb') as c3:\n",
    "    ate_e = c3.read()\n",
    "with open('../config/config_encrypt_4.key', 'rb') as c4:\n",
    "    atse_e = c4.read()"
   ]
  },
  {
   "cell_type": "code",
   "execution_count": 10,
   "metadata": {},
   "outputs": [],
   "source": [
    "fernet = Fernet(fernet_key)"
   ]
  },
  {
   "cell_type": "code",
   "execution_count": 11,
   "metadata": {},
   "outputs": [],
   "source": [
    "cke_d = fernet.decrypt(cke_e)\n",
    "cse_d = fernet.decrypt(cse_e)\n",
    "ate_d = fernet.decrypt(ate_e)\n",
    "atse_d = fernet.decrypt(atse_e)"
   ]
  },
  {
   "cell_type": "code",
   "execution_count": 12,
   "metadata": {},
   "outputs": [],
   "source": [
    "ck = cke_d.decode()\n",
    "cs = cse_d.decode()\n",
    "at = ate_d.decode()\n",
    "ats = atse_d.decode()"
   ]
  },
  {
   "cell_type": "code",
   "execution_count": 13,
   "metadata": {},
   "outputs": [],
   "source": [
    "# Create authorization object\n",
    "auth = OAuth1(ck, cs, at, ats)"
   ]
  },
  {
   "cell_type": "code",
   "execution_count": 14,
   "metadata": {},
   "outputs": [],
   "source": [
    "callback_url = \"https://tweetocracy.herokuapp.com/\"\n",
    "payload = {\n",
    "    'oauth_callback':callback_url\n",
    "}"
   ]
  },
  {
   "cell_type": "code",
   "execution_count": 15,
   "metadata": {},
   "outputs": [],
   "source": [
    "# Execute a POST/Auth request to twittier api to intitiate access\n",
    "r = requests.post('https://api.twitter.com/oauth/request_token', auth = auth, data = payload)"
   ]
  },
  {
   "cell_type": "code",
   "execution_count": 16,
   "metadata": {},
   "outputs": [
    {
     "name": "stdout",
     "output_type": "stream",
     "text": [
      "Post Request Token URL:https://api.twitter.com/oauth/request_token\n",
      "Post Request Status:200\n",
      "Post Request Text: oauth_token=ztzmZAAAAAAA_QraAAABbNjtI-M&oauth_token_secret=b7vDVIEEhEGFaKF3xE9Kas06WsWC554u&oauth_callback_confirmed=true\n"
     ]
    }
   ],
   "source": [
    "print(f'Post Request Token URL:{r.url}')\n",
    "print(f'Post Request Status:{r.status_code}')\n",
    "print(f'Post Request Text: {r.text}')"
   ]
  },
  {
   "cell_type": "code",
   "execution_count": 17,
   "metadata": {},
   "outputs": [],
   "source": [
    "# Collect response information\n",
    "response_output = r.text\n",
    "# Relevant paramters are received as a string, separated by an '&' character\n",
    "response_parameters = response_output.split(\"&\")"
   ]
  },
  {
   "cell_type": "code",
   "execution_count": 18,
   "metadata": {},
   "outputs": [
    {
     "name": "stdout",
     "output_type": "stream",
     "text": [
      "OAuth_token:ztzmZAAAAAAA_QraAAABbNjtI-M\n",
      "Oauth Token Secret:b7vDVIEEhEGFaKF3xE9Kas06WsWC554u\n",
      "Callback Confirmed:True\n"
     ]
    }
   ],
   "source": [
    "# Store relevant response paramters in variables\n",
    "oauth_token = response_parameters[0][12:]\n",
    "print(f'OAuth_token:{oauth_token}')\n",
    "oauth_token_secret=response_parameters[1][19:]\n",
    "print(f'Oauth Token Secret:{oauth_token_secret}')\n",
    "oauth_callback_confirmed = bool(response_parameters[2][25:])\n",
    "print(f'Callback Confirmed:{oauth_callback_confirmed}')"
   ]
  },
  {
   "cell_type": "code",
   "execution_count": 19,
   "metadata": {},
   "outputs": [],
   "source": [
    "extended_payload = {\n",
    "    'tweet_mode': 'extended'\n",
    "}"
   ]
  },
  {
   "cell_type": "code",
   "execution_count": 20,
   "metadata": {},
   "outputs": [],
   "source": [
    "with open('top_candidates.pkl', 'rb') as f:\n",
    "   top_candidates = pickle.load(f)"
   ]
  },
  {
   "cell_type": "code",
   "execution_count": 21,
   "metadata": {},
   "outputs": [
    {
     "data": {
      "text/plain": [
       "['Donald J. Trump',\n",
       " 'Bernie Sanders',\n",
       " 'Kamala Harris',\n",
       " 'Elizabeth Warren',\n",
       " 'Joe Biden',\n",
       " 'Tulsi Gabbard']"
      ]
     },
     "execution_count": 21,
     "metadata": {},
     "output_type": "execute_result"
    }
   ],
   "source": [
    "top_candidates"
   ]
  },
  {
   "cell_type": "code",
   "execution_count": 22,
   "metadata": {},
   "outputs": [],
   "source": [
    "filtered_candidates = list(filter(lambda x: x[\"name\"] in top_candidates, candidates_list))"
   ]
  },
  {
   "cell_type": "code",
   "execution_count": 23,
   "metadata": {},
   "outputs": [
    {
     "data": {
      "text/plain": [
       "[{'name': 'Joe Biden',\n",
       "  'party': 'Democrat',\n",
       "  'twitter_url': 'https://twitter.com/JoeBiden',\n",
       "  'twitter_screen_name': 'JoeBiden',\n",
       "  'twitter_user_id': '939091',\n",
       "  'announcement_date': 'April 25, 2019',\n",
       "  'status': 'running'},\n",
       " {'name': 'Tulsi Gabbard',\n",
       "  'party': 'Democrat',\n",
       "  'twitter_url': 'https://twitter.com/TulsiGabbard',\n",
       "  'twitter_screen_name': 'TulsiGabbard',\n",
       "  'twitter_user_id': '26637348',\n",
       "  'announcement_date': 'January 12, 2019',\n",
       "  'status': 'running'},\n",
       " {'name': 'Kamala Harris',\n",
       "  'party': 'Democrat',\n",
       "  'twitter_url': 'https://twitter.com/KamalaHarris',\n",
       "  'twitter_screen_name': 'KamalaHarris',\n",
       "  'twitter_user_id': '30354991',\n",
       "  'announcement_date': 'January 21, 2019',\n",
       "  'status': 'running'},\n",
       " {'name': 'Bernie Sanders',\n",
       "  'party': 'Independent',\n",
       "  'twitter_url': 'https://twitter.com/BernieSanders',\n",
       "  'twitter_screen_name': 'BernieSanders',\n",
       "  'twitter_user_id': '216776631',\n",
       "  'announcement_date': 'February 19, 2019',\n",
       "  'status': 'running'},\n",
       " {'name': 'Donald J. Trump',\n",
       "  'party': 'Republican',\n",
       "  'twitter_url': 'https://twitter.com/realDonaldTrump',\n",
       "  'twitter_screen_name': 'realDonaldTrump',\n",
       "  'twitter_user_id': '25073877',\n",
       "  'announcement_date': 'January 20, 2017',\n",
       "  'status': 'running'},\n",
       " {'name': 'Elizabeth Warren',\n",
       "  'party': 'Democrat',\n",
       "  'twitter_url': 'https://twitter.com/ewarren',\n",
       "  'twitter_screen_name': 'ewarren',\n",
       "  'twitter_user_id': '357606935',\n",
       "  'announcement_date': 'February 9, 2019',\n",
       "  'status': 'running'}]"
      ]
     },
     "execution_count": 23,
     "metadata": {},
     "output_type": "execute_result"
    }
   ],
   "source": [
    "filtered_candidates"
   ]
  },
  {
   "cell_type": "code",
   "execution_count": 24,
   "metadata": {},
   "outputs": [],
   "source": [
    "random_candidate = random.choice(filtered_candidates)\n",
    "candidate_id = random_candidate[\"twitter_user_id\"]"
   ]
  },
  {
   "cell_type": "code",
   "execution_count": 25,
   "metadata": {},
   "outputs": [],
   "source": [
    "user_get = requests.get(f'https://api.twitter.com/1.1/statuses/user_timeline.json?id={candidate_id}&count=100', params = extended_payload, auth = auth)\n"
   ]
  },
  {
   "cell_type": "code",
   "execution_count": 26,
   "metadata": {},
   "outputs": [],
   "source": [
    "user_json = user_get.json()"
   ]
  },
  {
   "cell_type": "code",
   "execution_count": 27,
   "metadata": {},
   "outputs": [],
   "source": [
    "def filter_aged(list_element):\n",
    "    date_string = list_element[\"created_at\"]\n",
    "    datetime_object = dt.datetime.strptime(date_string, \"%a %b %d %H:%M:%S %z %Y\")\n",
    "    date_object = datetime_object.date()\n",
    "    \n",
    "    today_datetime = dt.datetime.utcnow()\n",
    "    today_date = today_datetime.date()\n",
    "    two_days_prior = today_date - dt.timedelta(days = 2)\n",
    "\n",
    "    training_data = dt.date(2019, 8, 14)\n",
    "    \n",
    "    return ((date_object <= two_days_prior) and (date_object > training_data)) \n",
    "\n",
    "#     return date_object > training_data"
   ]
  },
  {
   "cell_type": "code",
   "execution_count": 28,
   "metadata": {},
   "outputs": [],
   "source": [
    "user_filtered = list(filter(lambda x: filter_aged(x), user_json))"
   ]
  },
  {
   "cell_type": "code",
   "execution_count": 29,
   "metadata": {},
   "outputs": [
    {
     "data": {
      "text/plain": [
       "81"
      ]
     },
     "execution_count": 29,
     "metadata": {},
     "output_type": "execute_result"
    }
   ],
   "source": [
    "len(user_filtered)"
   ]
  },
  {
   "cell_type": "code",
   "execution_count": 30,
   "metadata": {},
   "outputs": [],
   "source": [
    "tweet_selection = random.choice(user_filtered)"
   ]
  },
  {
   "cell_type": "code",
   "execution_count": 31,
   "metadata": {},
   "outputs": [
    {
     "data": {
      "text/plain": [
       "{'created_at': 'Sun Aug 25 16:05:26 +0000 2019',\n",
       " 'id': 1165656439492399104,\n",
       " 'id_str': '1165656439492399104',\n",
       " 'full_text': \"John lived his life bound by a timeless code — decency, respect, and civility above all else. This week, as we remember his life and service, let's honor his legacy by living out that code. I hope you'll join me and engage in #ActsOfCivility. https://t.co/JwJcz87NVq\",\n",
       " 'truncated': False,\n",
       " 'display_text_range': [0, 266],\n",
       " 'entities': {'hashtags': [{'text': 'ActsOfCivility', 'indices': [226, 241]}],\n",
       "  'symbols': [],\n",
       "  'user_mentions': [],\n",
       "  'urls': [{'url': 'https://t.co/JwJcz87NVq',\n",
       "    'expanded_url': 'https://joebiden.com/senator-john-mccain/',\n",
       "    'display_url': 'joebiden.com/senator-john-m…',\n",
       "    'indices': [243, 266]}]},\n",
       " 'source': '<a href=\"https://about.twitter.com/products/tweetdeck\" rel=\"nofollow\">TweetDeck</a>',\n",
       " 'in_reply_to_status_id': 1165656438615740423,\n",
       " 'in_reply_to_status_id_str': '1165656438615740423',\n",
       " 'in_reply_to_user_id': 939091,\n",
       " 'in_reply_to_user_id_str': '939091',\n",
       " 'in_reply_to_screen_name': 'JoeBiden',\n",
       " 'user': {'id': 939091,\n",
       "  'id_str': '939091',\n",
       "  'name': 'Joe Biden',\n",
       "  'screen_name': 'JoeBiden',\n",
       "  'location': 'Wilmington, DE',\n",
       "  'description': 'Senator, Vice President, 2020 candidate for President of the United States, husband to @DrBiden, proud father & grandfather. Loves ice cream, aviators & @Amtrak',\n",
       "  'url': 'https://t.co/UClrPuJpyZ',\n",
       "  'entities': {'url': {'urls': [{'url': 'https://t.co/UClrPuJpyZ',\n",
       "      'expanded_url': 'http://joebiden.com',\n",
       "      'display_url': 'joebiden.com',\n",
       "      'indices': [0, 23]}]},\n",
       "   'description': {'urls': []}},\n",
       "  'protected': False,\n",
       "  'followers_count': 3699298,\n",
       "  'friends_count': 22,\n",
       "  'listed_count': 14178,\n",
       "  'created_at': 'Sun Mar 11 17:51:24 +0000 2007',\n",
       "  'favourites_count': 17,\n",
       "  'utc_offset': None,\n",
       "  'time_zone': None,\n",
       "  'geo_enabled': False,\n",
       "  'verified': True,\n",
       "  'statuses_count': 2424,\n",
       "  'lang': None,\n",
       "  'contributors_enabled': False,\n",
       "  'is_translator': False,\n",
       "  'is_translation_enabled': False,\n",
       "  'profile_background_color': '565959',\n",
       "  'profile_background_image_url': 'http://abs.twimg.com/images/themes/theme1/bg.png',\n",
       "  'profile_background_image_url_https': 'https://abs.twimg.com/images/themes/theme1/bg.png',\n",
       "  'profile_background_tile': True,\n",
       "  'profile_image_url': 'http://pbs.twimg.com/profile_images/1153646262526369793/f4GqlaQL_normal.png',\n",
       "  'profile_image_url_https': 'https://pbs.twimg.com/profile_images/1153646262526369793/f4GqlaQL_normal.png',\n",
       "  'profile_banner_url': 'https://pbs.twimg.com/profile_banners/939091/1558224273',\n",
       "  'profile_link_color': '233F94',\n",
       "  'profile_sidebar_border_color': 'FFFFFF',\n",
       "  'profile_sidebar_fill_color': 'EBEBFF',\n",
       "  'profile_text_color': '323232',\n",
       "  'profile_use_background_image': True,\n",
       "  'has_extended_profile': False,\n",
       "  'default_profile': False,\n",
       "  'default_profile_image': False,\n",
       "  'following': False,\n",
       "  'follow_request_sent': False,\n",
       "  'notifications': False,\n",
       "  'translator_type': 'none'},\n",
       " 'geo': None,\n",
       " 'coordinates': None,\n",
       " 'place': None,\n",
       " 'contributors': None,\n",
       " 'is_quote_status': False,\n",
       " 'retweet_count': 748,\n",
       " 'favorite_count': 5770,\n",
       " 'favorited': False,\n",
       " 'retweeted': False,\n",
       " 'possibly_sensitive': False,\n",
       " 'lang': 'en'}"
      ]
     },
     "execution_count": 31,
     "metadata": {},
     "output_type": "execute_result"
    }
   ],
   "source": [
    "tweet_selection"
   ]
  },
  {
   "cell_type": "code",
   "execution_count": 32,
   "metadata": {},
   "outputs": [],
   "source": [
    "tweet_dict = {\n",
    "    'full_text': tweet_selection[\"full_text\"],\n",
    "    'retweet_count': tweet_selection[\"retweet_count\"],\n",
    "    'favorite_count': tweet_selection['favorite_count'],\n",
    "    'created_at': tweet_selection['created_at']\n",
    "}"
   ]
  },
  {
   "cell_type": "code",
   "execution_count": 33,
   "metadata": {},
   "outputs": [],
   "source": [
    "def convert_day(date_string):\n",
    "    datetime_object = dt.datetime.strptime(date_string, \"%a %b %d %H:%M:%S %z %Y\")\n",
    "    day = dt.datetime.strftime(datetime_object, \"%A\")\n",
    "    return day\n",
    "def convert_hour(date_string):\n",
    "    datetime_object = dt.datetime.strptime(date_string, \"%a %b %d %H:%M:%S %z %Y\")\n",
    "    hour = dt.datetime.strftime(datetime_object, \"%H\")\n",
    "    return hour\n",
    "def convert_month(date_string):\n",
    "    datetime_object = dt.datetime.strptime(date_string, \"%a %b %d %H:%M:%S %z %Y\")\n",
    "    month = dt.datetime.strftime(datetime_object, \"%B\")\n",
    "    return month"
   ]
  },
  {
   "cell_type": "code",
   "execution_count": 34,
   "metadata": {},
   "outputs": [],
   "source": [
    "tweet_dict['day'] = convert_day(tweet_dict['created_at'])\n",
    "tweet_dict['hour'] = convert_hour(tweet_dict['created_at'])\n",
    "tweet_dict['month']  = convert_month(tweet_dict['created_at'])"
   ]
  },
  {
   "cell_type": "code",
   "execution_count": 35,
   "metadata": {},
   "outputs": [
    {
     "data": {
      "text/plain": [
       "{'full_text': \"John lived his life bound by a timeless code — decency, respect, and civility above all else. This week, as we remember his life and service, let's honor his legacy by living out that code. I hope you'll join me and engage in #ActsOfCivility. https://t.co/JwJcz87NVq\",\n",
       " 'retweet_count': 748,\n",
       " 'favorite_count': 5770,\n",
       " 'created_at': 'Sun Aug 25 16:05:26 +0000 2019',\n",
       " 'day': 'Sunday',\n",
       " 'hour': '16',\n",
       " 'month': 'August'}"
      ]
     },
     "execution_count": 35,
     "metadata": {},
     "output_type": "execute_result"
    }
   ],
   "source": [
    "tweet_dict"
   ]
  },
  {
   "cell_type": "code",
   "execution_count": 36,
   "metadata": {},
   "outputs": [],
   "source": [
    "tweet_list = [tweet_dict]"
   ]
  },
  {
   "cell_type": "code",
   "execution_count": 37,
   "metadata": {},
   "outputs": [
    {
     "data": {
      "text/html": [
       "<div>\n",
       "<style scoped>\n",
       "    .dataframe tbody tr th:only-of-type {\n",
       "        vertical-align: middle;\n",
       "    }\n",
       "\n",
       "    .dataframe tbody tr th {\n",
       "        vertical-align: top;\n",
       "    }\n",
       "\n",
       "    .dataframe thead th {\n",
       "        text-align: right;\n",
       "    }\n",
       "</style>\n",
       "<table border=\"1\" class=\"dataframe\">\n",
       "  <thead>\n",
       "    <tr style=\"text-align: right;\">\n",
       "      <th></th>\n",
       "      <th>created_at</th>\n",
       "      <th>day</th>\n",
       "      <th>favorite_count</th>\n",
       "      <th>full_text</th>\n",
       "      <th>hour</th>\n",
       "      <th>month</th>\n",
       "      <th>retweet_count</th>\n",
       "    </tr>\n",
       "  </thead>\n",
       "  <tbody>\n",
       "    <tr>\n",
       "      <th>0</th>\n",
       "      <td>Sun Aug 25 16:05:26 +0000 2019</td>\n",
       "      <td>Sunday</td>\n",
       "      <td>5770</td>\n",
       "      <td>John lived his life bound by a timeless code —...</td>\n",
       "      <td>16</td>\n",
       "      <td>August</td>\n",
       "      <td>748</td>\n",
       "    </tr>\n",
       "  </tbody>\n",
       "</table>\n",
       "</div>"
      ],
      "text/plain": [
       "                       created_at     day  favorite_count  \\\n",
       "0  Sun Aug 25 16:05:26 +0000 2019  Sunday            5770   \n",
       "\n",
       "                                           full_text hour   month  \\\n",
       "0  John lived his life bound by a timeless code —...   16  August   \n",
       "\n",
       "   retweet_count  \n",
       "0            748  "
      ]
     },
     "execution_count": 37,
     "metadata": {},
     "output_type": "execute_result"
    }
   ],
   "source": [
    "tweet_df = pd.DataFrame(tweet_list)\n",
    "tweet_df.head()"
   ]
  },
  {
   "cell_type": "code",
   "execution_count": 38,
   "metadata": {},
   "outputs": [],
   "source": [
    "import nltk\n",
    "import re\n",
    "import string\n",
    "pd.set_option('display.max_colwidth', 100) # To extend column width\n",
    "\n",
    "stopwords = nltk.corpus.stopwords.words('english')\n",
    "wn = nltk.WordNetLemmatizer()"
   ]
  },
  {
   "cell_type": "code",
   "execution_count": 39,
   "metadata": {},
   "outputs": [],
   "source": [
    "def clean_text(text):\n",
    "    text = \"\".join([word.lower() for word in text if word not in string.punctuation])\n",
    "    tokens = re.split('\\W+', text)\n",
    "    text = [wn.lemmatize(word) for word in tokens if word not in stopwords]\n",
    "    return text"
   ]
  },
  {
   "cell_type": "code",
   "execution_count": 40,
   "metadata": {},
   "outputs": [
    {
     "data": {
      "text/plain": [
       "<1x23 sparse matrix of type '<class 'numpy.int64'>'\n",
       "\twith 23 stored elements in Compressed Sparse Row format>"
      ]
     },
     "execution_count": 40,
     "metadata": {},
     "output_type": "execute_result"
    }
   ],
   "source": [
    "from sklearn.feature_extraction.text import CountVectorizer\n",
    "\n",
    "# NGramVectorizer\n",
    "ngram_vect = CountVectorizer(ngram_range=(2,2), analyzer=clean_text)\n",
    "ngram_vect.fit_transform(tweet_df['full_text'])"
   ]
  },
  {
   "cell_type": "code",
   "execution_count": 41,
   "metadata": {},
   "outputs": [
    {
     "data": {
      "text/plain": [
       "['actsofcivility',\n",
       " 'bound',\n",
       " 'civility',\n",
       " 'code',\n",
       " 'decency',\n",
       " 'else',\n",
       " 'engage',\n",
       " 'honor',\n",
       " 'hope',\n",
       " 'httpstcojwjcz87nvq',\n",
       " 'john',\n",
       " 'join',\n",
       " 'legacy',\n",
       " 'let',\n",
       " 'life',\n",
       " 'lived',\n",
       " 'living',\n",
       " 'remember',\n",
       " 'respect',\n",
       " 'service',\n",
       " 'timeless',\n",
       " 'week',\n",
       " 'youll']"
      ]
     },
     "execution_count": 41,
     "metadata": {},
     "output_type": "execute_result"
    }
   ],
   "source": [
    "ngram_vect.get_feature_names()"
   ]
  },
  {
   "cell_type": "code",
   "execution_count": 42,
   "metadata": {},
   "outputs": [],
   "source": [
    "import pickle\n",
    "with open('rf_columns.pkl', 'rb') as f:\n",
    "   columns_list = pickle.load(f)"
   ]
  },
  {
   "cell_type": "code",
   "execution_count": 43,
   "metadata": {},
   "outputs": [],
   "source": [
    "null_list = []\n",
    "for i in range(0, len(columns_list)):\n",
    "    null_list.append(0)"
   ]
  },
  {
   "cell_type": "code",
   "execution_count": 44,
   "metadata": {},
   "outputs": [],
   "source": [
    "X_features = dict(zip(columns_list, null_list))"
   ]
  },
  {
   "cell_type": "code",
   "execution_count": 45,
   "metadata": {},
   "outputs": [],
   "source": [
    "X_features['retweet_count'] = tweet_dict['retweet_count']\n",
    "X_features['favorite_count'] = tweet_dict['favorite_count']\n",
    "\n",
    "select_month = tweet_dict['month']\n",
    "select_day = tweet_dict['day']\n",
    "select_hour = tweet_dict['hour']\n",
    "X_features[f'month_{select_month}'] = 1\n",
    "X_features[f'day_{select_day}'] = 1\n",
    "X_features[f'hour_{select_hour}'] = 1"
   ]
  },
  {
   "cell_type": "code",
   "execution_count": 46,
   "metadata": {},
   "outputs": [],
   "source": [
    "for word in ngram_vect.get_feature_names():\n",
    "    if word in X_features.keys():\n",
    "        X_features[word] += 1"
   ]
  },
  {
   "cell_type": "code",
   "execution_count": 47,
   "metadata": {},
   "outputs": [
    {
     "data": {
      "text/plain": [
       "20445"
      ]
     },
     "execution_count": 47,
     "metadata": {},
     "output_type": "execute_result"
    }
   ],
   "source": [
    "len(list(X_features.values()))"
   ]
  },
  {
   "cell_type": "code",
   "execution_count": 48,
   "metadata": {},
   "outputs": [],
   "source": [
    "X_features = np.array(list(X_features.values())).reshape((1, 20445))"
   ]
  },
  {
   "cell_type": "code",
   "execution_count": 49,
   "metadata": {},
   "outputs": [
    {
     "data": {
      "text/plain": [
       "(1, 20445)"
      ]
     },
     "execution_count": 49,
     "metadata": {},
     "output_type": "execute_result"
    }
   ],
   "source": [
    "X_features.shape"
   ]
  },
  {
   "cell_type": "code",
   "execution_count": 50,
   "metadata": {},
   "outputs": [
    {
     "data": {
      "text/plain": [
       "array([[ 748, 5770,    0, ...,    0,    0,    0]])"
      ]
     },
     "execution_count": 50,
     "metadata": {},
     "output_type": "execute_result"
    }
   ],
   "source": [
    "X_features"
   ]
  },
  {
   "cell_type": "code",
   "execution_count": 52,
   "metadata": {},
   "outputs": [],
   "source": [
    "X_sparse = csr_matrix(X_features)"
   ]
  },
  {
   "cell_type": "code",
   "execution_count": 53,
   "metadata": {},
   "outputs": [
    {
     "data": {
      "text/plain": [
       "<1x20445 sparse matrix of type '<class 'numpy.int32'>'\n",
       "\twith 25 stored elements in Compressed Sparse Row format>"
      ]
     },
     "execution_count": 53,
     "metadata": {},
     "output_type": "execute_result"
    }
   ],
   "source": [
    "X_sparse"
   ]
  },
  {
   "cell_type": "code",
   "execution_count": 54,
   "metadata": {},
   "outputs": [
    {
     "data": {
      "text/plain": [
       "array([[ 748, 5770,    0, ...,    0,    0,    0]], dtype=int32)"
      ]
     },
     "execution_count": 54,
     "metadata": {},
     "output_type": "execute_result"
    }
   ],
   "source": [
    "X_sparse.toarray()"
   ]
  },
  {
   "cell_type": "code",
   "execution_count": 56,
   "metadata": {},
   "outputs": [],
   "source": [
    "scaler_filename = \"rf_scaler.save\"\n",
    "scaler = joblib.load(scaler_filename) "
   ]
  },
  {
   "cell_type": "code",
   "execution_count": 57,
   "metadata": {},
   "outputs": [],
   "source": [
    "X_scaled = scaler.transform(X_sparse)"
   ]
  },
  {
   "cell_type": "code",
   "execution_count": 59,
   "metadata": {},
   "outputs": [],
   "source": [
    "encoder = LabelEncoder()\n",
    "encoder.classes_ = np.load('rf_classes.npy')"
   ]
  },
  {
   "cell_type": "code",
   "execution_count": null,
   "metadata": {},
   "outputs": [],
   "source": [
    "prediction = model.predict_classes(X_scaled)\n",
    "prediction_label = encoder.inverse_transform(prediction)\n",
    "prediction_label"
   ]
  }
 ],
 "metadata": {
  "kernelspec": {
   "display_name": "Python 3",
   "language": "python",
   "name": "python3"
  },
  "language_info": {
   "codemirror_mode": {
    "name": "ipython",
    "version": 3
   },
   "file_extension": ".py",
   "mimetype": "text/x-python",
   "name": "python",
   "nbconvert_exporter": "python",
   "pygments_lexer": "ipython3",
   "version": "3.7.1"
  }
 },
 "nbformat": 4,
 "nbformat_minor": 2
}
