{
 "cells": [
  {
   "cell_type": "code",
   "execution_count": 173,
   "metadata": {},
   "outputs": [],
   "source": [
    "import pandas as pd\n",
    "import numpy as np"
   ]
  },
  {
   "cell_type": "code",
   "execution_count": 174,
   "metadata": {},
   "outputs": [],
   "source": [
    "import matplotlib as mpl\n",
    "import matplotlib.pyplot as plt"
   ]
  },
  {
   "cell_type": "code",
   "execution_count": 175,
   "metadata": {},
   "outputs": [],
   "source": [
    "from sqlalchemy import create_engine"
   ]
  },
  {
   "cell_type": "code",
   "execution_count": 176,
   "metadata": {},
   "outputs": [],
   "source": [
    "from sklearn.ensemble import RandomForestClassifier\n",
    "from sklearn.model_selection import GridSearchCV"
   ]
  },
  {
   "cell_type": "code",
   "execution_count": 177,
   "metadata": {},
   "outputs": [],
   "source": [
    "from scipy.sparse import csr_matrix"
   ]
  },
  {
   "cell_type": "code",
   "execution_count": 178,
   "metadata": {},
   "outputs": [],
   "source": [
    "from sklearn.externals import joblib"
   ]
  },
  {
   "cell_type": "code",
   "execution_count": 179,
   "metadata": {},
   "outputs": [],
   "source": [
    "import datetime as dt"
   ]
  },
  {
   "cell_type": "code",
   "execution_count": 180,
   "metadata": {},
   "outputs": [],
   "source": [
    "import pickle"
   ]
  },
  {
   "cell_type": "code",
   "execution_count": 181,
   "metadata": {},
   "outputs": [],
   "source": [
    "import warnings\n",
    "warnings.filterwarnings(\"ignore\", category=FutureWarning)\n",
    "warnings.simplefilter('ignore')"
   ]
  },
  {
   "cell_type": "markdown",
   "metadata": {},
   "source": [
    "# Data Pre-Processing"
   ]
  },
  {
   "cell_type": "code",
   "execution_count": 182,
   "metadata": {},
   "outputs": [],
   "source": [
    "engine = create_engine(\"sqlite:///../db/twitter_db.sqlite\")\n",
    "conn = engine.connect()"
   ]
  },
  {
   "cell_type": "code",
   "execution_count": 183,
   "metadata": {},
   "outputs": [],
   "source": [
    "tweets_df = pd.read_sql(\"SELECT * FROM tweet_data\", conn)"
   ]
  },
  {
   "cell_type": "code",
   "execution_count": 184,
   "metadata": {},
   "outputs": [
    {
     "data": {
      "text/html": [
       "<div>\n",
       "<style scoped>\n",
       "    .dataframe tbody tr th:only-of-type {\n",
       "        vertical-align: middle;\n",
       "    }\n",
       "\n",
       "    .dataframe tbody tr th {\n",
       "        vertical-align: top;\n",
       "    }\n",
       "\n",
       "    .dataframe thead th {\n",
       "        text-align: right;\n",
       "    }\n",
       "</style>\n",
       "<table border=\"1\" class=\"dataframe\">\n",
       "  <thead>\n",
       "    <tr style=\"text-align: right;\">\n",
       "      <th></th>\n",
       "      <th>id</th>\n",
       "      <th>created_at</th>\n",
       "      <th>created_at_time</th>\n",
       "      <th>created_at_date</th>\n",
       "      <th>created_at_datetime</th>\n",
       "      <th>tweet_id</th>\n",
       "      <th>tweet_id_str</th>\n",
       "      <th>full_text</th>\n",
       "      <th>in_reply_to_status_id</th>\n",
       "      <th>in_reply_to_status_id_str</th>\n",
       "      <th>in_reply_to_user_id</th>\n",
       "      <th>in_reply_to_user_id_str</th>\n",
       "      <th>in_reply_to_screen_name</th>\n",
       "      <th>user_id</th>\n",
       "      <th>user_id_str</th>\n",
       "      <th>user_name</th>\n",
       "      <th>user_screen_name</th>\n",
       "      <th>retweet_count</th>\n",
       "      <th>favorite_count</th>\n",
       "    </tr>\n",
       "  </thead>\n",
       "  <tbody>\n",
       "    <tr>\n",
       "      <th>0</th>\n",
       "      <td>1</td>\n",
       "      <td>Wed Jul 31 22:21:23 +0000 2019</td>\n",
       "      <td>22:21:23.000000</td>\n",
       "      <td>2019-07-31</td>\n",
       "      <td>2019-07-31 22:21:23.000000</td>\n",
       "      <td>1156691352983412737</td>\n",
       "      <td>1156691352983412737</td>\n",
       "      <td>Here's the deal, President Trump inherited the economy from the Obama-Biden Administration. And ...</td>\n",
       "      <td>NaN</td>\n",
       "      <td>None</td>\n",
       "      <td>NaN</td>\n",
       "      <td>None</td>\n",
       "      <td>None</td>\n",
       "      <td>939091</td>\n",
       "      <td>939091</td>\n",
       "      <td>Joe Biden</td>\n",
       "      <td>JoeBiden</td>\n",
       "      <td>938</td>\n",
       "      <td>4134</td>\n",
       "    </tr>\n",
       "    <tr>\n",
       "      <th>1</th>\n",
       "      <td>2</td>\n",
       "      <td>Wed Jul 31 21:28:00 +0000 2019</td>\n",
       "      <td>21:28:00.000000</td>\n",
       "      <td>2019-07-31</td>\n",
       "      <td>2019-07-31 21:28:00.000000</td>\n",
       "      <td>1156677917469896704</td>\n",
       "      <td>1156677917469896704</td>\n",
       "      <td>I’ve got some exciting news: I am now on Snapchat! Subscribe to get a behind-the-scenes look at ...</td>\n",
       "      <td>NaN</td>\n",
       "      <td>None</td>\n",
       "      <td>NaN</td>\n",
       "      <td>None</td>\n",
       "      <td>None</td>\n",
       "      <td>939091</td>\n",
       "      <td>939091</td>\n",
       "      <td>Joe Biden</td>\n",
       "      <td>JoeBiden</td>\n",
       "      <td>173</td>\n",
       "      <td>790</td>\n",
       "    </tr>\n",
       "  </tbody>\n",
       "</table>\n",
       "</div>"
      ],
      "text/plain": [
       "   id                      created_at  created_at_time created_at_date  \\\n",
       "0   1  Wed Jul 31 22:21:23 +0000 2019  22:21:23.000000      2019-07-31   \n",
       "1   2  Wed Jul 31 21:28:00 +0000 2019  21:28:00.000000      2019-07-31   \n",
       "\n",
       "          created_at_datetime             tweet_id         tweet_id_str  \\\n",
       "0  2019-07-31 22:21:23.000000  1156691352983412737  1156691352983412737   \n",
       "1  2019-07-31 21:28:00.000000  1156677917469896704  1156677917469896704   \n",
       "\n",
       "                                                                                             full_text  \\\n",
       "0  Here's the deal, President Trump inherited the economy from the Obama-Biden Administration. And ...   \n",
       "1  I’ve got some exciting news: I am now on Snapchat! Subscribe to get a behind-the-scenes look at ...   \n",
       "\n",
       "   in_reply_to_status_id in_reply_to_status_id_str  in_reply_to_user_id  \\\n",
       "0                    NaN                      None                  NaN   \n",
       "1                    NaN                      None                  NaN   \n",
       "\n",
       "  in_reply_to_user_id_str in_reply_to_screen_name  user_id user_id_str  \\\n",
       "0                    None                    None   939091      939091   \n",
       "1                    None                    None   939091      939091   \n",
       "\n",
       "   user_name user_screen_name  retweet_count  favorite_count  \n",
       "0  Joe Biden         JoeBiden            938            4134  \n",
       "1  Joe Biden         JoeBiden            173             790  "
      ]
     },
     "execution_count": 184,
     "metadata": {},
     "output_type": "execute_result"
    }
   ],
   "source": [
    "tweets_df.head(2)"
   ]
  },
  {
   "cell_type": "code",
   "execution_count": 185,
   "metadata": {},
   "outputs": [
    {
     "data": {
      "text/plain": [
       "43421"
      ]
     },
     "execution_count": 185,
     "metadata": {},
     "output_type": "execute_result"
    }
   ],
   "source": [
    "len(tweets_df)"
   ]
  },
  {
   "cell_type": "code",
   "execution_count": 186,
   "metadata": {},
   "outputs": [],
   "source": [
    "tweets_df[\"created_at_datetime\"] = tweets_df[\"created_at_datetime\"].apply(lambda x: dt.datetime.strptime(x,\n",
    "                                                                \"%Y-%m-%d %H:%M:%S.%f\"))"
   ]
  },
  {
   "cell_type": "code",
   "execution_count": 187,
   "metadata": {},
   "outputs": [],
   "source": [
    "tweets_df = tweets_df.loc[tweets_df[\"created_at_datetime\"] < dt.datetime(2019,8,15), :].reset_index(drop=True)"
   ]
  },
  {
   "cell_type": "code",
   "execution_count": 188,
   "metadata": {},
   "outputs": [
    {
     "data": {
      "text/plain": [
       "40678"
      ]
     },
     "execution_count": 188,
     "metadata": {},
     "output_type": "execute_result"
    }
   ],
   "source": [
    "len(tweets_df)"
   ]
  },
  {
   "cell_type": "code",
   "execution_count": 192,
   "metadata": {},
   "outputs": [],
   "source": [
    "# Below, the number of candidates was reduced to reduce mdoel file size (6 to 5)"
   ]
  },
  {
   "cell_type": "code",
   "execution_count": 193,
   "metadata": {},
   "outputs": [
    {
     "data": {
      "text/plain": [
       "['Donald J. Trump',\n",
       " 'Bernie Sanders',\n",
       " 'Kamala Harris',\n",
       " 'Elizabeth Warren',\n",
       " 'Joe Biden']"
      ]
     },
     "execution_count": 193,
     "metadata": {},
     "output_type": "execute_result"
    }
   ],
   "source": [
    "grouped_df = tweets_df.groupby(tweets_df['user_name']).median()\n",
    "grouped_df = grouped_df[['retweet_count']].sort_values('retweet_count', ascending = False).iloc[:6]\n",
    "# grouped_df.sort_values('retweet_count', ascendingh = False)\n",
    "grouped_df\n",
    "top_candidates =[]\n",
    "for i, r in grouped_df.iterrows():\n",
    "    top_candidates.append(i)\n",
    "# Remove Eric Swalwell from list (dropped out)\n",
    "top_candidates.pop(3)\n",
    "top_candidates"
   ]
  },
  {
   "cell_type": "code",
   "execution_count": 255,
   "metadata": {},
   "outputs": [],
   "source": [
    "with open('top_candidates.pkl', 'wb') as f:\n",
    "   pickle.dump(top_candidates, f)"
   ]
  },
  {
   "cell_type": "code",
   "execution_count": 194,
   "metadata": {},
   "outputs": [],
   "source": [
    "tweets_df = tweets_df.loc[tweets_df['user_name'].isin(top_candidates), :].reset_index(drop=True)"
   ]
  },
  {
   "cell_type": "code",
   "execution_count": 195,
   "metadata": {},
   "outputs": [
    {
     "data": {
      "text/plain": [
       "9585"
      ]
     },
     "execution_count": 195,
     "metadata": {},
     "output_type": "execute_result"
    }
   ],
   "source": [
    "len(tweets_df)"
   ]
  },
  {
   "cell_type": "code",
   "execution_count": 196,
   "metadata": {},
   "outputs": [],
   "source": [
    "tweets_df[\"day\"] = tweets_df[\"created_at_datetime\"].apply(lambda x: dt.datetime.strftime(x, \"%A\"))\n",
    "tweets_df[\"hour\"] = tweets_df[\"created_at_datetime\"].apply(lambda x: dt.datetime.strftime(x, \"%H\"))\n",
    "tweets_df[\"month\"] = tweets_df[\"created_at_datetime\"].apply(lambda x: dt.datetime.strftime(x, \"%B\"))"
   ]
  },
  {
   "cell_type": "code",
   "execution_count": 197,
   "metadata": {},
   "outputs": [],
   "source": [
    "tweets_df.drop(columns = [\"created_at\", \"created_at_time\", \"created_at_date\",\"created_at_datetime\",\n",
    "                    \"tweet_id\", \"tweet_id_str\", \"in_reply_to_status_id\",\n",
    "                    \"in_reply_to_status_id_str\", \"in_reply_to_user_id\",\n",
    "                    \"in_reply_to_user_id_str\", \"in_reply_to_screen_name\",\n",
    "                    \"user_id_str\", \"user_id\", \"user_screen_name\", \"id\"], inplace = True)"
   ]
  },
  {
   "cell_type": "code",
   "execution_count": 198,
   "metadata": {},
   "outputs": [],
   "source": [
    "tweets_df = tweets_df[[\"user_name\", \"month\", \"day\", \"hour\", \"retweet_count\", \"favorite_count\", \"full_text\"]]"
   ]
  },
  {
   "cell_type": "code",
   "execution_count": 199,
   "metadata": {},
   "outputs": [
    {
     "data": {
      "text/html": [
       "<div>\n",
       "<style scoped>\n",
       "    .dataframe tbody tr th:only-of-type {\n",
       "        vertical-align: middle;\n",
       "    }\n",
       "\n",
       "    .dataframe tbody tr th {\n",
       "        vertical-align: top;\n",
       "    }\n",
       "\n",
       "    .dataframe thead th {\n",
       "        text-align: right;\n",
       "    }\n",
       "</style>\n",
       "<table border=\"1\" class=\"dataframe\">\n",
       "  <thead>\n",
       "    <tr style=\"text-align: right;\">\n",
       "      <th></th>\n",
       "      <th>user_name</th>\n",
       "      <th>month</th>\n",
       "      <th>day</th>\n",
       "      <th>hour</th>\n",
       "      <th>retweet_count</th>\n",
       "      <th>favorite_count</th>\n",
       "      <th>full_text</th>\n",
       "    </tr>\n",
       "  </thead>\n",
       "  <tbody>\n",
       "    <tr>\n",
       "      <th>0</th>\n",
       "      <td>Joe Biden</td>\n",
       "      <td>July</td>\n",
       "      <td>Wednesday</td>\n",
       "      <td>22</td>\n",
       "      <td>938</td>\n",
       "      <td>4134</td>\n",
       "      <td>Here's the deal, President Trump inherited the economy from the Obama-Biden Administration. And ...</td>\n",
       "    </tr>\n",
       "    <tr>\n",
       "      <th>1</th>\n",
       "      <td>Joe Biden</td>\n",
       "      <td>July</td>\n",
       "      <td>Wednesday</td>\n",
       "      <td>21</td>\n",
       "      <td>173</td>\n",
       "      <td>790</td>\n",
       "      <td>I’ve got some exciting news: I am now on Snapchat! Subscribe to get a behind-the-scenes look at ...</td>\n",
       "    </tr>\n",
       "  </tbody>\n",
       "</table>\n",
       "</div>"
      ],
      "text/plain": [
       "   user_name month        day hour  retweet_count  favorite_count  \\\n",
       "0  Joe Biden  July  Wednesday   22            938            4134   \n",
       "1  Joe Biden  July  Wednesday   21            173             790   \n",
       "\n",
       "                                                                                             full_text  \n",
       "0  Here's the deal, President Trump inherited the economy from the Obama-Biden Administration. And ...  \n",
       "1  I’ve got some exciting news: I am now on Snapchat! Subscribe to get a behind-the-scenes look at ...  "
      ]
     },
     "execution_count": 199,
     "metadata": {},
     "output_type": "execute_result"
    }
   ],
   "source": [
    "tweets_df.head(2)"
   ]
  },
  {
   "cell_type": "code",
   "execution_count": 200,
   "metadata": {},
   "outputs": [
    {
     "data": {
      "text/plain": [
       "5"
      ]
     },
     "execution_count": 200,
     "metadata": {},
     "output_type": "execute_result"
    }
   ],
   "source": [
    "len(tweets_df.groupby(tweets_df[\"user_name\"]).count())"
   ]
  },
  {
   "cell_type": "code",
   "execution_count": 201,
   "metadata": {},
   "outputs": [],
   "source": [
    "X_count_df = tweets_df[[\"full_text\", \"month\", \"day\", \"hour\", \"retweet_count\", \"favorite_count\"]]\n",
    "X_count_df = pd.get_dummies(X_count_df, columns = [\"month\", \"day\", \"hour\"])"
   ]
  },
  {
   "cell_type": "code",
   "execution_count": 202,
   "metadata": {},
   "outputs": [
    {
     "data": {
      "text/html": [
       "<div>\n",
       "<style scoped>\n",
       "    .dataframe tbody tr th:only-of-type {\n",
       "        vertical-align: middle;\n",
       "    }\n",
       "\n",
       "    .dataframe tbody tr th {\n",
       "        vertical-align: top;\n",
       "    }\n",
       "\n",
       "    .dataframe thead th {\n",
       "        text-align: right;\n",
       "    }\n",
       "</style>\n",
       "<table border=\"1\" class=\"dataframe\">\n",
       "  <thead>\n",
       "    <tr style=\"text-align: right;\">\n",
       "      <th></th>\n",
       "      <th>full_text</th>\n",
       "      <th>retweet_count</th>\n",
       "      <th>favorite_count</th>\n",
       "      <th>month_April</th>\n",
       "      <th>month_August</th>\n",
       "      <th>month_December</th>\n",
       "      <th>month_February</th>\n",
       "      <th>month_January</th>\n",
       "      <th>month_July</th>\n",
       "      <th>month_June</th>\n",
       "      <th>...</th>\n",
       "      <th>hour_14</th>\n",
       "      <th>hour_15</th>\n",
       "      <th>hour_16</th>\n",
       "      <th>hour_17</th>\n",
       "      <th>hour_18</th>\n",
       "      <th>hour_19</th>\n",
       "      <th>hour_20</th>\n",
       "      <th>hour_21</th>\n",
       "      <th>hour_22</th>\n",
       "      <th>hour_23</th>\n",
       "    </tr>\n",
       "  </thead>\n",
       "  <tbody>\n",
       "    <tr>\n",
       "      <th>0</th>\n",
       "      <td>Here's the deal, President Trump inherited the economy from the Obama-Biden Administration. And ...</td>\n",
       "      <td>938</td>\n",
       "      <td>4134</td>\n",
       "      <td>0</td>\n",
       "      <td>0</td>\n",
       "      <td>0</td>\n",
       "      <td>0</td>\n",
       "      <td>0</td>\n",
       "      <td>1</td>\n",
       "      <td>0</td>\n",
       "      <td>...</td>\n",
       "      <td>0</td>\n",
       "      <td>0</td>\n",
       "      <td>0</td>\n",
       "      <td>0</td>\n",
       "      <td>0</td>\n",
       "      <td>0</td>\n",
       "      <td>0</td>\n",
       "      <td>0</td>\n",
       "      <td>1</td>\n",
       "      <td>0</td>\n",
       "    </tr>\n",
       "    <tr>\n",
       "      <th>1</th>\n",
       "      <td>I’ve got some exciting news: I am now on Snapchat! Subscribe to get a behind-the-scenes look at ...</td>\n",
       "      <td>173</td>\n",
       "      <td>790</td>\n",
       "      <td>0</td>\n",
       "      <td>0</td>\n",
       "      <td>0</td>\n",
       "      <td>0</td>\n",
       "      <td>0</td>\n",
       "      <td>1</td>\n",
       "      <td>0</td>\n",
       "      <td>...</td>\n",
       "      <td>0</td>\n",
       "      <td>0</td>\n",
       "      <td>0</td>\n",
       "      <td>0</td>\n",
       "      <td>0</td>\n",
       "      <td>0</td>\n",
       "      <td>0</td>\n",
       "      <td>1</td>\n",
       "      <td>0</td>\n",
       "      <td>0</td>\n",
       "    </tr>\n",
       "  </tbody>\n",
       "</table>\n",
       "<p>2 rows × 46 columns</p>\n",
       "</div>"
      ],
      "text/plain": [
       "                                                                                             full_text  \\\n",
       "0  Here's the deal, President Trump inherited the economy from the Obama-Biden Administration. And ...   \n",
       "1  I’ve got some exciting news: I am now on Snapchat! Subscribe to get a behind-the-scenes look at ...   \n",
       "\n",
       "   retweet_count  favorite_count  month_April  month_August  month_December  \\\n",
       "0            938            4134            0             0               0   \n",
       "1            173             790            0             0               0   \n",
       "\n",
       "   month_February  month_January  month_July  month_June   ...     hour_14  \\\n",
       "0               0              0           1           0   ...           0   \n",
       "1               0              0           1           0   ...           0   \n",
       "\n",
       "   hour_15  hour_16  hour_17  hour_18  hour_19  hour_20  hour_21  hour_22  \\\n",
       "0        0        0        0        0        0        0        0        1   \n",
       "1        0        0        0        0        0        0        1        0   \n",
       "\n",
       "   hour_23  \n",
       "0        0  \n",
       "1        0  \n",
       "\n",
       "[2 rows x 46 columns]"
      ]
     },
     "execution_count": 202,
     "metadata": {},
     "output_type": "execute_result"
    }
   ],
   "source": [
    "X_count_df.head(2)"
   ]
  },
  {
   "cell_type": "code",
   "execution_count": 203,
   "metadata": {},
   "outputs": [],
   "source": [
    "import nltk\n",
    "import re\n",
    "import string\n",
    "pd.set_option('display.max_colwidth', 100) # To extend column width\n",
    "\n",
    "stopwords = nltk.corpus.stopwords.words('english')\n",
    "wn = nltk.WordNetLemmatizer()"
   ]
  },
  {
   "cell_type": "code",
   "execution_count": 204,
   "metadata": {},
   "outputs": [],
   "source": [
    "def clean_text(text):\n",
    "    text = text.replace('&amp;', '&')\n",
    "    text = text.replace('\\n', ' ')\n",
    "    text = \"\".join([word.lower() for word in text if word not in string.punctuation])\n",
    "    tokens = re.split('\\W+', text)\n",
    "    text = [wn.lemmatize(word) for word in tokens if word not in stopwords]\n",
    "    return text"
   ]
  },
  {
   "cell_type": "markdown",
   "metadata": {},
   "source": [
    "# Bag of Words"
   ]
  },
  {
   "cell_type": "markdown",
   "metadata": {},
   "source": [
    "# Count Vectorizer"
   ]
  },
  {
   "cell_type": "code",
   "execution_count": 205,
   "metadata": {},
   "outputs": [],
   "source": [
    "from sklearn.feature_extraction.text import CountVectorizer\n",
    "\n",
    "# CountVectorizer\n",
    "count_vect = CountVectorizer(analyzer=clean_text)\n",
    "X_count_vect = count_vect.fit_transform(X_count_df['full_text'])"
   ]
  },
  {
   "cell_type": "code",
   "execution_count": 206,
   "metadata": {},
   "outputs": [],
   "source": [
    "X_count_df.drop(columns = ['full_text'], inplace = True)"
   ]
  },
  {
   "cell_type": "code",
   "execution_count": 207,
   "metadata": {},
   "outputs": [],
   "source": [
    "X_count_df = pd.concat([X_count_df, pd.DataFrame(X_count_vect.toarray(), columns=count_vect.get_feature_names())], axis=1)"
   ]
  },
  {
   "cell_type": "code",
   "execution_count": 208,
   "metadata": {},
   "outputs": [
    {
     "data": {
      "text/plain": [
       "(9585, 18591)"
      ]
     },
     "execution_count": 208,
     "metadata": {},
     "output_type": "execute_result"
    }
   ],
   "source": [
    "X_count_df.shape"
   ]
  },
  {
   "cell_type": "code",
   "execution_count": 209,
   "metadata": {},
   "outputs": [],
   "source": [
    "rf_columns = X_count_df.columns"
   ]
  },
  {
   "cell_type": "code",
   "execution_count": 210,
   "metadata": {},
   "outputs": [
    {
     "data": {
      "text/plain": [
       "Index(['retweet_count', 'favorite_count', 'month_April', 'month_August',\n",
       "       'month_December', 'month_February', 'month_January', 'month_July',\n",
       "       'month_June', 'month_March',\n",
       "       ...\n",
       "       'شده', 'فساد', 'فقط', 'مدتهاست', 'مردم', 'موجب', 'هستند', 'چهلسالشکست',\n",
       "       'که', '۴۰'],\n",
       "      dtype='object', length=18591)"
      ]
     },
     "execution_count": 210,
     "metadata": {},
     "output_type": "execute_result"
    }
   ],
   "source": [
    "rf_columns"
   ]
  },
  {
   "cell_type": "code",
   "execution_count": 211,
   "metadata": {},
   "outputs": [],
   "source": [
    "rf_columns_list = list(rf_columns)"
   ]
  },
  {
   "cell_type": "code",
   "execution_count": 212,
   "metadata": {},
   "outputs": [
    {
     "data": {
      "text/plain": [
       "18591"
      ]
     },
     "execution_count": 212,
     "metadata": {},
     "output_type": "execute_result"
    }
   ],
   "source": [
    "len(rf_columns)"
   ]
  },
  {
   "cell_type": "code",
   "execution_count": 213,
   "metadata": {},
   "outputs": [],
   "source": [
    "with open('rf_columns.pkl', 'wb') as f:\n",
    "   pickle.dump(rf_columns_list, f)"
   ]
  },
  {
   "cell_type": "code",
   "execution_count": 214,
   "metadata": {},
   "outputs": [],
   "source": [
    "data_y = tweets_df.values\n",
    "data_x = X_count_df.values\n",
    "X_count = data_x[:, 0:]\n",
    "y_count = data_y[:,0]"
   ]
  },
  {
   "cell_type": "code",
   "execution_count": 215,
   "metadata": {},
   "outputs": [
    {
     "data": {
      "text/plain": [
       "array([[  938,  4134,     0, ...,     0,     0,     0],\n",
       "       [  173,   790,     0, ...,     0,     0,     0],\n",
       "       [  712,  4376,     0, ...,     0,     0,     0],\n",
       "       ...,\n",
       "       [  741, 20234,     0, ...,     0,     0,     0],\n",
       "       [18289, 68718,     0, ...,     0,     0,     0],\n",
       "       [   11,    74,     0, ...,     0,     0,     0]], dtype=int64)"
      ]
     },
     "execution_count": 215,
     "metadata": {},
     "output_type": "execute_result"
    }
   ],
   "source": [
    "X_count"
   ]
  },
  {
   "cell_type": "code",
   "execution_count": 216,
   "metadata": {},
   "outputs": [
    {
     "data": {
      "text/plain": [
       "(9585, 18591)"
      ]
     },
     "execution_count": 216,
     "metadata": {},
     "output_type": "execute_result"
    }
   ],
   "source": [
    "X_count.shape"
   ]
  },
  {
   "cell_type": "code",
   "execution_count": 217,
   "metadata": {},
   "outputs": [],
   "source": [
    "X_count_sparse = csr_matrix(X_count)"
   ]
  },
  {
   "cell_type": "code",
   "execution_count": 218,
   "metadata": {},
   "outputs": [
    {
     "data": {
      "text/plain": [
       "<9585x18591 sparse matrix of type '<class 'numpy.int64'>'\n",
       "\twith 215151 stored elements in Compressed Sparse Row format>"
      ]
     },
     "execution_count": 218,
     "metadata": {},
     "output_type": "execute_result"
    }
   ],
   "source": [
    "X_count_sparse"
   ]
  },
  {
   "cell_type": "code",
   "execution_count": 35,
   "metadata": {},
   "outputs": [],
   "source": [
    "from sklearn.model_selection import train_test_split"
   ]
  },
  {
   "cell_type": "code",
   "execution_count": 36,
   "metadata": {},
   "outputs": [],
   "source": [
    "from sklearn.preprocessing import MaxAbsScaler"
   ]
  },
  {
   "cell_type": "code",
   "execution_count": 37,
   "metadata": {},
   "outputs": [],
   "source": [
    "from sklearn.preprocessing import LabelEncoder"
   ]
  },
  {
   "cell_type": "code",
   "execution_count": 38,
   "metadata": {},
   "outputs": [],
   "source": [
    "from matplotlib.legend_handler import HandlerLine2D"
   ]
  },
  {
   "cell_type": "code",
   "execution_count": 39,
   "metadata": {},
   "outputs": [],
   "source": [
    "# from keras.utils import to_categorical"
   ]
  },
  {
   "cell_type": "markdown",
   "metadata": {},
   "source": [
    "## Train-Test-Split/Label-Encoding (Grid Search)"
   ]
  },
  {
   "cell_type": "code",
   "execution_count": 219,
   "metadata": {},
   "outputs": [],
   "source": [
    "X_train_cv, X_test_cv, y_train_cv, y_test_cv = train_test_split(X_count_sparse, y_count, random_state=42,\n",
    "                                                               train_size = 0.9,\n",
    "                                                               shuffle = True)"
   ]
  },
  {
   "cell_type": "code",
   "execution_count": 220,
   "metadata": {},
   "outputs": [],
   "source": [
    "X_scaler_cv = MaxAbsScaler().fit(X_train_cv)"
   ]
  },
  {
   "cell_type": "code",
   "execution_count": 221,
   "metadata": {},
   "outputs": [
    {
     "data": {
      "text/plain": [
       "['rf_scaler.save']"
      ]
     },
     "execution_count": 221,
     "metadata": {},
     "output_type": "execute_result"
    }
   ],
   "source": [
    "scaler_filename = \"rf_scaler.save\"\n",
    "joblib.dump(X_scaler_cv, scaler_filename) "
   ]
  },
  {
   "cell_type": "code",
   "execution_count": 222,
   "metadata": {},
   "outputs": [],
   "source": [
    "X_train_scaled_cv = X_scaler_cv.transform(X_train_cv)\n",
    "X_test_scaled_cv = X_scaler_cv.transform(X_test_cv)"
   ]
  },
  {
   "cell_type": "code",
   "execution_count": 223,
   "metadata": {},
   "outputs": [],
   "source": [
    "# Step 1: Label-encode data set\n",
    "label_encoder_cv = LabelEncoder()\n",
    "label_encoder_cv.fit(y_train_cv)\n",
    "\n",
    "encoded_y_train_cv = label_encoder_cv.transform(y_train_cv)\n",
    "encoded_y_test_cv = label_encoder_cv.transform(y_test_cv)"
   ]
  },
  {
   "cell_type": "code",
   "execution_count": 224,
   "metadata": {},
   "outputs": [
    {
     "data": {
      "text/plain": [
       "array([1, 3, 1, ..., 0, 3, 1])"
      ]
     },
     "execution_count": 224,
     "metadata": {},
     "output_type": "execute_result"
    }
   ],
   "source": [
    "encoded_y_train_cv"
   ]
  },
  {
   "cell_type": "code",
   "execution_count": 225,
   "metadata": {},
   "outputs": [],
   "source": [
    "encoded_y_train_cv = encoded_y_train_cv.reshape(-1, 1)\n",
    "encoded_y_test_cv = encoded_y_test_cv.reshape(-1, 1)"
   ]
  },
  {
   "cell_type": "code",
   "execution_count": 226,
   "metadata": {},
   "outputs": [
    {
     "data": {
      "text/plain": [
       "array([[1],\n",
       "       [3],\n",
       "       [1],\n",
       "       ...,\n",
       "       [0],\n",
       "       [3],\n",
       "       [1]])"
      ]
     },
     "execution_count": 226,
     "metadata": {},
     "output_type": "execute_result"
    }
   ],
   "source": [
    "encoded_y_train_cv"
   ]
  },
  {
   "cell_type": "code",
   "execution_count": 227,
   "metadata": {},
   "outputs": [
    {
     "data": {
      "text/plain": [
       "array(['Bernie Sanders', 'Donald J. Trump', 'Elizabeth Warren',\n",
       "       'Joe Biden', 'Kamala Harris'], dtype=object)"
      ]
     },
     "execution_count": 227,
     "metadata": {},
     "output_type": "execute_result"
    }
   ],
   "source": [
    "label_encoder_cv.classes_"
   ]
  },
  {
   "cell_type": "code",
   "execution_count": 228,
   "metadata": {},
   "outputs": [],
   "source": [
    "np.save('rf_classes.npy', label_encoder_cv.classes_)"
   ]
  },
  {
   "cell_type": "markdown",
   "metadata": {},
   "source": [
    "## Train-Test-Split/Label Encoding (In-Depth Parameter Tuning)"
   ]
  },
  {
   "cell_type": "code",
   "execution_count": 229,
   "metadata": {},
   "outputs": [],
   "source": [
    "X_train, X_test, y_train, y_test = train_test_split(X_count_sparse, y_count, random_state=42)"
   ]
  },
  {
   "cell_type": "code",
   "execution_count": 230,
   "metadata": {},
   "outputs": [],
   "source": [
    "X_scaler = MaxAbsScaler().fit(X_train)"
   ]
  },
  {
   "cell_type": "code",
   "execution_count": 231,
   "metadata": {},
   "outputs": [],
   "source": [
    "X_train_scaled = X_scaler.transform(X_train)\n",
    "X_test_scaled = X_scaler.transform(X_test)"
   ]
  },
  {
   "cell_type": "code",
   "execution_count": 232,
   "metadata": {},
   "outputs": [
    {
     "data": {
      "text/plain": [
       "(7188, 18591)"
      ]
     },
     "execution_count": 232,
     "metadata": {},
     "output_type": "execute_result"
    }
   ],
   "source": [
    "X_train_scaled.shape"
   ]
  },
  {
   "cell_type": "code",
   "execution_count": 233,
   "metadata": {},
   "outputs": [],
   "source": [
    "# Step 1: Label-encode data set\n",
    "label_encoder = LabelEncoder()\n",
    "label_encoder.fit(y_train)\n",
    "\n",
    "encoded_y_train = label_encoder.transform(y_train)\n",
    "encoded_y_test = label_encoder.transform(y_test)"
   ]
  },
  {
   "cell_type": "code",
   "execution_count": 234,
   "metadata": {},
   "outputs": [],
   "source": [
    "encoded_y_train = encoded_y_train.reshape(-1, 1)\n",
    "encoded_y_test = encoded_y_test.reshape(-1, 1)"
   ]
  },
  {
   "cell_type": "markdown",
   "metadata": {},
   "source": [
    "## N_estimators (Count Vectorizer)"
   ]
  },
  {
   "cell_type": "code",
   "execution_count": 235,
   "metadata": {},
   "outputs": [],
   "source": [
    "n_estimators = [1, 2, 4, 8, 16, 32, 64, 100, 150, 200, 300]\n",
    "\n",
    "train_results = []\n",
    "test_results = []\n",
    "\n",
    "for estimator in n_estimators:\n",
    "    rf = RandomForestClassifier(n_estimators=estimator, n_jobs=-1)\n",
    "    rf.fit(X_train_scaled, encoded_y_train)\n",
    "\n",
    "    train_results.append(rf.score(X_train_scaled, encoded_y_train))\n",
    "    test_results.append(rf.score(X_test_scaled, encoded_y_test))"
   ]
  },
  {
   "cell_type": "code",
   "execution_count": 236,
   "metadata": {},
   "outputs": [
    {
     "data": {
      "image/png": "[encoded data removed]",
      "text/plain": [
       "<Figure size 432x288 with 1 Axes>"
      ]
     },
     "metadata": {
      "needs_background": "light"
     },
     "output_type": "display_data"
    }
   ],
   "source": [
    "line1, = plt.plot(n_estimators, train_results, 'b', label=\"Train\")\n",
    "line2, = plt.plot(n_estimators, test_results, 'r', label=\"Test\")\n",
    "\n",
    "plt.legend(handler_map={line1: HandlerLine2D(numpoints=2)})\n",
    "\n",
    "plt.ylabel('RF score')\n",
    "plt.xlabel('n_estimators')\n",
    "plt.show()"
   ]
  },
  {
   "cell_type": "code",
   "execution_count": null,
   "metadata": {},
   "outputs": [],
   "source": [
    "# Best ~ 200 (50 - 250)"
   ]
  },
  {
   "cell_type": "markdown",
   "metadata": {},
   "source": [
    "## Max-Depth (Count Vectorizer)"
   ]
  },
  {
   "cell_type": "code",
   "execution_count": 237,
   "metadata": {},
   "outputs": [],
   "source": [
    "max_depths = list(np.linspace(1, 90, 90, endpoint=True))\n",
    "\n",
    "train_results = []\n",
    "test_results = []\n",
    "for max_depth in max_depths:\n",
    "    rf = RandomForestClassifier(max_depth=max_depth, n_jobs=-1)\n",
    "    rf.fit(X_train_scaled, encoded_y_train)\n",
    "\n",
    "    train_results.append(rf.score(X_train_scaled, encoded_y_train))\n",
    "    test_results.append(rf.score(X_test_scaled, encoded_y_test))"
   ]
  },
  {
   "cell_type": "code",
   "execution_count": 238,
   "metadata": {},
   "outputs": [
    {
     "data": {
      "image/png": "[encoded data removed]",
      "text/plain": [
       "<Figure size 432x288 with 1 Axes>"
      ]
     },
     "metadata": {
      "needs_background": "light"
     },
     "output_type": "display_data"
    }
   ],
   "source": [
    "line1, = plt.plot(max_depths, train_results, 'b', label=\"Train\")\n",
    "line2, = plt.plot(max_depths, test_results, 'r', label=\"Test\")\n",
    "\n",
    "plt.legend(handler_map={line1: HandlerLine2D(numpoints=2)})\n",
    "\n",
    "plt.ylabel('RF score')\n",
    "plt.xlabel('max_depth')\n",
    "plt.show()"
   ]
  },
  {
   "cell_type": "code",
   "execution_count": null,
   "metadata": {},
   "outputs": [],
   "source": [
    "# Best ~ 20 (5 - 15)"
   ]
  },
  {
   "cell_type": "markdown",
   "metadata": {},
   "source": [
    "## Min_samples_split (Count Vectorizer)"
   ]
  },
  {
   "cell_type": "code",
   "execution_count": 239,
   "metadata": {},
   "outputs": [],
   "source": [
    "min_samples_splits = list(np.linspace(0.1, 1.0, 10, endpoint=True))\n",
    "\n",
    "train_results = []\n",
    "test_results = []\n",
    "for min_samples_split in min_samples_splits:\n",
    "    rf = RandomForestClassifier(min_samples_split=min_samples_split, n_jobs=-1)\n",
    "    rf.fit(X_train_scaled, encoded_y_train)\n",
    "    \n",
    "    train_results.append(rf.score(X_train_scaled, encoded_y_train))\n",
    "    test_results.append(rf.score(X_test_scaled, encoded_y_test))"
   ]
  },
  {
   "cell_type": "code",
   "execution_count": 240,
   "metadata": {},
   "outputs": [
    {
     "data": {
      "image/png": "[encoded data removed]",
      "text/plain": [
       "<Figure size 432x288 with 1 Axes>"
      ]
     },
     "metadata": {
      "needs_background": "light"
     },
     "output_type": "display_data"
    }
   ],
   "source": [
    "line1, = plt.plot(min_samples_splits, train_results, 'b', label=\"Train\")\n",
    "line2, = plt.plot(min_samples_splits, test_results, 'r', label=\"Test\")\n",
    "\n",
    "plt.legend(handler_map={line1: HandlerLine2D(numpoints=2)})\n",
    "\n",
    "plt.ylabel('RF score')\n",
    "plt.xlabel('min_samples_split')\n",
    "plt.show()"
   ]
  },
  {
   "cell_type": "code",
   "execution_count": null,
   "metadata": {},
   "outputs": [],
   "source": [
    "#Best ~ 2"
   ]
  },
  {
   "cell_type": "markdown",
   "metadata": {},
   "source": [
    "## Min_samples_leaf (Count Vectorizer)"
   ]
  },
  {
   "cell_type": "code",
   "execution_count": 241,
   "metadata": {},
   "outputs": [],
   "source": [
    "min_samples_leafs = list(np.linspace(.01, 0.5, 20, endpoint = True))\n",
    "\n",
    "train_results = []\n",
    "test_results = []\n",
    "for min_samples_leaf in min_samples_leafs:\n",
    "    rf = RandomForestClassifier(min_samples_leaf=min_samples_leaf, n_jobs=-1)\n",
    "    rf.fit(X_train_scaled, encoded_y_train)\n",
    "\n",
    "    train_results.append(rf.score(X_train_scaled, encoded_y_train))\n",
    "    test_results.append(rf.score(X_test_scaled, encoded_y_test))"
   ]
  },
  {
   "cell_type": "code",
   "execution_count": 242,
   "metadata": {},
   "outputs": [
    {
     "data": {
      "image/png": "[encoded data removed]",
      "text/plain": [
       "<Figure size 432x288 with 1 Axes>"
      ]
     },
     "metadata": {
      "needs_background": "light"
     },
     "output_type": "display_data"
    }
   ],
   "source": [
    "line1, = plt.plot(min_samples_leafs, train_results, 'b', label=\"Train\")\n",
    "line2, = plt.plot(min_samples_leafs, test_results, 'r', label=\"Test\")\n",
    "\n",
    "plt.legend(handler_map={line1: HandlerLine2D(numpoints=2)})\n",
    "\n",
    "plt.ylabel('RF score')\n",
    "plt.xlabel('min_samples_leaf')\n",
    "plt.show()"
   ]
  },
  {
   "cell_type": "markdown",
   "metadata": {},
   "source": [
    "## Max_features (Count Vectorizer)"
   ]
  },
  {
   "cell_type": "code",
   "execution_count": 243,
   "metadata": {},
   "outputs": [],
   "source": [
    "max_features_list = list(range(1, 3000, 100))\n",
    "\n",
    "train_results = []\n",
    "test_results = []\n",
    "for max_features in max_features_list:\n",
    "    rf = RandomForestClassifier(max_features=max_features, n_jobs=-1)\n",
    "    rf.fit(X_train_scaled, encoded_y_train)\n",
    "    \n",
    "    train_results.append(rf.score(X_train_scaled, encoded_y_train))\n",
    "    test_results.append(rf.score(X_test_scaled, encoded_y_test))"
   ]
  },
  {
   "cell_type": "code",
   "execution_count": 244,
   "metadata": {},
   "outputs": [
    {
     "data": {
      "image/png": "[encoded data removed]",
      "text/plain": [
       "<Figure size 432x288 with 1 Axes>"
      ]
     },
     "metadata": {
      "needs_background": "light"
     },
     "output_type": "display_data"
    }
   ],
   "source": [
    "line1, = plt.plot(max_features_list, train_results, 'b', label=\"Train\")\n",
    "line2, = plt.plot(max_features_list, test_results, 'r', label=\"Test\")\n",
    "\n",
    "plt.legend(handler_map={line1: HandlerLine2D(numpoints=2)})\n",
    "\n",
    "plt.ylabel('RF score')\n",
    "plt.xlabel('max_features')\n",
    "plt.show()"
   ]
  },
  {
   "cell_type": "markdown",
   "metadata": {},
   "source": [
    "## In-Depth Parameter Tuning Scoring (Count Vectorizer)"
   ]
  },
  {
   "cell_type": "code",
   "execution_count": 245,
   "metadata": {},
   "outputs": [
    {
     "data": {
      "text/plain": [
       "0.6433041301627034"
      ]
     },
     "execution_count": 245,
     "metadata": {},
     "output_type": "execute_result"
    }
   ],
   "source": [
    "# Create a random forest classifier\n",
    "rf = RandomForestClassifier(n_estimators=200, max_depth=20, min_samples_split = 2,\n",
    "                           min_samples_leaf = 1, max_features = 150)\n",
    "rf = rf.fit(X_train_scaled, encoded_y_train)\n",
    "rf.score(X_test_scaled, encoded_y_test)"
   ]
  },
  {
   "cell_type": "markdown",
   "metadata": {},
   "source": [
    "## GridSearch (Count Vectorizer)"
   ]
  },
  {
   "cell_type": "code",
   "execution_count": 246,
   "metadata": {},
   "outputs": [
    {
     "data": {
      "text/plain": [
       "[5, 7, 9, 11, 13, 15, None]"
      ]
     },
     "execution_count": 246,
     "metadata": {},
     "output_type": "execute_result"
    }
   ],
   "source": [
    "max_depth_gs = list(range(5, 16, 2))\n",
    "max_depth_gs.append(None)\n",
    "max_depth_gs"
   ]
  },
  {
   "cell_type": "code",
   "execution_count": 248,
   "metadata": {},
   "outputs": [
    {
     "name": "stdout",
     "output_type": "stream",
     "text": [
      "Fitting 5 folds for each of 847 candidates, totalling 4235 fits\n"
     ]
    },
    {
     "name": "stderr",
     "output_type": "stream",
     "text": [
      "[Parallel(n_jobs=-1)]: Using backend LokyBackend with 8 concurrent workers.\n",
      "[Parallel(n_jobs=-1)]: Done  16 tasks      | elapsed:    3.6s\n",
      "[Parallel(n_jobs=-1)]: Done 112 tasks      | elapsed:   14.3s\n",
      "[Parallel(n_jobs=-1)]: Done 272 tasks      | elapsed:   38.8s\n",
      "[Parallel(n_jobs=-1)]: Done 496 tasks      | elapsed:  1.3min\n",
      "[Parallel(n_jobs=-1)]: Done 784 tasks      | elapsed:  2.2min\n",
      "[Parallel(n_jobs=-1)]: Done 1136 tasks      | elapsed:  3.6min\n",
      "[Parallel(n_jobs=-1)]: Done 1552 tasks      | elapsed:  5.3min\n",
      "[Parallel(n_jobs=-1)]: Done 2032 tasks      | elapsed:  7.7min\n",
      "[Parallel(n_jobs=-1)]: Done 2576 tasks      | elapsed: 10.8min\n",
      "[Parallel(n_jobs=-1)]: Done 3184 tasks      | elapsed: 15.0min\n",
      "[Parallel(n_jobs=-1)]: Done 3856 tasks      | elapsed: 28.9min\n",
      "[Parallel(n_jobs=-1)]: Done 4235 out of 4235 | elapsed: 48.6min finished\n"
     ]
    },
    {
     "data": {
      "text/html": [
       "<div>\n",
       "<style scoped>\n",
       "    .dataframe tbody tr th:only-of-type {\n",
       "        vertical-align: middle;\n",
       "    }\n",
       "\n",
       "    .dataframe tbody tr th {\n",
       "        vertical-align: top;\n",
       "    }\n",
       "\n",
       "    .dataframe thead th {\n",
       "        text-align: right;\n",
       "    }\n",
       "</style>\n",
       "<table border=\"1\" class=\"dataframe\">\n",
       "  <thead>\n",
       "    <tr style=\"text-align: right;\">\n",
       "      <th></th>\n",
       "      <th>mean_fit_time</th>\n",
       "      <th>std_fit_time</th>\n",
       "      <th>mean_score_time</th>\n",
       "      <th>std_score_time</th>\n",
       "      <th>param_max_depth</th>\n",
       "      <th>param_max_features</th>\n",
       "      <th>param_n_estimators</th>\n",
       "      <th>params</th>\n",
       "      <th>split0_test_score</th>\n",
       "      <th>split1_test_score</th>\n",
       "      <th>...</th>\n",
       "      <th>mean_test_score</th>\n",
       "      <th>std_test_score</th>\n",
       "      <th>rank_test_score</th>\n",
       "      <th>split0_train_score</th>\n",
       "      <th>split1_train_score</th>\n",
       "      <th>split2_train_score</th>\n",
       "      <th>split3_train_score</th>\n",
       "      <th>split4_train_score</th>\n",
       "      <th>mean_train_score</th>\n",
       "      <th>std_train_score</th>\n",
       "    </tr>\n",
       "  </thead>\n",
       "  <tbody>\n",
       "    <tr>\n",
       "      <th>746</th>\n",
       "      <td>36.397889</td>\n",
       "      <td>0.285347</td>\n",
       "      <td>0.215225</td>\n",
       "      <td>0.020248</td>\n",
       "      <td>None</td>\n",
       "      <td>120</td>\n",
       "      <td>136</td>\n",
       "      <td>{'max_depth': None, 'max_features': 120, 'n_estimators': 136}</td>\n",
       "      <td>0.768384</td>\n",
       "      <td>0.785756</td>\n",
       "      <td>...</td>\n",
       "      <td>0.772664</td>\n",
       "      <td>0.009812</td>\n",
       "      <td>1</td>\n",
       "      <td>1.0</td>\n",
       "      <td>1.0</td>\n",
       "      <td>1.0</td>\n",
       "      <td>1.0</td>\n",
       "      <td>1.0</td>\n",
       "      <td>1.0</td>\n",
       "      <td>0.0</td>\n",
       "    </tr>\n",
       "    <tr>\n",
       "      <th>734</th>\n",
       "      <td>32.844588</td>\n",
       "      <td>0.719144</td>\n",
       "      <td>0.206647</td>\n",
       "      <td>0.016658</td>\n",
       "      <td>None</td>\n",
       "      <td>100</td>\n",
       "      <td>122</td>\n",
       "      <td>{'max_depth': None, 'max_features': 100, 'n_estimators': 122}</td>\n",
       "      <td>0.772438</td>\n",
       "      <td>0.774754</td>\n",
       "      <td>...</td>\n",
       "      <td>0.769650</td>\n",
       "      <td>0.005577</td>\n",
       "      <td>2</td>\n",
       "      <td>1.0</td>\n",
       "      <td>1.0</td>\n",
       "      <td>1.0</td>\n",
       "      <td>1.0</td>\n",
       "      <td>1.0</td>\n",
       "      <td>1.0</td>\n",
       "      <td>0.0</td>\n",
       "    </tr>\n",
       "    <tr>\n",
       "      <th>735</th>\n",
       "      <td>36.460920</td>\n",
       "      <td>1.119046</td>\n",
       "      <td>0.226993</td>\n",
       "      <td>0.013360</td>\n",
       "      <td>None</td>\n",
       "      <td>100</td>\n",
       "      <td>136</td>\n",
       "      <td>{'max_depth': None, 'max_features': 100, 'n_estimators': 136}</td>\n",
       "      <td>0.760857</td>\n",
       "      <td>0.782860</td>\n",
       "      <td>...</td>\n",
       "      <td>0.769534</td>\n",
       "      <td>0.009859</td>\n",
       "      <td>3</td>\n",
       "      <td>1.0</td>\n",
       "      <td>1.0</td>\n",
       "      <td>1.0</td>\n",
       "      <td>1.0</td>\n",
       "      <td>1.0</td>\n",
       "      <td>1.0</td>\n",
       "      <td>0.0</td>\n",
       "    </tr>\n",
       "    <tr>\n",
       "      <th>736</th>\n",
       "      <td>39.992278</td>\n",
       "      <td>1.082836</td>\n",
       "      <td>0.253522</td>\n",
       "      <td>0.017325</td>\n",
       "      <td>None</td>\n",
       "      <td>100</td>\n",
       "      <td>150</td>\n",
       "      <td>{'max_depth': None, 'max_features': 100, 'n_estimators': 150}</td>\n",
       "      <td>0.761436</td>\n",
       "      <td>0.774175</td>\n",
       "      <td>...</td>\n",
       "      <td>0.768607</td>\n",
       "      <td>0.006829</td>\n",
       "      <td>4</td>\n",
       "      <td>1.0</td>\n",
       "      <td>1.0</td>\n",
       "      <td>1.0</td>\n",
       "      <td>1.0</td>\n",
       "      <td>1.0</td>\n",
       "      <td>1.0</td>\n",
       "      <td>0.0</td>\n",
       "    </tr>\n",
       "    <tr>\n",
       "      <th>732</th>\n",
       "      <td>24.799298</td>\n",
       "      <td>0.546369</td>\n",
       "      <td>0.158377</td>\n",
       "      <td>0.019466</td>\n",
       "      <td>None</td>\n",
       "      <td>100</td>\n",
       "      <td>94</td>\n",
       "      <td>{'max_depth': None, 'max_features': 100, 'n_estimators': 94}</td>\n",
       "      <td>0.760278</td>\n",
       "      <td>0.778228</td>\n",
       "      <td>...</td>\n",
       "      <td>0.768259</td>\n",
       "      <td>0.007299</td>\n",
       "      <td>5</td>\n",
       "      <td>1.0</td>\n",
       "      <td>1.0</td>\n",
       "      <td>1.0</td>\n",
       "      <td>1.0</td>\n",
       "      <td>1.0</td>\n",
       "      <td>1.0</td>\n",
       "      <td>0.0</td>\n",
       "    </tr>\n",
       "  </tbody>\n",
       "</table>\n",
       "<p>5 rows × 23 columns</p>\n",
       "</div>"
      ],
      "text/plain": [
       "     mean_fit_time  std_fit_time  mean_score_time  std_score_time  \\\n",
       "746      36.397889      0.285347         0.215225        0.020248   \n",
       "734      32.844588      0.719144         0.206647        0.016658   \n",
       "735      36.460920      1.119046         0.226993        0.013360   \n",
       "736      39.992278      1.082836         0.253522        0.017325   \n",
       "732      24.799298      0.546369         0.158377        0.019466   \n",
       "\n",
       "    param_max_depth param_max_features param_n_estimators  \\\n",
       "746            None                120                136   \n",
       "734            None                100                122   \n",
       "735            None                100                136   \n",
       "736            None                100                150   \n",
       "732            None                100                 94   \n",
       "\n",
       "                                                            params  \\\n",
       "746  {'max_depth': None, 'max_features': 120, 'n_estimators': 136}   \n",
       "734  {'max_depth': None, 'max_features': 100, 'n_estimators': 122}   \n",
       "735  {'max_depth': None, 'max_features': 100, 'n_estimators': 136}   \n",
       "736  {'max_depth': None, 'max_features': 100, 'n_estimators': 150}   \n",
       "732   {'max_depth': None, 'max_features': 100, 'n_estimators': 94}   \n",
       "\n",
       "     split0_test_score  split1_test_score       ...         mean_test_score  \\\n",
       "746           0.768384           0.785756       ...                0.772664   \n",
       "734           0.772438           0.774754       ...                0.769650   \n",
       "735           0.760857           0.782860       ...                0.769534   \n",
       "736           0.761436           0.774175       ...                0.768607   \n",
       "732           0.760278           0.778228       ...                0.768259   \n",
       "\n",
       "     std_test_score  rank_test_score  split0_train_score  split1_train_score  \\\n",
       "746        0.009812                1                 1.0                 1.0   \n",
       "734        0.005577                2                 1.0                 1.0   \n",
       "735        0.009859                3                 1.0                 1.0   \n",
       "736        0.006829                4                 1.0                 1.0   \n",
       "732        0.007299                5                 1.0                 1.0   \n",
       "\n",
       "     split2_train_score  split3_train_score  split4_train_score  \\\n",
       "746                 1.0                 1.0                 1.0   \n",
       "734                 1.0                 1.0                 1.0   \n",
       "735                 1.0                 1.0                 1.0   \n",
       "736                 1.0                 1.0                 1.0   \n",
       "732                 1.0                 1.0                 1.0   \n",
       "\n",
       "     mean_train_score  std_train_score  \n",
       "746               1.0              0.0  \n",
       "734               1.0              0.0  \n",
       "735               1.0              0.0  \n",
       "736               1.0              0.0  \n",
       "732               1.0              0.0  \n",
       "\n",
       "[5 rows x 23 columns]"
      ]
     },
     "execution_count": 248,
     "metadata": {},
     "output_type": "execute_result"
    }
   ],
   "source": [
    "rf = RandomForestClassifier()\n",
    "param = {'n_estimators': list(range(10, 151, 14)),\n",
    "        'max_depth': max_depth_gs,\n",
    "         'max_features': list(range(100, 301, 20))\n",
    "        }\n",
    "\n",
    "gs = GridSearchCV(rf, param, cv=5, n_jobs=-1, verbose = 3)# n_jobs=-1 for parallelizing search\n",
    "gs_fit = gs.fit(X_train_scaled_cv, encoded_y_train_cv)\n",
    "pd.DataFrame(gs_fit.cv_results_).sort_values('mean_test_score', ascending=False).head()"
   ]
  },
  {
   "cell_type": "code",
   "execution_count": 249,
   "metadata": {},
   "outputs": [
    {
     "data": {
      "text/plain": [
       "0.7883211678832117"
      ]
     },
     "execution_count": 249,
     "metadata": {},
     "output_type": "execute_result"
    }
   ],
   "source": [
    "# Create a random forest classifier\n",
    "rf_model = RandomForestClassifier(n_estimators=136, max_depth=None, min_samples_split = 2,\n",
    "                           min_samples_leaf = 1, max_features = 120)\n",
    "rf_model = rf_model.fit(X_train_scaled_cv, encoded_y_train_cv)\n",
    "rf_model.score(X_test_scaled_cv, encoded_y_test_cv)"
   ]
  },
  {
   "cell_type": "code",
   "execution_count": 250,
   "metadata": {},
   "outputs": [],
   "source": [
    "filename = \"rf_model.sav\""
   ]
  },
  {
   "cell_type": "code",
   "execution_count": 254,
   "metadata": {},
   "outputs": [],
   "source": [
    "with open(filename, 'wb') as f:\n",
    "   pickle.dump(rf_model, f)"
   ]
  },
  {
   "cell_type": "code",
   "execution_count": 252,
   "metadata": {},
   "outputs": [
    {
     "data": {
      "text/plain": [
       "array([8.35199148e-02, 7.76458902e-02, 2.17507540e-03, ...,\n",
       "       0.00000000e+00, 0.00000000e+00, 1.80921598e-06])"
      ]
     },
     "execution_count": 252,
     "metadata": {},
     "output_type": "execute_result"
    }
   ],
   "source": [
    "rf_model.feature_importances_"
   ]
  },
  {
   "cell_type": "code",
   "execution_count": 253,
   "metadata": {},
   "outputs": [
    {
     "data": {
      "text/plain": [
       "[(0.08351991481284712, 'retweet_count'),\n",
       " (0.07764589021852175, 'favorite_count'),\n",
       " (0.00557769571189094, 'great'),\n",
       " (0.004920637033092918, 'plan'),\n",
       " (0.004705695531516156, 'fight'),\n",
       " (0.004041766522086816, 'democrat'),\n",
       " (0.003944657699143879, 'must'),\n",
       " (0.003502780565570889, 'medicare'),\n",
       " (0.0034692310671229176, 'month_January'),\n",
       " (0.0033663087989394664, 'big'),\n",
       " (0.003332847640774175, 'need'),\n",
       " (0.0032226914268346477, 'hour_12'),\n",
       " (0.003079302739450354, 'hour_11'),\n",
       " (0.0028662361288259823, 'woman'),\n",
       " (0.0027804289280391734, 'president'),\n",
       " (0.0027387657362832347, 'people'),\n",
       " (0.002710011950795766, 'health'),\n",
       " (0.0026052937841952216, 'month_June'),\n",
       " (0.002589272112554968, 'month_July'),\n",
       " (0.00255081173665408, ''),\n",
       " (0.0025377062502487404, 'trump'),\n",
       " (0.002508620525009812, 'right'),\n",
       " (0.002482448067991084, 'american'),\n",
       " (0.002478301007778614, 'family'),\n",
       " (0.002440462663741741, 'nation'),\n",
       " (0.0024310957076374043, 'grateful'),\n",
       " (0.002431055155367699, 'act'),\n",
       " (0.0024087250154510857, 'day_Thursday'),\n",
       " (0.0023866694550358568, 'day_Wednesday'),\n",
       " (0.0023731982901862877, 'day_Friday'),\n",
       " (0.002305487687284916, 'fighting'),\n",
       " (0.0022535591528076546, 'news'),\n",
       " (0.0022352175365477544, 'change'),\n",
       " (0.0022272718100097635, 'greed'),\n",
       " (0.0022135154508347707, 'month_May'),\n",
       " (0.002212243801057367, 'defeat'),\n",
       " (0.002206706410277852, 'day_Tuesday'),\n",
       " (0.0021920282550183293, 'structural'),\n",
       " (0.0021750754001154202, 'month_April'),\n",
       " (0.002140688883190045, 'care'),\n",
       " (0.0021323846121013997, 'border'),\n",
       " (0.002116468100869467, 'day_Saturday'),\n",
       " (0.002100639863067556, 'going'),\n",
       " (0.0020685186285223844, 'worker'),\n",
       " (0.0020548608000576225, 'month_February'),\n",
       " (0.0020410690607156673, 'hour_13'),\n",
       " (0.0020345438923329165, 'fake'),\n",
       " (0.002033344923890563, 'thank'),\n",
       " (0.0020266656274066826, 'country'),\n",
       " (0.0020220547015594907, 'join'),\n",
       " (0.002014062338253398, 'month_March'),\n",
       " (0.0019938055641065193, 'day_Monday'),\n",
       " (0.0019831063327277855, 'month_August'),\n",
       " (0.0019588802463516445, 'america'),\n",
       " (0.0019453522444314742, 'make'),\n",
       " (0.0019276554971431094, 'insurance'),\n",
       " (0.0019211291114754744, 'u'),\n",
       " (0.0018965373015367927, 'teacher'),\n",
       " (0.0018922586836639804, 'glad'),\n",
       " (0.0018698620046748034, 'grassroots'),\n",
       " (0.0018678326039648432, 'gun'),\n",
       " (0.0018599596902527946, 'million'),\n",
       " (0.001857989945329618, 'end'),\n",
       " (0.0018129925771519716, 'day_Sunday'),\n",
       " (0.001810842886531964, 'community'),\n",
       " (0.0017952377180512537, 'today'),\n",
       " (0.0017107560254656772, 'billionaire'),\n",
       " (0.0016930599200626992, 'every'),\n",
       " (0.001675920047016349, 'time'),\n",
       " (0.0016531493622728096, 'biden'),\n",
       " (0.0016446146463360858, 'stand'),\n",
       " (0.0016421700543947182, 'new'),\n",
       " (0.0016397292113925477, 'campaign'),\n",
       " (0.0016128082507062549, 'year'),\n",
       " (0.001612342228629533, 'hour_01'),\n",
       " (0.0015946155962051982, 'hour_17'),\n",
       " (0.0015904777976165339, 'collusion'),\n",
       " (0.001581126736231142, 'one'),\n",
       " (0.0015741773739187594, 'hour_22'),\n",
       " (0.0015311077288818833, 'pay'),\n",
       " (0.001529218670710936, 'child'),\n",
       " (0.001520767720797618, 'jill'),\n",
       " (0.0015183083720913884, 'hour_20'),\n",
       " (0.0015165813842792776, 'movement'),\n",
       " (0.001511364400661493, 'many'),\n",
       " (0.0015103569697690147, 'hour_15'),\n",
       " (0.0015015189293525028, 'hour_19'),\n",
       " (0.0014975884894126868, 'hour_21'),\n",
       " (0.001494471829838612, 'hour_00'),\n",
       " (0.001488469918825934, 'china'),\n",
       " (0.0014849730020868748, 'hour_18'),\n",
       " (0.0014771926904989644, 'hour_23'),\n",
       " (0.001469235273818295, 'justice'),\n",
       " (0.0014555166398491095, 'teamjoe'),\n",
       " (0.0014521646238878187, 'day'),\n",
       " (0.0014437779534520467, 'violence'),\n",
       " (0.0014347589013839932, 'let'),\n",
       " (0.0014307500936283064, 'dems'),\n",
       " (0.0014181913191754552, 'deserve'),\n",
       " (0.0014177822404932271, 'hour_10'),\n",
       " (0.0014059586833198644, 'donald'),\n",
       " (0.0014039505275815004, 'medium'),\n",
       " (0.0013849194815121176, 'hour_16'),\n",
       " (0.0013827926667773442, 'industry'),\n",
       " (0.0013510132342007231, 'government'),\n",
       " (0.0013440934377092503, 'hour_02'),\n",
       " (0.0013437671190413207, 'student'),\n",
       " (0.0013418732382282493, 'giant'),\n",
       " (0.0013365385976409397, 'wage'),\n",
       " (0.0013232287899479, 'state'),\n",
       " (0.0013138874865122367, 'work'),\n",
       " (0.0013104389701047597, 'month_October'),\n",
       " (0.0012989463467565105, 'take'),\n",
       " (0.001284301480056115, 'everyone'),\n",
       " (0.001276148623935182, 'life'),\n",
       " (0.0012720724834104928, 'hour_14'),\n",
       " (0.0012606762990552526, 'month_September'),\n",
       " (0.0012450971802661925, 'profit'),\n",
       " (0.0012289337922097093, 'together'),\n",
       " (0.0012066017336411269, 'system'),\n",
       " (0.0012061282631023618, 'ensure'),\n",
       " (0.0011967712153732964, 'get'),\n",
       " (0.0011905797628698426, 'bernie'),\n",
       " (0.001189265979914515, 'war'),\n",
       " (0.0011814617460515458, 'debt'),\n",
       " (0.0011785269068209747, 'month_November'),\n",
       " (0.0011746992990938638, 'done'),\n",
       " (0.0011670466187982602, 'back'),\n",
       " (0.0011651376716385585, 'future'),\n",
       " (0.0011643081235964874, 'got'),\n",
       " (0.0011483765114745229, 'like'),\n",
       " (0.001140257616729366, 'tariff'),\n",
       " (0.0011085602410528662, 'would'),\n",
       " (0.0011055269487584153, 'climate'),\n",
       " (0.0011011624954132856, 'live'),\n",
       " (0.0010922132888653276, 'demdebate'),\n",
       " (0.0010855509946801364, 'dignity'),\n",
       " (0.0010843542803717517, 'foxnews'),\n",
       " (0.001079900787624433, 'bad'),\n",
       " (0.0010627670561192016, 'warrentownhall'),\n",
       " (0.0010553792036265483, 'public'),\n",
       " (0.0010538579285641696, 'foxandfriends'),\n",
       " (0.0010536258434536956, 'month_December'),\n",
       " (0.0010515805907304065, 'universalchildcare'),\n",
       " (0.0010468675821660711, 'political'),\n",
       " (0.001043632770940459, '1'),\n",
       " (0.00103789973617526, 'bill'),\n",
       " (0.0010268639692740736, 'usa'),\n",
       " (0.0010249929141929364, 'crime'),\n",
       " (0.0010244060885629866, 'job'),\n",
       " (0.0010193743716171559, 'never'),\n",
       " (0.0010138399717461491, 'clear'),\n",
       " (0.0010115437218286606, 'protect'),\n",
       " (0.0010026074782503338, 'black'),\n",
       " (0.0010000220505742969, 'want'),\n",
       " (0.00097837665458309, 'world'),\n",
       " (0.0009621906690869093, 'loan'),\n",
       " (0.0009605934403067859, 'mexico'),\n",
       " (0.0009560338557570085, 'support'),\n",
       " (0.0009545646843944084, 'administration'),\n",
       " (0.0009511793294937484, 'transform'),\n",
       " (0.0009378358763906341, 'working'),\n",
       " (0.0009371246883079627, 'company'),\n",
       " (0.0009295563395048734, 'help'),\n",
       " (0.0009206859709632838, '15'),\n",
       " (0.0009189366263902805, 'go'),\n",
       " (0.0009181587820304837, 'drbiden'),\n",
       " (0.0009178251334846212, 'see'),\n",
       " (0.0009175034076784429, 'white'),\n",
       " (0.0009140291564127838, 'california'),\n",
       " (0.0008917924210743894, 'congress'),\n",
       " (0.0008915262588979402, 'better'),\n",
       " (0.0008909808629901423, 'law'),\n",
       " (0.0008791847736792844, 'know'),\n",
       " (0.0008760882423143043, 'revolution'),\n",
       " (0.0008759067742516482, 'cannot'),\n",
       " (0.0008739570434054429, 'forthepeople'),\n",
       " (0.0008706074375862239, 'win'),\n",
       " (0.0008700882612243134, 'education'),\n",
       " (0.0008668814997686442, 'federal'),\n",
       " (0.0008631000778521098, 'way'),\n",
       " (0.0008626987914982316, 'across'),\n",
       " (0.0008606952266228971, 'access'),\n",
       " (0.0008588459411789861, 'say'),\n",
       " (0.0008564048200004181, 'class'),\n",
       " (0.0008543165203086202, 'hour_03'),\n",
       " (0.0008419841999911265, 'mueller'),\n",
       " (0.0008404931070639619, 'house'),\n",
       " (0.0008401914980154619, 'tax'),\n",
       " (0.0008354176991855112, 'speak'),\n",
       " (0.0008308105271034036, 'mother'),\n",
       " (0.0008282076214450098, 'keep'),\n",
       " (0.0008248504206965142, 'give'),\n",
       " (0.0008248336217762893, 'corporation'),\n",
       " (0.0008228368787397835, 'much'),\n",
       " (0.0008221854650601591, 'hard'),\n",
       " (0.0008215825198212953, 'united'),\n",
       " (0.0008110081062640753, 'first'),\n",
       " (0.0008095350064852583, 'im'),\n",
       " (0.0008092856737372375, 'street'),\n",
       " (0.0007997878895822251, 'policy'),\n",
       " (0.0007996092011048385, 'soul'),\n",
       " (0.0007989010477431675, 'iowa'),\n",
       " (0.0007952814978889405, 'leader'),\n",
       " (0.0007940392418069937, 'proud'),\n",
       " (0.0007928751197772418, 'stop'),\n",
       " (0.0007912683770686536, 'shutdown'),\n",
       " (0.0007884110198428393, 'power'),\n",
       " (0.0007839702156530539, 'breakupbigtech'),\n",
       " (0.0007729923272992826, 'real'),\n",
       " (0.0007718086902288774, 'head'),\n",
       " (0.0007655820066473665, 'even'),\n",
       " (0.0007588142629824084, 'made'),\n",
       " (0.0007572291151175756, 'safe'),\n",
       " (0.0007554951006402972, 'middle'),\n",
       " (0.0007520580287074419, 'total'),\n",
       " (0.0007514171445880245, 'warren'),\n",
       " (0.0007493914242393437, 'endcorruptionnow'),\n",
       " (0.0007483150693262829, 'raise'),\n",
       " (0.0007437312633258024, 'action'),\n",
       " (0.0007420337684787507, 'billion'),\n",
       " (0.0007401856114282072, 'tune'),\n",
       " (0.0007355616900942283, 'crisis'),\n",
       " (0.0007344413503871845, 'bruce'),\n",
       " (0.0007329746731752464, 'lift'),\n",
       " (0.0007320585792627086, 'come'),\n",
       " (0.0007301120813562389, 'national'),\n",
       " (0.0007259874986586597, 'call'),\n",
       " (0.0007220488936756051, 'deal'),\n",
       " (0.0007216194422169747, 'school'),\n",
       " (0.0007145793508342289, 'corporate'),\n",
       " (0.0007109349438475458, 'history'),\n",
       " (0.0007016442690417424, 'best'),\n",
       " (0.0007012682060919806, 'young'),\n",
       " (0.0007008628718838747, 'pas'),\n",
       " (0.0006963954706613151, 'value'),\n",
       " (0.0006932981521046684, 'good'),\n",
       " (0.000692063359618591, 'hope'),\n",
       " (0.0006846639977042334, 'number'),\n",
       " (0.0006800320801315876, 'hillary'),\n",
       " (0.0006777492153673631, 'election'),\n",
       " (0.0006770625795782211, 'hunt'),\n",
       " (0.0006767842967599193, 'attack'),\n",
       " (0.0006739183141023472, 'medicareforall'),\n",
       " (0.000673248400124915, 'democracy'),\n",
       " (0.0006726152323359695, 'republican'),\n",
       " (0.0006722783408527952, 'walmart'),\n",
       " (0.000669930781035886, 'vote'),\n",
       " (0.0006683791175838908, 'afford'),\n",
       " (0.0006659971283003907, 'last'),\n",
       " (0.00066519916814039, 'build'),\n",
       " (0.0006641431298480098, 'start'),\n",
       " (0.0006638875790592731, 'town'),\n",
       " (0.0006543228523881615, 'create'),\n",
       " (0.0006531106687333156, 'dream'),\n",
       " (0.0006503049055283141, 'love'),\n",
       " (0.0006483534628230397, 'running'),\n",
       " (0.0006481629790594277, 'assault'),\n",
       " (0.0006462283118277264, 'wall'),\n",
       " (0.0006437339469944117, 'living'),\n",
       " (0.0006433343717202067, 'economy'),\n",
       " (0.0006431960914761855, 'also'),\n",
       " (0.0006381098229720168, 'playing'),\n",
       " (0.0006346048246277215, 'security'),\n",
       " (0.000631995465832264, 'fuel'),\n",
       " (0.0006318658611547489, 'friend'),\n",
       " (0.000629129311570099, 'affordable'),\n",
       " (0.0006220666780486811, 'hour'),\n",
       " (0.0006203795684908246, 'college'),\n",
       " (0.0006193729871525709, 'enough'),\n",
       " (0.0006163399636513521, 'money'),\n",
       " (0.000614526011784639, 'event'),\n",
       " (0.0006112840019949616, 'week'),\n",
       " (0.0006107688960467416, 'radical'),\n",
       " (0.0006100368235483086, 'without'),\n",
       " (0.0006083386508411096, 'ever'),\n",
       " (0.0006068698211205836, 'making'),\n",
       " (0.000606615132903836, 'courage'),\n",
       " (0.0006005445210639559, 'idea'),\n",
       " (0.0005997003744634655, 'sanderstownhall'),\n",
       " (0.0005960165302505862, 'joe'),\n",
       " (0.0005923788235887911, 'critical'),\n",
       " (0.0005909723312672904, 'witch'),\n",
       " (0.0005898423618037387, 'southern'),\n",
       " (0.0005868234660702119, 'union'),\n",
       " (0.0005860956326298312, 'reform'),\n",
       " (0.0005822121617735257, 'donor'),\n",
       " (0.0005738890390251297, 'getting'),\n",
       " (0.0005737973885789314, 'powerful'),\n",
       " (0.0005730006532583848, 'racist'),\n",
       " (0.0005665747902441769, 'rule'),\n",
       " (0.0005636999971663153, 'still'),\n",
       " (0.0005624492302965779, 'voice'),\n",
       " (0.0005612096888365444, 'thing'),\n",
       " (0.0005606049248308522, 'dont'),\n",
       " (0.0005605037914024892, 'far'),\n",
       " (0.0005602183242834795, 'maga'),\n",
       " (0.0005598689211576907, 'nothing'),\n",
       " (0.0005585029501253677, 'thanks'),\n",
       " (0.0005557492114611859, 'heart'),\n",
       " (0.0005547938505148396, 'continue'),\n",
       " (0.000554105553379001, 'full'),\n",
       " (0.0005506141483831653, 'accountable'),\n",
       " (0.0005495503486743396, 'report'),\n",
       " (0.0005475616014903228, 'free'),\n",
       " (0.0005471140788386402, 'human'),\n",
       " (0.0005456967702530046, 'housing'),\n",
       " (0.0005453967054351123, 'issue'),\n",
       " (0.0005441527966151122, 'immigrant'),\n",
       " (0.0005433878692766779, 'drug'),\n",
       " (0.0005397356086729093, 'everything'),\n",
       " (0.0005388232552859028, 'folk'),\n",
       " (0.0005374843736924059, 'paid'),\n",
       " (0.0005362700727993829, 'economic'),\n",
       " (0.0005351980487030237, 'rich'),\n",
       " (0.0005350304211968065, 'fossil'),\n",
       " (0.0005349378675548284, 'racism'),\n",
       " (0.0005332859465649243, 'chip'),\n",
       " (0.0005330632753192618, 'wealth'),\n",
       " (0.000532009743803009, 'next'),\n",
       " (0.0005316027914724279, 'two'),\n",
       " (0.0005299457005691751, 'major'),\n",
       " (0.0005293016784496227, 'damn'),\n",
       " (0.0005263363933575366, 'tonight'),\n",
       " (0.0005261570702486802, 'immigration'),\n",
       " (0.0005253197107693766, 'opportunity'),\n",
       " (0.0005229041272719667, 'field'),\n",
       " (0.0005223717236952004, 'believe'),\n",
       " (0.0005186218252187055, 'democratic'),\n",
       " (0.000517516637762169, 'put'),\n",
       " (0.0005143509652568323, 'service'),\n",
       " (0.000512311583675758, 'hall'),\n",
       " (0.0005100903793502581, 'matter'),\n",
       " (0.0005095737503883961, 'kid'),\n",
       " (0.0005077964558660186, 'congratulation'),\n",
       " (0.0005061154878393094, 'said'),\n",
       " (0.0005052724105391643, 'candidate'),\n",
       " (0.0005043743042554267, 'demdebate2'),\n",
       " (0.0005031629728048413, 'cut'),\n",
       " (0.0005008945186912844, 'incredible'),\n",
       " (0.0005002246650278357, 'always'),\n",
       " (0.0004986980829291426, 'ago'),\n",
       " (0.0004975464500335877, 'place'),\n",
       " (0.0004974706220236174, 'disgrace'),\n",
       " (0.0004973232627157742, 'chance'),\n",
       " (0.0004965527020072439, 'well'),\n",
       " (0.0004962759896301053, 'others'),\n",
       " (0.0004954485930529719, 'voter'),\n",
       " (0.000492686330609563, 'ceo'),\n",
       " (0.0004922129678873776, 'abortion'),\n",
       " (0.0004920213296813251, 'rent'),\n",
       " (0.0004917567432016247, 'thats'),\n",
       " (0.00048814318776594116, 'color'),\n",
       " (0.00048702058327783094, 'talk'),\n",
       " (0.000486271970140484, 'sure'),\n",
       " (0.00048621815657967925, 'could'),\n",
       " (0.00048527035416144046, 'washington'),\n",
       " (0.00048515985583174394, 'another'),\n",
       " (0.0004829732148588653, 'mean'),\n",
       " (0.0004784826088165732, 'cancelstudentdebt'),\n",
       " (0.000477666824557893, 'hate'),\n",
       " (0.00047581177281398476, 'rsvp'),\n",
       " (0.00047489562907426634, 'since'),\n",
       " (0.0004731796867420596, 'wait'),\n",
       " (0.00047203581042828366, 'home'),\n",
       " (0.00047129819430353294, 'able'),\n",
       " (0.00047088110587829233, 'weapon'),\n",
       " (0.00047056399936611993, 'important'),\n",
       " (0.0004702241328539186, 'part'),\n",
       " (0.0004701103236739025, 'threat'),\n",
       " (0.00046918346308209385, 'guarantee'),\n",
       " (0.00046688313154240275, 'equal'),\n",
       " (0.00046667888026727194, 'read'),\n",
       " (0.00046603301667736915, 'fear'),\n",
       " (0.00046442269215936176, 'step'),\n",
       " (0.0004632141470372531, 'progress'),\n",
       " (0.0004623241504713696, 'tackle'),\n",
       " (0.00046197993408591794, 'senate'),\n",
       " (0.0004601919581738051, 'bailey'),\n",
       " (0.00045860148534516965, 'lgbtq'),\n",
       " (0.0004578035226241715, 'past'),\n",
       " (0.00045607589504613434, 'bring'),\n",
       " (0.00045493347303139924, 'truth'),\n",
       " (0.0004518170036782727, 'ban'),\n",
       " (0.00044729099666856857, 'watch'),\n",
       " (0.0004467380049277655, 'fair'),\n",
       " (0.0004465561668996802, 'message'),\n",
       " (0.00044274646368392523, 'thousand'),\n",
       " (0.00044099505250324433, 'poverty'),\n",
       " (0.00044081779748201606, 'realdonaldtrump'),\n",
       " (0.0004402493276643634, 'taking'),\n",
       " (0.0004392524330801403, 'think'),\n",
       " (0.00043821899958645824, 'story'),\n",
       " (0.00043640628835540875, 'promise'),\n",
       " (0.00043589266098942856, 'executive'),\n",
       " (0.0004343135312654245, 'cost'),\n",
       " (0.00043296490997104685, 'le'),\n",
       " (0.00043176453614392435, 'coming'),\n",
       " (0.00043132307204397615, 'safety'),\n",
       " (0.00042875585936152737, 'lead'),\n",
       " (0.00042608244908733355, 'winwithwarren'),\n",
       " (0.00042589424186815654, 'struggle'),\n",
       " (0.0004255170544907394, 'minimum'),\n",
       " (0.0004247588397085115, 'beautiful'),\n",
       " (0.0004222831783368365, 'forward'),\n",
       " (0.00042071566843775203, 'mass'),\n",
       " (0.00042056738091941716, 'nra'),\n",
       " (0.0004203936361137575, 'hear'),\n",
       " (0.0004201474214726432, 'civil'),\n",
       " (0.00041636725119008876, '2020'),\n",
       " (0.0004161400798838651, 'emergency'),\n",
       " (0.0004153770564306772, 'body'),\n",
       " (0.00041523580480124997, 'happy'),\n",
       " (0.0004152333495185239, 'epidemic'),\n",
       " (0.00041401382294880515, 'tell'),\n",
       " (0.00041322771081902756, 'away'),\n",
       " (0.0004127552154944785, 'leadership'),\n",
       " (0.00040912642475179634, 'politics'),\n",
       " (0.00040893989385197083, 'remember'),\n",
       " (0.00040832116176101545, 'instead'),\n",
       " (0.00040602839445238765, 'introduced'),\n",
       " (0.0004060011259789066, 'provide'),\n",
       " (0.0004058027232361037, 'private'),\n",
       " (0.00040557234893801497, 'lobbyist'),\n",
       " (0.00040461367996305815, 'dollar'),\n",
       " (0.0004039894073552009, 'court'),\n",
       " (0.0004023605214029068, 'south'),\n",
       " (0.0004016867507555873, 'wrong'),\n",
       " (0.0004013430082023743, 'heard'),\n",
       " (0.00040050596684521847, 'long'),\n",
       " (0.0004001651564327605, 'use'),\n",
       " (0.0003990142760018159, 'mind'),\n",
       " (0.00039900160149412194, 'including'),\n",
       " (0.0003983533532486378, 'peace'),\n",
       " (0.00039815611747287804, 'survivor'),\n",
       " (0.0003980812799063172, 'discrimination'),\n",
       " (0.00039803481468021464, 'look'),\n",
       " (0.00039682695958005157, 'organizing'),\n",
       " (0.0003961830084208381, 'generation'),\n",
       " (0.0003952362383136995, 'address'),\n",
       " (0.00039466193349003075, 'yesterday'),\n",
       " (0.00039460476916466035, 'hold'),\n",
       " (0.00039379272976842143, 'alone'),\n",
       " (0.000392988638442268, 'share'),\n",
       " (0.0003928935698111228, 'came'),\n",
       " (0.00039206020069687997, 'program'),\n",
       " (0.00039182036208002555, 'effort'),\n",
       " (0.0003916808333707267, 'carolina'),\n",
       " (0.00039105259867231357, 'month'),\n",
       " (0.000390780459449247, 'income'),\n",
       " (0.00039064874512295206, 'night'),\n",
       " (0.0003905259369396606, 'ultramillionairetax'),\n",
       " (0.00038914554034900125, 'corruption'),\n",
       " (0.0003887661705777548, 'heading'),\n",
       " (0.0003867315437018153, 'gap'),\n",
       " (0.00038639203242761945, 'meet'),\n",
       " (0.00038527834479742815, 'strong'),\n",
       " (0.0003833997856628252, 'honor'),\n",
       " (0.00038031929822879415, 'level'),\n",
       " (0.00038006766620759055, 'ready'),\n",
       " (0.00037953478419995796, 'break'),\n",
       " (0.0003793092652045094, 'attorney'),\n",
       " (0.000376626085151057, 'cancer'),\n",
       " (0.00037501992268488795, 'pac'),\n",
       " (0.0003740809819123186, 'vision'),\n",
       " (0.0003714124007980918, 'military'),\n",
       " (0.0003713550058300437, 'division'),\n",
       " (0.0003701957456766257, 'rating'),\n",
       " (0.00036988699909614115, 'interest'),\n",
       " (0.00036908990469540167, 'half'),\n",
       " (0.00036864295549363704, 'sign'),\n",
       " (0.00036856816535105587, 'criminal'),\n",
       " (0.00036761511126033933, 'expand'),\n",
       " (0.00036712690954342783, 'alongside'),\n",
       " (0.00036660694567200534, 'top'),\n",
       " (0.00036279877076270654, 'impeachment'),\n",
       " (0.0003620220362637894, 'cant'),\n",
       " (0.0003615703856251064, 'stage'),\n",
       " (0.0003608999061434284, 'control'),\n",
       " (0.00036038224449454735, 'totally'),\n",
       " (0.0003601033094289076, 'elected'),\n",
       " (0.0003596795147868338, 'universal'),\n",
       " (0.0003587694892815144, 'foreign'),\n",
       " (0.00035724104343056535, 'illegal'),\n",
       " (0.0003539252464937738, 'average'),\n",
       " (0.00035301145217301737, 'rally'),\n",
       " (0.00035282417025155684, 'party'),\n",
       " (0.00035251081236829237, 'moral'),\n",
       " (0.0003518415419780807, 'general'),\n",
       " (0.00035172068878947394, 'basic'),\n",
       " (0.00035147865190468877, 'equality'),\n",
       " (0.00035095059158013177, 'abuse'),\n",
       " (0.00035092498278699915, 'weekend'),\n",
       " (0.0003499790552675297, 'already'),\n",
       " (0.0003489461867214567, 'show'),\n",
       " (0.00034892205833453386, 'socialism'),\n",
       " (0.00034871601126938923, 'around'),\n",
       " (0.0003454226563403185, 'wealthy'),\n",
       " (0.0003450821659254387, 'trade'),\n",
       " (0.00034458880978961514, 'whether'),\n",
       " (0.00034451162399265587, 'puerto'),\n",
       " (0.00034438608621796795, 'happening'),\n",
       " (0.00034383980099025576, 'line'),\n",
       " (0.00034315870535453166, 'member'),\n",
       " (0.00034314478290033997, 'price'),\n",
       " (0.00034267870138689845, 'land'),\n",
       " (0.0003425988057082275, 'social'),\n",
       " (0.00034217986400329704, 'meeting'),\n",
       " (0.00034216969168863304, 'fbi'),\n",
       " (0.00034192298480815217, 'single'),\n",
       " (0.0003411215188797196, 'bottom'),\n",
       " (0.0003410024614907432, 'racial'),\n",
       " (0.0003406486864543395, 'guy'),\n",
       " (0.0003405564605998269, 'food'),\n",
       " (0.00033962620497596084, 'planet'),\n",
       " (0.0003393573210916229, 'least'),\n",
       " (0.00033934268786306844, 'person'),\n",
       " (0.00033928596632364495, 'team'),\n",
       " (0.0003390961022165588, 'society'),\n",
       " (0.000337875813691852, 'high'),\n",
       " (0.00033773399639485204, 'tuitionfree'),\n",
       " (0.00033734332185919206, 'decent'),\n",
       " (0.0003372820430936832, 'agree'),\n",
       " (0.00033608496034699486, 'amazon'),\n",
       " (0.0003358914996061833, 'allow'),\n",
       " (0.00033562141830156356, 'hour_04'),\n",
       " (0.0003342097432576507, 'may'),\n",
       " (0.0003334933511465155, 'citizen'),\n",
       " (0.000333427513405995, 'warren2020'),\n",
       " (0.00033327307804441135, 'de'),\n",
       " (0.00033288326862034376, 'lawrence'),\n",
       " (0.0003326836382276821, 'middleclass'),\n",
       " (0.00033232265067478653, 'respect'),\n",
       " (0.0003321061030785287, 'clean'),\n",
       " (0.00033092327508947215, 'farmer'),\n",
       " (0.0003282098854093667, 'leave'),\n",
       " (0.0003280121964194112, 'question'),\n",
       " (0.000327946580074147, 'benefit'),\n",
       " (0.0003271738833856821, 'left'),\n",
       " (0.0003269953641397808, 'ill'),\n",
       " (0.000326914904344031, 'problem'),\n",
       " (0.00032614352161133435, 'obamacare'),\n",
       " (0.00032612011250435154, 'loved'),\n",
       " (0.00032525170383949096, 'freedom'),\n",
       " (0.00032316331543160554, 'tremendous'),\n",
       " (0.0003225593682140921, 'possible'),\n",
       " (0.000322437560168794, 'reality'),\n",
       " (0.00032240788021719756, 'fix'),\n",
       " (0.00032168298475689235, 'girl'),\n",
       " (0.00032071340741189104, 'massive'),\n",
       " (0.0003205095128350778, 'iran'),\n",
       " (0.00032050663255875106, 'obstruction'),\n",
       " (0.00032042485374756476, 'passed'),\n",
       " (0.00031907526216156306, 'senator'),\n",
       " (0.000317308124022841, 'tomorrow'),\n",
       " (0.00031709719164168827, 'continues'),\n",
       " (0.0003168823584644288, 'looking'),\n",
       " (0.0003162620518377047, 'moment'),\n",
       " (0.00031494285911288806, 'trying'),\n",
       " (0.00031478716529118956, 'face'),\n",
       " (0.00031375178181871754, 'something'),\n",
       " (0.00031281217404336846, 'broken'),\n",
       " (0.00031246930782772317, 'privilege'),\n",
       " (0.00031223272216324903, 'lot'),\n",
       " (0.0003117168340318225, 'four'),\n",
       " (0.0003101528766375123, 'hatred'),\n",
       " (0.0003099731704188355, 'debate'),\n",
       " (0.0003092783350676879, 'someone'),\n",
       " (0.0003083430914379921, 'israel'),\n",
       " (0.0003051611536885069, 'rico'),\n",
       " (0.0003050078775300486, 'check'),\n",
       " (0.0003049626078914143, 'built'),\n",
       " (0.0003047085012207318, 'answer'),\n",
       " (0.00030431376766422105, 'energy'),\n",
       " (0.00030413133512545746, 'domestic'),\n",
       " (0.0003037380190306515, 'special'),\n",
       " (0.00030368842100045, '3'),\n",
       " (0.00030341342923410257, 'soon'),\n",
       " (0.0003028781275475877, 'voting'),\n",
       " (0.0003023672987675134, 'solidarity'),\n",
       " (0.00030141191411915203, 'invest'),\n",
       " (0.00030073158930628806, 'talked'),\n",
       " (0.00029971753383324564, 'contribution'),\n",
       " (0.0002995183474228629, 'fact'),\n",
       " (0.00029908634216525127, 'period'),\n",
       " (0.0002986211166115296, 'decision'),\n",
       " (0.0002978836465302983, 'anyone'),\n",
       " (0.00029778458823401753, 'investigation'),\n",
       " (0.0002977211032293124, 'move'),\n",
       " (0.00029760381608511254, 'presidential'),\n",
       " (0.00029664009726271414, 'demand'),\n",
       " (0.00029651902025985404, '10'),\n",
       " (0.0002964494326427428, 'naacpdetroit'),\n",
       " (0.0002963918299811483, '100'),\n",
       " (0.00029613263667166233, 'talking'),\n",
       " (0.00029495681143006753, 'parent'),\n",
       " (0.00029463034031081495, 'nancy'),\n",
       " (0.00029400968259716084, 'three'),\n",
       " (0.00029345151795755984, 'pharmaceutical'),\n",
       " (0.00029335967395909836, 'treated'),\n",
       " (0.00029291974912148424, 'crooked'),\n",
       " (0.0002918385844844994, 'buy'),\n",
       " (0.00029172069140763983, 'building'),\n",
       " (0.0002912273703873536, 'itsonus'),\n",
       " (0.0002909823906640141, 'men'),\n",
       " (0.00028915039739970316, 'wealthiest'),\n",
       " (0.000288596109175177, 'yemen'),\n",
       " (0.0002884548939043604, 'record'),\n",
       " (0.00028759469564042933, 'disability'),\n",
       " (0.0002875223960822529, 'speaking'),\n",
       " (0.00028668423812895893, 'resource'),\n",
       " (0.0002858427254178062, 'responsibility'),\n",
       " (0.00028482521209482797, 'fought'),\n",
       " (0.00028404956485955787, 'americanpromisetour'),\n",
       " (0.0002839928179485539, 'process'),\n",
       " (0.00028354217839584694, 'word'),\n",
       " (0.0002828042369760374, 'open'),\n",
       " (0.0002825404080722657, 'russia'),\n",
       " (0.00028118614668057204, 'become'),\n",
       " (0.00028076886776493877, 'business'),\n",
       " (0.0002798333513340549, 'educator'),\n",
       " (0.00027978687644823497, 'progressive'),\n",
       " (0.00027929926059761185, '2'),\n",
       " (0.00027824808752959065, 'sexual'),\n",
       " (0.00027801976892751124, 'prescription'),\n",
       " (0.000276564822205712, 'small'),\n",
       " (0.00027514110705088564, 'little'),\n",
       " (0.00027441708489537204, 'city'),\n",
       " (0.0002729613485317132, 'office'),\n",
       " (0.00027257579130475013, 'find'),\n",
       " (0.00027253054636109747, 'giving'),\n",
       " (0.0002724042342776554, 'die'),\n",
       " (0.00027196109662944824, 'seen'),\n",
       " (0.0002705476148001347, 'philadelphia'),\n",
       " (0.0002704238809383156, 'turn'),\n",
       " (0.0002685967984959068, 'finally'),\n",
       " (0.0002669249451062689, 'prime'),\n",
       " (0.00026598970467678324, 'wonderful'),\n",
       " (0.0002656387260885714, 'battle'),\n",
       " (0.0002654177672136015, 'condition'),\n",
       " (0.0002653277519096539, 'whole'),\n",
       " (0.0002649474413242893, 'highquality'),\n",
       " (0.00026494665980603496, 'green'),\n",
       " (0.0002648973564360388, 'prosecute'),\n",
       " (0.0002648477774742342, 'trumpshutdown'),\n",
       " (0.0002646776636332987, 'unacceptable'),\n",
       " (0.0002641816131753027, 'university'),\n",
       " (0.00026413803913617306, 'mom'),\n",
       " (0.00026412252095931143, 'cruel'),\n",
       " (0.00026411797270505096, 'trillion'),\n",
       " (0.000263961204530332, 'restore'),\n",
       " (0.0002638717548216251, 'yet'),\n",
       " (0.00026339840062316363, 'nationwide'),\n",
       " (0.0002633715632011996, 'ballot'),\n",
       " (0.00026239615193571425, 'man'),\n",
       " (0.0002610831185656655, 'reproductive'),\n",
       " (0.00026104585453498477, 'opioid'),\n",
       " (0.0002587038794417364, 'quality'),\n",
       " (0.00025838872588075656, 'force'),\n",
       " (0.0002583661800027295, 'exactly'),\n",
       " (0.00025771203860679983, 'secretary'),\n",
       " (0.0002573100096504805, 'historic'),\n",
       " (0.00025679579232970763, 'longer'),\n",
       " (0.00025651841421147416, 'dreamer'),\n",
       " (0.0002563287067152719, 'return'),\n",
       " (0.0002562792455735204, 'department'),\n",
       " (0.00025600321973529233, 'transgender'),\n",
       " (0.000255518129494442, 'paycheck'),\n",
       " (0.0002546206223907774, 'deeply'),\n",
       " (0.00025347360683813876, 'used'),\n",
       " (0.0002534094966098262, 'shooting'),\n",
       " (0.0002532821536093781, 'hampshire'),\n",
       " (0.0002527816285342985, 'fourthofjuly'),\n",
       " (0.0002519531001745799, 'spend'),\n",
       " (0.00025146977092303037, 'sick'),\n",
       " (0.00025132528394938917, 'york'),\n",
       " (0.00025110986634623586, 'case'),\n",
       " (0.000251003967960665, 'nearly'),\n",
       " (0.00025076579411016864, 'hosting'),\n",
       " (0.00025053868373606746, 'try'),\n",
       " (0.00025050832450387937, 'canada'),\n",
       " (0.0002504015563514858, 'constitutional'),\n",
       " (0.00025024055221280916, 'took'),\n",
       " (0.0002497877922753597, 'run'),\n",
       " (0.00024976357050419815, 'stronger'),\n",
       " (0.0002496807065908766, 'name'),\n",
       " (0.0002494373112656446, 'huge'),\n",
       " (0.0002489897345172597, 'treat'),\n",
       " (0.0002489764001432874, 'happen'),\n",
       " (0.00024870602732791317, 'victim'),\n",
       " (0.0002480452098184351, 'along'),\n",
       " (0.00024751573428200246, 'death'),\n",
       " (0.0002471456218584999, '18'),\n",
       " (0.00024695385355277464, 'culture'),\n",
       " (0.00024679714179819053, 'environment'),\n",
       " (0.0002465705241215153, 'paying'),\n",
       " (0.0002455321097607631, 'choose'),\n",
       " (0.00024516227161730666, 'defend'),\n",
       " (0.00024386625073248564, 'medical'),\n",
       " (0.0002435196841214871, 'badly'),\n",
       " (0.00024268332193406653, 'proceeding'),\n",
       " (0.00024218975795557457, 'terrible'),\n",
       " (0.00024204850375490674, 'relief'),\n",
       " (0.00024204386904686098, 'deserves'),\n",
       " (0.00024170737417715925, 'regardless'),\n",
       " (0.00024130890591617007, 'learn'),\n",
       " (0.0002409591142569697, 'legislation'),\n",
       " (0.00024065413118152246, 'table'),\n",
       " (0.00023938117253374333, 'background'),\n",
       " (0.00023890463519453178, 'perhaps'),\n",
       " (0.00023736415583538984, 'reopen'),\n",
       " (0.0002373071952361038, 'lost'),\n",
       " (0.0002373053292973718, 'reason'),\n",
       " (0.00023700459234979652, 'lie'),\n",
       " (0.00023592089054581093, 'order'),\n",
       " (0.00023586755455073794, 'conversation'),\n",
       " (0.00023493449736647319, 'corrupt'),\n",
       " (0.0002345075853675929, 'suppression'),\n",
       " (0.00023410730581840546, 'almost'),\n",
       " (0.00023295189931284298, 'poor'),\n",
       " (0.00023279181569488521, 'nevada'),\n",
       " (0.00023185077123868253, 'iraq'),\n",
       " (0.0002316553576732345, 'wish'),\n",
       " (0.0002314384186065538, 'weve'),\n",
       " (0.00023113348142738983, 'cancel'),\n",
       " (0.000230938147521822, 'based'),\n",
       " (0.00023064363389286753, 'race'),\n",
       " (0.00023038515685868993, 'low'),\n",
       " (0.00023014902574429544, 'thought'),\n",
       " (0.00022974642808861102, 'environmental'),\n",
       " (0.00022959568921838543, 'celebrate'),\n",
       " (0.00022946712309893696, 'protection'),\n",
       " (0.00022900546346838816, 'core'),\n",
       " (0.0002288169579152441, 'richest'),\n",
       " (0.00022829361945237987, 'kind'),\n",
       " (0.00022749673928724686, 'kim'),\n",
       " (0.0002273512310375449, 'colleague'),\n",
       " (0.00022720672459755923, 'second'),\n",
       " (0.00022718720987452315, 'standing'),\n",
       " (0.00022699784225572008, 'excited'),\n",
       " (0.00022605542882734287, 'character'),\n",
       " (0.00022586222006244463, 'cause'),\n",
       " (0.00022582866282184612, 'called'),\n",
       " (0.00022563954583083954, 'doctor'),\n",
       " (0.00022551207096213488, 'truly'),\n",
       " (0.00022521202862492852, 'fund'),\n",
       " (0.0002251758564205017, 'begin'),\n",
       " (0.0002244800366863259, 'tech'),\n",
       " (0.00022442062971556254, 'loophole'),\n",
       " (0.0002243781997721646, 'youre'),\n",
       " (0.00022373027255967833, 'coverage'),\n",
       " (0.00022328515901050842, 'north'),\n",
       " (0.0002230317976354086, 'decade'),\n",
       " (0.0002230015749475759, 'rate'),\n",
       " (0.00022285324891933663, 'legal'),\n",
       " (0.00022263638281823822, 'deadline'),\n",
       " (0.00022244252479770578, 'held'),\n",
       " (0.00022209259123077917, 'maternal'),\n",
       " (0.00022165677524592213, 'patient'),\n",
       " (0.0002212891049348842, 'activist'),\n",
       " (0.00022059163354343258, 'else'),\n",
       " (0.00021986881270039848, 'save'),\n",
       " (0.00021924244756580156, 'lower'),\n",
       " (0.00021706727485368353, 'ninaturner'),\n",
       " (0.0002168226951625871, 'jail'),\n",
       " (0.00021580242103452272, 'risk'),\n",
       " (0.00021574563277960163, 'side'),\n",
       " (0.00021554398573985149, 'rural'),\n",
       " (0.00021544059395839195, 'protecting'),\n",
       " (0.00021541543944804387, 'individual'),\n",
       " (0.00021497818272685042, 'barr'),\n",
       " (0.0002149073765593879, 'pm'),\n",
       " (0.00021489488333309786, 'difference'),\n",
       " (0.00021471741031754254, 'detention'),\n",
       " (0.0002132152021032078, 'book'),\n",
       " (0.000213196186616503, 'former'),\n",
       " (0.00021272980731677107, 'honored'),\n",
       " (0.00021259713279250526, 'comprehensive'),\n",
       " (0.00021226857889362964, 'rebuild'),\n",
       " (0.000212224527071273, 'priority'),\n",
       " (0.00021207281625936994, 'commitment'),\n",
       " (0.0002117064689225106, 'large'),\n",
       " (0.00021146729950058724, 'growing'),\n",
       " (0.0002112826544547766, 'toward'),\n",
       " (0.00021096150326302334, 'democraticsocialism'),\n",
       " (0.00021076303753101458, 'ive'),\n",
       " (0.0002105346260010079, 'form'),\n",
       " (0.00021024669944435926, 'hoax'),\n",
       " (0.0002101080835964046, 'discus'),\n",
       " (0.0002092033160818647, 'leaving'),\n",
       " (0.00020900964866408058, 'intelligence'),\n",
       " (0.00020883981581864568, 'rising'),\n",
       " (0.00020881926916041732, 'dangerous'),\n",
       " (0.0002085793033240227, 'obama'),\n",
       " (0.0002082003211863644, 'alabama'),\n",
       " (0.00020819445842267865, 'really'),\n",
       " (0.00020791138944394196, 'donation'),\n",
       " (0.00020790557126305776, 'especially'),\n",
       " (0.00020785652947382212, 'liberty'),\n",
       " (0.0002073607228734096, 'understand'),\n",
       " (0.00020692946346434054, 'divide'),\n",
       " (0.00020665204852016487, 'spent'),\n",
       " (0.00020631416740120954, 'started'),\n",
       " (0.00020623425277328843, 'choice'),\n",
       " (0.00020621741749860526, 'killed'),\n",
       " (0.00020535356503558453, 'unconstitutional'),\n",
       " (0.00020461166871330077, 'failed'),\n",
       " (0.0002044752094555065, 'supreme'),\n",
       " (0.000204269708399541, 'hundred'),\n",
       " (0.0002041207526501494, 'ideal'),\n",
       " (0.00020402224900406546, 'backbone'),\n",
       " (0.00020386054128449259, 'project'),\n",
       " (0.00020345073771839482, 'center'),\n",
       " (0.00020310165219597346, 'insulin'),\n",
       " (0.00020301145179938153, 'investment'),\n",
       " (0.0002029850006576099, 'selfie'),\n",
       " (0.00020275679866938712, 'path'),\n",
       " (0.0002022169607746623, 'close'),\n",
       " (0.0002019403873028739, 'please'),\n",
       " (0.00020184240672773855, 'option'),\n",
       " (0.00020172421683376334, 'agenda'),\n",
       " (0.00020144365498779202, 'holding'),\n",
       " (0.00020088985367418586, 'strength'),\n",
       " (0.00020034076194120666, 'god'),\n",
       " (0.00020023108983384703, 'cnn'),\n",
       " (0.00020010350161041578, 'roe'),\n",
       " (0.00019956043463460765, 'korea'),\n",
       " (0.0001988891773840172, 'politician'),\n",
       " (0.0001988843300844777, 'bet'),\n",
       " (0.00019861489408653748, 'extreme'),\n",
       " (0.0001984648856725948, 'statement'),\n",
       " (0.00019771655788243086, 'water'),\n",
       " (0.00019715838134230144, 'attempt'),\n",
       " (0.0001968998583694191, 'five'),\n",
       " (0.00019662433003126448, 'send'),\n",
       " (0.0001966074629677579, 'ohio'),\n",
       " (0.000196541513594717, 'calling'),\n",
       " (0.00019608872103103335, 'financial'),\n",
       " (0.00019502722194856864, 'minister'),\n",
       " (0.00019501042650114117, 'beat'),\n",
       " (0.00019474103330937884, 'charlottesville'),\n",
       " (0.00019409146631005087, 'listen'),\n",
       " (0.00019406327495187278, 'amendment'),\n",
       " (0.00019393566322725285, 'often'),\n",
       " (0.00019362920713166933, 'birthday'),\n",
       " (0.00019279535086967343, 'century'),\n",
       " (0.00019269283176694105, 'serve'),\n",
       " (0.00019206534594268847, 'status'),\n",
       " (0.00019182028386978498, 'pride'),\n",
       " (0.0001918167969761848, 'ending'),\n",
       " (0.00019069526857908134, 'bank'),\n",
       " (0.0001906383080329152, 'fundamental'),\n",
       " (0.00019060958777987144, 'marijuana'),\n",
       " (0.00019046131129063965, 'prison'),\n",
       " (0.00019028121636620513, 'japan'),\n",
       " (0.00018982738100983484, 'challenge'),\n",
       " (0.000189679564098879, 'rep'),\n",
       " (0.0001896040644663975, 'increase'),\n",
       " (0.00018951860406445239, 'follow'),\n",
       " (0.0001894486932504187, 'official'),\n",
       " (0.00018940588829076044, 'hand'),\n",
       " (0.00018922260660499357, 'washingtonpost'),\n",
       " (0.00018913238958424809, 'unite'),\n",
       " (0.0001887853508217004, 'secure'),\n",
       " (0.00018870102014314298, 'actually'),\n",
       " (0.0001886458398795223, 'oakland'),\n",
       " (0.000188570143215072, 'died'),\n",
       " (0.00018831015109865655, 'nuclear'),\n",
       " (0.00018803240510406713, 'fed'),\n",
       " (0.00018724765438830004, '01'),\n",
       " (0.0001871948404111215, 'shameful'),\n",
       " (0.00018716687550758893, '60000'),\n",
       " (0.00018691092565387805, 'hospital'),\n",
       " (0.00018670265126234835, 'older'),\n",
       " (0.00018652647118909686, 'told'),\n",
       " (0.00018640097558469555, 'que'),\n",
       " (0.0001858007379383136, 'treatment'),\n",
       " (0.00018570468844857148, 'missed'),\n",
       " (0.00018546271143085358, 'being'),\n",
       " (0.00018530881945826494, 'los'),\n",
       " (0.00018526795753827353, 'putting'),\n",
       " (0.00018520973023486092, 'went'),\n",
       " (0.00018511994647838558, 'anniversary'),\n",
       " (0.0001850151426463055, 'highcapacity'),\n",
       " (0.00018501184269946203, 'clinton'),\n",
       " (0.00018488744017499645, '5'),\n",
       " (0.00018444486882615, 'spending'),\n",
       " (0.00018440379634890157, 'earth'),\n",
       " (0.0001834110203474285, 'goal'),\n",
       " (0.00018322463721566628, 'personal'),\n",
       " (0.00018321624729987284, 'whitehouse'),\n",
       " (0.00018321231426676754, 'entire'),\n",
       " (0.00018240531692925992, 'immediately'),\n",
       " (0.00018239411711319105, 'gave'),\n",
       " (0.00018229637251579187, 'terrific'),\n",
       " (0.0001817843688668942, 'fast'),\n",
       " (0.00018167897153545653, 'wont'),\n",
       " (0.00018167525074006807, 'supporter'),\n",
       " (0.00018154875568755088, 'group'),\n",
       " (0.00018139612277151107, 'john'),\n",
       " (0.00018061003702570265, 'greennewdeal'),\n",
       " (0.0001803101375363451, 'accept'),\n",
       " (0.0001802022237774976, 'anything'),\n",
       " (0.000179879971718272, 'stake'),\n",
       " (0.00017980010511605538, 'joined'),\n",
       " (0.0001797870647145813, 'didnt'),\n",
       " (0.00017952331737272707, 'massachusetts'),\n",
       " (0.00017948709252671983, 'lose'),\n",
       " (0.00017936800918765688, '50'),\n",
       " (0.00017893152602087704, 'texas'),\n",
       " (0.00017884643629445892, 'reduce'),\n",
       " (0.00017876351694649982, 'recognize'),\n",
       " (0.00017850301863177299, 'complete'),\n",
       " (0.00017832736776795982, 'prevent'),\n",
       " (0.00017793593801328523, 'board'),\n",
       " (0.00017780821380995436, 'rest'),\n",
       " (0.00017763240422605977, 'el'),\n",
       " (0.0001776304773539108, 'example'),\n",
       " (0.00017760639667607428, 'infrastructure'),\n",
       " (0.00017738027063119257, 'early'),\n",
       " (0.00017721606103635436, 'voted'),\n",
       " (0.00017668541388476998, '30'),\n",
       " (0.0001765107694658542, 'equally'),\n",
       " (0.00017574905488601815, 'facebook'),\n",
       " (0.00017538955941981448, 'kick'),\n",
       " (0.0001753649554348909, 'baby'),\n",
       " (0.0001748180243668944, 'liar'),\n",
       " (0.0001745078849467076, 'simple'),\n",
       " (0.0001744208972027084, 'devastating'),\n",
       " (0.00017399438093675286, 'medicaid'),\n",
       " (0.00017394169322839474, 'spoke'),\n",
       " (0.00017381833332538602, 'kamala'),\n",
       " (0.00017376520860840221, 'afternoon'),\n",
       " (0.0001735705245684162, 'bigotry'),\n",
       " (0.00017354884163020082, 'vulnerable'),\n",
       " (0.00017325389554711076, 'worse'),\n",
       " (0.00017317537282335142, 'tragedy'),\n",
       " (0.0001730887206383062, 'mcconnell'),\n",
       " (0.0001724533856563111, 'worth'),\n",
       " (0.00017222857600827002, 'stopped'),\n",
       " (0.00017171950311420072, 'httpstco0gzurtl5gf'),\n",
       " (0.00017165579012861637, 'incarceration'),\n",
       " (0.00017161600345138683, 'alive'),\n",
       " (0.00017155024144687952, 'higher'),\n",
       " (0.0001714729909995848, 'ice'),\n",
       " (0.00017142466688584303, 'la'),\n",
       " (0.00017141981378821845, 'play'),\n",
       " (0.0001710671695189273, 'might'),\n",
       " (0.0001701986086369172, 'v'),\n",
       " (0.0001701983329366343, 'majority'),\n",
       " (0.000170173745419898, 'represent'),\n",
       " (0.00017003786517114853, 'protected'),\n",
       " (0.00017002190148115079, 'brave'),\n",
       " (0.00016957372260567263, 'vanity'),\n",
       " (0.00016921341822263185, 'apart'),\n",
       " (0.00016911551222534247, 'achieve'),\n",
       " (0.00016911162904560836, 'afraid'),\n",
       " (0.00016894140455952136, 'international'),\n",
       " (0.00016869172216860465, 'saw'),\n",
       " (0.00016849137731966553, 'passing'),\n",
       " (0.0001681349071790051, 'mayor'),\n",
       " (0.0001680964424507215, 'et'),\n",
       " (0.00016801894407979676, 'abolish'),\n",
       " (0.00016786067877671686, 'he'),\n",
       " (0.00016774008482096263, 'morning'),\n",
       " (0.00016769489607799688, '2019'),\n",
       " (0.0001674228175843744, 'brooklyn'),\n",
       " (0.00016731562577982482, 'greatest'),\n",
       " (0.00016713266056146223, 'committee'),\n",
       " (0.00016704170052628454, 'bold'),\n",
       " (0.00016698407493385517, 'largest'),\n",
       " (0.00016693684507988236, 'vermont'),\n",
       " (0.00016685244458640935, 'neighbor'),\n",
       " (0.0001668226802545627, 'welcome'),\n",
       " (0.00016671519625123353, 'belief'),\n",
       " (0.00016662372518043127, 'forget'),\n",
       " (0.00016619459440530928, 'labor'),\n",
       " (0.00016609219229758504, 'likely'),\n",
       " (0.0001656108194094493, 'pick'),\n",
       " (0.0001656097859003179, 'ground'),\n",
       " (0.00016508930145200614, 'led'),\n",
       " (0.00016490154457153374, 'urgent'),\n",
       " (0.00016484744274706473, 'magazine'),\n",
       " (0.0001647667207755776, 'multinational'),\n",
       " (0.00016458742571788952, 'ask'),\n",
       " (0.00016458185377057728, 'add'),\n",
       " (0.00016454404952545378, 'common'),\n",
       " (0.00016449927731866375, 'grow'),\n",
       " (0.00016415067662651768, 'tough'),\n",
       " (0.00016381194632164402, 'code'),\n",
       " (0.0001636209181077225, 'asked'),\n",
       " (0.00016349270211752032, 'simply'),\n",
       " (0.00016343509600540338, 'charleston'),\n",
       " (0.00016308933081581265, 'behind'),\n",
       " (0.00016300582255395106, 'involved'),\n",
       " (0.00016297924492607546, 'wrote'),\n",
       " (0.00016295319878128093, 'feel'),\n",
       " (0.00016275090396753204, '99'),\n",
       " (0.00016215121892578527, 'struggling'),\n",
       " (0.00016196579872989532, 'seeing'),\n",
       " ...]"
      ]
     },
     "execution_count": 253,
     "metadata": {},
     "output_type": "execute_result"
    }
   ],
   "source": [
    "sorted(zip(rf_model.feature_importances_, rf_columns_list), reverse=True)"
   ]
  },
  {
   "cell_type": "markdown",
   "metadata": {},
   "source": [
    "# TF-IDF Vectorizer"
   ]
  },
  {
   "cell_type": "code",
   "execution_count": 97,
   "metadata": {},
   "outputs": [],
   "source": [
    "X_tdidf_df = tweets_df[[\"full_text\", \"month\", \"day\", \"hour\", \"retweet_count\", \"favorite_count\"]]\n",
    "X_tdidf_df = pd.get_dummies(X_tdidf_df, columns = [\"month\", \"day\", \"hour\"])"
   ]
  },
  {
   "cell_type": "code",
   "execution_count": 98,
   "metadata": {},
   "outputs": [],
   "source": [
    "from sklearn.feature_extraction.text import TfidfVectorizer\n",
    "\n",
    "# TF-IDF\n",
    "tfidf_vect = TfidfVectorizer(analyzer=clean_text)\n",
    "X_tfidf_vect = tfidf_vect.fit_transform(X_tdidf_df['full_text'])"
   ]
  },
  {
   "cell_type": "code",
   "execution_count": 99,
   "metadata": {},
   "outputs": [],
   "source": [
    "X_tdidf_df.drop(columns = ['full_text'], inplace = True)"
   ]
  },
  {
   "cell_type": "code",
   "execution_count": 100,
   "metadata": {},
   "outputs": [],
   "source": [
    "X_tdidf_df = pd.concat([X_tdidf_df, pd.DataFrame(X_tfidf_vect.toarray(), columns=tfidf_vect.get_feature_names())], axis=1)"
   ]
  },
  {
   "cell_type": "code",
   "execution_count": 101,
   "metadata": {},
   "outputs": [
    {
     "data": {
      "text/plain": [
       "(10520, 20445)"
      ]
     },
     "execution_count": 101,
     "metadata": {},
     "output_type": "execute_result"
    }
   ],
   "source": [
    "X_tdidf_df.shape"
   ]
  },
  {
   "cell_type": "code",
   "execution_count": 102,
   "metadata": {},
   "outputs": [],
   "source": [
    "data_y_idf = tweets_df.values\n",
    "data_x_idf = X_tdidf_df.values\n",
    "X_count_idf = data_x_idf[:, 0:]\n",
    "y_count_idf = data_y_idf[:,0]"
   ]
  },
  {
   "cell_type": "code",
   "execution_count": 103,
   "metadata": {},
   "outputs": [
    {
     "data": {
      "text/plain": [
       "array([[9.3800e+02, 4.1340e+03, 0.0000e+00, ..., 0.0000e+00, 0.0000e+00,\n",
       "        0.0000e+00],\n",
       "       [1.7300e+02, 7.9000e+02, 0.0000e+00, ..., 0.0000e+00, 0.0000e+00,\n",
       "        0.0000e+00],\n",
       "       [7.1200e+02, 4.3760e+03, 0.0000e+00, ..., 0.0000e+00, 0.0000e+00,\n",
       "        0.0000e+00],\n",
       "       ...,\n",
       "       [7.4100e+02, 2.0234e+04, 0.0000e+00, ..., 0.0000e+00, 0.0000e+00,\n",
       "        0.0000e+00],\n",
       "       [1.8289e+04, 6.8718e+04, 0.0000e+00, ..., 0.0000e+00, 0.0000e+00,\n",
       "        0.0000e+00],\n",
       "       [1.1000e+01, 7.4000e+01, 0.0000e+00, ..., 0.0000e+00, 0.0000e+00,\n",
       "        0.0000e+00]])"
      ]
     },
     "execution_count": 103,
     "metadata": {},
     "output_type": "execute_result"
    }
   ],
   "source": [
    "X_count_idf"
   ]
  },
  {
   "cell_type": "code",
   "execution_count": 104,
   "metadata": {},
   "outputs": [
    {
     "data": {
      "text/plain": [
       "(10520, 20445)"
      ]
     },
     "execution_count": 104,
     "metadata": {},
     "output_type": "execute_result"
    }
   ],
   "source": [
    "X_count_idf.shape"
   ]
  },
  {
   "cell_type": "code",
   "execution_count": 105,
   "metadata": {},
   "outputs": [
    {
     "data": {
      "text/plain": [
       "array(['Joe Biden', 'Joe Biden', 'Joe Biden', ..., 'Elizabeth Warren',\n",
       "       'Elizabeth Warren', 'Elizabeth Warren'], dtype=object)"
      ]
     },
     "execution_count": 105,
     "metadata": {},
     "output_type": "execute_result"
    }
   ],
   "source": [
    "y_count_idf"
   ]
  },
  {
   "cell_type": "code",
   "execution_count": 106,
   "metadata": {},
   "outputs": [],
   "source": [
    "X_count_idf_sparse = csr_matrix(X_count_idf)"
   ]
  },
  {
   "cell_type": "markdown",
   "metadata": {},
   "source": [
    "## Train-Test-Split/Label-Encoding (Grid Search)\n"
   ]
  },
  {
   "cell_type": "code",
   "execution_count": 107,
   "metadata": {},
   "outputs": [],
   "source": [
    "X_train_idf_cv, X_test_idf_cv, y_train_idf_cv, y_test_idf_cv = train_test_split(X_count_idf_sparse, \n",
    "                                                                y_count_idf, random_state=42,\n",
    "                                                               train_size = 0.9,\n",
    "                                                               shuffle = True)"
   ]
  },
  {
   "cell_type": "code",
   "execution_count": 108,
   "metadata": {},
   "outputs": [],
   "source": [
    "X_scaler_idf_cv = MaxAbsScaler().fit(X_train_idf_cv)"
   ]
  },
  {
   "cell_type": "code",
   "execution_count": 110,
   "metadata": {},
   "outputs": [],
   "source": [
    "X_train_scaled_idf_cv = X_scaler_idf_cv.transform(X_train_idf_cv)\n",
    "X_test_scaled_idf_cv = X_scaler_idf_cv.transform(X_test_idf_cv)"
   ]
  },
  {
   "cell_type": "code",
   "execution_count": 76,
   "metadata": {},
   "outputs": [],
   "source": [
    "min_samples_leafs = list(np.linspace(.01, 0.5, 20, endpoint = True))"
   ]
  },
  {
   "cell_type": "code",
   "execution_count": 77,
   "metadata": {},
   "outputs": [],
   "source": [
    "train_results = []\n",
    "test_results = []\n",
    "for min_samples_leaf in min_samples_leafs:\n",
    "    rf = RandomForestClassifier(min_samples_leaf=min_samples_leaf, n_jobs=-1)\n",
    "    rf.fit(X_train_scaled, encoded_y_train)\n",
    "\n",
    "    train_results.append(rf.score(X_train_scaled, encoded_y_train))\n",
    "    test_results.append(rf.score(X_test_scaled, encoded_y_test))"
   ]
  },
  {
   "cell_type": "code",
   "execution_count": 111,
   "metadata": {},
   "outputs": [],
   "source": [
    "# Step 1: Label-encode data set\n",
    "label_encoder_idf_cv = LabelEncoder()\n",
    "label_encoder_idf_cv.fit(y_train_idf_cv)\n",
    "\n",
    "encoded_y_train_idf_cv = label_encoder_idf_cv.transform(y_train_idf_cv)\n",
    "encoded_y_test_idf_cv = label_encoder_idf_cv.transform(y_test_idf_cv)"
   ]
  },
  {
   "cell_type": "code",
   "execution_count": 112,
   "metadata": {},
   "outputs": [],
   "source": [
    "encoded_y_train_idf_cv = encoded_y_train_idf_cv.reshape(-1, 1)\n",
    "encoded_y_test_idf_cv = encoded_y_test_idf_cv.reshape(-1, 1)"
   ]
  },
  {
   "cell_type": "markdown",
   "metadata": {},
   "source": [
    "# TF-IDF Vectorizer"
   ]
  },
  {
   "cell_type": "markdown",
   "metadata": {},
   "source": [
    "## Train-Test-Split/Label-Encoding (In-Depth Parameter Tuning)"
   ]
  },
  {
   "cell_type": "code",
   "execution_count": 113,
   "metadata": {},
   "outputs": [],
   "source": [
    "X_train_idf, X_test_idf, y_train_idf, y_test_idf = train_test_split(X_count_idf_sparse, y_count_idf, random_state=42,\n",
    "                                                                   shuffle = True)"
   ]
  },
  {
   "cell_type": "code",
   "execution_count": 114,
   "metadata": {},
   "outputs": [],
   "source": [
    "X_scaler_idf = MaxAbsScaler().fit(X_train_idf)"
   ]
  },
  {
   "cell_type": "code",
   "execution_count": 115,
   "metadata": {},
   "outputs": [],
   "source": [
    "X_train_scaled_idf = X_scaler_idf.transform(X_train_idf)\n",
    "X_test_scaled_idf = X_scaler_idf.transform(X_test_idf)"
   ]
  },
  {
   "cell_type": "code",
   "execution_count": 116,
   "metadata": {},
   "outputs": [],
   "source": [
    "# Step 1: Label-encode data set\n",
    "label_encoder_idf = LabelEncoder()\n",
    "label_encoder_idf.fit(y_train_idf)\n",
    "\n",
    "encoded_y_train_idf = label_encoder_idf.transform(y_train_idf)\n",
    "encoded_y_test_idf = label_encoder_idf.transform(y_test_idf)"
   ]
  },
  {
   "cell_type": "code",
   "execution_count": 117,
   "metadata": {},
   "outputs": [],
   "source": [
    "encoded_y_train_idf = encoded_y_train_idf.reshape(-1, 1)\n",
    "encoded_y_test_idf = encoded_y_test_idf.reshape(-1, 1)"
   ]
  },
  {
   "cell_type": "markdown",
   "metadata": {},
   "source": [
    "## In-Depth Parameter Tuning"
   ]
  },
  {
   "cell_type": "markdown",
   "metadata": {},
   "source": [
    "## N-Estimators (TF-IDF Vectorizer)"
   ]
  },
  {
   "cell_type": "code",
   "execution_count": 118,
   "metadata": {},
   "outputs": [],
   "source": [
    "n_estimators = [1, 2, 4, 8, 16, 32, 64, 100, 150, 200, 300]\n",
    "\n",
    "train_results = []\n",
    "test_results = []\n",
    "\n",
    "for estimator in n_estimators:\n",
    "    rf = RandomForestClassifier(n_estimators=estimator, n_jobs=-1)\n",
    "    rf.fit(X_train_scaled_idf, encoded_y_train_idf)\n",
    "\n",
    "    train_results.append(rf.score(X_train_scaled_idf, encoded_y_train_idf))\n",
    "    test_results.append(rf.score(X_test_scaled_idf, encoded_y_test_idf))"
   ]
  },
  {
   "cell_type": "code",
   "execution_count": 119,
   "metadata": {},
   "outputs": [
    {
     "data": {
      "image/png": "[encoded data removed]",
      "text/plain": [
       "<Figure size 432x288 with 1 Axes>"
      ]
     },
     "metadata": {
      "needs_background": "light"
     },
     "output_type": "display_data"
    }
   ],
   "source": [
    "line1, = plt.plot(n_estimators, train_results, 'b', label=\"Train\")\n",
    "line2, = plt.plot(n_estimators, test_results, 'r', label=\"Test\")\n",
    "\n",
    "plt.legend(handler_map={line1: HandlerLine2D(numpoints=2)})\n",
    "\n",
    "plt.ylabel('RF score')\n",
    "plt.xlabel('n_estimators')\n",
    "plt.show()"
   ]
  },
  {
   "cell_type": "code",
   "execution_count": 120,
   "metadata": {},
   "outputs": [],
   "source": [
    "# Best: n-estimators=150 (10 - 250)"
   ]
  },
  {
   "cell_type": "markdown",
   "metadata": {},
   "source": [
    "## Max-Depth (TF-IDF Vectorizer)"
   ]
  },
  {
   "cell_type": "code",
   "execution_count": 121,
   "metadata": {},
   "outputs": [],
   "source": [
    "max_depths = list(np.linspace(1, 90, 90, endpoint=True))"
   ]
  },
  {
   "cell_type": "code",
   "execution_count": 122,
   "metadata": {},
   "outputs": [],
   "source": [
    "train_results = []\n",
    "test_results = []\n",
    "for max_depth in max_depths:\n",
    "    rf = RandomForestClassifier(max_depth=max_depth, n_jobs=-1)\n",
    "    rf.fit(X_train_scaled_idf, encoded_y_train_idf)\n",
    "\n",
    "    train_results.append(rf.score(X_train_scaled_idf, encoded_y_train_idf))\n",
    "    test_results.append(rf.score(X_test_scaled_idf, encoded_y_test_idf))"
   ]
  },
  {
   "cell_type": "code",
   "execution_count": 123,
   "metadata": {},
   "outputs": [
    {
     "data": {
      "image/png": "[encoded data removed]",
      "text/plain": [
       "<Figure size 432x288 with 1 Axes>"
      ]
     },
     "metadata": {
      "needs_background": "light"
     },
     "output_type": "display_data"
    }
   ],
   "source": [
    "line1, = plt.plot(max_depths, train_results, 'b', label=\"Train\")\n",
    "line2, = plt.plot(max_depths, test_results, 'r', label=\"Test\")\n",
    "\n",
    "plt.legend(handler_map={line1: HandlerLine2D(numpoints=2)})\n",
    "\n",
    "plt.ylabel('RF score')\n",
    "plt.xlabel('max_depths')\n",
    "plt.show()"
   ]
  },
  {
   "cell_type": "code",
   "execution_count": 124,
   "metadata": {},
   "outputs": [],
   "source": [
    "#Best: max_depth= 8 (2-12)"
   ]
  },
  {
   "cell_type": "markdown",
   "metadata": {},
   "source": [
    "## Min_samples_split (TF-IDF Vectorizer)"
   ]
  },
  {
   "cell_type": "code",
   "execution_count": 125,
   "metadata": {},
   "outputs": [],
   "source": [
    "min_samples_splits = list(np.linspace(0.1, 1.0, 10, endpoint=True))"
   ]
  },
  {
   "cell_type": "code",
   "execution_count": 126,
   "metadata": {},
   "outputs": [],
   "source": [
    "train_results = []\n",
    "test_results = []\n",
    "for min_samples_split in min_samples_splits:\n",
    "    rf = RandomForestClassifier(min_samples_split=min_samples_split, n_jobs=-1)\n",
    "    rf.fit(X_train_scaled_idf, encoded_y_train_idf)\n",
    "\n",
    "    train_results.append(rf.score(X_train_scaled_idf, encoded_y_train_idf))\n",
    "    test_results.append(rf.score(X_test_scaled_idf, encoded_y_test_idf))"
   ]
  },
  {
   "cell_type": "code",
   "execution_count": 127,
   "metadata": {},
   "outputs": [
    {
     "data": {
      "image/png": "[encoded data removed]",
      "text/plain": [
       "<Figure size 432x288 with 1 Axes>"
      ]
     },
     "metadata": {
      "needs_background": "light"
     },
     "output_type": "display_data"
    }
   ],
   "source": [
    "line1, = plt.plot(min_samples_splits, train_results, 'b', label=\"Train\")\n",
    "line2, = plt.plot(min_samples_splits, test_results, 'r', label=\"Test\")\n",
    "\n",
    "plt.legend(handler_map={line1: HandlerLine2D(numpoints=2)})\n",
    "\n",
    "plt.ylabel('RF score')\n",
    "plt.xlabel('min_samples_split')\n",
    "plt.show()"
   ]
  },
  {
   "cell_type": "code",
   "execution_count": 128,
   "metadata": {},
   "outputs": [],
   "source": [
    "# Best: min_samples_split=2"
   ]
  },
  {
   "cell_type": "markdown",
   "metadata": {},
   "source": [
    "## Min_samples_leaf (TF-IDF Vectorizer)"
   ]
  },
  {
   "cell_type": "code",
   "execution_count": 129,
   "metadata": {},
   "outputs": [],
   "source": [
    "min_samples_leafs = list(np.linspace(.01, 0.5, 20, endpoint = True))"
   ]
  },
  {
   "cell_type": "code",
   "execution_count": 130,
   "metadata": {},
   "outputs": [],
   "source": [
    "train_results = []\n",
    "test_results = []\n",
    "for min_samples_leaf in min_samples_leafs:\n",
    "    rf = RandomForestClassifier(min_samples_leaf=min_samples_leaf, n_jobs=-1)\n",
    "    rf.fit(X_train_scaled_idf, encoded_y_train_idf)\n",
    "\n",
    "    train_results.append(rf.score(X_train_scaled_idf, encoded_y_train_idf))\n",
    "    test_results.append(rf.score(X_test_scaled_idf, encoded_y_test_idf))"
   ]
  },
  {
   "cell_type": "code",
   "execution_count": 131,
   "metadata": {},
   "outputs": [
    {
     "data": {
      "image/png": "[encoded data removed]",
      "text/plain": [
       "<Figure size 432x288 with 1 Axes>"
      ]
     },
     "metadata": {
      "needs_background": "light"
     },
     "output_type": "display_data"
    }
   ],
   "source": [
    "line1, = plt.plot(min_samples_leafs, train_results, 'b', label=\"Train\")\n",
    "line2, = plt.plot(min_samples_leafs, test_results, 'r', label=\"Test\")\n",
    "\n",
    "plt.legend(handler_map={line1: HandlerLine2D(numpoints=2)})\n",
    "\n",
    "plt.ylabel('RF score')\n",
    "plt.xlabel('min_samples_leaf')\n",
    "plt.show()"
   ]
  },
  {
   "cell_type": "code",
   "execution_count": 132,
   "metadata": {},
   "outputs": [],
   "source": [
    "#Best: min_samples_leaf = 1"
   ]
  },
  {
   "cell_type": "markdown",
   "metadata": {},
   "source": [
    "## Max_Features (TF-IDF Vectorizer)"
   ]
  },
  {
   "cell_type": "code",
   "execution_count": 133,
   "metadata": {},
   "outputs": [],
   "source": [
    "max_features_list = list(range(1, 3000, 100))"
   ]
  },
  {
   "cell_type": "code",
   "execution_count": 134,
   "metadata": {},
   "outputs": [],
   "source": [
    "train_results = []\n",
    "test_results = []\n",
    "for max_features in max_features_list:\n",
    "    rf = RandomForestClassifier(max_features=max_features, n_jobs=-1)\n",
    "    rf.fit(X_train_scaled_idf, encoded_y_train_idf)\n",
    "    \n",
    "    train_results.append(rf.score(X_train_scaled_idf, encoded_y_train_idf))\n",
    "    test_results.append(rf.score(X_test_scaled_idf, encoded_y_test_idf))"
   ]
  },
  {
   "cell_type": "code",
   "execution_count": 135,
   "metadata": {},
   "outputs": [
    {
     "data": {
      "image/png": "[encoded data removed]",
      "text/plain": [
       "<Figure size 432x288 with 1 Axes>"
      ]
     },
     "metadata": {
      "needs_background": "light"
     },
     "output_type": "display_data"
    }
   ],
   "source": [
    "line1, = plt.plot(max_features_list, train_results, 'b', label=\"Train\")\n",
    "line2, = plt.plot(max_features_list, test_results, 'r', label=\"Test\")\n",
    "\n",
    "plt.legend(handler_map={line1: HandlerLine2D(numpoints=2)})\n",
    "\n",
    "plt.ylabel('RF score')\n",
    "plt.xlabel('max_features')\n",
    "plt.show()"
   ]
  },
  {
   "cell_type": "code",
   "execution_count": 136,
   "metadata": {},
   "outputs": [],
   "source": [
    "#Best: max_features=200 (100-300)"
   ]
  },
  {
   "cell_type": "markdown",
   "metadata": {},
   "source": [
    "## In-Depth Parameter Tuning Scoring (TF-IDF Vectorizer)"
   ]
  },
  {
   "cell_type": "code",
   "execution_count": 137,
   "metadata": {},
   "outputs": [
    {
     "data": {
      "text/plain": [
       "0.5338403041825095"
      ]
     },
     "execution_count": 137,
     "metadata": {},
     "output_type": "execute_result"
    }
   ],
   "source": [
    "# Create a random forest classifier\n",
    "rf = RandomForestClassifier(n_estimators=150, max_depth=8, min_samples_split = 2,\n",
    "                           min_samples_leaf = 1, max_features = 250)\n",
    "rf = rf.fit(X_train_scaled_idf, encoded_y_train_idf)\n",
    "rf.score(X_test_scaled_idf, encoded_y_test_idf)"
   ]
  },
  {
   "cell_type": "markdown",
   "metadata": {},
   "source": [
    "## Grid Search (TF-IDF Vectorizer)"
   ]
  },
  {
   "cell_type": "code",
   "execution_count": 139,
   "metadata": {},
   "outputs": [
    {
     "data": {
      "text/plain": [
       "[2, 4, 6, 8, 10, 12, 14, 16, 18, None]"
      ]
     },
     "execution_count": 139,
     "metadata": {},
     "output_type": "execute_result"
    }
   ],
   "source": [
    "max_depth_gs = list(range(2, 20, 2))\n",
    "max_depth_gs.append(None)\n",
    "max_depth_gs"
   ]
  },
  {
   "cell_type": "code",
   "execution_count": 140,
   "metadata": {},
   "outputs": [
    {
     "name": "stdout",
     "output_type": "stream",
     "text": [
      "Fitting 5 folds for each of 1210 candidates, totalling 6050 fits\n"
     ]
    },
    {
     "name": "stderr",
     "output_type": "stream",
     "text": [
      "[Parallel(n_jobs=-1)]: Using backend LokyBackend with 8 concurrent workers.\n",
      "[Parallel(n_jobs=-1)]: Done  25 tasks      | elapsed:    4.9s\n",
      "[Parallel(n_jobs=-1)]: Done 146 tasks      | elapsed:   22.8s\n",
      "[Parallel(n_jobs=-1)]: Done 349 tasks      | elapsed:   58.3s\n",
      "[Parallel(n_jobs=-1)]: Done 632 tasks      | elapsed:  1.9min\n",
      "[Parallel(n_jobs=-1)]: Done 997 tasks      | elapsed:  3.5min\n",
      "[Parallel(n_jobs=-1)]: Done 1442 tasks      | elapsed:  5.8min\n",
      "[Parallel(n_jobs=-1)]: Done 1969 tasks      | elapsed:  9.3min\n",
      "[Parallel(n_jobs=-1)]: Done 2576 tasks      | elapsed: 14.3min\n",
      "[Parallel(n_jobs=-1)]: Done 3265 tasks      | elapsed: 21.1min\n",
      "[Parallel(n_jobs=-1)]: Done 4034 tasks      | elapsed: 31.5min\n",
      "[Parallel(n_jobs=-1)]: Done 4885 tasks      | elapsed: 44.9min\n",
      "[Parallel(n_jobs=-1)]: Done 5816 tasks      | elapsed: 93.5min\n",
      "[Parallel(n_jobs=-1)]: Done 6050 out of 6050 | elapsed: 117.8min finished\n"
     ]
    },
    {
     "data": {
      "text/html": [
       "<div>\n",
       "<style scoped>\n",
       "    .dataframe tbody tr th:only-of-type {\n",
       "        vertical-align: middle;\n",
       "    }\n",
       "\n",
       "    .dataframe tbody tr th {\n",
       "        vertical-align: top;\n",
       "    }\n",
       "\n",
       "    .dataframe thead th {\n",
       "        text-align: right;\n",
       "    }\n",
       "</style>\n",
       "<table border=\"1\" class=\"dataframe\">\n",
       "  <thead>\n",
       "    <tr style=\"text-align: right;\">\n",
       "      <th></th>\n",
       "      <th>mean_fit_time</th>\n",
       "      <th>std_fit_time</th>\n",
       "      <th>mean_score_time</th>\n",
       "      <th>std_score_time</th>\n",
       "      <th>param_max_depth</th>\n",
       "      <th>param_max_features</th>\n",
       "      <th>param_n_estimators</th>\n",
       "      <th>params</th>\n",
       "      <th>split0_test_score</th>\n",
       "      <th>split1_test_score</th>\n",
       "      <th>...</th>\n",
       "      <th>mean_test_score</th>\n",
       "      <th>std_test_score</th>\n",
       "      <th>rank_test_score</th>\n",
       "      <th>split0_train_score</th>\n",
       "      <th>split1_train_score</th>\n",
       "      <th>split2_train_score</th>\n",
       "      <th>split3_train_score</th>\n",
       "      <th>split4_train_score</th>\n",
       "      <th>mean_train_score</th>\n",
       "      <th>std_train_score</th>\n",
       "    </tr>\n",
       "  </thead>\n",
       "  <tbody>\n",
       "    <tr>\n",
       "      <th>1099</th>\n",
       "      <td>90.682376</td>\n",
       "      <td>5.896368</td>\n",
       "      <td>0.576653</td>\n",
       "      <td>0.108677</td>\n",
       "      <td>None</td>\n",
       "      <td>100</td>\n",
       "      <td>250</td>\n",
       "      <td>{'max_depth': None, 'max_features': 100, 'n_estimators': 250}</td>\n",
       "      <td>0.747757</td>\n",
       "      <td>0.765172</td>\n",
       "      <td>...</td>\n",
       "      <td>0.751267</td>\n",
       "      <td>0.007613</td>\n",
       "      <td>1</td>\n",
       "      <td>1.0</td>\n",
       "      <td>1.0</td>\n",
       "      <td>1.0</td>\n",
       "      <td>1.0</td>\n",
       "      <td>1.0</td>\n",
       "      <td>1.0</td>\n",
       "      <td>0.0</td>\n",
       "    </tr>\n",
       "    <tr>\n",
       "      <th>1109</th>\n",
       "      <td>78.301259</td>\n",
       "      <td>4.406743</td>\n",
       "      <td>0.477323</td>\n",
       "      <td>0.089848</td>\n",
       "      <td>None</td>\n",
       "      <td>120</td>\n",
       "      <td>226</td>\n",
       "      <td>{'max_depth': None, 'max_features': 120, 'n_estimators': 226}</td>\n",
       "      <td>0.748813</td>\n",
       "      <td>0.765172</td>\n",
       "      <td>...</td>\n",
       "      <td>0.749894</td>\n",
       "      <td>0.008875</td>\n",
       "      <td>2</td>\n",
       "      <td>1.0</td>\n",
       "      <td>1.0</td>\n",
       "      <td>1.0</td>\n",
       "      <td>1.0</td>\n",
       "      <td>1.0</td>\n",
       "      <td>1.0</td>\n",
       "      <td>0.0</td>\n",
       "    </tr>\n",
       "    <tr>\n",
       "      <th>1121</th>\n",
       "      <td>96.928682</td>\n",
       "      <td>8.471812</td>\n",
       "      <td>0.528389</td>\n",
       "      <td>0.060901</td>\n",
       "      <td>None</td>\n",
       "      <td>140</td>\n",
       "      <td>250</td>\n",
       "      <td>{'max_depth': None, 'max_features': 140, 'n_estimators': 250}</td>\n",
       "      <td>0.748813</td>\n",
       "      <td>0.758311</td>\n",
       "      <td>...</td>\n",
       "      <td>0.749155</td>\n",
       "      <td>0.004986</td>\n",
       "      <td>3</td>\n",
       "      <td>1.0</td>\n",
       "      <td>1.0</td>\n",
       "      <td>1.0</td>\n",
       "      <td>1.0</td>\n",
       "      <td>1.0</td>\n",
       "      <td>1.0</td>\n",
       "      <td>0.0</td>\n",
       "    </tr>\n",
       "    <tr>\n",
       "      <th>1098</th>\n",
       "      <td>82.389259</td>\n",
       "      <td>4.882207</td>\n",
       "      <td>0.460768</td>\n",
       "      <td>0.029015</td>\n",
       "      <td>None</td>\n",
       "      <td>100</td>\n",
       "      <td>226</td>\n",
       "      <td>{'max_depth': None, 'max_features': 100, 'n_estimators': 226}</td>\n",
       "      <td>0.744591</td>\n",
       "      <td>0.760422</td>\n",
       "      <td>...</td>\n",
       "      <td>0.748416</td>\n",
       "      <td>0.006573</td>\n",
       "      <td>4</td>\n",
       "      <td>1.0</td>\n",
       "      <td>1.0</td>\n",
       "      <td>1.0</td>\n",
       "      <td>1.0</td>\n",
       "      <td>1.0</td>\n",
       "      <td>1.0</td>\n",
       "      <td>0.0</td>\n",
       "    </tr>\n",
       "    <tr>\n",
       "      <th>1097</th>\n",
       "      <td>76.884448</td>\n",
       "      <td>4.215021</td>\n",
       "      <td>0.452987</td>\n",
       "      <td>0.029461</td>\n",
       "      <td>None</td>\n",
       "      <td>100</td>\n",
       "      <td>202</td>\n",
       "      <td>{'max_depth': None, 'max_features': 100, 'n_estimators': 202}</td>\n",
       "      <td>0.745119</td>\n",
       "      <td>0.755145</td>\n",
       "      <td>...</td>\n",
       "      <td>0.747676</td>\n",
       "      <td>0.004125</td>\n",
       "      <td>5</td>\n",
       "      <td>1.0</td>\n",
       "      <td>1.0</td>\n",
       "      <td>1.0</td>\n",
       "      <td>1.0</td>\n",
       "      <td>1.0</td>\n",
       "      <td>1.0</td>\n",
       "      <td>0.0</td>\n",
       "    </tr>\n",
       "  </tbody>\n",
       "</table>\n",
       "<p>5 rows × 23 columns</p>\n",
       "</div>"
      ],
      "text/plain": [
       "      mean_fit_time  std_fit_time  mean_score_time  std_score_time  \\\n",
       "1099      90.682376      5.896368         0.576653        0.108677   \n",
       "1109      78.301259      4.406743         0.477323        0.089848   \n",
       "1121      96.928682      8.471812         0.528389        0.060901   \n",
       "1098      82.389259      4.882207         0.460768        0.029015   \n",
       "1097      76.884448      4.215021         0.452987        0.029461   \n",
       "\n",
       "     param_max_depth param_max_features param_n_estimators  \\\n",
       "1099            None                100                250   \n",
       "1109            None                120                226   \n",
       "1121            None                140                250   \n",
       "1098            None                100                226   \n",
       "1097            None                100                202   \n",
       "\n",
       "                                                             params  \\\n",
       "1099  {'max_depth': None, 'max_features': 100, 'n_estimators': 250}   \n",
       "1109  {'max_depth': None, 'max_features': 120, 'n_estimators': 226}   \n",
       "1121  {'max_depth': None, 'max_features': 140, 'n_estimators': 250}   \n",
       "1098  {'max_depth': None, 'max_features': 100, 'n_estimators': 226}   \n",
       "1097  {'max_depth': None, 'max_features': 100, 'n_estimators': 202}   \n",
       "\n",
       "      split0_test_score  split1_test_score       ...         mean_test_score  \\\n",
       "1099           0.747757           0.765172       ...                0.751267   \n",
       "1109           0.748813           0.765172       ...                0.749894   \n",
       "1121           0.748813           0.758311       ...                0.749155   \n",
       "1098           0.744591           0.760422       ...                0.748416   \n",
       "1097           0.745119           0.755145       ...                0.747676   \n",
       "\n",
       "      std_test_score  rank_test_score  split0_train_score  split1_train_score  \\\n",
       "1099        0.007613                1                 1.0                 1.0   \n",
       "1109        0.008875                2                 1.0                 1.0   \n",
       "1121        0.004986                3                 1.0                 1.0   \n",
       "1098        0.006573                4                 1.0                 1.0   \n",
       "1097        0.004125                5                 1.0                 1.0   \n",
       "\n",
       "      split2_train_score  split3_train_score  split4_train_score  \\\n",
       "1099                 1.0                 1.0                 1.0   \n",
       "1109                 1.0                 1.0                 1.0   \n",
       "1121                 1.0                 1.0                 1.0   \n",
       "1098                 1.0                 1.0                 1.0   \n",
       "1097                 1.0                 1.0                 1.0   \n",
       "\n",
       "      mean_train_score  std_train_score  \n",
       "1099               1.0              0.0  \n",
       "1109               1.0              0.0  \n",
       "1121               1.0              0.0  \n",
       "1098               1.0              0.0  \n",
       "1097               1.0              0.0  \n",
       "\n",
       "[5 rows x 23 columns]"
      ]
     },
     "execution_count": 140,
     "metadata": {},
     "output_type": "execute_result"
    }
   ],
   "source": [
    "rf = RandomForestClassifier()\n",
    "param = {'n_estimators': list(range(10, 251, 24)),\n",
    "        'max_depth': max_depth_gs,\n",
    "         'max_features': list(range(100, 301, 20))\n",
    "        }\n",
    "\n",
    "gs = GridSearchCV(rf, param, cv=5, n_jobs=-1, verbose = 2)# n_jobs=-1 for parallelizing search\n",
    "gs_fit = gs.fit(X_train_scaled_idf_cv, encoded_y_train_idf_cv)\n",
    "pd.DataFrame(gs_fit.cv_results_).sort_values('mean_test_score', ascending=False).head()"
   ]
  },
  {
   "cell_type": "code",
   "execution_count": 141,
   "metadata": {},
   "outputs": [
    {
     "data": {
      "text/plain": [
       "0.7452471482889734"
      ]
     },
     "execution_count": 141,
     "metadata": {},
     "output_type": "execute_result"
    }
   ],
   "source": [
    "# Create a random forest classifier\n",
    "rf = RandomForestClassifier(n_estimators=250, max_depth=None, min_samples_split = 2,\n",
    "                           min_samples_leaf = 1, max_features = 100)\n",
    "rf = rf.fit(X_train_scaled_idf_cv, encoded_y_train_idf_cv)\n",
    "rf.score(X_test_scaled_idf_cv, encoded_y_test_idf_cv)"
   ]
  }
 ],
 "metadata": {
  "kernelspec": {
   "display_name": "Python 3",
   "language": "python",
   "name": "python3"
  },
  "language_info": {
   "codemirror_mode": {
    "name": "ipython",
    "version": 3
   },
   "file_extension": ".py",
   "mimetype": "text/x-python",
   "name": "python",
   "nbconvert_exporter": "python",
   "pygments_lexer": "ipython3",
   "version": "3.7.1"
  }
 },
 "nbformat": 4,
 "nbformat_minor": 2
}
