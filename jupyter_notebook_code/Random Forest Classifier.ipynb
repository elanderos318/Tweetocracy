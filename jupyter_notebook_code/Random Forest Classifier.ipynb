{
 "cells": [
  {
   "cell_type": "code",
   "execution_count": 1,
   "metadata": {},
   "outputs": [],
   "source": [
    "import pandas as pd\n",
    "import numpy as np"
   ]
  },
  {
   "cell_type": "code",
   "execution_count": 2,
   "metadata": {},
   "outputs": [],
   "source": [
    "from sqlalchemy import create_engine"
   ]
  },
  {
   "cell_type": "code",
   "execution_count": 3,
   "metadata": {},
   "outputs": [],
   "source": [
    "import datetime as dt"
   ]
  },
  {
   "cell_type": "code",
   "execution_count": 4,
   "metadata": {},
   "outputs": [],
   "source": [
    "engine = create_engine(\"sqlite:///../db/twitter_db.sqlite\")\n",
    "conn = engine.connect()"
   ]
  },
  {
   "cell_type": "code",
   "execution_count": 5,
   "metadata": {},
   "outputs": [],
   "source": [
    "tweets_df = pd.read_sql(\"SELECT * FROM tweet_data\", conn)"
   ]
  },
  {
   "cell_type": "code",
   "execution_count": 6,
   "metadata": {},
   "outputs": [
    {
     "data": {
      "text/html": [
       "<div>\n",
       "<style scoped>\n",
       "    .dataframe tbody tr th:only-of-type {\n",
       "        vertical-align: middle;\n",
       "    }\n",
       "\n",
       "    .dataframe tbody tr th {\n",
       "        vertical-align: top;\n",
       "    }\n",
       "\n",
       "    .dataframe thead th {\n",
       "        text-align: right;\n",
       "    }\n",
       "</style>\n",
       "<table border=\"1\" class=\"dataframe\">\n",
       "  <thead>\n",
       "    <tr style=\"text-align: right;\">\n",
       "      <th></th>\n",
       "      <th>id</th>\n",
       "      <th>created_at</th>\n",
       "      <th>created_at_time</th>\n",
       "      <th>created_at_date</th>\n",
       "      <th>created_at_datetime</th>\n",
       "      <th>tweet_id</th>\n",
       "      <th>tweet_id_str</th>\n",
       "      <th>full_text</th>\n",
       "      <th>in_reply_to_status_id</th>\n",
       "      <th>in_reply_to_status_id_str</th>\n",
       "      <th>in_reply_to_user_id</th>\n",
       "      <th>in_reply_to_user_id_str</th>\n",
       "      <th>in_reply_to_screen_name</th>\n",
       "      <th>user_id</th>\n",
       "      <th>user_id_str</th>\n",
       "      <th>user_name</th>\n",
       "      <th>user_screen_name</th>\n",
       "      <th>retweet_count</th>\n",
       "      <th>favorite_count</th>\n",
       "    </tr>\n",
       "  </thead>\n",
       "  <tbody>\n",
       "    <tr>\n",
       "      <th>0</th>\n",
       "      <td>1</td>\n",
       "      <td>Wed Jul 31 22:21:23 +0000 2019</td>\n",
       "      <td>22:21:23.000000</td>\n",
       "      <td>2019-07-31</td>\n",
       "      <td>2019-07-31 22:21:23.000000</td>\n",
       "      <td>1156691352983412737</td>\n",
       "      <td>1156691352983412737</td>\n",
       "      <td>Here's the deal, President Trump inherited the...</td>\n",
       "      <td>NaN</td>\n",
       "      <td>None</td>\n",
       "      <td>NaN</td>\n",
       "      <td>None</td>\n",
       "      <td>None</td>\n",
       "      <td>939091</td>\n",
       "      <td>939091</td>\n",
       "      <td>Joe Biden</td>\n",
       "      <td>JoeBiden</td>\n",
       "      <td>938</td>\n",
       "      <td>4134</td>\n",
       "    </tr>\n",
       "    <tr>\n",
       "      <th>1</th>\n",
       "      <td>2</td>\n",
       "      <td>Wed Jul 31 21:28:00 +0000 2019</td>\n",
       "      <td>21:28:00.000000</td>\n",
       "      <td>2019-07-31</td>\n",
       "      <td>2019-07-31 21:28:00.000000</td>\n",
       "      <td>1156677917469896704</td>\n",
       "      <td>1156677917469896704</td>\n",
       "      <td>I’ve got some exciting news: I am now on Snapc...</td>\n",
       "      <td>NaN</td>\n",
       "      <td>None</td>\n",
       "      <td>NaN</td>\n",
       "      <td>None</td>\n",
       "      <td>None</td>\n",
       "      <td>939091</td>\n",
       "      <td>939091</td>\n",
       "      <td>Joe Biden</td>\n",
       "      <td>JoeBiden</td>\n",
       "      <td>173</td>\n",
       "      <td>790</td>\n",
       "    </tr>\n",
       "  </tbody>\n",
       "</table>\n",
       "</div>"
      ],
      "text/plain": [
       "   id                      created_at  created_at_time created_at_date  \\\n",
       "0   1  Wed Jul 31 22:21:23 +0000 2019  22:21:23.000000      2019-07-31   \n",
       "1   2  Wed Jul 31 21:28:00 +0000 2019  21:28:00.000000      2019-07-31   \n",
       "\n",
       "          created_at_datetime             tweet_id         tweet_id_str  \\\n",
       "0  2019-07-31 22:21:23.000000  1156691352983412737  1156691352983412737   \n",
       "1  2019-07-31 21:28:00.000000  1156677917469896704  1156677917469896704   \n",
       "\n",
       "                                           full_text  in_reply_to_status_id  \\\n",
       "0  Here's the deal, President Trump inherited the...                    NaN   \n",
       "1  I’ve got some exciting news: I am now on Snapc...                    NaN   \n",
       "\n",
       "  in_reply_to_status_id_str  in_reply_to_user_id in_reply_to_user_id_str  \\\n",
       "0                      None                  NaN                    None   \n",
       "1                      None                  NaN                    None   \n",
       "\n",
       "  in_reply_to_screen_name  user_id user_id_str  user_name user_screen_name  \\\n",
       "0                    None   939091      939091  Joe Biden         JoeBiden   \n",
       "1                    None   939091      939091  Joe Biden         JoeBiden   \n",
       "\n",
       "   retweet_count  favorite_count  \n",
       "0            938            4134  \n",
       "1            173             790  "
      ]
     },
     "execution_count": 6,
     "metadata": {},
     "output_type": "execute_result"
    }
   ],
   "source": [
    "tweets_df.head(2)"
   ]
  },
  {
   "cell_type": "code",
   "execution_count": 7,
   "metadata": {},
   "outputs": [
    {
     "data": {
      "text/plain": [
       "41891"
      ]
     },
     "execution_count": 7,
     "metadata": {},
     "output_type": "execute_result"
    }
   ],
   "source": [
    "len(tweets_df)"
   ]
  },
  {
   "cell_type": "code",
   "execution_count": 8,
   "metadata": {},
   "outputs": [],
   "source": [
    "tweets_df[\"created_at_datetime\"] = tweets_df[\"created_at_datetime\"].apply(lambda x: dt.datetime.strptime(x,\n",
    "                                                                \"%Y-%m-%d %H:%M:%S.%f\"))"
   ]
  },
  {
   "cell_type": "code",
   "execution_count": 9,
   "metadata": {},
   "outputs": [],
   "source": [
    "tweets_df = tweets_df.loc[tweets_df[\"created_at_datetime\"] < dt.datetime(2019,8,15), :].reset_index(drop=True)"
   ]
  },
  {
   "cell_type": "code",
   "execution_count": 10,
   "metadata": {},
   "outputs": [
    {
     "data": {
      "text/plain": [
       "40678"
      ]
     },
     "execution_count": 10,
     "metadata": {},
     "output_type": "execute_result"
    }
   ],
   "source": [
    "len(tweets_df)"
   ]
  },
  {
   "cell_type": "code",
   "execution_count": 11,
   "metadata": {},
   "outputs": [
    {
     "data": {
      "text/plain": [
       "['Donald J. Trump',\n",
       " 'Bernie Sanders',\n",
       " 'Kamala Harris',\n",
       " 'Elizabeth Warren',\n",
       " 'Joe Biden',\n",
       " 'Tulsi Gabbard']"
      ]
     },
     "execution_count": 11,
     "metadata": {},
     "output_type": "execute_result"
    }
   ],
   "source": [
    "grouped_df = tweets_df.groupby(tweets_df['user_name']).median()\n",
    "grouped_df = grouped_df[['retweet_count']].sort_values('retweet_count', ascending = False).iloc[:7]\n",
    "# grouped_df.sort_values('retweet_count', ascending = False)\n",
    "grouped_df\n",
    "top_candidates =[]\n",
    "for i, r in grouped_df.iterrows():\n",
    "    top_candidates.append(i)\n",
    "# Remove Eric Swalwell from list (dropped out)\n",
    "top_candidates.pop(3)\n",
    "top_candidates"
   ]
  },
  {
   "cell_type": "code",
   "execution_count": 12,
   "metadata": {},
   "outputs": [],
   "source": [
    "tweets_df = tweets_df.loc[tweets_df['user_name'].isin(top_candidates), :].reset_index(drop=True)"
   ]
  },
  {
   "cell_type": "code",
   "execution_count": 13,
   "metadata": {},
   "outputs": [
    {
     "data": {
      "text/plain": [
       "10520"
      ]
     },
     "execution_count": 13,
     "metadata": {},
     "output_type": "execute_result"
    }
   ],
   "source": [
    "len(tweets_df)"
   ]
  },
  {
   "cell_type": "code",
   "execution_count": 14,
   "metadata": {},
   "outputs": [],
   "source": [
    "tweets_df[\"day\"] = tweets_df[\"created_at_datetime\"].apply(lambda x: dt.datetime.strftime(x, \"%A\"))\n",
    "tweets_df[\"hour\"] = tweets_df[\"created_at_datetime\"].apply(lambda x: dt.datetime.strftime(x, \"%H\"))\n",
    "tweets_df[\"month\"] = tweets_df[\"created_at_datetime\"].apply(lambda x: dt.datetime.strftime(x, \"%B\"))"
   ]
  },
  {
   "cell_type": "code",
   "execution_count": 15,
   "metadata": {},
   "outputs": [],
   "source": [
    "tweets_df.drop(columns = [\"created_at\", \"created_at_time\", \"created_at_date\",\"created_at_datetime\",\n",
    "                    \"tweet_id\", \"tweet_id_str\", \"in_reply_to_status_id\",\n",
    "                    \"in_reply_to_status_id_str\", \"in_reply_to_user_id\",\n",
    "                    \"in_reply_to_user_id_str\", \"in_reply_to_screen_name\",\n",
    "                    \"user_id_str\", \"user_id\", \"user_screen_name\", \"id\"], inplace = True)"
   ]
  },
  {
   "cell_type": "code",
   "execution_count": 16,
   "metadata": {},
   "outputs": [],
   "source": [
    "tweets_df = tweets_df[[\"user_name\", \"month\", \"day\", \"hour\", \"retweet_count\", \"favorite_count\", \"full_text\"]]"
   ]
  },
  {
   "cell_type": "code",
   "execution_count": 17,
   "metadata": {},
   "outputs": [
    {
     "data": {
      "text/html": [
       "<div>\n",
       "<style scoped>\n",
       "    .dataframe tbody tr th:only-of-type {\n",
       "        vertical-align: middle;\n",
       "    }\n",
       "\n",
       "    .dataframe tbody tr th {\n",
       "        vertical-align: top;\n",
       "    }\n",
       "\n",
       "    .dataframe thead th {\n",
       "        text-align: right;\n",
       "    }\n",
       "</style>\n",
       "<table border=\"1\" class=\"dataframe\">\n",
       "  <thead>\n",
       "    <tr style=\"text-align: right;\">\n",
       "      <th></th>\n",
       "      <th>user_name</th>\n",
       "      <th>month</th>\n",
       "      <th>day</th>\n",
       "      <th>hour</th>\n",
       "      <th>retweet_count</th>\n",
       "      <th>favorite_count</th>\n",
       "      <th>full_text</th>\n",
       "    </tr>\n",
       "  </thead>\n",
       "  <tbody>\n",
       "    <tr>\n",
       "      <th>0</th>\n",
       "      <td>Joe Biden</td>\n",
       "      <td>July</td>\n",
       "      <td>Wednesday</td>\n",
       "      <td>22</td>\n",
       "      <td>938</td>\n",
       "      <td>4134</td>\n",
       "      <td>Here's the deal, President Trump inherited the...</td>\n",
       "    </tr>\n",
       "    <tr>\n",
       "      <th>1</th>\n",
       "      <td>Joe Biden</td>\n",
       "      <td>July</td>\n",
       "      <td>Wednesday</td>\n",
       "      <td>21</td>\n",
       "      <td>173</td>\n",
       "      <td>790</td>\n",
       "      <td>I’ve got some exciting news: I am now on Snapc...</td>\n",
       "    </tr>\n",
       "  </tbody>\n",
       "</table>\n",
       "</div>"
      ],
      "text/plain": [
       "   user_name month        day hour  retweet_count  favorite_count  \\\n",
       "0  Joe Biden  July  Wednesday   22            938            4134   \n",
       "1  Joe Biden  July  Wednesday   21            173             790   \n",
       "\n",
       "                                           full_text  \n",
       "0  Here's the deal, President Trump inherited the...  \n",
       "1  I’ve got some exciting news: I am now on Snapc...  "
      ]
     },
     "execution_count": 17,
     "metadata": {},
     "output_type": "execute_result"
    }
   ],
   "source": [
    "tweets_df.head(2)"
   ]
  },
  {
   "cell_type": "code",
   "execution_count": 18,
   "metadata": {},
   "outputs": [
    {
     "data": {
      "text/plain": [
       "6"
      ]
     },
     "execution_count": 18,
     "metadata": {},
     "output_type": "execute_result"
    }
   ],
   "source": [
    "len(tweets_df.groupby(tweets_df[\"user_name\"]).count())"
   ]
  },
  {
   "cell_type": "code",
   "execution_count": 19,
   "metadata": {},
   "outputs": [],
   "source": [
    "X_count_df = tweets_df[[\"full_text\", \"month\", \"day\", \"hour\", \"retweet_count\", \"favorite_count\"]]\n",
    "X_count_df = pd.get_dummies(X_count_df, columns = [\"month\", \"day\", \"hour\"])"
   ]
  },
  {
   "cell_type": "code",
   "execution_count": 20,
   "metadata": {},
   "outputs": [
    {
     "data": {
      "text/html": [
       "<div>\n",
       "<style scoped>\n",
       "    .dataframe tbody tr th:only-of-type {\n",
       "        vertical-align: middle;\n",
       "    }\n",
       "\n",
       "    .dataframe tbody tr th {\n",
       "        vertical-align: top;\n",
       "    }\n",
       "\n",
       "    .dataframe thead th {\n",
       "        text-align: right;\n",
       "    }\n",
       "</style>\n",
       "<table border=\"1\" class=\"dataframe\">\n",
       "  <thead>\n",
       "    <tr style=\"text-align: right;\">\n",
       "      <th></th>\n",
       "      <th>full_text</th>\n",
       "      <th>retweet_count</th>\n",
       "      <th>favorite_count</th>\n",
       "      <th>month_April</th>\n",
       "      <th>month_August</th>\n",
       "      <th>month_December</th>\n",
       "      <th>month_February</th>\n",
       "      <th>month_January</th>\n",
       "      <th>month_July</th>\n",
       "      <th>month_June</th>\n",
       "      <th>...</th>\n",
       "      <th>hour_14</th>\n",
       "      <th>hour_15</th>\n",
       "      <th>hour_16</th>\n",
       "      <th>hour_17</th>\n",
       "      <th>hour_18</th>\n",
       "      <th>hour_19</th>\n",
       "      <th>hour_20</th>\n",
       "      <th>hour_21</th>\n",
       "      <th>hour_22</th>\n",
       "      <th>hour_23</th>\n",
       "    </tr>\n",
       "  </thead>\n",
       "  <tbody>\n",
       "    <tr>\n",
       "      <th>0</th>\n",
       "      <td>Here's the deal, President Trump inherited the...</td>\n",
       "      <td>938</td>\n",
       "      <td>4134</td>\n",
       "      <td>0</td>\n",
       "      <td>0</td>\n",
       "      <td>0</td>\n",
       "      <td>0</td>\n",
       "      <td>0</td>\n",
       "      <td>1</td>\n",
       "      <td>0</td>\n",
       "      <td>...</td>\n",
       "      <td>0</td>\n",
       "      <td>0</td>\n",
       "      <td>0</td>\n",
       "      <td>0</td>\n",
       "      <td>0</td>\n",
       "      <td>0</td>\n",
       "      <td>0</td>\n",
       "      <td>0</td>\n",
       "      <td>1</td>\n",
       "      <td>0</td>\n",
       "    </tr>\n",
       "    <tr>\n",
       "      <th>1</th>\n",
       "      <td>I’ve got some exciting news: I am now on Snapc...</td>\n",
       "      <td>173</td>\n",
       "      <td>790</td>\n",
       "      <td>0</td>\n",
       "      <td>0</td>\n",
       "      <td>0</td>\n",
       "      <td>0</td>\n",
       "      <td>0</td>\n",
       "      <td>1</td>\n",
       "      <td>0</td>\n",
       "      <td>...</td>\n",
       "      <td>0</td>\n",
       "      <td>0</td>\n",
       "      <td>0</td>\n",
       "      <td>0</td>\n",
       "      <td>0</td>\n",
       "      <td>0</td>\n",
       "      <td>0</td>\n",
       "      <td>1</td>\n",
       "      <td>0</td>\n",
       "      <td>0</td>\n",
       "    </tr>\n",
       "  </tbody>\n",
       "</table>\n",
       "<p>2 rows × 46 columns</p>\n",
       "</div>"
      ],
      "text/plain": [
       "                                           full_text  retweet_count  \\\n",
       "0  Here's the deal, President Trump inherited the...            938   \n",
       "1  I’ve got some exciting news: I am now on Snapc...            173   \n",
       "\n",
       "   favorite_count  month_April  month_August  month_December  month_February  \\\n",
       "0            4134            0             0               0               0   \n",
       "1             790            0             0               0               0   \n",
       "\n",
       "   month_January  month_July  month_June   ...     hour_14  hour_15  hour_16  \\\n",
       "0              0           1           0   ...           0        0        0   \n",
       "1              0           1           0   ...           0        0        0   \n",
       "\n",
       "   hour_17  hour_18  hour_19  hour_20  hour_21  hour_22  hour_23  \n",
       "0        0        0        0        0        0        1        0  \n",
       "1        0        0        0        0        1        0        0  \n",
       "\n",
       "[2 rows x 46 columns]"
      ]
     },
     "execution_count": 20,
     "metadata": {},
     "output_type": "execute_result"
    }
   ],
   "source": [
    "X_count_df.head(2)"
   ]
  },
  {
   "cell_type": "code",
   "execution_count": 21,
   "metadata": {},
   "outputs": [],
   "source": [
    "import nltk\n",
    "import re\n",
    "import string\n",
    "pd.set_option('display.max_colwidth', 100) # To extend column width\n",
    "\n",
    "stopwords = nltk.corpus.stopwords.words('english')\n",
    "wn = nltk.WordNetLemmatizer()"
   ]
  },
  {
   "cell_type": "code",
   "execution_count": 22,
   "metadata": {},
   "outputs": [],
   "source": [
    "def clean_text(text):\n",
    "    text = text.replace('&amp;', '&')\n",
    "    text = text.replace('\\n', ' ')\n",
    "    text = \"\".join([word.lower() for word in text if word not in string.punctuation])\n",
    "    tokens = re.split('\\W+', text)\n",
    "    text = [wn.lemmatize(word) for word in tokens if word not in stopwords]\n",
    "    return text"
   ]
  },
  {
   "cell_type": "code",
   "execution_count": 23,
   "metadata": {},
   "outputs": [],
   "source": [
    "from sklearn.feature_extraction.text import CountVectorizer\n",
    "\n",
    "# CountVectorizer\n",
    "count_vect = CountVectorizer(analyzer=clean_text)\n",
    "X_count_vect = count_vect.fit_transform(X_count_df['full_text'])"
   ]
  },
  {
   "cell_type": "code",
   "execution_count": 24,
   "metadata": {},
   "outputs": [],
   "source": [
    "X_count_df.drop(columns = ['full_text'], inplace = True)"
   ]
  },
  {
   "cell_type": "code",
   "execution_count": 25,
   "metadata": {},
   "outputs": [],
   "source": [
    "X_count_df = pd.concat([X_count_df, pd.DataFrame(X_count_vect.toarray(), columns=count_vect.get_feature_names())], axis=1)"
   ]
  },
  {
   "cell_type": "code",
   "execution_count": 26,
   "metadata": {},
   "outputs": [
    {
     "data": {
      "text/plain": [
       "(10520, 20445)"
      ]
     },
     "execution_count": 26,
     "metadata": {},
     "output_type": "execute_result"
    }
   ],
   "source": [
    "X_count_df.shape"
   ]
  },
  {
   "cell_type": "code",
   "execution_count": 28,
   "metadata": {},
   "outputs": [],
   "source": [
    "from sklearn.ensemble import RandomForestClassifier\n",
    "from sklearn.model_selection import GridSearchCV"
   ]
  },
  {
   "cell_type": "code",
   "execution_count": 29,
   "metadata": {},
   "outputs": [
    {
     "name": "stderr",
     "output_type": "stream",
     "text": [
      "C:\\Users\\lande\\Anaconda3\\lib\\site-packages\\sklearn\\utils\\deprecation.py:125: FutureWarning: You are accessing a training score ('split0_train_score'), which will not be available by default any more in 0.21. If you need training scores, please set return_train_score=True\n",
      "  warnings.warn(*warn_args, **warn_kwargs)\n",
      "C:\\Users\\lande\\Anaconda3\\lib\\site-packages\\sklearn\\utils\\deprecation.py:125: FutureWarning: You are accessing a training score ('split1_train_score'), which will not be available by default any more in 0.21. If you need training scores, please set return_train_score=True\n",
      "  warnings.warn(*warn_args, **warn_kwargs)\n",
      "C:\\Users\\lande\\Anaconda3\\lib\\site-packages\\sklearn\\utils\\deprecation.py:125: FutureWarning: You are accessing a training score ('split2_train_score'), which will not be available by default any more in 0.21. If you need training scores, please set return_train_score=True\n",
      "  warnings.warn(*warn_args, **warn_kwargs)\n",
      "C:\\Users\\lande\\Anaconda3\\lib\\site-packages\\sklearn\\utils\\deprecation.py:125: FutureWarning: You are accessing a training score ('split3_train_score'), which will not be available by default any more in 0.21. If you need training scores, please set return_train_score=True\n",
      "  warnings.warn(*warn_args, **warn_kwargs)\n",
      "C:\\Users\\lande\\Anaconda3\\lib\\site-packages\\sklearn\\utils\\deprecation.py:125: FutureWarning: You are accessing a training score ('split4_train_score'), which will not be available by default any more in 0.21. If you need training scores, please set return_train_score=True\n",
      "  warnings.warn(*warn_args, **warn_kwargs)\n",
      "C:\\Users\\lande\\Anaconda3\\lib\\site-packages\\sklearn\\utils\\deprecation.py:125: FutureWarning: You are accessing a training score ('mean_train_score'), which will not be available by default any more in 0.21. If you need training scores, please set return_train_score=True\n",
      "  warnings.warn(*warn_args, **warn_kwargs)\n",
      "C:\\Users\\lande\\Anaconda3\\lib\\site-packages\\sklearn\\utils\\deprecation.py:125: FutureWarning: You are accessing a training score ('std_train_score'), which will not be available by default any more in 0.21. If you need training scores, please set return_train_score=True\n",
      "  warnings.warn(*warn_args, **warn_kwargs)\n"
     ]
    },
    {
     "data": {
      "text/html": [
       "<div>\n",
       "<style scoped>\n",
       "    .dataframe tbody tr th:only-of-type {\n",
       "        vertical-align: middle;\n",
       "    }\n",
       "\n",
       "    .dataframe tbody tr th {\n",
       "        vertical-align: top;\n",
       "    }\n",
       "\n",
       "    .dataframe thead th {\n",
       "        text-align: right;\n",
       "    }\n",
       "</style>\n",
       "<table border=\"1\" class=\"dataframe\">\n",
       "  <thead>\n",
       "    <tr style=\"text-align: right;\">\n",
       "      <th></th>\n",
       "      <th>mean_fit_time</th>\n",
       "      <th>std_fit_time</th>\n",
       "      <th>mean_score_time</th>\n",
       "      <th>std_score_time</th>\n",
       "      <th>param_max_depth</th>\n",
       "      <th>param_n_estimators</th>\n",
       "      <th>params</th>\n",
       "      <th>split0_test_score</th>\n",
       "      <th>split1_test_score</th>\n",
       "      <th>split2_test_score</th>\n",
       "      <th>...</th>\n",
       "      <th>mean_test_score</th>\n",
       "      <th>std_test_score</th>\n",
       "      <th>rank_test_score</th>\n",
       "      <th>split0_train_score</th>\n",
       "      <th>split1_train_score</th>\n",
       "      <th>split2_train_score</th>\n",
       "      <th>split3_train_score</th>\n",
       "      <th>split4_train_score</th>\n",
       "      <th>mean_train_score</th>\n",
       "      <th>std_train_score</th>\n",
       "    </tr>\n",
       "  </thead>\n",
       "  <tbody>\n",
       "    <tr>\n",
       "      <th>7</th>\n",
       "      <td>252.122776</td>\n",
       "      <td>14.219756</td>\n",
       "      <td>9.433148</td>\n",
       "      <td>5.556332</td>\n",
       "      <td>90</td>\n",
       "      <td>150</td>\n",
       "      <td>{'max_depth': 90, 'n_estimators': 150}</td>\n",
       "      <td>0.626009</td>\n",
       "      <td>0.533967</td>\n",
       "      <td>0.579173</td>\n",
       "      <td>...</td>\n",
       "      <td>0.587357</td>\n",
       "      <td>0.034813</td>\n",
       "      <td>1</td>\n",
       "      <td>0.993344</td>\n",
       "      <td>0.992157</td>\n",
       "      <td>0.992159</td>\n",
       "      <td>0.991683</td>\n",
       "      <td>0.991566</td>\n",
       "      <td>0.992182</td>\n",
       "      <td>0.000629</td>\n",
       "    </tr>\n",
       "    <tr>\n",
       "      <th>10</th>\n",
       "      <td>250.422096</td>\n",
       "      <td>17.569658</td>\n",
       "      <td>5.370240</td>\n",
       "      <td>2.062982</td>\n",
       "      <td>None</td>\n",
       "      <td>150</td>\n",
       "      <td>{'max_depth': None, 'n_estimators': 150}</td>\n",
       "      <td>0.600380</td>\n",
       "      <td>0.541093</td>\n",
       "      <td>0.575844</td>\n",
       "      <td>...</td>\n",
       "      <td>0.586312</td>\n",
       "      <td>0.029621</td>\n",
       "      <td>2</td>\n",
       "      <td>1.000000</td>\n",
       "      <td>1.000000</td>\n",
       "      <td>1.000000</td>\n",
       "      <td>1.000000</td>\n",
       "      <td>1.000000</td>\n",
       "      <td>1.000000</td>\n",
       "      <td>0.000000</td>\n",
       "    </tr>\n",
       "    <tr>\n",
       "      <th>8</th>\n",
       "      <td>352.435807</td>\n",
       "      <td>68.070064</td>\n",
       "      <td>25.718048</td>\n",
       "      <td>15.771828</td>\n",
       "      <td>90</td>\n",
       "      <td>300</td>\n",
       "      <td>{'max_depth': 90, 'n_estimators': 300}</td>\n",
       "      <td>0.611770</td>\n",
       "      <td>0.533492</td>\n",
       "      <td>0.580124</td>\n",
       "      <td>...</td>\n",
       "      <td>0.586122</td>\n",
       "      <td>0.036637</td>\n",
       "      <td>3</td>\n",
       "      <td>0.993700</td>\n",
       "      <td>0.992157</td>\n",
       "      <td>0.993584</td>\n",
       "      <td>0.992990</td>\n",
       "      <td>0.990972</td>\n",
       "      <td>0.992681</td>\n",
       "      <td>0.001015</td>\n",
       "    </tr>\n",
       "    <tr>\n",
       "      <th>11</th>\n",
       "      <td>302.177100</td>\n",
       "      <td>22.202971</td>\n",
       "      <td>2.333361</td>\n",
       "      <td>1.181525</td>\n",
       "      <td>None</td>\n",
       "      <td>300</td>\n",
       "      <td>{'max_depth': None, 'n_estimators': 300}</td>\n",
       "      <td>0.616042</td>\n",
       "      <td>0.527791</td>\n",
       "      <td>0.583928</td>\n",
       "      <td>...</td>\n",
       "      <td>0.585646</td>\n",
       "      <td>0.035177</td>\n",
       "      <td>4</td>\n",
       "      <td>1.000000</td>\n",
       "      <td>1.000000</td>\n",
       "      <td>1.000000</td>\n",
       "      <td>1.000000</td>\n",
       "      <td>1.000000</td>\n",
       "      <td>1.000000</td>\n",
       "      <td>0.000000</td>\n",
       "    </tr>\n",
       "    <tr>\n",
       "      <th>4</th>\n",
       "      <td>198.791914</td>\n",
       "      <td>53.123680</td>\n",
       "      <td>1.699875</td>\n",
       "      <td>0.547993</td>\n",
       "      <td>60</td>\n",
       "      <td>150</td>\n",
       "      <td>{'max_depth': 60, 'n_estimators': 150}</td>\n",
       "      <td>0.610346</td>\n",
       "      <td>0.523515</td>\n",
       "      <td>0.593438</td>\n",
       "      <td>...</td>\n",
       "      <td>0.585266</td>\n",
       "      <td>0.038948</td>\n",
       "      <td>5</td>\n",
       "      <td>0.973137</td>\n",
       "      <td>0.972668</td>\n",
       "      <td>0.970892</td>\n",
       "      <td>0.973150</td>\n",
       "      <td>0.967213</td>\n",
       "      <td>0.971412</td>\n",
       "      <td>0.002257</td>\n",
       "    </tr>\n",
       "  </tbody>\n",
       "</table>\n",
       "<p>5 rows × 22 columns</p>\n",
       "</div>"
      ],
      "text/plain": [
       "    mean_fit_time  std_fit_time  mean_score_time  std_score_time  \\\n",
       "7      252.122776     14.219756         9.433148        5.556332   \n",
       "10     250.422096     17.569658         5.370240        2.062982   \n",
       "8      352.435807     68.070064        25.718048       15.771828   \n",
       "11     302.177100     22.202971         2.333361        1.181525   \n",
       "4      198.791914     53.123680         1.699875        0.547993   \n",
       "\n",
       "   param_max_depth param_n_estimators  \\\n",
       "7               90                150   \n",
       "10            None                150   \n",
       "8               90                300   \n",
       "11            None                300   \n",
       "4               60                150   \n",
       "\n",
       "                                      params  split0_test_score  \\\n",
       "7     {'max_depth': 90, 'n_estimators': 150}           0.626009   \n",
       "10  {'max_depth': None, 'n_estimators': 150}           0.600380   \n",
       "8     {'max_depth': 90, 'n_estimators': 300}           0.611770   \n",
       "11  {'max_depth': None, 'n_estimators': 300}           0.616042   \n",
       "4     {'max_depth': 60, 'n_estimators': 150}           0.610346   \n",
       "\n",
       "    split1_test_score  split2_test_score       ...         mean_test_score  \\\n",
       "7            0.533967           0.579173       ...                0.587357   \n",
       "10           0.541093           0.575844       ...                0.586312   \n",
       "8            0.533492           0.580124       ...                0.586122   \n",
       "11           0.527791           0.583928       ...                0.585646   \n",
       "4            0.523515           0.593438       ...                0.585266   \n",
       "\n",
       "    std_test_score  rank_test_score  split0_train_score  split1_train_score  \\\n",
       "7         0.034813                1            0.993344            0.992157   \n",
       "10        0.029621                2            1.000000            1.000000   \n",
       "8         0.036637                3            0.993700            0.992157   \n",
       "11        0.035177                4            1.000000            1.000000   \n",
       "4         0.038948                5            0.973137            0.972668   \n",
       "\n",
       "    split2_train_score  split3_train_score  split4_train_score  \\\n",
       "7             0.992159            0.991683            0.991566   \n",
       "10            1.000000            1.000000            1.000000   \n",
       "8             0.993584            0.992990            0.990972   \n",
       "11            1.000000            1.000000            1.000000   \n",
       "4             0.970892            0.973150            0.967213   \n",
       "\n",
       "    mean_train_score  std_train_score  \n",
       "7           0.992182         0.000629  \n",
       "10          1.000000         0.000000  \n",
       "8           0.992681         0.001015  \n",
       "11          1.000000         0.000000  \n",
       "4           0.971412         0.002257  \n",
       "\n",
       "[5 rows x 22 columns]"
      ]
     },
     "execution_count": 29,
     "metadata": {},
     "output_type": "execute_result"
    }
   ],
   "source": [
    "rf = RandomForestClassifier()\n",
    "param = {'n_estimators': [10, 150, 300],\n",
    "        'max_depth': [30, 60, 90, None]}\n",
    "\n",
    "gs = GridSearchCV(rf, param, cv=5, n_jobs=-1)# n_jobs=-1 for parallelizing search\n",
    "gs_fit = gs.fit(X_count_df, tweets_df['user_name'])\n",
    "pd.DataFrame(gs_fit.cv_results_).sort_values('mean_test_score', ascending=False).head()"
   ]
  },
  {
   "cell_type": "code",
   "execution_count": 32,
   "metadata": {},
   "outputs": [],
   "source": [
    "from sklearn.feature_extraction.text import TfidfVectorizer"
   ]
  },
  {
   "cell_type": "code",
   "execution_count": 30,
   "metadata": {},
   "outputs": [],
   "source": [
    "X_tdidf_df = tweets_df[[\"full_text\", \"month\", \"day\", \"hour\", \"retweet_count\", \"favorite_count\"]]\n",
    "X_tdidf_df = pd.get_dummies(X_tdidf_df, columns = [\"month\", \"day\", \"hour\"])"
   ]
  },
  {
   "cell_type": "code",
   "execution_count": 33,
   "metadata": {},
   "outputs": [],
   "source": [
    "# TF-IDF\n",
    "tfidf_vect = TfidfVectorizer(analyzer=clean_text)\n",
    "X_tfidf_vect = tfidf_vect.fit_transform(X_tdidf_df['full_text'])"
   ]
  },
  {
   "cell_type": "code",
   "execution_count": 34,
   "metadata": {},
   "outputs": [],
   "source": [
    "X_tdidf_df.drop(columns = ['full_text'], inplace = True)"
   ]
  },
  {
   "cell_type": "code",
   "execution_count": 37,
   "metadata": {},
   "outputs": [],
   "source": [
    "X_tdidf_df = pd.concat([X_tdidf_df, pd.DataFrame(X_tfidf_vect.toarray(), columns=tfidf_vect.get_feature_names())], axis=1)"
   ]
  },
  {
   "cell_type": "code",
   "execution_count": 38,
   "metadata": {},
   "outputs": [
    {
     "data": {
      "text/plain": [
       "(10520, 20445)"
      ]
     },
     "execution_count": 38,
     "metadata": {},
     "output_type": "execute_result"
    }
   ],
   "source": [
    "X_tdidf_df.shape"
   ]
  },
  {
   "cell_type": "code",
   "execution_count": 39,
   "metadata": {},
   "outputs": [
    {
     "name": "stderr",
     "output_type": "stream",
     "text": [
      "C:\\Users\\lande\\Anaconda3\\lib\\site-packages\\sklearn\\utils\\deprecation.py:125: FutureWarning: You are accessing a training score ('split0_train_score'), which will not be available by default any more in 0.21. If you need training scores, please set return_train_score=True\n",
      "  warnings.warn(*warn_args, **warn_kwargs)\n",
      "C:\\Users\\lande\\Anaconda3\\lib\\site-packages\\sklearn\\utils\\deprecation.py:125: FutureWarning: You are accessing a training score ('split1_train_score'), which will not be available by default any more in 0.21. If you need training scores, please set return_train_score=True\n",
      "  warnings.warn(*warn_args, **warn_kwargs)\n",
      "C:\\Users\\lande\\Anaconda3\\lib\\site-packages\\sklearn\\utils\\deprecation.py:125: FutureWarning: You are accessing a training score ('split2_train_score'), which will not be available by default any more in 0.21. If you need training scores, please set return_train_score=True\n",
      "  warnings.warn(*warn_args, **warn_kwargs)\n",
      "C:\\Users\\lande\\Anaconda3\\lib\\site-packages\\sklearn\\utils\\deprecation.py:125: FutureWarning: You are accessing a training score ('split3_train_score'), which will not be available by default any more in 0.21. If you need training scores, please set return_train_score=True\n",
      "  warnings.warn(*warn_args, **warn_kwargs)\n",
      "C:\\Users\\lande\\Anaconda3\\lib\\site-packages\\sklearn\\utils\\deprecation.py:125: FutureWarning: You are accessing a training score ('split4_train_score'), which will not be available by default any more in 0.21. If you need training scores, please set return_train_score=True\n",
      "  warnings.warn(*warn_args, **warn_kwargs)\n",
      "C:\\Users\\lande\\Anaconda3\\lib\\site-packages\\sklearn\\utils\\deprecation.py:125: FutureWarning: You are accessing a training score ('mean_train_score'), which will not be available by default any more in 0.21. If you need training scores, please set return_train_score=True\n",
      "  warnings.warn(*warn_args, **warn_kwargs)\n",
      "C:\\Users\\lande\\Anaconda3\\lib\\site-packages\\sklearn\\utils\\deprecation.py:125: FutureWarning: You are accessing a training score ('std_train_score'), which will not be available by default any more in 0.21. If you need training scores, please set return_train_score=True\n",
      "  warnings.warn(*warn_args, **warn_kwargs)\n"
     ]
    },
    {
     "data": {
      "text/html": [
       "<div>\n",
       "<style scoped>\n",
       "    .dataframe tbody tr th:only-of-type {\n",
       "        vertical-align: middle;\n",
       "    }\n",
       "\n",
       "    .dataframe tbody tr th {\n",
       "        vertical-align: top;\n",
       "    }\n",
       "\n",
       "    .dataframe thead th {\n",
       "        text-align: right;\n",
       "    }\n",
       "</style>\n",
       "<table border=\"1\" class=\"dataframe\">\n",
       "  <thead>\n",
       "    <tr style=\"text-align: right;\">\n",
       "      <th></th>\n",
       "      <th>mean_fit_time</th>\n",
       "      <th>std_fit_time</th>\n",
       "      <th>mean_score_time</th>\n",
       "      <th>std_score_time</th>\n",
       "      <th>param_max_depth</th>\n",
       "      <th>param_n_estimators</th>\n",
       "      <th>params</th>\n",
       "      <th>split0_test_score</th>\n",
       "      <th>split1_test_score</th>\n",
       "      <th>split2_test_score</th>\n",
       "      <th>...</th>\n",
       "      <th>mean_test_score</th>\n",
       "      <th>std_test_score</th>\n",
       "      <th>rank_test_score</th>\n",
       "      <th>split0_train_score</th>\n",
       "      <th>split1_train_score</th>\n",
       "      <th>split2_train_score</th>\n",
       "      <th>split3_train_score</th>\n",
       "      <th>split4_train_score</th>\n",
       "      <th>mean_train_score</th>\n",
       "      <th>std_train_score</th>\n",
       "    </tr>\n",
       "  </thead>\n",
       "  <tbody>\n",
       "    <tr>\n",
       "      <th>4</th>\n",
       "      <td>138.122783</td>\n",
       "      <td>4.958950</td>\n",
       "      <td>2.618398</td>\n",
       "      <td>0.639628</td>\n",
       "      <td>60</td>\n",
       "      <td>150</td>\n",
       "      <td>{'max_depth': 60, 'n_estimators': 150}</td>\n",
       "      <td>0.608923</td>\n",
       "      <td>0.549169</td>\n",
       "      <td>0.573942</td>\n",
       "      <td>...</td>\n",
       "      <td>0.587833</td>\n",
       "      <td>0.030188</td>\n",
       "      <td>1</td>\n",
       "      <td>0.973731</td>\n",
       "      <td>0.971361</td>\n",
       "      <td>0.972318</td>\n",
       "      <td>0.970298</td>\n",
       "      <td>0.969589</td>\n",
       "      <td>0.971459</td>\n",
       "      <td>0.001467</td>\n",
       "    </tr>\n",
       "    <tr>\n",
       "      <th>7</th>\n",
       "      <td>172.688825</td>\n",
       "      <td>8.645928</td>\n",
       "      <td>3.026706</td>\n",
       "      <td>0.593666</td>\n",
       "      <td>90</td>\n",
       "      <td>150</td>\n",
       "      <td>{'max_depth': 90, 'n_estimators': 150}</td>\n",
       "      <td>0.606550</td>\n",
       "      <td>0.537292</td>\n",
       "      <td>0.582501</td>\n",
       "      <td>...</td>\n",
       "      <td>0.585646</td>\n",
       "      <td>0.030537</td>\n",
       "      <td>2</td>\n",
       "      <td>0.993225</td>\n",
       "      <td>0.992632</td>\n",
       "      <td>0.993109</td>\n",
       "      <td>0.992872</td>\n",
       "      <td>0.990259</td>\n",
       "      <td>0.992419</td>\n",
       "      <td>0.001099</td>\n",
       "    </tr>\n",
       "    <tr>\n",
       "      <th>5</th>\n",
       "      <td>206.100773</td>\n",
       "      <td>9.678352</td>\n",
       "      <td>6.023996</td>\n",
       "      <td>3.633669</td>\n",
       "      <td>60</td>\n",
       "      <td>300</td>\n",
       "      <td>{'max_depth': 60, 'n_estimators': 300}</td>\n",
       "      <td>0.610346</td>\n",
       "      <td>0.541568</td>\n",
       "      <td>0.575369</td>\n",
       "      <td>...</td>\n",
       "      <td>0.584506</td>\n",
       "      <td>0.029152</td>\n",
       "      <td>3</td>\n",
       "      <td>0.975514</td>\n",
       "      <td>0.974213</td>\n",
       "      <td>0.970773</td>\n",
       "      <td>0.970892</td>\n",
       "      <td>0.968639</td>\n",
       "      <td>0.972006</td>\n",
       "      <td>0.002501</td>\n",
       "    </tr>\n",
       "    <tr>\n",
       "      <th>8</th>\n",
       "      <td>244.101300</td>\n",
       "      <td>24.340598</td>\n",
       "      <td>4.215130</td>\n",
       "      <td>1.547126</td>\n",
       "      <td>90</td>\n",
       "      <td>300</td>\n",
       "      <td>{'max_depth': 90, 'n_estimators': 300}</td>\n",
       "      <td>0.600380</td>\n",
       "      <td>0.529691</td>\n",
       "      <td>0.582977</td>\n",
       "      <td>...</td>\n",
       "      <td>0.580323</td>\n",
       "      <td>0.030414</td>\n",
       "      <td>4</td>\n",
       "      <td>0.993581</td>\n",
       "      <td>0.992513</td>\n",
       "      <td>0.992278</td>\n",
       "      <td>0.992515</td>\n",
       "      <td>0.990140</td>\n",
       "      <td>0.992206</td>\n",
       "      <td>0.001127</td>\n",
       "    </tr>\n",
       "    <tr>\n",
       "      <th>11</th>\n",
       "      <td>247.679510</td>\n",
       "      <td>29.237682</td>\n",
       "      <td>2.185556</td>\n",
       "      <td>0.770084</td>\n",
       "      <td>None</td>\n",
       "      <td>300</td>\n",
       "      <td>{'max_depth': None, 'n_estimators': 300}</td>\n",
       "      <td>0.596108</td>\n",
       "      <td>0.521140</td>\n",
       "      <td>0.581550</td>\n",
       "      <td>...</td>\n",
       "      <td>0.576236</td>\n",
       "      <td>0.037537</td>\n",
       "      <td>5</td>\n",
       "      <td>1.000000</td>\n",
       "      <td>1.000000</td>\n",
       "      <td>1.000000</td>\n",
       "      <td>1.000000</td>\n",
       "      <td>1.000000</td>\n",
       "      <td>1.000000</td>\n",
       "      <td>0.000000</td>\n",
       "    </tr>\n",
       "  </tbody>\n",
       "</table>\n",
       "<p>5 rows × 22 columns</p>\n",
       "</div>"
      ],
      "text/plain": [
       "    mean_fit_time  std_fit_time  mean_score_time  std_score_time  \\\n",
       "4      138.122783      4.958950         2.618398        0.639628   \n",
       "7      172.688825      8.645928         3.026706        0.593666   \n",
       "5      206.100773      9.678352         6.023996        3.633669   \n",
       "8      244.101300     24.340598         4.215130        1.547126   \n",
       "11     247.679510     29.237682         2.185556        0.770084   \n",
       "\n",
       "   param_max_depth param_n_estimators  \\\n",
       "4               60                150   \n",
       "7               90                150   \n",
       "5               60                300   \n",
       "8               90                300   \n",
       "11            None                300   \n",
       "\n",
       "                                      params  split0_test_score  \\\n",
       "4     {'max_depth': 60, 'n_estimators': 150}           0.608923   \n",
       "7     {'max_depth': 90, 'n_estimators': 150}           0.606550   \n",
       "5     {'max_depth': 60, 'n_estimators': 300}           0.610346   \n",
       "8     {'max_depth': 90, 'n_estimators': 300}           0.600380   \n",
       "11  {'max_depth': None, 'n_estimators': 300}           0.596108   \n",
       "\n",
       "    split1_test_score  split2_test_score       ...         mean_test_score  \\\n",
       "4            0.549169           0.573942       ...                0.587833   \n",
       "7            0.537292           0.582501       ...                0.585646   \n",
       "5            0.541568           0.575369       ...                0.584506   \n",
       "8            0.529691           0.582977       ...                0.580323   \n",
       "11           0.521140           0.581550       ...                0.576236   \n",
       "\n",
       "    std_test_score  rank_test_score  split0_train_score  split1_train_score  \\\n",
       "4         0.030188                1            0.973731            0.971361   \n",
       "7         0.030537                2            0.993225            0.992632   \n",
       "5         0.029152                3            0.975514            0.974213   \n",
       "8         0.030414                4            0.993581            0.992513   \n",
       "11        0.037537                5            1.000000            1.000000   \n",
       "\n",
       "    split2_train_score  split3_train_score  split4_train_score  \\\n",
       "4             0.972318            0.970298            0.969589   \n",
       "7             0.993109            0.992872            0.990259   \n",
       "5             0.970773            0.970892            0.968639   \n",
       "8             0.992278            0.992515            0.990140   \n",
       "11            1.000000            1.000000            1.000000   \n",
       "\n",
       "    mean_train_score  std_train_score  \n",
       "4           0.971459         0.001467  \n",
       "7           0.992419         0.001099  \n",
       "5           0.972006         0.002501  \n",
       "8           0.992206         0.001127  \n",
       "11          1.000000         0.000000  \n",
       "\n",
       "[5 rows x 22 columns]"
      ]
     },
     "execution_count": 39,
     "metadata": {},
     "output_type": "execute_result"
    }
   ],
   "source": [
    "rf = RandomForestClassifier()\n",
    "param = {'n_estimators': [10, 150, 300],\n",
    "        'max_depth': [30, 60, 90, None]}\n",
    "\n",
    "gs = GridSearchCV(rf, param, cv=5, n_jobs=-1)# n_jobs=-1 for parallelizing search\n",
    "gs_fit = gs.fit(X_tdidf_df, tweets_df['user_name'])\n",
    "pd.DataFrame(gs_fit.cv_results_).sort_values('mean_test_score', ascending=False).head()"
   ]
  }
 ],
 "metadata": {
  "kernelspec": {
   "display_name": "Python 3",
   "language": "python",
   "name": "python3"
  },
  "language_info": {
   "codemirror_mode": {
    "name": "ipython",
    "version": 3
   },
   "file_extension": ".py",
   "mimetype": "text/x-python",
   "name": "python",
   "nbconvert_exporter": "python",
   "pygments_lexer": "ipython3",
   "version": "3.7.1"
  }
 },
 "nbformat": 4,
 "nbformat_minor": 2
}
