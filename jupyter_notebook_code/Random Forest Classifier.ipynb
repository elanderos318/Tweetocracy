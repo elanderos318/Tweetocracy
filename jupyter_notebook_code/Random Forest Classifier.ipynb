{
 "cells": [
  {
   "cell_type": "code",
   "execution_count": 1,
   "metadata": {},
   "outputs": [],
   "source": [
    "import pandas as pd\n",
    "import numpy as np"
   ]
  },
  {
   "cell_type": "code",
   "execution_count": 2,
   "metadata": {},
   "outputs": [],
   "source": [
    "import matplotlib as mpl\n",
    "import matplotlib.pyplot as plt"
   ]
  },
  {
   "cell_type": "code",
   "execution_count": 3,
   "metadata": {},
   "outputs": [],
   "source": [
    "from sqlalchemy import create_engine"
   ]
  },
  {
   "cell_type": "code",
   "execution_count": 4,
   "metadata": {},
   "outputs": [],
   "source": [
    "from sklearn.ensemble import RandomForestClassifier\n",
    "from sklearn.model_selection import GridSearchCV"
   ]
  },
  {
   "cell_type": "code",
   "execution_count": 5,
   "metadata": {},
   "outputs": [],
   "source": [
    "from scipy.sparse import csr_matrix"
   ]
  },
  {
   "cell_type": "code",
   "execution_count": 163,
   "metadata": {},
   "outputs": [],
   "source": [
    "from sklearn.externals import joblib"
   ]
  },
  {
   "cell_type": "code",
   "execution_count": 6,
   "metadata": {},
   "outputs": [],
   "source": [
    "import datetime as dt"
   ]
  },
  {
   "cell_type": "code",
   "execution_count": 155,
   "metadata": {},
   "outputs": [],
   "source": [
    "import pickle"
   ]
  },
  {
   "cell_type": "code",
   "execution_count": 7,
   "metadata": {},
   "outputs": [],
   "source": [
    "import warnings\n",
    "warnings.filterwarnings(\"ignore\", category=FutureWarning)\n",
    "warnings.simplefilter('ignore')"
   ]
  },
  {
   "cell_type": "markdown",
   "metadata": {},
   "source": [
    "# Data Pre-Processing"
   ]
  },
  {
   "cell_type": "code",
   "execution_count": 8,
   "metadata": {},
   "outputs": [],
   "source": [
    "engine = create_engine(\"sqlite:///../db/twitter_db.sqlite\")\n",
    "conn = engine.connect()"
   ]
  },
  {
   "cell_type": "code",
   "execution_count": 9,
   "metadata": {},
   "outputs": [],
   "source": [
    "tweets_df = pd.read_sql(\"SELECT * FROM tweet_data\", conn)"
   ]
  },
  {
   "cell_type": "code",
   "execution_count": 10,
   "metadata": {},
   "outputs": [
    {
     "data": {
      "text/html": [
       "<div>\n",
       "<style scoped>\n",
       "    .dataframe tbody tr th:only-of-type {\n",
       "        vertical-align: middle;\n",
       "    }\n",
       "\n",
       "    .dataframe tbody tr th {\n",
       "        vertical-align: top;\n",
       "    }\n",
       "\n",
       "    .dataframe thead th {\n",
       "        text-align: right;\n",
       "    }\n",
       "</style>\n",
       "<table border=\"1\" class=\"dataframe\">\n",
       "  <thead>\n",
       "    <tr style=\"text-align: right;\">\n",
       "      <th></th>\n",
       "      <th>id</th>\n",
       "      <th>created_at</th>\n",
       "      <th>created_at_time</th>\n",
       "      <th>created_at_date</th>\n",
       "      <th>created_at_datetime</th>\n",
       "      <th>tweet_id</th>\n",
       "      <th>tweet_id_str</th>\n",
       "      <th>full_text</th>\n",
       "      <th>in_reply_to_status_id</th>\n",
       "      <th>in_reply_to_status_id_str</th>\n",
       "      <th>in_reply_to_user_id</th>\n",
       "      <th>in_reply_to_user_id_str</th>\n",
       "      <th>in_reply_to_screen_name</th>\n",
       "      <th>user_id</th>\n",
       "      <th>user_id_str</th>\n",
       "      <th>user_name</th>\n",
       "      <th>user_screen_name</th>\n",
       "      <th>retweet_count</th>\n",
       "      <th>favorite_count</th>\n",
       "    </tr>\n",
       "  </thead>\n",
       "  <tbody>\n",
       "    <tr>\n",
       "      <th>0</th>\n",
       "      <td>1</td>\n",
       "      <td>Wed Jul 31 22:21:23 +0000 2019</td>\n",
       "      <td>22:21:23.000000</td>\n",
       "      <td>2019-07-31</td>\n",
       "      <td>2019-07-31 22:21:23.000000</td>\n",
       "      <td>1156691352983412737</td>\n",
       "      <td>1156691352983412737</td>\n",
       "      <td>Here's the deal, President Trump inherited the...</td>\n",
       "      <td>NaN</td>\n",
       "      <td>None</td>\n",
       "      <td>NaN</td>\n",
       "      <td>None</td>\n",
       "      <td>None</td>\n",
       "      <td>939091</td>\n",
       "      <td>939091</td>\n",
       "      <td>Joe Biden</td>\n",
       "      <td>JoeBiden</td>\n",
       "      <td>938</td>\n",
       "      <td>4134</td>\n",
       "    </tr>\n",
       "    <tr>\n",
       "      <th>1</th>\n",
       "      <td>2</td>\n",
       "      <td>Wed Jul 31 21:28:00 +0000 2019</td>\n",
       "      <td>21:28:00.000000</td>\n",
       "      <td>2019-07-31</td>\n",
       "      <td>2019-07-31 21:28:00.000000</td>\n",
       "      <td>1156677917469896704</td>\n",
       "      <td>1156677917469896704</td>\n",
       "      <td>I’ve got some exciting news: I am now on Snapc...</td>\n",
       "      <td>NaN</td>\n",
       "      <td>None</td>\n",
       "      <td>NaN</td>\n",
       "      <td>None</td>\n",
       "      <td>None</td>\n",
       "      <td>939091</td>\n",
       "      <td>939091</td>\n",
       "      <td>Joe Biden</td>\n",
       "      <td>JoeBiden</td>\n",
       "      <td>173</td>\n",
       "      <td>790</td>\n",
       "    </tr>\n",
       "  </tbody>\n",
       "</table>\n",
       "</div>"
      ],
      "text/plain": [
       "   id                      created_at  created_at_time created_at_date  \\\n",
       "0   1  Wed Jul 31 22:21:23 +0000 2019  22:21:23.000000      2019-07-31   \n",
       "1   2  Wed Jul 31 21:28:00 +0000 2019  21:28:00.000000      2019-07-31   \n",
       "\n",
       "          created_at_datetime             tweet_id         tweet_id_str  \\\n",
       "0  2019-07-31 22:21:23.000000  1156691352983412737  1156691352983412737   \n",
       "1  2019-07-31 21:28:00.000000  1156677917469896704  1156677917469896704   \n",
       "\n",
       "                                           full_text  in_reply_to_status_id  \\\n",
       "0  Here's the deal, President Trump inherited the...                    NaN   \n",
       "1  I’ve got some exciting news: I am now on Snapc...                    NaN   \n",
       "\n",
       "  in_reply_to_status_id_str  in_reply_to_user_id in_reply_to_user_id_str  \\\n",
       "0                      None                  NaN                    None   \n",
       "1                      None                  NaN                    None   \n",
       "\n",
       "  in_reply_to_screen_name  user_id user_id_str  user_name user_screen_name  \\\n",
       "0                    None   939091      939091  Joe Biden         JoeBiden   \n",
       "1                    None   939091      939091  Joe Biden         JoeBiden   \n",
       "\n",
       "   retweet_count  favorite_count  \n",
       "0            938            4134  \n",
       "1            173             790  "
      ]
     },
     "execution_count": 10,
     "metadata": {},
     "output_type": "execute_result"
    }
   ],
   "source": [
    "tweets_df.head(2)"
   ]
  },
  {
   "cell_type": "code",
   "execution_count": 11,
   "metadata": {},
   "outputs": [
    {
     "data": {
      "text/plain": [
       "43421"
      ]
     },
     "execution_count": 11,
     "metadata": {},
     "output_type": "execute_result"
    }
   ],
   "source": [
    "len(tweets_df)"
   ]
  },
  {
   "cell_type": "code",
   "execution_count": 12,
   "metadata": {},
   "outputs": [],
   "source": [
    "tweets_df[\"created_at_datetime\"] = tweets_df[\"created_at_datetime\"].apply(lambda x: dt.datetime.strptime(x,\n",
    "                                                                \"%Y-%m-%d %H:%M:%S.%f\"))"
   ]
  },
  {
   "cell_type": "code",
   "execution_count": 13,
   "metadata": {},
   "outputs": [],
   "source": [
    "tweets_df = tweets_df.loc[tweets_df[\"created_at_datetime\"] < dt.datetime(2019,8,15), :].reset_index(drop=True)"
   ]
  },
  {
   "cell_type": "code",
   "execution_count": 14,
   "metadata": {},
   "outputs": [
    {
     "data": {
      "text/plain": [
       "40678"
      ]
     },
     "execution_count": 14,
     "metadata": {},
     "output_type": "execute_result"
    }
   ],
   "source": [
    "len(tweets_df)"
   ]
  },
  {
   "cell_type": "code",
   "execution_count": 15,
   "metadata": {},
   "outputs": [
    {
     "data": {
      "text/plain": [
       "['Donald J. Trump',\n",
       " 'Bernie Sanders',\n",
       " 'Kamala Harris',\n",
       " 'Elizabeth Warren',\n",
       " 'Joe Biden',\n",
       " 'Tulsi Gabbard']"
      ]
     },
     "execution_count": 15,
     "metadata": {},
     "output_type": "execute_result"
    }
   ],
   "source": [
    "grouped_df = tweets_df.groupby(tweets_df['user_name']).median()\n",
    "grouped_df = grouped_df[['retweet_count']].sort_values('retweet_count', ascending = False).iloc[:7]\n",
    "# grouped_df.sort_values('retweet_count', ascendingh = False)\n",
    "grouped_df\n",
    "top_candidates =[]\n",
    "for i, r in grouped_df.iterrows():\n",
    "    top_candidates.append(i)\n",
    "# Remove Eric Swalwell from list (dropped out)\n",
    "top_candidates.pop(3)\n",
    "top_candidates"
   ]
  },
  {
   "cell_type": "code",
   "execution_count": 16,
   "metadata": {},
   "outputs": [],
   "source": [
    "tweets_df = tweets_df.loc[tweets_df['user_name'].isin(top_candidates), :].reset_index(drop=True)"
   ]
  },
  {
   "cell_type": "code",
   "execution_count": 17,
   "metadata": {},
   "outputs": [
    {
     "data": {
      "text/plain": [
       "10520"
      ]
     },
     "execution_count": 17,
     "metadata": {},
     "output_type": "execute_result"
    }
   ],
   "source": [
    "len(tweets_df)"
   ]
  },
  {
   "cell_type": "code",
   "execution_count": 18,
   "metadata": {},
   "outputs": [],
   "source": [
    "tweets_df[\"day\"] = tweets_df[\"created_at_datetime\"].apply(lambda x: dt.datetime.strftime(x, \"%A\"))\n",
    "tweets_df[\"hour\"] = tweets_df[\"created_at_datetime\"].apply(lambda x: dt.datetime.strftime(x, \"%H\"))\n",
    "tweets_df[\"month\"] = tweets_df[\"created_at_datetime\"].apply(lambda x: dt.datetime.strftime(x, \"%B\"))"
   ]
  },
  {
   "cell_type": "code",
   "execution_count": 19,
   "metadata": {},
   "outputs": [],
   "source": [
    "tweets_df.drop(columns = [\"created_at\", \"created_at_time\", \"created_at_date\",\"created_at_datetime\",\n",
    "                    \"tweet_id\", \"tweet_id_str\", \"in_reply_to_status_id\",\n",
    "                    \"in_reply_to_status_id_str\", \"in_reply_to_user_id\",\n",
    "                    \"in_reply_to_user_id_str\", \"in_reply_to_screen_name\",\n",
    "                    \"user_id_str\", \"user_id\", \"user_screen_name\", \"id\"], inplace = True)"
   ]
  },
  {
   "cell_type": "code",
   "execution_count": 20,
   "metadata": {},
   "outputs": [],
   "source": [
    "tweets_df = tweets_df[[\"user_name\", \"month\", \"day\", \"hour\", \"retweet_count\", \"favorite_count\", \"full_text\"]]"
   ]
  },
  {
   "cell_type": "code",
   "execution_count": 21,
   "metadata": {},
   "outputs": [
    {
     "data": {
      "text/html": [
       "<div>\n",
       "<style scoped>\n",
       "    .dataframe tbody tr th:only-of-type {\n",
       "        vertical-align: middle;\n",
       "    }\n",
       "\n",
       "    .dataframe tbody tr th {\n",
       "        vertical-align: top;\n",
       "    }\n",
       "\n",
       "    .dataframe thead th {\n",
       "        text-align: right;\n",
       "    }\n",
       "</style>\n",
       "<table border=\"1\" class=\"dataframe\">\n",
       "  <thead>\n",
       "    <tr style=\"text-align: right;\">\n",
       "      <th></th>\n",
       "      <th>user_name</th>\n",
       "      <th>month</th>\n",
       "      <th>day</th>\n",
       "      <th>hour</th>\n",
       "      <th>retweet_count</th>\n",
       "      <th>favorite_count</th>\n",
       "      <th>full_text</th>\n",
       "    </tr>\n",
       "  </thead>\n",
       "  <tbody>\n",
       "    <tr>\n",
       "      <th>0</th>\n",
       "      <td>Joe Biden</td>\n",
       "      <td>July</td>\n",
       "      <td>Wednesday</td>\n",
       "      <td>22</td>\n",
       "      <td>938</td>\n",
       "      <td>4134</td>\n",
       "      <td>Here's the deal, President Trump inherited the...</td>\n",
       "    </tr>\n",
       "    <tr>\n",
       "      <th>1</th>\n",
       "      <td>Joe Biden</td>\n",
       "      <td>July</td>\n",
       "      <td>Wednesday</td>\n",
       "      <td>21</td>\n",
       "      <td>173</td>\n",
       "      <td>790</td>\n",
       "      <td>I’ve got some exciting news: I am now on Snapc...</td>\n",
       "    </tr>\n",
       "  </tbody>\n",
       "</table>\n",
       "</div>"
      ],
      "text/plain": [
       "   user_name month        day hour  retweet_count  favorite_count  \\\n",
       "0  Joe Biden  July  Wednesday   22            938            4134   \n",
       "1  Joe Biden  July  Wednesday   21            173             790   \n",
       "\n",
       "                                           full_text  \n",
       "0  Here's the deal, President Trump inherited the...  \n",
       "1  I’ve got some exciting news: I am now on Snapc...  "
      ]
     },
     "execution_count": 21,
     "metadata": {},
     "output_type": "execute_result"
    }
   ],
   "source": [
    "tweets_df.head(2)"
   ]
  },
  {
   "cell_type": "code",
   "execution_count": 22,
   "metadata": {},
   "outputs": [
    {
     "data": {
      "text/plain": [
       "6"
      ]
     },
     "execution_count": 22,
     "metadata": {},
     "output_type": "execute_result"
    }
   ],
   "source": [
    "len(tweets_df.groupby(tweets_df[\"user_name\"]).count())"
   ]
  },
  {
   "cell_type": "code",
   "execution_count": 144,
   "metadata": {},
   "outputs": [],
   "source": [
    "X_count_df = tweets_df[[\"full_text\", \"month\", \"day\", \"hour\", \"retweet_count\", \"favorite_count\"]]\n",
    "X_count_df = pd.get_dummies(X_count_df, columns = [\"month\", \"day\", \"hour\"])"
   ]
  },
  {
   "cell_type": "code",
   "execution_count": 24,
   "metadata": {},
   "outputs": [
    {
     "data": {
      "text/html": [
       "<div>\n",
       "<style scoped>\n",
       "    .dataframe tbody tr th:only-of-type {\n",
       "        vertical-align: middle;\n",
       "    }\n",
       "\n",
       "    .dataframe tbody tr th {\n",
       "        vertical-align: top;\n",
       "    }\n",
       "\n",
       "    .dataframe thead th {\n",
       "        text-align: right;\n",
       "    }\n",
       "</style>\n",
       "<table border=\"1\" class=\"dataframe\">\n",
       "  <thead>\n",
       "    <tr style=\"text-align: right;\">\n",
       "      <th></th>\n",
       "      <th>full_text</th>\n",
       "      <th>retweet_count</th>\n",
       "      <th>favorite_count</th>\n",
       "      <th>month_April</th>\n",
       "      <th>month_August</th>\n",
       "      <th>month_December</th>\n",
       "      <th>month_February</th>\n",
       "      <th>month_January</th>\n",
       "      <th>month_July</th>\n",
       "      <th>month_June</th>\n",
       "      <th>...</th>\n",
       "      <th>hour_14</th>\n",
       "      <th>hour_15</th>\n",
       "      <th>hour_16</th>\n",
       "      <th>hour_17</th>\n",
       "      <th>hour_18</th>\n",
       "      <th>hour_19</th>\n",
       "      <th>hour_20</th>\n",
       "      <th>hour_21</th>\n",
       "      <th>hour_22</th>\n",
       "      <th>hour_23</th>\n",
       "    </tr>\n",
       "  </thead>\n",
       "  <tbody>\n",
       "    <tr>\n",
       "      <th>0</th>\n",
       "      <td>Here's the deal, President Trump inherited the...</td>\n",
       "      <td>938</td>\n",
       "      <td>4134</td>\n",
       "      <td>0</td>\n",
       "      <td>0</td>\n",
       "      <td>0</td>\n",
       "      <td>0</td>\n",
       "      <td>0</td>\n",
       "      <td>1</td>\n",
       "      <td>0</td>\n",
       "      <td>...</td>\n",
       "      <td>0</td>\n",
       "      <td>0</td>\n",
       "      <td>0</td>\n",
       "      <td>0</td>\n",
       "      <td>0</td>\n",
       "      <td>0</td>\n",
       "      <td>0</td>\n",
       "      <td>0</td>\n",
       "      <td>1</td>\n",
       "      <td>0</td>\n",
       "    </tr>\n",
       "    <tr>\n",
       "      <th>1</th>\n",
       "      <td>I’ve got some exciting news: I am now on Snapc...</td>\n",
       "      <td>173</td>\n",
       "      <td>790</td>\n",
       "      <td>0</td>\n",
       "      <td>0</td>\n",
       "      <td>0</td>\n",
       "      <td>0</td>\n",
       "      <td>0</td>\n",
       "      <td>1</td>\n",
       "      <td>0</td>\n",
       "      <td>...</td>\n",
       "      <td>0</td>\n",
       "      <td>0</td>\n",
       "      <td>0</td>\n",
       "      <td>0</td>\n",
       "      <td>0</td>\n",
       "      <td>0</td>\n",
       "      <td>0</td>\n",
       "      <td>1</td>\n",
       "      <td>0</td>\n",
       "      <td>0</td>\n",
       "    </tr>\n",
       "  </tbody>\n",
       "</table>\n",
       "<p>2 rows × 46 columns</p>\n",
       "</div>"
      ],
      "text/plain": [
       "                                           full_text  retweet_count  \\\n",
       "0  Here's the deal, President Trump inherited the...            938   \n",
       "1  I’ve got some exciting news: I am now on Snapc...            173   \n",
       "\n",
       "   favorite_count  month_April  month_August  month_December  month_February  \\\n",
       "0            4134            0             0               0               0   \n",
       "1             790            0             0               0               0   \n",
       "\n",
       "   month_January  month_July  month_June   ...     hour_14  hour_15  hour_16  \\\n",
       "0              0           1           0   ...           0        0        0   \n",
       "1              0           1           0   ...           0        0        0   \n",
       "\n",
       "   hour_17  hour_18  hour_19  hour_20  hour_21  hour_22  hour_23  \n",
       "0        0        0        0        0        0        1        0  \n",
       "1        0        0        0        0        1        0        0  \n",
       "\n",
       "[2 rows x 46 columns]"
      ]
     },
     "execution_count": 24,
     "metadata": {},
     "output_type": "execute_result"
    }
   ],
   "source": [
    "X_count_df.head(2)"
   ]
  },
  {
   "cell_type": "code",
   "execution_count": 25,
   "metadata": {},
   "outputs": [],
   "source": [
    "import nltk\n",
    "import re\n",
    "import string\n",
    "pd.set_option('display.max_colwidth', 100) # To extend column width\n",
    "\n",
    "stopwords = nltk.corpus.stopwords.words('english')\n",
    "wn = nltk.WordNetLemmatizer()"
   ]
  },
  {
   "cell_type": "code",
   "execution_count": 26,
   "metadata": {},
   "outputs": [],
   "source": [
    "def clean_text(text):\n",
    "    text = text.replace('&amp;', '&')\n",
    "    text = text.replace('\\n', ' ')\n",
    "    text = \"\".join([word.lower() for word in text if word not in string.punctuation])\n",
    "    tokens = re.split('\\W+', text)\n",
    "    text = [wn.lemmatize(word) for word in tokens if word not in stopwords]\n",
    "    return text"
   ]
  },
  {
   "cell_type": "markdown",
   "metadata": {},
   "source": [
    "# Bag of Words"
   ]
  },
  {
   "cell_type": "markdown",
   "metadata": {},
   "source": [
    "# Count Vectorizer"
   ]
  },
  {
   "cell_type": "code",
   "execution_count": 145,
   "metadata": {},
   "outputs": [],
   "source": [
    "from sklearn.feature_extraction.text import CountVectorizer\n",
    "\n",
    "# CountVectorizer\n",
    "count_vect = CountVectorizer(analyzer=clean_text)\n",
    "X_count_vect = count_vect.fit_transform(X_count_df['full_text'])"
   ]
  },
  {
   "cell_type": "code",
   "execution_count": 146,
   "metadata": {},
   "outputs": [],
   "source": [
    "X_count_df.drop(columns = ['full_text'], inplace = True)"
   ]
  },
  {
   "cell_type": "code",
   "execution_count": 147,
   "metadata": {},
   "outputs": [],
   "source": [
    "X_count_df = pd.concat([X_count_df, pd.DataFrame(X_count_vect.toarray(), columns=count_vect.get_feature_names())], axis=1)"
   ]
  },
  {
   "cell_type": "code",
   "execution_count": 148,
   "metadata": {},
   "outputs": [
    {
     "data": {
      "text/plain": [
       "(10520, 20445)"
      ]
     },
     "execution_count": 148,
     "metadata": {},
     "output_type": "execute_result"
    }
   ],
   "source": [
    "X_count_df.shape"
   ]
  },
  {
   "cell_type": "code",
   "execution_count": 149,
   "metadata": {},
   "outputs": [],
   "source": [
    "rf_columns = X_count_df.columns"
   ]
  },
  {
   "cell_type": "code",
   "execution_count": 151,
   "metadata": {},
   "outputs": [
    {
     "data": {
      "text/plain": [
       "Index(['retweet_count', 'favorite_count', 'month_April', 'month_August',\n",
       "       'month_December', 'month_February', 'month_January', 'month_July',\n",
       "       'month_June', 'month_March',\n",
       "       ...\n",
       "       'شده', 'فساد', 'فقط', 'مدتهاست', 'مردم', 'موجب', 'هستند', 'چهلسالشکست',\n",
       "       'که', '۴۰'],\n",
       "      dtype='object', length=20445)"
      ]
     },
     "execution_count": 151,
     "metadata": {},
     "output_type": "execute_result"
    }
   ],
   "source": [
    "rf_columns"
   ]
  },
  {
   "cell_type": "code",
   "execution_count": 152,
   "metadata": {},
   "outputs": [],
   "source": [
    "rf_columns_list = list(rf_columns)"
   ]
  },
  {
   "cell_type": "code",
   "execution_count": 153,
   "metadata": {},
   "outputs": [
    {
     "data": {
      "text/plain": [
       "20445"
      ]
     },
     "execution_count": 153,
     "metadata": {},
     "output_type": "execute_result"
    }
   ],
   "source": [
    "len(rf_columns)"
   ]
  },
  {
   "cell_type": "code",
   "execution_count": 156,
   "metadata": {},
   "outputs": [],
   "source": [
    "with open('rf_columns.pkl', 'wb') as f:\n",
    "   pickle.dump(rf_columns_list, f)"
   ]
  },
  {
   "cell_type": "code",
   "execution_count": 89,
   "metadata": {},
   "outputs": [],
   "source": [
    "data_y = tweets_df.values\n",
    "data_x = X_count_df.values\n",
    "X_count = data_x[:, 0:]\n",
    "y_count = data_y[:,0]"
   ]
  },
  {
   "cell_type": "code",
   "execution_count": 90,
   "metadata": {},
   "outputs": [
    {
     "data": {
      "text/plain": [
       "array([[  938,  4134,     0, ...,     0,     0,     0],\n",
       "       [  173,   790,     0, ...,     0,     0,     0],\n",
       "       [  712,  4376,     0, ...,     0,     0,     0],\n",
       "       ...,\n",
       "       [  741, 20234,     0, ...,     0,     0,     0],\n",
       "       [18289, 68718,     0, ...,     0,     0,     0],\n",
       "       [   11,    74,     0, ...,     0,     0,     0]], dtype=int64)"
      ]
     },
     "execution_count": 90,
     "metadata": {},
     "output_type": "execute_result"
    }
   ],
   "source": [
    "X_count"
   ]
  },
  {
   "cell_type": "code",
   "execution_count": 91,
   "metadata": {},
   "outputs": [
    {
     "data": {
      "text/plain": [
       "(10520, 20445)"
      ]
     },
     "execution_count": 91,
     "metadata": {},
     "output_type": "execute_result"
    }
   ],
   "source": [
    "X_count.shape"
   ]
  },
  {
   "cell_type": "code",
   "execution_count": 92,
   "metadata": {},
   "outputs": [],
   "source": [
    "X_count_sparse = csr_matrix(X_count)"
   ]
  },
  {
   "cell_type": "code",
   "execution_count": 142,
   "metadata": {},
   "outputs": [
    {
     "data": {
      "text/plain": [
       "<10520x20445 sparse matrix of type '<class 'numpy.int64'>'\n",
       "\twith 236493 stored elements in Compressed Sparse Row format>"
      ]
     },
     "execution_count": 142,
     "metadata": {},
     "output_type": "execute_result"
    }
   ],
   "source": [
    "X_count_sparse"
   ]
  },
  {
   "cell_type": "code",
   "execution_count": 35,
   "metadata": {},
   "outputs": [],
   "source": [
    "from sklearn.model_selection import train_test_split"
   ]
  },
  {
   "cell_type": "code",
   "execution_count": 36,
   "metadata": {},
   "outputs": [],
   "source": [
    "from sklearn.preprocessing import MaxAbsScaler"
   ]
  },
  {
   "cell_type": "code",
   "execution_count": 37,
   "metadata": {},
   "outputs": [],
   "source": [
    "from sklearn.preprocessing import LabelEncoder"
   ]
  },
  {
   "cell_type": "code",
   "execution_count": 38,
   "metadata": {},
   "outputs": [],
   "source": [
    "from matplotlib.legend_handler import HandlerLine2D"
   ]
  },
  {
   "cell_type": "code",
   "execution_count": 39,
   "metadata": {},
   "outputs": [],
   "source": [
    "# from keras.utils import to_categorical"
   ]
  },
  {
   "cell_type": "markdown",
   "metadata": {},
   "source": [
    "## Train-Test-Split/Label-Encoding (Grid Search)"
   ]
  },
  {
   "cell_type": "code",
   "execution_count": 51,
   "metadata": {},
   "outputs": [],
   "source": [
    "X_train_cv, X_test_cv, y_train_cv, y_test_cv = train_test_split(X_count_sparse, y_count, random_state=42,\n",
    "                                                               train_size = 0.9,\n",
    "                                                               shuffle = True)"
   ]
  },
  {
   "cell_type": "code",
   "execution_count": 52,
   "metadata": {},
   "outputs": [],
   "source": [
    "X_scaler_cv = MaxAbsScaler().fit(X_train_cv)"
   ]
  },
  {
   "cell_type": "code",
   "execution_count": 164,
   "metadata": {},
   "outputs": [
    {
     "data": {
      "text/plain": [
       "['rf_scaler.save']"
      ]
     },
     "execution_count": 164,
     "metadata": {},
     "output_type": "execute_result"
    }
   ],
   "source": [
    "scaler_filename = \"rf_scaler.save\"\n",
    "joblib.dump(X_scaler_cv, scaler_filename) "
   ]
  },
  {
   "cell_type": "code",
   "execution_count": 53,
   "metadata": {},
   "outputs": [],
   "source": [
    "X_train_scaled_cv = X_scaler_cv.transform(X_train_cv)\n",
    "X_test_scaled_cv = X_scaler_cv.transform(X_test_cv)"
   ]
  },
  {
   "cell_type": "code",
   "execution_count": 54,
   "metadata": {},
   "outputs": [],
   "source": [
    "# Step 1: Label-encode data set\n",
    "label_encoder_cv = LabelEncoder()\n",
    "label_encoder_cv.fit(y_train_cv)\n",
    "\n",
    "encoded_y_train_cv = label_encoder_cv.transform(y_train_cv)\n",
    "encoded_y_test_cv = label_encoder_cv.transform(y_test_cv)"
   ]
  },
  {
   "cell_type": "code",
   "execution_count": 55,
   "metadata": {},
   "outputs": [],
   "source": [
    "encoded_y_train_cv = encoded_y_train_cv.reshape(-1, 1)\n",
    "encoded_y_test_cv = encoded_y_test_cv.reshape(-1, 1)"
   ]
  },
  {
   "cell_type": "code",
   "execution_count": 161,
   "metadata": {},
   "outputs": [
    {
     "data": {
      "text/plain": [
       "array(['Bernie Sanders', 'Donald J. Trump', 'Elizabeth Warren',\n",
       "       'Joe Biden', 'Kamala Harris', 'Tulsi Gabbard'], dtype=object)"
      ]
     },
     "execution_count": 161,
     "metadata": {},
     "output_type": "execute_result"
    }
   ],
   "source": [
    "label_encoder_cv.classes_"
   ]
  },
  {
   "cell_type": "code",
   "execution_count": 162,
   "metadata": {},
   "outputs": [],
   "source": [
    "np.save('rf_classes.npy', label_encoder_cv.classes_)"
   ]
  },
  {
   "cell_type": "markdown",
   "metadata": {},
   "source": [
    "## Train-Test-Split/Label Encoding (In-Depth Parameter Tuning)"
   ]
  },
  {
   "cell_type": "code",
   "execution_count": 56,
   "metadata": {},
   "outputs": [],
   "source": [
    "X_train, X_test, y_train, y_test = train_test_split(X_count_sparse, y_count, random_state=42)"
   ]
  },
  {
   "cell_type": "code",
   "execution_count": 57,
   "metadata": {},
   "outputs": [],
   "source": [
    "X_scaler = MaxAbsScaler().fit(X_train)"
   ]
  },
  {
   "cell_type": "code",
   "execution_count": 58,
   "metadata": {},
   "outputs": [],
   "source": [
    "X_train_scaled = X_scaler.transform(X_train)\n",
    "X_test_scaled = X_scaler.transform(X_test)"
   ]
  },
  {
   "cell_type": "code",
   "execution_count": 59,
   "metadata": {},
   "outputs": [
    {
     "data": {
      "text/plain": [
       "(7890, 20445)"
      ]
     },
     "execution_count": 59,
     "metadata": {},
     "output_type": "execute_result"
    }
   ],
   "source": [
    "X_train_scaled.shape"
   ]
  },
  {
   "cell_type": "code",
   "execution_count": 60,
   "metadata": {},
   "outputs": [],
   "source": [
    "# Step 1: Label-encode data set\n",
    "label_encoder = LabelEncoder()\n",
    "label_encoder.fit(y_train)\n",
    "\n",
    "encoded_y_train = label_encoder.transform(y_train)\n",
    "encoded_y_test = label_encoder.transform(y_test)"
   ]
  },
  {
   "cell_type": "code",
   "execution_count": 61,
   "metadata": {},
   "outputs": [],
   "source": [
    "encoded_y_train = encoded_y_train.reshape(-1, 1)\n",
    "encoded_y_test = encoded_y_test.reshape(-1, 1)"
   ]
  },
  {
   "cell_type": "markdown",
   "metadata": {},
   "source": [
    "## N_estimators (Count Vectorizer)"
   ]
  },
  {
   "cell_type": "code",
   "execution_count": 63,
   "metadata": {},
   "outputs": [],
   "source": [
    "n_estimators = [1, 2, 4, 8, 16, 32, 64, 100, 150, 200, 300]\n",
    "\n",
    "train_results = []\n",
    "test_results = []\n",
    "\n",
    "for estimator in n_estimators:\n",
    "    rf = RandomForestClassifier(n_estimators=estimator, n_jobs=-1)\n",
    "    rf.fit(X_train_scaled, encoded_y_train)\n",
    "\n",
    "    train_results.append(rf.score(X_train_scaled, encoded_y_train))\n",
    "    test_results.append(rf.score(X_test_scaled, encoded_y_test))"
   ]
  },
  {
   "cell_type": "code",
   "execution_count": 64,
   "metadata": {},
   "outputs": [
    {
     "data": {
      "image/png": "[encoded data removed]",
      "text/plain": [
       "<Figure size 432x288 with 1 Axes>"
      ]
     },
     "metadata": {
      "needs_background": "light"
     },
     "output_type": "display_data"
    }
   ],
   "source": [
    "line1, = plt.plot(n_estimators, train_results, 'b', label=\"Train\")\n",
    "line2, = plt.plot(n_estimators, test_results, 'r', label=\"Test\")\n",
    "\n",
    "plt.legend(handler_map={line1: HandlerLine2D(numpoints=2)})\n",
    "\n",
    "plt.ylabel('RF score')\n",
    "plt.xlabel('n_estimators')\n",
    "plt.show()"
   ]
  },
  {
   "cell_type": "code",
   "execution_count": null,
   "metadata": {},
   "outputs": [],
   "source": [
    "# Best ~ 150 (100 - 300)"
   ]
  },
  {
   "cell_type": "markdown",
   "metadata": {},
   "source": [
    "## Max-Depth (Count Vectorizer)"
   ]
  },
  {
   "cell_type": "code",
   "execution_count": 65,
   "metadata": {},
   "outputs": [],
   "source": [
    "max_depths = list(np.linspace(1, 90, 90, endpoint=True))\n",
    "\n",
    "train_results = []\n",
    "test_results = []\n",
    "for max_depth in max_depths:\n",
    "    rf = RandomForestClassifier(max_depth=max_depth, n_jobs=-1)\n",
    "    rf.fit(X_train_scaled, encoded_y_train)\n",
    "\n",
    "    train_results.append(rf.score(X_train_scaled, encoded_y_train))\n",
    "    test_results.append(rf.score(X_test_scaled, encoded_y_test))"
   ]
  },
  {
   "cell_type": "code",
   "execution_count": 67,
   "metadata": {},
   "outputs": [
    {
     "data": {
      "image/png": "[encoded data removed]",
      "text/plain": [
       "<Figure size 432x288 with 1 Axes>"
      ]
     },
     "metadata": {
      "needs_background": "light"
     },
     "output_type": "display_data"
    }
   ],
   "source": [
    "line1, = plt.plot(max_depths, train_results, 'b', label=\"Train\")\n",
    "line2, = plt.plot(max_depths, test_results, 'r', label=\"Test\")\n",
    "\n",
    "plt.legend(handler_map={line1: HandlerLine2D(numpoints=2)})\n",
    "\n",
    "plt.ylabel('RF score')\n",
    "plt.xlabel('max_depth')\n",
    "plt.show()"
   ]
  },
  {
   "cell_type": "code",
   "execution_count": null,
   "metadata": {},
   "outputs": [],
   "source": [
    "# Best ~ 15 (5 - 15)"
   ]
  },
  {
   "cell_type": "markdown",
   "metadata": {},
   "source": [
    "## Min_samples_split (Count Vectorizer)"
   ]
  },
  {
   "cell_type": "code",
   "execution_count": 68,
   "metadata": {},
   "outputs": [],
   "source": [
    "min_samples_splits = list(np.linspace(0.1, 1.0, 10, endpoint=True))\n",
    "\n",
    "train_results = []\n",
    "test_results = []\n",
    "for min_samples_split in min_samples_splits:\n",
    "    rf = RandomForestClassifier(min_samples_split=min_samples_split, n_jobs=-1)\n",
    "    rf.fit(X_train_scaled, encoded_y_train)\n",
    "    \n",
    "    train_results.append(rf.score(X_train_scaled, encoded_y_train))\n",
    "    test_results.append(rf.score(X_test_scaled, encoded_y_test))"
   ]
  },
  {
   "cell_type": "code",
   "execution_count": 69,
   "metadata": {},
   "outputs": [
    {
     "data": {
      "image/png": "[encoded data removed]",
      "text/plain": [
       "<Figure size 432x288 with 1 Axes>"
      ]
     },
     "metadata": {
      "needs_background": "light"
     },
     "output_type": "display_data"
    }
   ],
   "source": [
    "line1, = plt.plot(min_samples_splits, train_results, 'b', label=\"Train\")\n",
    "line2, = plt.plot(min_samples_splits, test_results, 'r', label=\"Test\")\n",
    "\n",
    "plt.legend(handler_map={line1: HandlerLine2D(numpoints=2)})\n",
    "\n",
    "plt.ylabel('RF score')\n",
    "plt.xlabel('min_samples_split')\n",
    "plt.show()"
   ]
  },
  {
   "cell_type": "code",
   "execution_count": null,
   "metadata": {},
   "outputs": [],
   "source": [
    "#Best ~ 150 (10-150)"
   ]
  },
  {
   "cell_type": "markdown",
   "metadata": {},
   "source": [
    "## Min_samples_leaf (Count Vectorizer)"
   ]
  },
  {
   "cell_type": "code",
   "execution_count": 74,
   "metadata": {},
   "outputs": [],
   "source": [
    "min_samples_leafs = list(np.linspace(.01, 0.5, 20, endpoint = True))\n",
    "\n",
    "train_results = []\n",
    "test_results = []\n",
    "for min_samples_leaf in min_samples_leafs:\n",
    "    rf = RandomForestClassifier(min_samples_leaf=min_samples_leaf, n_jobs=-1)\n",
    "    rf.fit(X_train_scaled, encoded_y_train)\n",
    "\n",
    "    train_results.append(rf.score(X_train_scaled, encoded_y_train))\n",
    "    test_results.append(rf.score(X_test_scaled, encoded_y_test))"
   ]
  },
  {
   "cell_type": "code",
   "execution_count": 75,
   "metadata": {},
   "outputs": [
    {
     "data": {
      "image/png": "[encoded data removed]",
      "text/plain": [
       "<Figure size 432x288 with 1 Axes>"
      ]
     },
     "metadata": {
      "needs_background": "light"
     },
     "output_type": "display_data"
    }
   ],
   "source": [
    "line1, = plt.plot(min_samples_leafs, train_results, 'b', label=\"Train\")\n",
    "line2, = plt.plot(min_samples_leafs, test_results, 'r', label=\"Test\")\n",
    "\n",
    "plt.legend(handler_map={line1: HandlerLine2D(numpoints=2)})\n",
    "\n",
    "plt.ylabel('RF score')\n",
    "plt.xlabel('min_samples_leaf')\n",
    "plt.show()"
   ]
  },
  {
   "cell_type": "markdown",
   "metadata": {},
   "source": [
    "## Max_features (Count Vectorizer)"
   ]
  },
  {
   "cell_type": "code",
   "execution_count": 76,
   "metadata": {},
   "outputs": [],
   "source": [
    "max_features_list = list(range(1, 3000, 100))\n",
    "\n",
    "train_results = []\n",
    "test_results = []\n",
    "for max_features in max_features_list:\n",
    "    rf = RandomForestClassifier(max_features=max_features, n_jobs=-1)\n",
    "    rf.fit(X_train_scaled, encoded_y_train)\n",
    "    \n",
    "    train_results.append(rf.score(X_train_scaled, encoded_y_train))\n",
    "    test_results.append(rf.score(X_test_scaled, encoded_y_test))"
   ]
  },
  {
   "cell_type": "code",
   "execution_count": 77,
   "metadata": {},
   "outputs": [
    {
     "data": {
      "image/png": "[encoded data removed]",
      "text/plain": [
       "<Figure size 432x288 with 1 Axes>"
      ]
     },
     "metadata": {
      "needs_background": "light"
     },
     "output_type": "display_data"
    }
   ],
   "source": [
    "line1, = plt.plot(max_features_list, train_results, 'b', label=\"Train\")\n",
    "line2, = plt.plot(max_features_list, test_results, 'r', label=\"Test\")\n",
    "\n",
    "plt.legend(handler_map={line1: HandlerLine2D(numpoints=2)})\n",
    "\n",
    "plt.ylabel('RF score')\n",
    "plt.xlabel('max_features')\n",
    "plt.show()"
   ]
  },
  {
   "cell_type": "markdown",
   "metadata": {},
   "source": [
    "## In-Depth Parameter Tuning Scoring (Count Vectorizer)"
   ]
  },
  {
   "cell_type": "code",
   "execution_count": 83,
   "metadata": {},
   "outputs": [
    {
     "data": {
      "text/plain": [
       "0.5768060836501901"
      ]
     },
     "execution_count": 83,
     "metadata": {},
     "output_type": "execute_result"
    }
   ],
   "source": [
    "# Create a random forest classifier\n",
    "rf = RandomForestClassifier(n_estimators=150, max_depth=15, min_samples_split = 2,\n",
    "                           min_samples_leaf = 1, max_features = 150)\n",
    "rf = rf.fit(X_train_scaled, encoded_y_train)\n",
    "rf.score(X_test_scaled, encoded_y_test)"
   ]
  },
  {
   "cell_type": "markdown",
   "metadata": {},
   "source": [
    "## GridSearch (Count Vectorizer)"
   ]
  },
  {
   "cell_type": "code",
   "execution_count": 85,
   "metadata": {},
   "outputs": [
    {
     "data": {
      "text/plain": [
       "[5, 7, 9, 11, 13, 15, None]"
      ]
     },
     "execution_count": 85,
     "metadata": {},
     "output_type": "execute_result"
    }
   ],
   "source": [
    "max_depth_gs = list(range(5, 16, 2))\n",
    "max_depth_gs.append(None)\n",
    "max_depth_gs"
   ]
  },
  {
   "cell_type": "code",
   "execution_count": 93,
   "metadata": {},
   "outputs": [
    {
     "name": "stdout",
     "output_type": "stream",
     "text": [
      "Fitting 5 folds for each of 847 candidates, totalling 4235 fits\n"
     ]
    },
    {
     "name": "stderr",
     "output_type": "stream",
     "text": [
      "[Parallel(n_jobs=-1)]: Using backend LokyBackend with 8 concurrent workers.\n",
      "[Parallel(n_jobs=-1)]: Done  16 tasks      | elapsed:    3.6s\n",
      "[Parallel(n_jobs=-1)]: Done 112 tasks      | elapsed:   14.9s\n",
      "[Parallel(n_jobs=-1)]: Done 272 tasks      | elapsed:   39.4s\n",
      "[Parallel(n_jobs=-1)]: Done 496 tasks      | elapsed:  1.4min\n",
      "[Parallel(n_jobs=-1)]: Done 784 tasks      | elapsed:  2.3min\n",
      "[Parallel(n_jobs=-1)]: Done 1136 tasks      | elapsed:  3.8min\n",
      "[Parallel(n_jobs=-1)]: Done 1552 tasks      | elapsed:  5.5min\n",
      "[Parallel(n_jobs=-1)]: Done 2032 tasks      | elapsed:  8.0min\n",
      "[Parallel(n_jobs=-1)]: Done 2576 tasks      | elapsed: 11.2min\n",
      "[Parallel(n_jobs=-1)]: Done 3184 tasks      | elapsed: 15.4min\n",
      "[Parallel(n_jobs=-1)]: Done 3856 tasks      | elapsed: 30.9min\n",
      "[Parallel(n_jobs=-1)]: Done 4235 out of 4235 | elapsed: 53.1min finished\n"
     ]
    },
    {
     "data": {
      "text/html": [
       "<div>\n",
       "<style scoped>\n",
       "    .dataframe tbody tr th:only-of-type {\n",
       "        vertical-align: middle;\n",
       "    }\n",
       "\n",
       "    .dataframe tbody tr th {\n",
       "        vertical-align: top;\n",
       "    }\n",
       "\n",
       "    .dataframe thead th {\n",
       "        text-align: right;\n",
       "    }\n",
       "</style>\n",
       "<table border=\"1\" class=\"dataframe\">\n",
       "  <thead>\n",
       "    <tr style=\"text-align: right;\">\n",
       "      <th></th>\n",
       "      <th>mean_fit_time</th>\n",
       "      <th>std_fit_time</th>\n",
       "      <th>mean_score_time</th>\n",
       "      <th>std_score_time</th>\n",
       "      <th>param_max_depth</th>\n",
       "      <th>param_max_features</th>\n",
       "      <th>param_n_estimators</th>\n",
       "      <th>params</th>\n",
       "      <th>split0_test_score</th>\n",
       "      <th>split1_test_score</th>\n",
       "      <th>...</th>\n",
       "      <th>mean_test_score</th>\n",
       "      <th>std_test_score</th>\n",
       "      <th>rank_test_score</th>\n",
       "      <th>split0_train_score</th>\n",
       "      <th>split1_train_score</th>\n",
       "      <th>split2_train_score</th>\n",
       "      <th>split3_train_score</th>\n",
       "      <th>split4_train_score</th>\n",
       "      <th>mean_train_score</th>\n",
       "      <th>std_train_score</th>\n",
       "    </tr>\n",
       "  </thead>\n",
       "  <tbody>\n",
       "    <tr>\n",
       "      <th>746</th>\n",
       "      <td>41.710285</td>\n",
       "      <td>0.268752</td>\n",
       "      <td>0.220211</td>\n",
       "      <td>0.010334</td>\n",
       "      <td>None</td>\n",
       "      <td>120</td>\n",
       "      <td>136</td>\n",
       "      <td>{'max_depth': None, 'max_features': 120, 'n_estimators': 136}</td>\n",
       "      <td>0.758839</td>\n",
       "      <td>0.764116</td>\n",
       "      <td>...</td>\n",
       "      <td>0.753802</td>\n",
       "      <td>0.006573</td>\n",
       "      <td>1</td>\n",
       "      <td>1.0</td>\n",
       "      <td>1.0</td>\n",
       "      <td>1.0</td>\n",
       "      <td>1.0</td>\n",
       "      <td>1.0</td>\n",
       "      <td>1.0</td>\n",
       "      <td>0.0</td>\n",
       "    </tr>\n",
       "    <tr>\n",
       "      <th>745</th>\n",
       "      <td>37.349943</td>\n",
       "      <td>0.239744</td>\n",
       "      <td>0.193483</td>\n",
       "      <td>0.003338</td>\n",
       "      <td>None</td>\n",
       "      <td>120</td>\n",
       "      <td>122</td>\n",
       "      <td>{'max_depth': None, 'max_features': 120, 'n_estimators': 122}</td>\n",
       "      <td>0.750923</td>\n",
       "      <td>0.764116</td>\n",
       "      <td>...</td>\n",
       "      <td>0.750528</td>\n",
       "      <td>0.007902</td>\n",
       "      <td>2</td>\n",
       "      <td>1.0</td>\n",
       "      <td>1.0</td>\n",
       "      <td>1.0</td>\n",
       "      <td>1.0</td>\n",
       "      <td>1.0</td>\n",
       "      <td>1.0</td>\n",
       "      <td>0.0</td>\n",
       "    </tr>\n",
       "    <tr>\n",
       "      <th>747</th>\n",
       "      <td>45.895895</td>\n",
       "      <td>0.198123</td>\n",
       "      <td>0.256514</td>\n",
       "      <td>0.018928</td>\n",
       "      <td>None</td>\n",
       "      <td>120</td>\n",
       "      <td>150</td>\n",
       "      <td>{'max_depth': None, 'max_features': 120, 'n_estimators': 150}</td>\n",
       "      <td>0.755145</td>\n",
       "      <td>0.757784</td>\n",
       "      <td>...</td>\n",
       "      <td>0.749261</td>\n",
       "      <td>0.006139</td>\n",
       "      <td>3</td>\n",
       "      <td>1.0</td>\n",
       "      <td>1.0</td>\n",
       "      <td>1.0</td>\n",
       "      <td>1.0</td>\n",
       "      <td>1.0</td>\n",
       "      <td>1.0</td>\n",
       "      <td>0.0</td>\n",
       "    </tr>\n",
       "    <tr>\n",
       "      <th>744</th>\n",
       "      <td>33.136408</td>\n",
       "      <td>0.181004</td>\n",
       "      <td>0.199068</td>\n",
       "      <td>0.020289</td>\n",
       "      <td>None</td>\n",
       "      <td>120</td>\n",
       "      <td>108</td>\n",
       "      <td>{'max_depth': None, 'max_features': 120, 'n_estimators': 108}</td>\n",
       "      <td>0.758311</td>\n",
       "      <td>0.754617</td>\n",
       "      <td>...</td>\n",
       "      <td>0.749155</td>\n",
       "      <td>0.006283</td>\n",
       "      <td>4</td>\n",
       "      <td>1.0</td>\n",
       "      <td>1.0</td>\n",
       "      <td>1.0</td>\n",
       "      <td>1.0</td>\n",
       "      <td>1.0</td>\n",
       "      <td>1.0</td>\n",
       "      <td>0.0</td>\n",
       "    </tr>\n",
       "    <tr>\n",
       "      <th>791</th>\n",
       "      <td>48.997679</td>\n",
       "      <td>0.569041</td>\n",
       "      <td>0.228390</td>\n",
       "      <td>0.010171</td>\n",
       "      <td>None</td>\n",
       "      <td>200</td>\n",
       "      <td>150</td>\n",
       "      <td>{'max_depth': None, 'max_features': 200, 'n_estimators': 150}</td>\n",
       "      <td>0.754617</td>\n",
       "      <td>0.754090</td>\n",
       "      <td>...</td>\n",
       "      <td>0.748521</td>\n",
       "      <td>0.005293</td>\n",
       "      <td>5</td>\n",
       "      <td>1.0</td>\n",
       "      <td>1.0</td>\n",
       "      <td>1.0</td>\n",
       "      <td>1.0</td>\n",
       "      <td>1.0</td>\n",
       "      <td>1.0</td>\n",
       "      <td>0.0</td>\n",
       "    </tr>\n",
       "  </tbody>\n",
       "</table>\n",
       "<p>5 rows × 23 columns</p>\n",
       "</div>"
      ],
      "text/plain": [
       "     mean_fit_time  std_fit_time  mean_score_time  std_score_time  \\\n",
       "746      41.710285      0.268752         0.220211        0.010334   \n",
       "745      37.349943      0.239744         0.193483        0.003338   \n",
       "747      45.895895      0.198123         0.256514        0.018928   \n",
       "744      33.136408      0.181004         0.199068        0.020289   \n",
       "791      48.997679      0.569041         0.228390        0.010171   \n",
       "\n",
       "    param_max_depth param_max_features param_n_estimators  \\\n",
       "746            None                120                136   \n",
       "745            None                120                122   \n",
       "747            None                120                150   \n",
       "744            None                120                108   \n",
       "791            None                200                150   \n",
       "\n",
       "                                                            params  \\\n",
       "746  {'max_depth': None, 'max_features': 120, 'n_estimators': 136}   \n",
       "745  {'max_depth': None, 'max_features': 120, 'n_estimators': 122}   \n",
       "747  {'max_depth': None, 'max_features': 120, 'n_estimators': 150}   \n",
       "744  {'max_depth': None, 'max_features': 120, 'n_estimators': 108}   \n",
       "791  {'max_depth': None, 'max_features': 200, 'n_estimators': 150}   \n",
       "\n",
       "     split0_test_score  split1_test_score       ...         mean_test_score  \\\n",
       "746           0.758839           0.764116       ...                0.753802   \n",
       "745           0.750923           0.764116       ...                0.750528   \n",
       "747           0.755145           0.757784       ...                0.749261   \n",
       "744           0.758311           0.754617       ...                0.749155   \n",
       "791           0.754617           0.754090       ...                0.748521   \n",
       "\n",
       "     std_test_score  rank_test_score  split0_train_score  split1_train_score  \\\n",
       "746        0.006573                1                 1.0                 1.0   \n",
       "745        0.007902                2                 1.0                 1.0   \n",
       "747        0.006139                3                 1.0                 1.0   \n",
       "744        0.006283                4                 1.0                 1.0   \n",
       "791        0.005293                5                 1.0                 1.0   \n",
       "\n",
       "     split2_train_score  split3_train_score  split4_train_score  \\\n",
       "746                 1.0                 1.0                 1.0   \n",
       "745                 1.0                 1.0                 1.0   \n",
       "747                 1.0                 1.0                 1.0   \n",
       "744                 1.0                 1.0                 1.0   \n",
       "791                 1.0                 1.0                 1.0   \n",
       "\n",
       "     mean_train_score  std_train_score  \n",
       "746               1.0              0.0  \n",
       "745               1.0              0.0  \n",
       "747               1.0              0.0  \n",
       "744               1.0              0.0  \n",
       "791               1.0              0.0  \n",
       "\n",
       "[5 rows x 23 columns]"
      ]
     },
     "execution_count": 93,
     "metadata": {},
     "output_type": "execute_result"
    }
   ],
   "source": [
    "rf = RandomForestClassifier()\n",
    "param = {'n_estimators': list(range(10, 151, 14)),\n",
    "        'max_depth': max_depth_gs,\n",
    "         'max_features': list(range(100, 301, 20))\n",
    "        }\n",
    "\n",
    "gs = GridSearchCV(rf, param, cv=5, n_jobs=-1, verbose = 3)# n_jobs=-1 for parallelizing search\n",
    "gs_fit = gs.fit(X_train_scaled_cv, encoded_y_test_cv)\n",
    "pd.DataFrame(gs_fit.cv_results_).sort_values('mean_test_score', ascending=False).head()"
   ]
  },
  {
   "cell_type": "code",
   "execution_count": 78,
   "metadata": {},
   "outputs": [
    {
     "data": {
      "text/plain": [
       "0.7557034220532319"
      ]
     },
     "execution_count": 78,
     "metadata": {},
     "output_type": "execute_result"
    }
   ],
   "source": [
    "# Create a random forest classifier\n",
    "rf = RandomForestClassifier(n_estimators=136, max_depth=None, min_samples_split = 2,\n",
    "                           min_samples_leaf = 1, max_features = 120)\n",
    "rf = rf.fit(X_train_scaled_cv, encoded_y_train_cv)\n",
    "rf.score(X_test_scaled_cv, encoded_y_test_cv)"
   ]
  },
  {
   "cell_type": "code",
   "execution_count": 158,
   "metadata": {},
   "outputs": [],
   "source": [
    "rf_model = RandomForestClassifier(n_estimators=136, max_depth=None, min_samples_split = 2,\n",
    "                           min_samples_leaf = 1, max_features = 120)\n",
    "rf_model = rf_model.fit(X_train_scaled_cv, encoded_y_train_cv)"
   ]
  },
  {
   "cell_type": "code",
   "execution_count": 159,
   "metadata": {},
   "outputs": [],
   "source": [
    "filename = \"rf_model.sav\""
   ]
  },
  {
   "cell_type": "code",
   "execution_count": 160,
   "metadata": {},
   "outputs": [],
   "source": [
    "with open(filename, 'wb') as f:\n",
    "   pickle.dump(rf_model, f)"
   ]
  },
  {
   "cell_type": "code",
   "execution_count": 166,
   "metadata": {},
   "outputs": [
    {
     "data": {
      "text/plain": [
       "array([6.56858720e-02, 6.41392906e-02, 2.14373369e-03, ...,\n",
       "       2.42319412e-06, 0.00000000e+00, 2.60164376e-06])"
      ]
     },
     "execution_count": 166,
     "metadata": {},
     "output_type": "execute_result"
    }
   ],
   "source": [
    "rf_model.feature_importances_"
   ]
  },
  {
   "cell_type": "code",
   "execution_count": 167,
   "metadata": {},
   "outputs": [
    {
     "data": {
      "text/plain": [
       "[(0.06568587196181194, 'retweet_count'),\n",
       " (0.06413929055201861, 'favorite_count'),\n",
       " (0.0068694378088359105, 'tulsi2020'),\n",
       " (0.006719183484608288, 'great'),\n",
       " (0.004750087575952967, 'fight'),\n",
       " (0.00464589469657858, 'plan'),\n",
       " (0.0036170059094245846, 'democrat'),\n",
       " (0.0035016963648117406, 'must'),\n",
       " (0.0033540162230363234, 'hour_11'),\n",
       " (0.0031877783271388204, 'medicare'),\n",
       " (0.003122238652806209, 'health'),\n",
       " (0.0030275895999934527, 'month_January'),\n",
       " (0.0030154674539666043, 'need'),\n",
       " (0.0028562046590405723, 'big'),\n",
       " (0.0027791110925871635, 'president'),\n",
       " (0.0027747088142832488, ''),\n",
       " (0.0027661637532956115, 'people'),\n",
       " (0.002733511805555472, 'month_February'),\n",
       " (0.0027295020326894193, 'month_July'),\n",
       " (0.002670731019579359, 'war'),\n",
       " (0.0026109994378329436, 'structural'),\n",
       " (0.002597184661621798, 'american'),\n",
       " (0.0025616629558525648, 'month_June'),\n",
       " (0.0025315484790693803, 'day_Thursday'),\n",
       " (0.002503136389808744, 'family'),\n",
       " (0.0024955884474599137, 'woman'),\n",
       " (0.0024849380614187172, 'day_Friday'),\n",
       " (0.0024806521413568987, 'greed'),\n",
       " (0.0024598668148035734, 'hour_12'),\n",
       " (0.002424226421466546, 'day_Wednesday'),\n",
       " (0.0023647257639127974, 'fighting'),\n",
       " (0.002306003533467412, 'border'),\n",
       " (0.002289940585868356, 'right'),\n",
       " (0.0022727079093822246, 'u'),\n",
       " (0.002265731068937473, 'day_Tuesday'),\n",
       " (0.002264173439748197, 'care'),\n",
       " (0.0022412315257343673, 'trump'),\n",
       " (0.002228069876102825, 'day_Saturday'),\n",
       " (0.002194514740517617, 'nation'),\n",
       " (0.002189385091282753, 'aloha'),\n",
       " (0.0021461729000908027, 'day_Monday'),\n",
       " (0.002143733691455118, 'month_April'),\n",
       " (0.0021217775484063824, 'tulsi'),\n",
       " (0.002109810353206324, 'country'),\n",
       " (0.0020943117248425898, 'glad'),\n",
       " (0.0020670059994031802, 'month_March'),\n",
       " (0.0020629521513800663, 'month_May'),\n",
       " (0.0020388352096229897, 'grassroots'),\n",
       " (0.0020316892166711465, 'change'),\n",
       " (0.0020094662360711202, 'day_Sunday'),\n",
       " (0.002006219777328424, 'million'),\n",
       " (0.001959897557022517, 'thank'),\n",
       " (0.0019506220271430837, 'make'),\n",
       " (0.0019357282668433905, 'end'),\n",
       " (0.001926612284874714, 'month_August'),\n",
       " (0.0019240239469186043, 'going'),\n",
       " (0.0019108927115131004, 'join'),\n",
       " (0.0018816466581158273, 'gun'),\n",
       " (0.001869794612014589, 'fake'),\n",
       " (0.0018602779533909801, 'grateful'),\n",
       " (0.0018274154675591194, 'worker'),\n",
       " (0.0018257140404389731, 'act'),\n",
       " (0.0018078915805830754, 'america'),\n",
       " (0.0018043834732434994, 'hour_13'),\n",
       " (0.0017857844129239512, 'time'),\n",
       " (0.0017530600796368829, 'teacher'),\n",
       " (0.0017426644885747426, 'hour_17'),\n",
       " (0.0017415883338849063, 'stand'),\n",
       " (0.0017279550131048802, 'billionaire'),\n",
       " (0.0017242335443152113, 'today'),\n",
       " (0.0017075912774058423, 'collusion'),\n",
       " (0.0016789118275561453, 'news'),\n",
       " (0.00167201630734374, 'hour_01'),\n",
       " (0.0016342031572056245, 'hour_20'),\n",
       " (0.0016121135278097305, 'hour_16'),\n",
       " (0.0016014474773624952, 'hour_21'),\n",
       " (0.0015942394863102361, 'one'),\n",
       " (0.0015884003064901252, 'insurance'),\n",
       " (0.001587789133913756, 'new'),\n",
       " (0.0015629598153157687, 'hour_19'),\n",
       " (0.0015605751691663808, 'every'),\n",
       " (0.001557343940448472, 'hour_00'),\n",
       " (0.0015562379662199925, 'community'),\n",
       " (0.001554737724804903, 'month_November'),\n",
       " (0.0015434225628725485, 'campaign'),\n",
       " (0.0015328139228705335, 'year'),\n",
       " (0.0015322508870567024, 'hour_18'),\n",
       " (0.0015189823445599293, 'hour_22'),\n",
       " (0.0015076499272993324, 'child'),\n",
       " (0.0014904669318759934, 'hour_15'),\n",
       " (0.0014850712011488325, 'defeat'),\n",
       " (0.001483991119111455, 'day'),\n",
       " (0.0014825502181817914, 'biden'),\n",
       " (0.00144949984538008, 'medium'),\n",
       " (0.0014371235922729867, 'life'),\n",
       " (0.001434315276211019, 'hour_23'),\n",
       " (0.0014280940401149135, 'donald'),\n",
       " (0.00140718713897819, 'work'),\n",
       " (0.0013823592353611463, 'warrentownhall'),\n",
       " (0.001374174733441023, 'let'),\n",
       " (0.0013592590673984085, 'get'),\n",
       " (0.0013515168625953158, 'justice'),\n",
       " (0.0013391364910993338, 'teamjoe'),\n",
       " (0.0013298945829969262, 'movement'),\n",
       " (0.0013283469326900558, 'pay'),\n",
       " (0.0013236003585252274, 'together'),\n",
       " (0.0013203106125163507, 'hour_14'),\n",
       " (0.0013127317171571131, 'take'),\n",
       " (0.001312595361002938, 'violence'),\n",
       " (0.0013075747457135906, 'china'),\n",
       " (0.0012736250079200008, 'back'),\n",
       " (0.001273056196406556, 'hour_02'),\n",
       " (0.0012683051419195377, 'state'),\n",
       " (0.0012677129710068728, 'deserve'),\n",
       " (0.0012549714446430105, 'month_September'),\n",
       " (0.001249935986336027, 'like'),\n",
       " (0.0012379092048273057, 'student'),\n",
       " (0.001223854631783127, 'everyone'),\n",
       " (0.0012225465189061027, 'bernie'),\n",
       " (0.0012132836526111636, 'jill'),\n",
       " (0.0012093073578766133, 'government'),\n",
       " (0.0012089067065330172, 'dems'),\n",
       " (0.0011966796340987045, 'system'),\n",
       " (0.0011928302309905348, 'usa'),\n",
       " (0.001182880629718219, 'want'),\n",
       " (0.0011764204405840025, 'demdebate'),\n",
       " (0.0011413206803656919, 'wage'),\n",
       " (0.001127811135770629, 'got'),\n",
       " (0.001112423882315036, 'support'),\n",
       " (0.0011049827544396178, 'giant'),\n",
       " (0.001099854640617109, 'job'),\n",
       " (0.0010997653413518987, 'world'),\n",
       " (0.0010880551970178043, 'across'),\n",
       " (0.0010850936441818713, 'many'),\n",
       " (0.0010785489353240267, 'hour_03'),\n",
       " (0.0010768328699846544, 'ensure'),\n",
       " (0.0010737705908499054, 'universalchildcare'),\n",
       " (0.0010677713386326986, 'political'),\n",
       " (0.0010666998688871549, 'would'),\n",
       " (0.0010652259544016805, 'done'),\n",
       " (0.0010649764547298747, 'future'),\n",
       " (0.001057036291986437, 'hour_10'),\n",
       " (0.001052461013475573, 'never'),\n",
       " (0.0010451782339803372, 'regime'),\n",
       " (0.0010443480085846825, 'transform'),\n",
       " (0.0010408977466866416, 'foxnews'),\n",
       " (0.0010386259200503654, 'nuclear'),\n",
       " (0.0010356484319889012, 'protect'),\n",
       " (0.0010225734811151294, 'go'),\n",
       " (0.0010156721047376775, 'administration'),\n",
       " (0.0010117819898815, 'live'),\n",
       " (0.0010089928870213453, 'company'),\n",
       " (0.0010075724417666241, 'debt'),\n",
       " (0.0010075438931329594, 'industry'),\n",
       " (0.001003653229298358, 'bill'),\n",
       " (0.0009997861135235863, 'bad'),\n",
       " (0.0009995216096620166, 'profit'),\n",
       " (0.0009938135991801674, 'federal'),\n",
       " (0.0009914077611329233, 'see'),\n",
       " (0.000988624997656187, 'month_October'),\n",
       " (0.0009806181539904217, 'public'),\n",
       " (0.000962035612852063, 'help'),\n",
       " (0.0009546300300910414, 'month_December'),\n",
       " (0.0009479702431382887, 'know'),\n",
       " (0.0009454150719002806, 'climate'),\n",
       " (0.0009429128307900823, 'united'),\n",
       " (0.0009393520603613278, 'peace'),\n",
       " (0.0009263946918928986, 'im'),\n",
       " (0.0009205626614685841, 'first'),\n",
       " (0.0009177545980591285, 'law'),\n",
       " (0.0009137416574296093, '15'),\n",
       " (0.0009116399505956354, 'love'),\n",
       " (0.0009042120795114991, 'working'),\n",
       " (0.0008923451534711749, 'education'),\n",
       " (0.0008868698648596114, 'drbiden'),\n",
       " (0.0008863841758984641, 'foxandfriends'),\n",
       " (0.0008851128090534953, 'crime'),\n",
       " (0.000883642500344181, 'white'),\n",
       " (0.0008815671922799591, 'revolution'),\n",
       " (0.0008707205220270411, 'tariff'),\n",
       " (0.0008649551401978233, 'way'),\n",
       " (0.0008603344508868737, 'republican'),\n",
       " (0.0008500777897420772, 'access'),\n",
       " (0.0008479389911067172, 'win'),\n",
       " (0.0008457323678903425, 'forthepeople'),\n",
       " (0.0008425138005281841, 'keep'),\n",
       " (0.0008371363441993334, 'come'),\n",
       " (0.0008260335255717856, 'raise'),\n",
       " (0.0008248996273251871, 'southern'),\n",
       " (0.0008248786377813887, 'power'),\n",
       " (0.0008216932066406488, 'congress'),\n",
       " (0.0008216551590455432, 'maga'),\n",
       " (0.0008188093828564946, 'much'),\n",
       " (0.0008163003661892364, 'good'),\n",
       " (0.0008160220376003355, '1'),\n",
       " (0.000809670847193408, 'house'),\n",
       " (0.0008075439165631083, 'dignity'),\n",
       " (0.0008066872683636164, 'black'),\n",
       " (0.0008031813657517584, 'say'),\n",
       " (0.000788190065156258, 'hard'),\n",
       " (0.0007835110203562356, 'speak'),\n",
       " (0.000783033604915276, 'endcorruptionnow'),\n",
       " (0.0007774622009133343, 'put'),\n",
       " (0.0007760342814779554, 'corporation'),\n",
       " (0.0007753625714699295, 'cannot'),\n",
       " (0.0007752262482659256, 'real'),\n",
       " (0.0007742223276817452, 'mueller'),\n",
       " (0.0007714816003397408, 'economy'),\n",
       " (0.0007685123648476293, 'witch'),\n",
       " (0.0007664568618549495, 'made'),\n",
       " (0.0007662461862825982, 'head'),\n",
       " (0.000766021699023469, 'shutdown'),\n",
       " (0.0007643129718501425, 'class'),\n",
       " (0.0007590268522438737, 'action'),\n",
       " (0.0007586193095816108, 'best'),\n",
       " (0.0007585792302209598, 'history'),\n",
       " (0.0007570326954320888, 'stop'),\n",
       " (0.0007525373015784994, 'policy'),\n",
       " (0.0007515379773372198, 'school'),\n",
       " (0.0007514681744286579, 'vote'),\n",
       " (0.0007508664196475837, 'powerful'),\n",
       " (0.0007490859771721173, 'leader'),\n",
       " (0.0007469240029789759, 'democracy'),\n",
       " (0.000746134743739032, 'last'),\n",
       " (0.0007413156884930481, 'wall'),\n",
       " (0.0007344206529021146, 'loan'),\n",
       " (0.0007335926087306736, 'better'),\n",
       " (0.0007304977945572529, 'give'),\n",
       " (0.000729678442974949, 'call'),\n",
       " (0.0007293079149012701, 'iowa'),\n",
       " (0.0007282449268866297, 'build'),\n",
       " (0.0007259728487504994, 'warren'),\n",
       " (0.0007179007524100156, 'billion'),\n",
       " (0.0007142537022279063, 'mexico'),\n",
       " (0.0007122700012107727, 'election'),\n",
       " (0.000707379977433204, 'tax'),\n",
       " (0.0007037017642365109, 'attack'),\n",
       " (0.0006996493582370532, 'safe'),\n",
       " (0.0006994527251429452, 'proud'),\n",
       " (0.0006959740239359429, 'crisis'),\n",
       " (0.0006952714333494654, 'street'),\n",
       " (0.0006947239814228005, 'clear'),\n",
       " (0.0006925858221272979, 'drug'),\n",
       " (0.0006925007273061133, 'lift'),\n",
       " (0.0006919163813673295, 'hope'),\n",
       " (0.0006908214282840273, 'money'),\n",
       " (0.0006883510124948548, 'california'),\n",
       " (0.0006868861077136558, 'even'),\n",
       " (0.0006818835943434743, 'playing'),\n",
       " (0.0006763526198197192, 'debate'),\n",
       " (0.0006710229018497381, 'security'),\n",
       " (0.0006690055143487052, 'hawaii'),\n",
       " (0.0006690033792791656, 'afford'),\n",
       " (0.0006680403571170962, 'national'),\n",
       " (0.0006667263788126866, 'thing'),\n",
       " (0.0006638905286738962, 'ever'),\n",
       " (0.0006623233790853869, 'service'),\n",
       " (0.0006599058587838777, 'gt'),\n",
       " (0.0006528584914070642, 'hunt'),\n",
       " (0.0006486905765184459, 'walmart'),\n",
       " (0.0006454356405202007, 'start'),\n",
       " (0.0006436822388215753, 'donor'),\n",
       " (0.0006436808432023624, 'report'),\n",
       " (0.0006426588345532381, 'home'),\n",
       " (0.0006425372704857644, 'pas'),\n",
       " (0.0006341458015775992, 'heart'),\n",
       " (0.0006339040393733989, 'living'),\n",
       " (0.0006317120684841563, 'joe'),\n",
       " (0.0006304892025589979, 'running'),\n",
       " (0.0006290867593033713, 'corporate'),\n",
       " (0.0006267717906090176, 'tune'),\n",
       " (0.0006225334950223807, 'winwithwarren'),\n",
       " (0.0006212182738808948, 'idea'),\n",
       " (0.0006197395339708814, 'college'),\n",
       " (0.0006178486310469156, 'breakupbigtech'),\n",
       " (0.0006176914299836856, 'deal'),\n",
       " (0.0006164186312204091, 'create'),\n",
       " (0.0006161363393284673, 'always'),\n",
       " (0.0006148982903504267, 'affordable'),\n",
       " (0.0006147826455631377, 'voice'),\n",
       " (0.0006123709230202119, 'soul'),\n",
       " (0.0006103435698354992, 'nothing'),\n",
       " (0.0006099227767082987, 'bruce'),\n",
       " (0.0006068292311272751, 'event'),\n",
       " (0.0006033432132594381, 'week'),\n",
       " (0.000602394911312253, 'friend'),\n",
       " (0.0005956072136055778, 'total'),\n",
       " (0.0005953558849528041, 'value'),\n",
       " (0.0005943945255584274, 'minimum'),\n",
       " (0.000591673497665996, 'sure'),\n",
       " (0.0005897296960963987, 'mother'),\n",
       " (0.0005852650151247541, 'tonight'),\n",
       " (0.0005836587078704271, 'assault'),\n",
       " (0.0005774522465598506, 'happy'),\n",
       " (0.0005712437340647336, 'making'),\n",
       " (0.0005707751845140905, 'thanks'),\n",
       " (0.0005705224176693478, 'read'),\n",
       " (0.0005691030642597852, 'enough'),\n",
       " (0.0005683556593719667, 'critical'),\n",
       " (0.000567583897421539, 'economic'),\n",
       " (0.0005667401395192626, 'struggle'),\n",
       " (0.0005648596049696741, 'fuel'),\n",
       " (0.000561573659062541, 'crooked'),\n",
       " (0.000560543626172095, 'also'),\n",
       " (0.0005598563728072742, 'town'),\n",
       " (0.0005481059116357734, 'hour'),\n",
       " (0.0005480507569497724, 'getting'),\n",
       " (0.0005471931145237564, 'fossil'),\n",
       " (0.0005449039697058174, 'far'),\n",
       " (0.0005441482039813366, 'dont'),\n",
       " (0.0005430094092281264, 'fair'),\n",
       " (0.0005383894868539056, 'still'),\n",
       " (0.0005380208601531163, 'ceo'),\n",
       " (0.0005378616960529936, 'middle'),\n",
       " (0.0005361972537508489, 'immigration'),\n",
       " (0.0005359584859683702, 'tulsigabbard'),\n",
       " (0.0005357061638666934, 'hall'),\n",
       " (0.0005348405868198517, 'human'),\n",
       " (0.000533008498053752, 'young'),\n",
       " (0.0005323729916471456, 'number'),\n",
       " (0.0005309047614128647, 'kid'),\n",
       " (0.0005275500809871936, 'two'),\n",
       " (0.0005274498328366451, 'opportunity'),\n",
       " (0.0005274300442836762, 'another'),\n",
       " (0.0005260271994893929, 'medicareforall'),\n",
       " (0.0005247757440131093, 'union'),\n",
       " (0.0005242290014952507, 'interest'),\n",
       " (0.0005204305224287744, 'believe'),\n",
       " (0.0005202754686354212, 'watch'),\n",
       " (0.0005195997171736647, 'matter'),\n",
       " (0.0005195119151214365, 'truth'),\n",
       " (0.0005188114311722275, 'bring'),\n",
       " (0.0005180626097871664, 'without'),\n",
       " (0.0005159696747662186, 'mean'),\n",
       " (0.0005155151151018386, 'field'),\n",
       " (0.0005148249878660438, 'fact'),\n",
       " (0.0005145336393016019, 'housing'),\n",
       " (0.0005140037363586529, 'chance'),\n",
       " (0.0005120977198549527, 'saudi'),\n",
       " (0.0005107208309093304, 'forward'),\n",
       " (0.0005106656531972779, 'sanderstownhall'),\n",
       " (0.0005095272890087262, 'talk'),\n",
       " (0.0005083262207620073, 'share'),\n",
       " (0.000507361367060316, 'free'),\n",
       " (0.000504724865883709, 'hate'),\n",
       " (0.0005039102999786348, 'fear'),\n",
       " (0.0005010190189122894, 'freedom'),\n",
       " (0.0004999348704740275, 'well'),\n",
       " (0.000499638684635542, 'bailey'),\n",
       " (0.0004975260476540423, 'democratic'),\n",
       " (0.0004974272557282504, 'promise'),\n",
       " (0.0004959607299717158, 'equal'),\n",
       " (0.0004956461557302871, 'taking'),\n",
       " (0.0004945524532654426, 'racist'),\n",
       " (0.0004927450783312825, 'could'),\n",
       " (0.0004916866561648121, 'next'),\n",
       " (0.0004901231303220149, 'away'),\n",
       " (0.000489911706453667, 'accountable'),\n",
       " (0.0004895046033768305, 'cost'),\n",
       " (0.00048751538871600296, 'said'),\n",
       " (0.00048524068477292766, 'attorney'),\n",
       " (0.00048522252954456683, 'ultramillionairetax'),\n",
       " (0.0004813788361413137, 'threat'),\n",
       " (0.0004801608738916894, 'heard'),\n",
       " (0.00048006500452536804, 'generation'),\n",
       " (0.0004795664426569002, 'issue'),\n",
       " (0.0004777586040893327, 'rich'),\n",
       " (0.00047756950918508776, 'rule'),\n",
       " (0.00047750192010239854, 'racism'),\n",
       " (0.00047721030977227553, 'congratulation'),\n",
       " (0.00047587483255963163, 'immigrant'),\n",
       " (0.00047569477988175675, 'look'),\n",
       " (0.0004756206869827577, 'place'),\n",
       " (0.0004754021006287373, 'leadership'),\n",
       " (0.00047508871573065473, 'hour_04'),\n",
       " (0.00047327779502308597, 'long'),\n",
       " (0.00047294327171204195, 'totally'),\n",
       " (0.00047224669486429447, 'around'),\n",
       " (0.0004722332061311775, 'dream'),\n",
       " (0.0004721939981044287, 'dollar'),\n",
       " (0.00047155706219492293, 'important'),\n",
       " (0.0004710726090040217, 'folk'),\n",
       " (0.0004705529123214487, 'politics'),\n",
       " (0.0004702875971362667, 'senate'),\n",
       " (0.00046958068601100217, 'story'),\n",
       " (0.00046916547389140166, 'ban'),\n",
       " (0.00046912579166820357, 'damn'),\n",
       " (0.0004687797229506574, 'step'),\n",
       " (0.00046793669251504006, 'top'),\n",
       " (0.0004677497358499618, 'body'),\n",
       " (0.0004672006658105357, 'ago'),\n",
       " (0.00046688567933723284, 'abortion'),\n",
       " (0.00046328751940277806, 'remember'),\n",
       " (0.0004611149383576473, 'radical'),\n",
       " (0.0004610270116835379, 'meet'),\n",
       " (0.00046000710291792696, 'washington'),\n",
       " (0.0004599578662537253, 'rsvp'),\n",
       " (0.0004596636352307146, 'chip'),\n",
       " (0.0004592438092781363, 'yesterday'),\n",
       " (0.00045897441696247216, 'progress'),\n",
       " (0.00045158054563079053, 'realdonaldtrump'),\n",
       " (0.0004505477353456268, 'reform'),\n",
       " (0.00045023429980589814, 'color'),\n",
       " (0.0004499295441979155, 'corruption'),\n",
       " (0.0004478259432308211, 'party'),\n",
       " (0.0004477090607195577, 'continue'),\n",
       " (0.00044641354502083873, 'courage'),\n",
       " (0.00044600041676249057, 'clean'),\n",
       " (0.00044593304468771536, 'think'),\n",
       " (0.00044496388993204043, 'paid'),\n",
       " (0.0004422339848416836, 'bigotry'),\n",
       " (0.00044166008361761004, 'guarantee'),\n",
       " (0.0004367121564368149, 'tulsitv'),\n",
       " (0.0004365005905563947, 'organizing'),\n",
       " (0.00043603858464476357, 'cut'),\n",
       " (0.00043488324328940013, 'candidate'),\n",
       " (0.0004334784544483625, 'illegal'),\n",
       " (0.00042990706485780726, 'major'),\n",
       " (0.00042960150615912915, 'military'),\n",
       " (0.0004290437335643093, 'rent'),\n",
       " (0.00042871842418787756, 'fbi'),\n",
       " (0.0004224596843836394, 'thousand'),\n",
       " (0.00042184701433622783, 'thats'),\n",
       " (0.0004214126426082509, 'line'),\n",
       " (0.000420532775602002, 'voter'),\n",
       " (0.0004202566505527271, '2020'),\n",
       " (0.0004192876466904235, 'lead'),\n",
       " (0.0004184880808934025, 'safety'),\n",
       " (0.00041723134047079224, 'honor'),\n",
       " (0.0004167953227247462, 'lgbtq'),\n",
       " (0.0004159723057827856, 'race'),\n",
       " (0.00041055172325151005, 'hillary'),\n",
       " (0.00041035531640532273, 'since'),\n",
       " (0.00040919531947224206, 'water'),\n",
       " (0.0004090235538119725, 'address'),\n",
       " (0.00040747153436362216, 'everything'),\n",
       " (0.0004074551894167466, 'part'),\n",
       " (0.0004065749896443038, 'incredible'),\n",
       " (0.0004057608744317493, 'venezuela'),\n",
       " (0.0004053114646612761, 'sign'),\n",
       " (0.00040522217051418876, 'wealth'),\n",
       " (0.00040414503463324534, 'provide'),\n",
       " (0.0004037747512695233, 'criminal'),\n",
       " (0.0004036883692257945, 'foreign'),\n",
       " (0.00040346595644547896, 'month'),\n",
       " (0.00040343596427338884, 'lobbyist'),\n",
       " (0.0004025186456421564, 'cold'),\n",
       " (0.0004010111463257927, 'stage'),\n",
       " (0.00040030083166648283, 'full'),\n",
       " (0.0003995109915114351, 'person'),\n",
       " (0.00039907806919385874, 'weapon'),\n",
       " (0.00039873206412003475, 'cancelstudentdebt'),\n",
       " (0.0003976042703939545, 'effort'),\n",
       " (0.000397328756529294, 'mass'),\n",
       " (0.00039703775338758565, 'came'),\n",
       " (0.0003954743207744275, 'strong'),\n",
       " (0.00039307176069268256, 'break'),\n",
       " (0.0003919458702745354, 'show'),\n",
       " (0.0003917078965806468, 'south'),\n",
       " (0.0003916573452850548, 'answer'),\n",
       " (0.00039143020929160267, 'hear'),\n",
       " (0.00038904839512373947, 'expand'),\n",
       " (0.00038825189055967537, 'wait'),\n",
       " (0.00038750828049425847, 'instead'),\n",
       " (0.00038712404245806953, 'iran'),\n",
       " (0.00038643703120581587, 'presidential'),\n",
       " (0.0003854943997813745, 'message'),\n",
       " (0.0003841635695483311, 'trillion'),\n",
       " (0.000384125238592148, 'agree'),\n",
       " (0.00038176281992855356, 'le'),\n",
       " (0.0003782760215439747, 'poverty'),\n",
       " (0.0003778548352251126, 'program'),\n",
       " (0.00037626455669956206, 'tell'),\n",
       " (0.0003758341359389383, 'gap'),\n",
       " (0.0003757062883352018, 'weekend'),\n",
       " (0.00037554155720456966, 'private'),\n",
       " (0.0003751833005392908, 'carolina'),\n",
       " (0.0003739138649111466, 'serve'),\n",
       " (0.0003736719291424133, 'control'),\n",
       " (0.0003724437130573263, 'single'),\n",
       " (0.000371703035195329, 'vision'),\n",
       " (0.00037119171003699946, 'survivor'),\n",
       " (0.0003700049353992393, 'lot'),\n",
       " (0.00036906815876291765, 'allow'),\n",
       " (0.00036796348332033277, 'executive'),\n",
       " (0.00036761615222883574, 'team'),\n",
       " (0.0003657951610316376, 'ill'),\n",
       " (0.0003650278683131872, 'really'),\n",
       " (0.0003635984317277006, 'ready'),\n",
       " (0.0003629609193331811, 'road'),\n",
       " (0.0003629262256425013, 'question'),\n",
       " (0.00036255721673196474, 'parent'),\n",
       " (0.00036219357586136914, '3'),\n",
       " (0.00036162288874794647, 'beautiful'),\n",
       " (0.0003606952685689295, 'hold'),\n",
       " (0.0003606607749535471, 'puerto'),\n",
       " (0.00036034349823316, 'alone'),\n",
       " (0.000360278112978627, 'elected'),\n",
       " (0.0003602424113638392, 'equality'),\n",
       " (0.00036003227519062277, 'night'),\n",
       " (0.0003595440783199651, 'record'),\n",
       " (0.0003593684967088588, 'tremendous'),\n",
       " (0.00035890297258954804, 'past'),\n",
       " (0.000358559898857005, 'conversation'),\n",
       " (0.00035743325803819437, 'respect'),\n",
       " (0.00035695045557548665, 'bottom'),\n",
       " (0.00035514000964212395, 'coming'),\n",
       " (0.0003549528222115332, 'loved'),\n",
       " (0.00035415348738131517, 'able'),\n",
       " (0.00035194192313593514, 'donate'),\n",
       " (0.0003517103886807974, 'soon'),\n",
       " (0.0003512920534294671, 'talking'),\n",
       " (0.0003507011220246477, 'wealthy'),\n",
       " (0.00034905750994094207, 'something'),\n",
       " (0.0003488187605072489, 'civil'),\n",
       " (0.0003486217637926745, 'cant'),\n",
       " (0.0003484306896313245, 'face'),\n",
       " (0.00034828608361482167, 'level'),\n",
       " (0.0003475438165397158, 'looking'),\n",
       " (0.0003460855974462729, 'nra'),\n",
       " (0.00034429661551946137, 'social'),\n",
       " (0.0003439698176280069, 'discrimination'),\n",
       " (0.00034249793686290744, 'court'),\n",
       " (0.00034229787799203013, 'warren2020'),\n",
       " (0.0003422026391164191, 'whether'),\n",
       " (0.0003418281934925366, 'food'),\n",
       " (0.00034122498384742844, 'general'),\n",
       " (0.00034010297814459316, 'wrong'),\n",
       " (0.00033959303618686103, 'trying'),\n",
       " (0.000338715815921804, 'city'),\n",
       " (0.0003377991659453495, 'tomorrow'),\n",
       " (0.00033737805193357034, 'self'),\n",
       " (0.00033565322681282877, 'price'),\n",
       " (0.00033514204809105834, 'left'),\n",
       " (0.00033476454634273725, 'energy'),\n",
       " (0.00033338408537615275, 'fix'),\n",
       " (0.0003332506665442706, 'disgrace'),\n",
       " (0.0003319426311834603, 'voting'),\n",
       " (0.0003315585457569718, 'least'),\n",
       " (0.00033090553881333443, 'broken'),\n",
       " (0.00033065438143086356, 'four'),\n",
       " (0.0003297861518313132, 'may'),\n",
       " (0.0003283264457349575, 'rally'),\n",
       " (0.000328191043837526, 'obstruction'),\n",
       " (0.0003275142989336948, 'amazon'),\n",
       " (0.0003264963886278576, 'already'),\n",
       " (0.00032548109353206574, 'half'),\n",
       " (0.0003250866033377513, 'including'),\n",
       " (0.0003250416659377239, 'decision'),\n",
       " (0.00032454542715218334, 'check'),\n",
       " (0.0003236491820908588, 'moment'),\n",
       " (0.0003236081317385917, 'senator'),\n",
       " (0.000323272465200562, 'process'),\n",
       " (0.000322905937780222, 'average'),\n",
       " (0.00032276625753759086, '95'),\n",
       " (0.0003224509470260053, 'pac'),\n",
       " (0.00032238249681063144, 'demdebate2'),\n",
       " (0.00032210357273795403, 'politician'),\n",
       " (0.0003219840432944058, 'trade'),\n",
       " (0.0003214318352879783, 'arabia'),\n",
       " (0.00032080663665800564, 'putting'),\n",
       " (0.00032053718756871904, 'possible'),\n",
       " (0.00031974482740127245, 'special'),\n",
       " (0.00031842077929884315, 'problem'),\n",
       " (0.0003181187253762854, 'vanity'),\n",
       " (0.00031682600399691964, 'moral'),\n",
       " (0.00031676588637782573, 'legislation'),\n",
       " (0.00031466555662265785, 'privilege'),\n",
       " (0.00031405730483490945, 'rico'),\n",
       " (0.00031251759161554974, 'use'),\n",
       " (0.00031085844866469986, 'impeachment'),\n",
       " (0.00030992158189951886, 'income'),\n",
       " (0.00030978986957927413, 'anything'),\n",
       " (0.00030964673033525116, 'heading'),\n",
       " (0.00030947614088670187, 'choose'),\n",
       " (0.0003068023884137498, 'racial'),\n",
       " (0.00030569477408159295, 'others'),\n",
       " (0.00030441581505419974, 'move'),\n",
       " (0.00030274021705941457, 'obama'),\n",
       " (0.0003024582885092327, 'sexual'),\n",
       " (0.000302066001524534, 'society'),\n",
       " (0.00030184111772039177, 'defend'),\n",
       " (0.0003013739008141438, 'planet'),\n",
       " (0.00030129512156710977, 'member'),\n",
       " (0.00030106121955271524, 'please'),\n",
       " (0.00030065297798709706, 'toward'),\n",
       " (0.0003003963936054578, 'middleclass'),\n",
       " (0.00030028876072387306, 'hatred'),\n",
       " (0.0002996473542709219, 'green'),\n",
       " (0.00029890013854069503, 'arm'),\n",
       " (0.00029857563130637635, 'invest'),\n",
       " (0.0002983418528838778, 'little'),\n",
       " (0.00029817881397586167, 'wealthiest'),\n",
       " (0.00029688828730227386, 'abuse'),\n",
       " (0.00029587671512449715, 'lost'),\n",
       " (0.00029574520338165395, 'guy'),\n",
       " (0.0002953914286573564, 'httpstcotaa7kqs01e'),\n",
       " (0.00029535664639577776, 'business'),\n",
       " (0.0002953205704099778, 'kind'),\n",
       " (0.0002950751908401904, 'universal'),\n",
       " (0.0002946673222251351, 'clinton'),\n",
       " (0.00029382186890036886, 'close'),\n",
       " (0.00029283784219590205, 'reproductive'),\n",
       " (0.00029278798891037793, 'speaking'),\n",
       " (0.00029254349208675734, 'find'),\n",
       " (0.0002915724659865221, 'building'),\n",
       " (0.00029143830104692256, 'case'),\n",
       " (0.0002912458685932575, 'treated'),\n",
       " (0.000290728977590342, '2'),\n",
       " (0.0002902495920539336, 'alongside'),\n",
       " (0.00028952346395110125, 'mind'),\n",
       " (0.0002887994688890022, 'epidemic'),\n",
       " (0.0002876262914962622, 'sister'),\n",
       " (0.00028749643532399114, 'pharmaceutical'),\n",
       " (0.00028588811420312193, 'three'),\n",
       " (0.0002854979392818962, 'word'),\n",
       " (0.00028509833414053313, 'restore'),\n",
       " (0.00028442648069422325, 'benefit'),\n",
       " (0.0002836516801728112, 'continues'),\n",
       " (0.000283632546012012, 'de'),\n",
       " (0.00028337014829515797, 'emergency'),\n",
       " (0.00028285368681524954, 'gabbard'),\n",
       " (0.0002828222159262474, 'relief'),\n",
       " (0.00028210932419083445, 'reality'),\n",
       " (0.00028196931327007066, 'small'),\n",
       " (0.00028194931887884925, 'men'),\n",
       " (0.0002819224773747571, 'troop'),\n",
       " (0.00028151094819847775, 'land'),\n",
       " (0.0002814614651760463, 'fought'),\n",
       " (0.0002808172232944962, 'dangerous'),\n",
       " (0.0002805888807852485, 'marijuana'),\n",
       " (0.0002805532911050094, 'used'),\n",
       " (0.00028033994619839925, 'basic'),\n",
       " (0.00027986376744471177, 'based'),\n",
       " (0.00027899915382895266, 'period'),\n",
       " (0.0002785593363189742, 'strength'),\n",
       " (0.0002769367637834397, 'terrible'),\n",
       " (0.00027629526901704174, 'death'),\n",
       " (0.00027584165976381436, 'yemen'),\n",
       " (0.00027578034405346, 'environment'),\n",
       " (0.0002752030108916895, 'killed'),\n",
       " (0.0002748501903402638, 'true'),\n",
       " (0.0002747669754037964, 'v'),\n",
       " (0.00027429708498765174, 'sick'),\n",
       " (0.0002742706382917637, '100'),\n",
       " (0.0002741526984240825, 'massive'),\n",
       " (0.0002741046498060805, 'wonderful'),\n",
       " (0.00027394499417868624, 'yet'),\n",
       " (0.0002734835929001605, 'example'),\n",
       " (0.0002733737545640184, 'north'),\n",
       " (0.0002729640597555624, 'become'),\n",
       " (0.00027294993918966027, 'girl'),\n",
       " (0.0002725399673115976, 'run'),\n",
       " (0.00027244583494019956, 'iraq'),\n",
       " (0.0002721913007544949, 'legal'),\n",
       " (0.0002718439043110118, 'thought'),\n",
       " (0.0002715042692748864, 'wish'),\n",
       " (0.000270508484415308, 'paying'),\n",
       " (0.00026970898418241006, 'decent'),\n",
       " (0.0002690244737808612, 'korea'),\n",
       " (0.0002686861352397401, 'meeting'),\n",
       " (0.0002684835013434211, 'office'),\n",
       " (0.00026647510870460983, 'air'),\n",
       " (0.0002662191069384465, 'servicebeforeself'),\n",
       " (0.0002660935469101021, 'unacceptable'),\n",
       " (0.00026607810949411353, 'spirit'),\n",
       " (0.00026605076714747097, 'happen'),\n",
       " (0.00026444698181617756, 'older'),\n",
       " (0.0002636015841452454, 'citizen'),\n",
       " (0.00026276201645682786, 'demand'),\n",
       " (0.0002622679148519755, 'giving'),\n",
       " (0.00026179856865997516, 'high'),\n",
       " (0.0002614897580669331, 'farmer'),\n",
       " (0.00026140774495975037, 'someone'),\n",
       " (0.00026107412987791927, 'spent'),\n",
       " (0.00026055991963296445, 'leave'),\n",
       " (0.0002604729361801994, 'hand'),\n",
       " (0.0002603133209327314, 'historic'),\n",
       " (0.00026012518920919735, 'cruel'),\n",
       " (0.00026003102109422465, 'ending'),\n",
       " (0.0002589239076633746, 'japan'),\n",
       " (0.00025855374148300246, 'deserves'),\n",
       " (0.00025658345371669985, 'save'),\n",
       " (0.0002551010325173792, 'introduced'),\n",
       " (0.00025476012755123285, 'divide'),\n",
       " (0.00025434551766036797, 'excited'),\n",
       " (0.00025415982519263217, 'battle'),\n",
       " (0.0002526937019281569, 'prime'),\n",
       " (0.00025216980047767227, 'paycheck'),\n",
       " (0.0002513668752945919, 'pm'),\n",
       " (0.0002508186864449094, 'veteran'),\n",
       " (0.0002505699728347021, 'proceeding'),\n",
       " (0.0002502947552857925, 'rural'),\n",
       " (0.0002502643412796518, 'send'),\n",
       " (0.00025018744925578657, 'name'),\n",
       " (0.00025017274602150727, 'deeply'),\n",
       " (0.00024985818484256334, 'cancel'),\n",
       " (0.0002495712101136684, 'jail'),\n",
       " (0.00024904283128124695, 'domestic'),\n",
       " (0.00024818416658958846, 'almost'),\n",
       " (0.00024801928067708063, 'spend'),\n",
       " (0.0002478854956102267, 'nh'),\n",
       " (0.0002476663206795851, 'poor'),\n",
       " (0.0002472276057196416, 'mr'),\n",
       " (0.0002471287066002476, 'large'),\n",
       " (0.00024691948709294076, 'minister'),\n",
       " (0.0002465900415417787, 'obamacare'),\n",
       " (0.0002460762015495583, 'york'),\n",
       " (0.0002453856192375231, 'disability'),\n",
       " (0.00024533594466496665, 'devastating'),\n",
       " (0.0002449063640456268, 'prevent'),\n",
       " (0.00024481338796518014, 'hampshire'),\n",
       " (0.0002447711624462682, 'celebrate'),\n",
       " (0.0002447419494574986, 'resource'),\n",
       " (0.0002441934398800418, 'youre'),\n",
       " (0.00024323131530252888, 'itsonus'),\n",
       " (0.00024303840922276307, '18'),\n",
       " (0.00024248761444032002, 'condition'),\n",
       " (0.00024191575732837307, 'along'),\n",
       " (0.00024180008853636064, 'naacpdetroit'),\n",
       " (0.00024173618286635502, 'talked'),\n",
       " (0.00023981589318327148, 'division'),\n",
       " (0.00023956455978981056, 'constitutional'),\n",
       " (0.00023955999981745547, 'democraticsocialism'),\n",
       " (0.00023904134753615069, 'background'),\n",
       " (0.0002388570935738233, 'lower'),\n",
       " (0.00023863368499869582, 'else'),\n",
       " (0.000238452490921763, 'bet'),\n",
       " (0.00023832650187260792, 'solidarity'),\n",
       " (0.00023821384218214865, 'lie'),\n",
       " (0.00023820022186200602, 'contribution'),\n",
       " (0.00023781141949517811, 'bank'),\n",
       " (0.00023766532799816714, 'quality'),\n",
       " (0.0002372586567200216, 'choice'),\n",
       " (0.00023717947678907625, 'coverage'),\n",
       " (0.00023715559621769193, 'socialism'),\n",
       " (0.00023699101532191248, 'pelosi'),\n",
       " (0.00023653951191717978, 'force'),\n",
       " (0.0002363463191468421, 'huge'),\n",
       " (0.00023626887945763913, 'victim'),\n",
       " (0.000236223944222616, 'sotu'),\n",
       " (0.00023601650062790038, 'anyone'),\n",
       " (0.00023584098431019107, 'longer'),\n",
       " (0.00023459474441111353, 'fundamental'),\n",
       " (0.00023452667252041852, 'turn'),\n",
       " (0.0002344089215377333, 'standing'),\n",
       " (0.00023385098582372476, 'path'),\n",
       " (0.00023354381267676785, 'la'),\n",
       " (0.00023345834171345422, 'healthcare'),\n",
       " (0.00023325577503408566, 'core'),\n",
       " (0.00023317136854931445, 'cause'),\n",
       " (0.00023314378051837836, 'rebuild'),\n",
       " (0.00023313114907754854, 'side'),\n",
       " (0.00023295979910721728, 'try'),\n",
       " (0.00023278548797065444, 'passed'),\n",
       " (0.00023248564434947682, 'liberty'),\n",
       " (0.00023246835953873255, 'rep'),\n",
       " (0.00023202090500417267, 'ive'),\n",
       " (0.0002319467159675924, 'tackle'),\n",
       " (0.00023123946756724, 'regardless'),\n",
       " (0.00023067690528811777, 'took'),\n",
       " (0.00023067685945682507, 'reason'),\n",
       " (0.00023047779825111913, 'culture'),\n",
       " (0.000230237139975628, '10'),\n",
       " (0.00023006549229719615, 'transgender'),\n",
       " (0.00022999014897343145, 'progressive'),\n",
       " (0.00022952926713211763, 'sending'),\n",
       " (0.00022925153728336301, 'barr'),\n",
       " (0.00022803330510677734, 'leaving'),\n",
       " (0.0002276602530363197, 'protecting'),\n",
       " (0.00022765771356336208, 'rate'),\n",
       " (0.00022760836304207066, 'john'),\n",
       " (0.000227606648059854, 'built'),\n",
       " (0.00022757474040959553, 'agenda'),\n",
       " (0.00022742214671891045, 'decade'),\n",
       " (0.00022726062265244083, 'mom'),\n",
       " (0.00022722592317081294, 'goal'),\n",
       " (0.0002269755358968392, 'corrupt'),\n",
       " (0.00022686410686934325, 'rating'),\n",
       " (0.00022677406997058798, 'canada'),\n",
       " (0.00022606815857772946, 'investigation'),\n",
       " (0.00022593805290088413, 'yes'),\n",
       " (0.000225783458892845, 'ice'),\n",
       " (0.00022575996880864604, 'governor'),\n",
       " (0.00022556941595498187, 'increase'),\n",
       " (0.00022532160932231554, 'activist'),\n",
       " (0.0002245298673327431, 'charlottesville'),\n",
       " (0.00022438553279446552, 'birthday'),\n",
       " (0.000223924204358617, 'medical'),\n",
       " (0.00022344025848387755, 'deadline'),\n",
       " (0.00022324173665655477, 'donation'),\n",
       " (0.00022311103478737078, '2016'),\n",
       " (0.00022264009270146223, 'understand'),\n",
       " (0.00022216189007872938, 'open'),\n",
       " (0.00022198300538251454, 'nearly'),\n",
       " (0.00022191653649429323, 'joined'),\n",
       " (0.0002218272185062614, 'university'),\n",
       " (0.00022082909496919722, 'whitehouse'),\n",
       " (0.00022035065729187082, 'entire'),\n",
       " (0.00022034479058107432, 'fund'),\n",
       " (0.0002201014847194601, 'hospital'),\n",
       " (0.0002200904570150961, 'century'),\n",
       " (0.00022006145284760503, 'lawrence'),\n",
       " (0.00021938378169088183, 'return'),\n",
       " (0.00021867835076716196, 'told'),\n",
       " (0.00021790179735677918, 'seeing'),\n",
       " (0.00021778287657607225, 'amazing'),\n",
       " (0.00021741782889061556, 'highquality'),\n",
       " (0.00021708938727725622, 'truly'),\n",
       " (0.00021626131403286127, 'kamala'),\n",
       " (0.00021621602531569163, 'cancer'),\n",
       " (0.00021601745316649046, 'quickly'),\n",
       " (0.0002154639951713633, 'oakland'),\n",
       " (0.0002148104991757353, 'responder'),\n",
       " (0.00021454848741843022, 'former'),\n",
       " (0.0002141429771154138, 'secretary'),\n",
       " (0.0002132929584481877, 'learn'),\n",
       " (0.0002132486210251149, 'washingtonpost'),\n",
       " (0.00021304733379393388, 'nevada'),\n",
       " (0.0002130226363888039, 'exactly'),\n",
       " (0.0002125672605930752, 'prescription'),\n",
       " (0.00021220325136348997, 'protection'),\n",
       " (0.0002113528349365163, 'americanpromisetour'),\n",
       " (0.00021107801977015986, 'morning'),\n",
       " (0.00021081418028773724, 'forget'),\n",
       " (0.00020931044454120928, 'begin'),\n",
       " (0.00020919619632798488, 'committed'),\n",
       " (0.00020863279097588163, 'held'),\n",
       " (0.00020862894307920187, 'outrageous'),\n",
       " (0.00020842053664959806, 'roe'),\n",
       " (0.00020729778775839167, 'biggest'),\n",
       " (0.00020713021541889743, 'funding'),\n",
       " (0.00020706683070549934, 'secure'),\n",
       " (0.00020693049096690298, 'accept'),\n",
       " (0.00020668320738614373, 'treat'),\n",
       " (0.00020661808574283085, 'buy'),\n",
       " (0.00020650936273209416, 'detroit'),\n",
       " (0.00020647637726292398, 'listen'),\n",
       " (0.00020624537283289834, 'cnn'),\n",
       " (0.0002061129555472538, 'table'),\n",
       " (0.0002058424200442917, 'fed'),\n",
       " (0.00020575809351552307, 'failed'),\n",
       " (0.0002057003851860889, 'prayer'),\n",
       " (0.0002056357611609237, 'earth'),\n",
       " (0.000205068330552436, 'response'),\n",
       " (0.000204959770994237, 'shooting'),\n",
       " (0.0002044866762367965, 'prison'),\n",
       " (0.00020421444042832525, 'second'),\n",
       " (0.00020400995632767938, 'reject'),\n",
       " (0.0002039706879265334, 'loophole'),\n",
       " (0.00020319017094752798, 'ballot'),\n",
       " (0.00020296394841368026, 'nancy'),\n",
       " (0.00020281755904769612, 'attempt'),\n",
       " (0.000202754503447554, 'comprehensive'),\n",
       " (0.00020260451703863174, 'behind'),\n",
       " (0.00020206888933658445, 'speech'),\n",
       " (0.0002019841580594315, 'order'),\n",
       " (0.0002019688903233442, 'richest'),\n",
       " (0.0002016190687064536, 'tuitionfree'),\n",
       " (0.00020154032848948133, 'responsibility'),\n",
       " (0.0002013510051342021, 'discus'),\n",
       " (0.00020081383004907113, 'detention'),\n",
       " (0.00020023764444788145, 'man'),\n",
       " (0.00020022145743407943, 'highly'),\n",
       " (0.00019971668725402686, 'count'),\n",
       " (0.00019968374934934322, 'alabama'),\n",
       " (0.00019956410450660902, 'belief'),\n",
       " (0.00019887319839783345, 'whole'),\n",
       " (0.00019877848421377044, '50'),\n",
       " (0.00019745634999078845, 'personal'),\n",
       " (0.00019709638663930576, 'badly'),\n",
       " (0.00019661122033753017, 'infrastructure'),\n",
       " (0.00019603751442267013, 'king'),\n",
       " (0.0001959428097126689, 'low'),\n",
       " (0.00019575431966133326, 'ahead'),\n",
       " (0.00019561027976218958, 'commitment'),\n",
       " (0.00019473098508371588, 'option'),\n",
       " (0.00019471958008810964, 'center'),\n",
       " (0.00019431613946167242, 'hundred'),\n",
       " (0.00019419710643232843, 'spending'),\n",
       " (0.00019384127475934873, 'gave'),\n",
       " (0.0001934738264076277, 'started'),\n",
       " (0.00019301671201312178, 'happening'),\n",
       " (0.0001927612064514705, 'welcome'),\n",
       " (0.00019263644496126802, 'code'),\n",
       " (0.00019198957303953552, 'minute'),\n",
       " (0.00019192003233075888, 'integrity'),\n",
       " (0.0001912224120460234, 'weve'),\n",
       " (0.00019121081164641867, 'add'),\n",
       " (0.0001909566322066222, 'whose'),\n",
       " (0.00019046846894290345, 'hosting'),\n",
       " (0.00019039940267738049, 'he'),\n",
       " (0.0001902773465366587, 'reach'),\n",
       " (0.0001901635654034744, 'finally'),\n",
       " (0.00019014560428638375, 'ohio'),\n",
       " (0.0001896068807965884, 'often'),\n",
       " (0.00018941949863820494, 'official'),\n",
       " (0.0001890891205070067, 'serious'),\n",
       " (0.0001888373928273221, 'individual'),\n",
       " (0.00018861333048335053, 'especially'),\n",
       " (0.00018855462203788993, 'inspired'),\n",
       " (0.00018849391381421822, 'worse'),\n",
       " (0.0001883359467527404, 'facebook'),\n",
       " (0.0001879983212397652, 'worth'),\n",
       " (0.00018797989462890208, 'sacrifice'),\n",
       " (0.00018764338652993556, 'tragedy'),\n",
       " (0.0001876382220612996, 'establishment'),\n",
       " (0.00018736321548644232, 'rising'),\n",
       " (0.00018682795395364265, 'medicaid'),\n",
       " (0.00018623318824719954, 'seen'),\n",
       " (0.00018622714575077505, 'risk'),\n",
       " (0.00018603925895943895, 'easy'),\n",
       " (0.00018579742508418397, 'impact'),\n",
       " (0.00018509426559161203, 'doctor'),\n",
       " (0.00018468220372448835, 'represent'),\n",
       " (0.00018425264621508625, 'helped'),\n",
       " (0.00018410456759539073, 'stronger'),\n",
       " (0.00018359380928348603, 'safer'),\n",
       " (0.00018345515491353153, 'kim'),\n",
       " (0.00018290671994428644, 'challenge'),\n",
       " (0.00018285052024535325, 'maternal'),\n",
       " (0.0001825380154416481, 'pharma'),\n",
       " (0.00018243603627420934, 'early'),\n",
       " (0.00018237499088738813, 'wont'),\n",
       " (0.00018218222338503898, 'bold'),\n",
       " (0.00018094623671821157, 'reminder'),\n",
       " (0.00018072669150369296, 'gender'),\n",
       " (0.0001806185536931999, '5'),\n",
       " (0.00018059817207255778, '30'),\n",
       " (0.00017998401823036424, 'supreme'),\n",
       " (0.00017989159659873583, 'follow'),\n",
       " (0.0001796393037921709, 'amendment'),\n",
       " (0.00017952059820216246, 'priority'),\n",
       " (0.00017847475725665934, 'die'),\n",
       " (0.00017836077713688985, 'dreamer'),\n",
       " (0.00017825258938074787, 'el'),\n",
       " (0.00017769399063149934, 'department'),\n",
       " (0.0001775328701695965, 'view'),\n",
       " (0.00017689033785119163, 'called'),\n",
       " (0.00017682048393569214, 'suffering'),\n",
       " (0.00017670661716407917, '60000'),\n",
       " (0.00017656597327631894, 'victory'),\n",
       " (0.00017643378583603837, 'international'),\n",
       " (0.00017641427391738534, 'grow'),\n",
       " (0.0001764102897511482, 'holding'),\n",
       " (0.0001760314219190764, '2019'),\n",
       " (0.00017598997367166878, 'nationwide'),\n",
       " (0.0001759075132955237, 'rest'),\n",
       " (0.00017581617249018953, 'group'),\n",
       " (0.0001757969918843087, 'religion'),\n",
       " (0.00017575816062005613, 'honored'),\n",
       " (0.0001752486475315552, 'premium'),\n",
       " (0.00017504377375502985, 'insulin'),\n",
       " (0.00017494897098158628, 'financial'),\n",
       " (0.00017465370040827268, 'spoke'),\n",
       " (0.00017377277156839768, 'consumer'),\n",
       " (0.00017340741511013614, 'brought'),\n",
       " (0.0001730540186350223, 'five'),\n",
       " (0.00017290129912586824, 'status'),\n",
       " (0.00017264890801232323, 'stay'),\n",
       " (0.000172616557594772, 'common'),\n",
       " (0.0001723286230348024, 'supporter'),\n",
       " (0.0001720866195739634, 'unconstitutional'),\n",
       " (0.000172086002631182, 'tech'),\n",
       " (0.00017194754940428805, 'lose'),\n",
       " (0.00017189682882151695, 'reduce'),\n",
       " (0.0001717136749339212, 'ability'),\n",
       " (0.00017114287138286077, 'set'),\n",
       " (0.00017112562716671854, 'book'),\n",
       " (0.0001705748062615879, 'leading'),\n",
       " (0.00017056038740922056, 'contractor'),\n",
       " (0.00017051348329373472, 'prove'),\n",
       " (0.00017041478956132403, 'brave'),\n",
       " (0.00017033345693725233, 'treatment'),\n",
       " (0.00017003358727063565, 'incarceration'),\n",
       " (0.0001694356400995609, 'educator'),\n",
       " (0.0001691240721006311, 'pleased'),\n",
       " (0.00016906068228823422, 'calling'),\n",
       " (0.00016905026511788057, 'using'),\n",
       " (0.00016854888271591916, 'russia'),\n",
       " (0.00016851194125681933, 'baby'),\n",
       " (0.00016817681348365202, 'pocket'),\n",
       " (0.00016809152440596192, 'primary'),\n",
       " (0.00016789094012740682, 'muslim'),\n",
       " (0.00016756634471619498, 'combat'),\n",
       " (0.00016749888798925336, 'link'),\n",
       " (0.00016748058153792848, 'intelligence'),\n",
       " (0.00016722865086599685, 'went'),\n",
       " (0.0001671355431480213, 'video'),\n",
       " (0.00016697587411974317, 'duty'),\n",
       " (0.00016682845315909266, 'pennsylvania'),\n",
       " (0.0001666438145438497, '01'),\n",
       " (0.00016659292578167516, 'afraid'),\n",
       " (0.00016654544101200625, 'shameful'),\n",
       " (0.0001664017318279145, 'florida'),\n",
       " (0.00016601908032414168, 'keeping'),\n",
       " (0.0001654356579672122, 'ally'),\n",
       " (0.0001647463666865393, 'struggling'),\n",
       " (0.0001644878924667697, 'feel'),\n",
       " (0.00016425625257416107, 'dr'),\n",
       " ...]"
      ]
     },
     "execution_count": 167,
     "metadata": {},
     "output_type": "execute_result"
    }
   ],
   "source": [
    "sorted(zip(rf_model.feature_importances_, rf_columns_list), reverse=True)"
   ]
  },
  {
   "cell_type": "markdown",
   "metadata": {},
   "source": [
    "# TF-IDF Vectorizer"
   ]
  },
  {
   "cell_type": "code",
   "execution_count": 97,
   "metadata": {},
   "outputs": [],
   "source": [
    "X_tdidf_df = tweets_df[[\"full_text\", \"month\", \"day\", \"hour\", \"retweet_count\", \"favorite_count\"]]\n",
    "X_tdidf_df = pd.get_dummies(X_tdidf_df, columns = [\"month\", \"day\", \"hour\"])"
   ]
  },
  {
   "cell_type": "code",
   "execution_count": 98,
   "metadata": {},
   "outputs": [],
   "source": [
    "from sklearn.feature_extraction.text import TfidfVectorizer\n",
    "\n",
    "# TF-IDF\n",
    "tfidf_vect = TfidfVectorizer(analyzer=clean_text)\n",
    "X_tfidf_vect = tfidf_vect.fit_transform(X_tdidf_df['full_text'])"
   ]
  },
  {
   "cell_type": "code",
   "execution_count": 99,
   "metadata": {},
   "outputs": [],
   "source": [
    "X_tdidf_df.drop(columns = ['full_text'], inplace = True)"
   ]
  },
  {
   "cell_type": "code",
   "execution_count": 100,
   "metadata": {},
   "outputs": [],
   "source": [
    "X_tdidf_df = pd.concat([X_tdidf_df, pd.DataFrame(X_tfidf_vect.toarray(), columns=tfidf_vect.get_feature_names())], axis=1)"
   ]
  },
  {
   "cell_type": "code",
   "execution_count": 101,
   "metadata": {},
   "outputs": [
    {
     "data": {
      "text/plain": [
       "(10520, 20445)"
      ]
     },
     "execution_count": 101,
     "metadata": {},
     "output_type": "execute_result"
    }
   ],
   "source": [
    "X_tdidf_df.shape"
   ]
  },
  {
   "cell_type": "code",
   "execution_count": 102,
   "metadata": {},
   "outputs": [],
   "source": [
    "data_y_idf = tweets_df.values\n",
    "data_x_idf = X_tdidf_df.values\n",
    "X_count_idf = data_x_idf[:, 0:]\n",
    "y_count_idf = data_y_idf[:,0]"
   ]
  },
  {
   "cell_type": "code",
   "execution_count": 103,
   "metadata": {},
   "outputs": [
    {
     "data": {
      "text/plain": [
       "array([[9.3800e+02, 4.1340e+03, 0.0000e+00, ..., 0.0000e+00, 0.0000e+00,\n",
       "        0.0000e+00],\n",
       "       [1.7300e+02, 7.9000e+02, 0.0000e+00, ..., 0.0000e+00, 0.0000e+00,\n",
       "        0.0000e+00],\n",
       "       [7.1200e+02, 4.3760e+03, 0.0000e+00, ..., 0.0000e+00, 0.0000e+00,\n",
       "        0.0000e+00],\n",
       "       ...,\n",
       "       [7.4100e+02, 2.0234e+04, 0.0000e+00, ..., 0.0000e+00, 0.0000e+00,\n",
       "        0.0000e+00],\n",
       "       [1.8289e+04, 6.8718e+04, 0.0000e+00, ..., 0.0000e+00, 0.0000e+00,\n",
       "        0.0000e+00],\n",
       "       [1.1000e+01, 7.4000e+01, 0.0000e+00, ..., 0.0000e+00, 0.0000e+00,\n",
       "        0.0000e+00]])"
      ]
     },
     "execution_count": 103,
     "metadata": {},
     "output_type": "execute_result"
    }
   ],
   "source": [
    "X_count_idf"
   ]
  },
  {
   "cell_type": "code",
   "execution_count": 104,
   "metadata": {},
   "outputs": [
    {
     "data": {
      "text/plain": [
       "(10520, 20445)"
      ]
     },
     "execution_count": 104,
     "metadata": {},
     "output_type": "execute_result"
    }
   ],
   "source": [
    "X_count_idf.shape"
   ]
  },
  {
   "cell_type": "code",
   "execution_count": 105,
   "metadata": {},
   "outputs": [
    {
     "data": {
      "text/plain": [
       "array(['Joe Biden', 'Joe Biden', 'Joe Biden', ..., 'Elizabeth Warren',\n",
       "       'Elizabeth Warren', 'Elizabeth Warren'], dtype=object)"
      ]
     },
     "execution_count": 105,
     "metadata": {},
     "output_type": "execute_result"
    }
   ],
   "source": [
    "y_count_idf"
   ]
  },
  {
   "cell_type": "code",
   "execution_count": 106,
   "metadata": {},
   "outputs": [],
   "source": [
    "X_count_idf_sparse = csr_matrix(X_count_idf)"
   ]
  },
  {
   "cell_type": "markdown",
   "metadata": {},
   "source": [
    "## Train-Test-Split/Label-Encoding (Grid Search)\n"
   ]
  },
  {
   "cell_type": "code",
   "execution_count": 107,
   "metadata": {},
   "outputs": [],
   "source": [
    "X_train_idf_cv, X_test_idf_cv, y_train_idf_cv, y_test_idf_cv = train_test_split(X_count_idf_sparse, \n",
    "                                                                y_count_idf, random_state=42,\n",
    "                                                               train_size = 0.9,\n",
    "                                                               shuffle = True)"
   ]
  },
  {
   "cell_type": "code",
   "execution_count": 108,
   "metadata": {},
   "outputs": [],
   "source": [
    "X_scaler_idf_cv = MaxAbsScaler().fit(X_train_idf_cv)"
   ]
  },
  {
   "cell_type": "code",
   "execution_count": 110,
   "metadata": {},
   "outputs": [],
   "source": [
    "X_train_scaled_idf_cv = X_scaler_idf_cv.transform(X_train_idf_cv)\n",
    "X_test_scaled_idf_cv = X_scaler_idf_cv.transform(X_test_idf_cv)"
   ]
  },
  {
   "cell_type": "code",
   "execution_count": 76,
   "metadata": {},
   "outputs": [],
   "source": [
    "min_samples_leafs = list(np.linspace(.01, 0.5, 20, endpoint = True))"
   ]
  },
  {
   "cell_type": "code",
   "execution_count": 77,
   "metadata": {},
   "outputs": [],
   "source": [
    "train_results = []\n",
    "test_results = []\n",
    "for min_samples_leaf in min_samples_leafs:\n",
    "    rf = RandomForestClassifier(min_samples_leaf=min_samples_leaf, n_jobs=-1)\n",
    "    rf.fit(X_train_scaled, encoded_y_train)\n",
    "\n",
    "    train_results.append(rf.score(X_train_scaled, encoded_y_train))\n",
    "    test_results.append(rf.score(X_test_scaled, encoded_y_test))"
   ]
  },
  {
   "cell_type": "code",
   "execution_count": 111,
   "metadata": {},
   "outputs": [],
   "source": [
    "# Step 1: Label-encode data set\n",
    "label_encoder_idf_cv = LabelEncoder()\n",
    "label_encoder_idf_cv.fit(y_train_idf_cv)\n",
    "\n",
    "encoded_y_train_idf_cv = label_encoder_idf_cv.transform(y_train_idf_cv)\n",
    "encoded_y_test_idf_cv = label_encoder_idf_cv.transform(y_test_idf_cv)"
   ]
  },
  {
   "cell_type": "code",
   "execution_count": 112,
   "metadata": {},
   "outputs": [],
   "source": [
    "encoded_y_train_idf_cv = encoded_y_train_idf_cv.reshape(-1, 1)\n",
    "encoded_y_test_idf_cv = encoded_y_test_idf_cv.reshape(-1, 1)"
   ]
  },
  {
   "cell_type": "markdown",
   "metadata": {},
   "source": [
    "# TF-IDF Vectorizer"
   ]
  },
  {
   "cell_type": "markdown",
   "metadata": {},
   "source": [
    "## Train-Test-Split/Label-Encoding (In-Depth Parameter Tuning)"
   ]
  },
  {
   "cell_type": "code",
   "execution_count": 113,
   "metadata": {},
   "outputs": [],
   "source": [
    "X_train_idf, X_test_idf, y_train_idf, y_test_idf = train_test_split(X_count_idf_sparse, y_count_idf, random_state=42,\n",
    "                                                                   shuffle = True)"
   ]
  },
  {
   "cell_type": "code",
   "execution_count": 114,
   "metadata": {},
   "outputs": [],
   "source": [
    "X_scaler_idf = MaxAbsScaler().fit(X_train_idf)"
   ]
  },
  {
   "cell_type": "code",
   "execution_count": 115,
   "metadata": {},
   "outputs": [],
   "source": [
    "X_train_scaled_idf = X_scaler_idf.transform(X_train_idf)\n",
    "X_test_scaled_idf = X_scaler_idf.transform(X_test_idf)"
   ]
  },
  {
   "cell_type": "code",
   "execution_count": 116,
   "metadata": {},
   "outputs": [],
   "source": [
    "# Step 1: Label-encode data set\n",
    "label_encoder_idf = LabelEncoder()\n",
    "label_encoder_idf.fit(y_train_idf)\n",
    "\n",
    "encoded_y_train_idf = label_encoder_idf.transform(y_train_idf)\n",
    "encoded_y_test_idf = label_encoder_idf.transform(y_test_idf)"
   ]
  },
  {
   "cell_type": "code",
   "execution_count": 117,
   "metadata": {},
   "outputs": [],
   "source": [
    "encoded_y_train_idf = encoded_y_train_idf.reshape(-1, 1)\n",
    "encoded_y_test_idf = encoded_y_test_idf.reshape(-1, 1)"
   ]
  },
  {
   "cell_type": "markdown",
   "metadata": {},
   "source": [
    "## In-Depth Parameter Tuning"
   ]
  },
  {
   "cell_type": "markdown",
   "metadata": {},
   "source": [
    "## N-Estimators (TF-IDF Vectorizer)"
   ]
  },
  {
   "cell_type": "code",
   "execution_count": 118,
   "metadata": {},
   "outputs": [],
   "source": [
    "n_estimators = [1, 2, 4, 8, 16, 32, 64, 100, 150, 200, 300]\n",
    "\n",
    "train_results = []\n",
    "test_results = []\n",
    "\n",
    "for estimator in n_estimators:\n",
    "    rf = RandomForestClassifier(n_estimators=estimator, n_jobs=-1)\n",
    "    rf.fit(X_train_scaled_idf, encoded_y_train_idf)\n",
    "\n",
    "    train_results.append(rf.score(X_train_scaled_idf, encoded_y_train_idf))\n",
    "    test_results.append(rf.score(X_test_scaled_idf, encoded_y_test_idf))"
   ]
  },
  {
   "cell_type": "code",
   "execution_count": 119,
   "metadata": {},
   "outputs": [
    {
     "data": {
      "image/png": "[encoded data removed]",
      "text/plain": [
       "<Figure size 432x288 with 1 Axes>"
      ]
     },
     "metadata": {
      "needs_background": "light"
     },
     "output_type": "display_data"
    }
   ],
   "source": [
    "line1, = plt.plot(n_estimators, train_results, 'b', label=\"Train\")\n",
    "line2, = plt.plot(n_estimators, test_results, 'r', label=\"Test\")\n",
    "\n",
    "plt.legend(handler_map={line1: HandlerLine2D(numpoints=2)})\n",
    "\n",
    "plt.ylabel('RF score')\n",
    "plt.xlabel('n_estimators')\n",
    "plt.show()"
   ]
  },
  {
   "cell_type": "code",
   "execution_count": 120,
   "metadata": {},
   "outputs": [],
   "source": [
    "# Best: n-estimators=150 (10 - 250)"
   ]
  },
  {
   "cell_type": "markdown",
   "metadata": {},
   "source": [
    "## Max-Depth (TF-IDF Vectorizer)"
   ]
  },
  {
   "cell_type": "code",
   "execution_count": 121,
   "metadata": {},
   "outputs": [],
   "source": [
    "max_depths = list(np.linspace(1, 90, 90, endpoint=True))"
   ]
  },
  {
   "cell_type": "code",
   "execution_count": 122,
   "metadata": {},
   "outputs": [],
   "source": [
    "train_results = []\n",
    "test_results = []\n",
    "for max_depth in max_depths:\n",
    "    rf = RandomForestClassifier(max_depth=max_depth, n_jobs=-1)\n",
    "    rf.fit(X_train_scaled_idf, encoded_y_train_idf)\n",
    "\n",
    "    train_results.append(rf.score(X_train_scaled_idf, encoded_y_train_idf))\n",
    "    test_results.append(rf.score(X_test_scaled_idf, encoded_y_test_idf))"
   ]
  },
  {
   "cell_type": "code",
   "execution_count": 123,
   "metadata": {},
   "outputs": [
    {
     "data": {
      "image/png": "[encoded data removed]",
      "text/plain": [
       "<Figure size 432x288 with 1 Axes>"
      ]
     },
     "metadata": {
      "needs_background": "light"
     },
     "output_type": "display_data"
    }
   ],
   "source": [
    "line1, = plt.plot(max_depths, train_results, 'b', label=\"Train\")\n",
    "line2, = plt.plot(max_depths, test_results, 'r', label=\"Test\")\n",
    "\n",
    "plt.legend(handler_map={line1: HandlerLine2D(numpoints=2)})\n",
    "\n",
    "plt.ylabel('RF score')\n",
    "plt.xlabel('max_depths')\n",
    "plt.show()"
   ]
  },
  {
   "cell_type": "code",
   "execution_count": 124,
   "metadata": {},
   "outputs": [],
   "source": [
    "#Best: max_depth= 8 (2-12)"
   ]
  },
  {
   "cell_type": "markdown",
   "metadata": {},
   "source": [
    "## Min_samples_split (TF-IDF Vectorizer)"
   ]
  },
  {
   "cell_type": "code",
   "execution_count": 125,
   "metadata": {},
   "outputs": [],
   "source": [
    "min_samples_splits = list(np.linspace(0.1, 1.0, 10, endpoint=True))"
   ]
  },
  {
   "cell_type": "code",
   "execution_count": 126,
   "metadata": {},
   "outputs": [],
   "source": [
    "train_results = []\n",
    "test_results = []\n",
    "for min_samples_split in min_samples_splits:\n",
    "    rf = RandomForestClassifier(min_samples_split=min_samples_split, n_jobs=-1)\n",
    "    rf.fit(X_train_scaled_idf, encoded_y_train_idf)\n",
    "\n",
    "    train_results.append(rf.score(X_train_scaled_idf, encoded_y_train_idf))\n",
    "    test_results.append(rf.score(X_test_scaled_idf, encoded_y_test_idf))"
   ]
  },
  {
   "cell_type": "code",
   "execution_count": 127,
   "metadata": {},
   "outputs": [
    {
     "data": {
      "image/png": "[encoded data removed]",
      "text/plain": [
       "<Figure size 432x288 with 1 Axes>"
      ]
     },
     "metadata": {
      "needs_background": "light"
     },
     "output_type": "display_data"
    }
   ],
   "source": [
    "line1, = plt.plot(min_samples_splits, train_results, 'b', label=\"Train\")\n",
    "line2, = plt.plot(min_samples_splits, test_results, 'r', label=\"Test\")\n",
    "\n",
    "plt.legend(handler_map={line1: HandlerLine2D(numpoints=2)})\n",
    "\n",
    "plt.ylabel('RF score')\n",
    "plt.xlabel('min_samples_split')\n",
    "plt.show()"
   ]
  },
  {
   "cell_type": "code",
   "execution_count": 128,
   "metadata": {},
   "outputs": [],
   "source": [
    "# Best: min_samples_split=2"
   ]
  },
  {
   "cell_type": "markdown",
   "metadata": {},
   "source": [
    "## Min_samples_leaf (TF-IDF Vectorizer)"
   ]
  },
  {
   "cell_type": "code",
   "execution_count": 129,
   "metadata": {},
   "outputs": [],
   "source": [
    "min_samples_leafs = list(np.linspace(.01, 0.5, 20, endpoint = True))"
   ]
  },
  {
   "cell_type": "code",
   "execution_count": 130,
   "metadata": {},
   "outputs": [],
   "source": [
    "train_results = []\n",
    "test_results = []\n",
    "for min_samples_leaf in min_samples_leafs:\n",
    "    rf = RandomForestClassifier(min_samples_leaf=min_samples_leaf, n_jobs=-1)\n",
    "    rf.fit(X_train_scaled_idf, encoded_y_train_idf)\n",
    "\n",
    "    train_results.append(rf.score(X_train_scaled_idf, encoded_y_train_idf))\n",
    "    test_results.append(rf.score(X_test_scaled_idf, encoded_y_test_idf))"
   ]
  },
  {
   "cell_type": "code",
   "execution_count": 131,
   "metadata": {},
   "outputs": [
    {
     "data": {
      "image/png": "[encoded data removed]",
      "text/plain": [
       "<Figure size 432x288 with 1 Axes>"
      ]
     },
     "metadata": {
      "needs_background": "light"
     },
     "output_type": "display_data"
    }
   ],
   "source": [
    "line1, = plt.plot(min_samples_leafs, train_results, 'b', label=\"Train\")\n",
    "line2, = plt.plot(min_samples_leafs, test_results, 'r', label=\"Test\")\n",
    "\n",
    "plt.legend(handler_map={line1: HandlerLine2D(numpoints=2)})\n",
    "\n",
    "plt.ylabel('RF score')\n",
    "plt.xlabel('min_samples_leaf')\n",
    "plt.show()"
   ]
  },
  {
   "cell_type": "code",
   "execution_count": 132,
   "metadata": {},
   "outputs": [],
   "source": [
    "#Best: min_samples_leaf = 1"
   ]
  },
  {
   "cell_type": "markdown",
   "metadata": {},
   "source": [
    "## Max_Features (TF-IDF Vectorizer)"
   ]
  },
  {
   "cell_type": "code",
   "execution_count": 133,
   "metadata": {},
   "outputs": [],
   "source": [
    "max_features_list = list(range(1, 3000, 100))"
   ]
  },
  {
   "cell_type": "code",
   "execution_count": 134,
   "metadata": {},
   "outputs": [],
   "source": [
    "train_results = []\n",
    "test_results = []\n",
    "for max_features in max_features_list:\n",
    "    rf = RandomForestClassifier(max_features=max_features, n_jobs=-1)\n",
    "    rf.fit(X_train_scaled_idf, encoded_y_train_idf)\n",
    "    \n",
    "    train_results.append(rf.score(X_train_scaled_idf, encoded_y_train_idf))\n",
    "    test_results.append(rf.score(X_test_scaled_idf, encoded_y_test_idf))"
   ]
  },
  {
   "cell_type": "code",
   "execution_count": 135,
   "metadata": {},
   "outputs": [
    {
     "data": {
      "image/png": "[encoded data removed]",
      "text/plain": [
       "<Figure size 432x288 with 1 Axes>"
      ]
     },
     "metadata": {
      "needs_background": "light"
     },
     "output_type": "display_data"
    }
   ],
   "source": [
    "line1, = plt.plot(max_features_list, train_results, 'b', label=\"Train\")\n",
    "line2, = plt.plot(max_features_list, test_results, 'r', label=\"Test\")\n",
    "\n",
    "plt.legend(handler_map={line1: HandlerLine2D(numpoints=2)})\n",
    "\n",
    "plt.ylabel('RF score')\n",
    "plt.xlabel('max_features')\n",
    "plt.show()"
   ]
  },
  {
   "cell_type": "code",
   "execution_count": 136,
   "metadata": {},
   "outputs": [],
   "source": [
    "#Best: max_features=200 (100-300)"
   ]
  },
  {
   "cell_type": "markdown",
   "metadata": {},
   "source": [
    "## In-Depth Parameter Tuning Scoring (TF-IDF Vectorizer)"
   ]
  },
  {
   "cell_type": "code",
   "execution_count": 137,
   "metadata": {},
   "outputs": [
    {
     "data": {
      "text/plain": [
       "0.5338403041825095"
      ]
     },
     "execution_count": 137,
     "metadata": {},
     "output_type": "execute_result"
    }
   ],
   "source": [
    "# Create a random forest classifier\n",
    "rf = RandomForestClassifier(n_estimators=150, max_depth=8, min_samples_split = 2,\n",
    "                           min_samples_leaf = 1, max_features = 250)\n",
    "rf = rf.fit(X_train_scaled_idf, encoded_y_train_idf)\n",
    "rf.score(X_test_scaled_idf, encoded_y_test_idf)"
   ]
  },
  {
   "cell_type": "markdown",
   "metadata": {},
   "source": [
    "## Grid Search (TF-IDF Vectorizer)"
   ]
  },
  {
   "cell_type": "code",
   "execution_count": 139,
   "metadata": {},
   "outputs": [
    {
     "data": {
      "text/plain": [
       "[2, 4, 6, 8, 10, 12, 14, 16, 18, None]"
      ]
     },
     "execution_count": 139,
     "metadata": {},
     "output_type": "execute_result"
    }
   ],
   "source": [
    "max_depth_gs = list(range(2, 20, 2))\n",
    "max_depth_gs.append(None)\n",
    "max_depth_gs"
   ]
  },
  {
   "cell_type": "code",
   "execution_count": 140,
   "metadata": {},
   "outputs": [
    {
     "name": "stdout",
     "output_type": "stream",
     "text": [
      "Fitting 5 folds for each of 1210 candidates, totalling 6050 fits\n"
     ]
    },
    {
     "name": "stderr",
     "output_type": "stream",
     "text": [
      "[Parallel(n_jobs=-1)]: Using backend LokyBackend with 8 concurrent workers.\n",
      "[Parallel(n_jobs=-1)]: Done  25 tasks      | elapsed:    4.9s\n",
      "[Parallel(n_jobs=-1)]: Done 146 tasks      | elapsed:   22.8s\n",
      "[Parallel(n_jobs=-1)]: Done 349 tasks      | elapsed:   58.3s\n",
      "[Parallel(n_jobs=-1)]: Done 632 tasks      | elapsed:  1.9min\n",
      "[Parallel(n_jobs=-1)]: Done 997 tasks      | elapsed:  3.5min\n",
      "[Parallel(n_jobs=-1)]: Done 1442 tasks      | elapsed:  5.8min\n",
      "[Parallel(n_jobs=-1)]: Done 1969 tasks      | elapsed:  9.3min\n",
      "[Parallel(n_jobs=-1)]: Done 2576 tasks      | elapsed: 14.3min\n",
      "[Parallel(n_jobs=-1)]: Done 3265 tasks      | elapsed: 21.1min\n",
      "[Parallel(n_jobs=-1)]: Done 4034 tasks      | elapsed: 31.5min\n",
      "[Parallel(n_jobs=-1)]: Done 4885 tasks      | elapsed: 44.9min\n",
      "[Parallel(n_jobs=-1)]: Done 5816 tasks      | elapsed: 93.5min\n",
      "[Parallel(n_jobs=-1)]: Done 6050 out of 6050 | elapsed: 117.8min finished\n"
     ]
    },
    {
     "data": {
      "text/html": [
       "<div>\n",
       "<style scoped>\n",
       "    .dataframe tbody tr th:only-of-type {\n",
       "        vertical-align: middle;\n",
       "    }\n",
       "\n",
       "    .dataframe tbody tr th {\n",
       "        vertical-align: top;\n",
       "    }\n",
       "\n",
       "    .dataframe thead th {\n",
       "        text-align: right;\n",
       "    }\n",
       "</style>\n",
       "<table border=\"1\" class=\"dataframe\">\n",
       "  <thead>\n",
       "    <tr style=\"text-align: right;\">\n",
       "      <th></th>\n",
       "      <th>mean_fit_time</th>\n",
       "      <th>std_fit_time</th>\n",
       "      <th>mean_score_time</th>\n",
       "      <th>std_score_time</th>\n",
       "      <th>param_max_depth</th>\n",
       "      <th>param_max_features</th>\n",
       "      <th>param_n_estimators</th>\n",
       "      <th>params</th>\n",
       "      <th>split0_test_score</th>\n",
       "      <th>split1_test_score</th>\n",
       "      <th>...</th>\n",
       "      <th>mean_test_score</th>\n",
       "      <th>std_test_score</th>\n",
       "      <th>rank_test_score</th>\n",
       "      <th>split0_train_score</th>\n",
       "      <th>split1_train_score</th>\n",
       "      <th>split2_train_score</th>\n",
       "      <th>split3_train_score</th>\n",
       "      <th>split4_train_score</th>\n",
       "      <th>mean_train_score</th>\n",
       "      <th>std_train_score</th>\n",
       "    </tr>\n",
       "  </thead>\n",
       "  <tbody>\n",
       "    <tr>\n",
       "      <th>1099</th>\n",
       "      <td>90.682376</td>\n",
       "      <td>5.896368</td>\n",
       "      <td>0.576653</td>\n",
       "      <td>0.108677</td>\n",
       "      <td>None</td>\n",
       "      <td>100</td>\n",
       "      <td>250</td>\n",
       "      <td>{'max_depth': None, 'max_features': 100, 'n_estimators': 250}</td>\n",
       "      <td>0.747757</td>\n",
       "      <td>0.765172</td>\n",
       "      <td>...</td>\n",
       "      <td>0.751267</td>\n",
       "      <td>0.007613</td>\n",
       "      <td>1</td>\n",
       "      <td>1.0</td>\n",
       "      <td>1.0</td>\n",
       "      <td>1.0</td>\n",
       "      <td>1.0</td>\n",
       "      <td>1.0</td>\n",
       "      <td>1.0</td>\n",
       "      <td>0.0</td>\n",
       "    </tr>\n",
       "    <tr>\n",
       "      <th>1109</th>\n",
       "      <td>78.301259</td>\n",
       "      <td>4.406743</td>\n",
       "      <td>0.477323</td>\n",
       "      <td>0.089848</td>\n",
       "      <td>None</td>\n",
       "      <td>120</td>\n",
       "      <td>226</td>\n",
       "      <td>{'max_depth': None, 'max_features': 120, 'n_estimators': 226}</td>\n",
       "      <td>0.748813</td>\n",
       "      <td>0.765172</td>\n",
       "      <td>...</td>\n",
       "      <td>0.749894</td>\n",
       "      <td>0.008875</td>\n",
       "      <td>2</td>\n",
       "      <td>1.0</td>\n",
       "      <td>1.0</td>\n",
       "      <td>1.0</td>\n",
       "      <td>1.0</td>\n",
       "      <td>1.0</td>\n",
       "      <td>1.0</td>\n",
       "      <td>0.0</td>\n",
       "    </tr>\n",
       "    <tr>\n",
       "      <th>1121</th>\n",
       "      <td>96.928682</td>\n",
       "      <td>8.471812</td>\n",
       "      <td>0.528389</td>\n",
       "      <td>0.060901</td>\n",
       "      <td>None</td>\n",
       "      <td>140</td>\n",
       "      <td>250</td>\n",
       "      <td>{'max_depth': None, 'max_features': 140, 'n_estimators': 250}</td>\n",
       "      <td>0.748813</td>\n",
       "      <td>0.758311</td>\n",
       "      <td>...</td>\n",
       "      <td>0.749155</td>\n",
       "      <td>0.004986</td>\n",
       "      <td>3</td>\n",
       "      <td>1.0</td>\n",
       "      <td>1.0</td>\n",
       "      <td>1.0</td>\n",
       "      <td>1.0</td>\n",
       "      <td>1.0</td>\n",
       "      <td>1.0</td>\n",
       "      <td>0.0</td>\n",
       "    </tr>\n",
       "    <tr>\n",
       "      <th>1098</th>\n",
       "      <td>82.389259</td>\n",
       "      <td>4.882207</td>\n",
       "      <td>0.460768</td>\n",
       "      <td>0.029015</td>\n",
       "      <td>None</td>\n",
       "      <td>100</td>\n",
       "      <td>226</td>\n",
       "      <td>{'max_depth': None, 'max_features': 100, 'n_estimators': 226}</td>\n",
       "      <td>0.744591</td>\n",
       "      <td>0.760422</td>\n",
       "      <td>...</td>\n",
       "      <td>0.748416</td>\n",
       "      <td>0.006573</td>\n",
       "      <td>4</td>\n",
       "      <td>1.0</td>\n",
       "      <td>1.0</td>\n",
       "      <td>1.0</td>\n",
       "      <td>1.0</td>\n",
       "      <td>1.0</td>\n",
       "      <td>1.0</td>\n",
       "      <td>0.0</td>\n",
       "    </tr>\n",
       "    <tr>\n",
       "      <th>1097</th>\n",
       "      <td>76.884448</td>\n",
       "      <td>4.215021</td>\n",
       "      <td>0.452987</td>\n",
       "      <td>0.029461</td>\n",
       "      <td>None</td>\n",
       "      <td>100</td>\n",
       "      <td>202</td>\n",
       "      <td>{'max_depth': None, 'max_features': 100, 'n_estimators': 202}</td>\n",
       "      <td>0.745119</td>\n",
       "      <td>0.755145</td>\n",
       "      <td>...</td>\n",
       "      <td>0.747676</td>\n",
       "      <td>0.004125</td>\n",
       "      <td>5</td>\n",
       "      <td>1.0</td>\n",
       "      <td>1.0</td>\n",
       "      <td>1.0</td>\n",
       "      <td>1.0</td>\n",
       "      <td>1.0</td>\n",
       "      <td>1.0</td>\n",
       "      <td>0.0</td>\n",
       "    </tr>\n",
       "  </tbody>\n",
       "</table>\n",
       "<p>5 rows × 23 columns</p>\n",
       "</div>"
      ],
      "text/plain": [
       "      mean_fit_time  std_fit_time  mean_score_time  std_score_time  \\\n",
       "1099      90.682376      5.896368         0.576653        0.108677   \n",
       "1109      78.301259      4.406743         0.477323        0.089848   \n",
       "1121      96.928682      8.471812         0.528389        0.060901   \n",
       "1098      82.389259      4.882207         0.460768        0.029015   \n",
       "1097      76.884448      4.215021         0.452987        0.029461   \n",
       "\n",
       "     param_max_depth param_max_features param_n_estimators  \\\n",
       "1099            None                100                250   \n",
       "1109            None                120                226   \n",
       "1121            None                140                250   \n",
       "1098            None                100                226   \n",
       "1097            None                100                202   \n",
       "\n",
       "                                                             params  \\\n",
       "1099  {'max_depth': None, 'max_features': 100, 'n_estimators': 250}   \n",
       "1109  {'max_depth': None, 'max_features': 120, 'n_estimators': 226}   \n",
       "1121  {'max_depth': None, 'max_features': 140, 'n_estimators': 250}   \n",
       "1098  {'max_depth': None, 'max_features': 100, 'n_estimators': 226}   \n",
       "1097  {'max_depth': None, 'max_features': 100, 'n_estimators': 202}   \n",
       "\n",
       "      split0_test_score  split1_test_score       ...         mean_test_score  \\\n",
       "1099           0.747757           0.765172       ...                0.751267   \n",
       "1109           0.748813           0.765172       ...                0.749894   \n",
       "1121           0.748813           0.758311       ...                0.749155   \n",
       "1098           0.744591           0.760422       ...                0.748416   \n",
       "1097           0.745119           0.755145       ...                0.747676   \n",
       "\n",
       "      std_test_score  rank_test_score  split0_train_score  split1_train_score  \\\n",
       "1099        0.007613                1                 1.0                 1.0   \n",
       "1109        0.008875                2                 1.0                 1.0   \n",
       "1121        0.004986                3                 1.0                 1.0   \n",
       "1098        0.006573                4                 1.0                 1.0   \n",
       "1097        0.004125                5                 1.0                 1.0   \n",
       "\n",
       "      split2_train_score  split3_train_score  split4_train_score  \\\n",
       "1099                 1.0                 1.0                 1.0   \n",
       "1109                 1.0                 1.0                 1.0   \n",
       "1121                 1.0                 1.0                 1.0   \n",
       "1098                 1.0                 1.0                 1.0   \n",
       "1097                 1.0                 1.0                 1.0   \n",
       "\n",
       "      mean_train_score  std_train_score  \n",
       "1099               1.0              0.0  \n",
       "1109               1.0              0.0  \n",
       "1121               1.0              0.0  \n",
       "1098               1.0              0.0  \n",
       "1097               1.0              0.0  \n",
       "\n",
       "[5 rows x 23 columns]"
      ]
     },
     "execution_count": 140,
     "metadata": {},
     "output_type": "execute_result"
    }
   ],
   "source": [
    "rf = RandomForestClassifier()\n",
    "param = {'n_estimators': list(range(10, 251, 24)),\n",
    "        'max_depth': max_depth_gs,\n",
    "         'max_features': list(range(100, 301, 20))\n",
    "        }\n",
    "\n",
    "gs = GridSearchCV(rf, param, cv=5, n_jobs=-1, verbose = 2)# n_jobs=-1 for parallelizing search\n",
    "gs_fit = gs.fit(X_train_scaled_idf_cv, encoded_y_train_idf_cv)\n",
    "pd.DataFrame(gs_fit.cv_results_).sort_values('mean_test_score', ascending=False).head()"
   ]
  },
  {
   "cell_type": "code",
   "execution_count": 141,
   "metadata": {},
   "outputs": [
    {
     "data": {
      "text/plain": [
       "0.7452471482889734"
      ]
     },
     "execution_count": 141,
     "metadata": {},
     "output_type": "execute_result"
    }
   ],
   "source": [
    "# Create a random forest classifier\n",
    "rf = RandomForestClassifier(n_estimators=250, max_depth=None, min_samples_split = 2,\n",
    "                           min_samples_leaf = 1, max_features = 100)\n",
    "rf = rf.fit(X_train_scaled_idf_cv, encoded_y_train_idf_cv)\n",
    "rf.score(X_test_scaled_idf_cv, encoded_y_test_idf_cv)"
   ]
  }
 ],
 "metadata": {
  "kernelspec": {
   "display_name": "Python 3",
   "language": "python",
   "name": "python3"
  },
  "language_info": {
   "codemirror_mode": {
    "name": "ipython",
    "version": 3
   },
   "file_extension": ".py",
   "mimetype": "text/x-python",
   "name": "python",
   "nbconvert_exporter": "python",
   "pygments_lexer": "ipython3",
   "version": "3.7.1"
  }
 },
 "nbformat": 4,
 "nbformat_minor": 2
}
