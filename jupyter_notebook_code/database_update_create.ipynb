{
 "cells": [
  {
   "cell_type": "code",
   "execution_count": 77,
   "metadata": {},
   "outputs": [],
   "source": [
    "# Dependencies\n",
    "# ----------------------------------\n",
    "from sqlalchemy import create_engine, Table\n",
    "from sqlalchemy.ext.declarative import declarative_base\n",
    "from sqlalchemy.ext.automap import automap_base\n",
    "\n",
    "from sqlalchemy import Column, Integer, String, Float, DateTime, Date, Time, func"
   ]
  },
  {
   "cell_type": "code",
   "execution_count": 78,
   "metadata": {},
   "outputs": [],
   "source": [
    "import datetime as dt"
   ]
  },
  {
   "cell_type": "code",
   "execution_count": 79,
   "metadata": {},
   "outputs": [],
   "source": [
    "# Sets an object to utilize the default declarative base in SQL Alchemy\n",
    "Base = declarative_base()"
   ]
  },
  {
   "cell_type": "code",
   "execution_count": 80,
   "metadata": {},
   "outputs": [],
   "source": [
    "# Creates Classes which will serve as the anchor points for our Table\n",
    "class Update(Base):\n",
    "    __tablename__ = 'database_update'\n",
    "    id = Column(Integer, primary_key=True)\n",
    "    update_time = Column(Time)\n",
    "    update_date = Column(Date)\n",
    "    update_datetime = Column(DateTime)\n",
    "    update_type = Column(String(255))\n",
    "    candidate_id_str = Column(String(255))"
   ]
  },
  {
   "cell_type": "code",
   "execution_count": 81,
   "metadata": {},
   "outputs": [],
   "source": [
    "# Create Database Connection\n",
    "engine = create_engine(\"sqlite:///../db/twitter_db.sqlite\")\n",
    "conn = engine.connect()"
   ]
  },
  {
   "cell_type": "code",
   "execution_count": 82,
   "metadata": {},
   "outputs": [],
   "source": [
    "# Create a \"Metadata\" Layer That Abstracts our SQL Database\n",
    "# ----------------------------------\n",
    "# Create (if not already in existence) the tables associated with our classes.\n",
    "Base.metadata.create_all(engine)"
   ]
  },
  {
   "cell_type": "code",
   "execution_count": null,
   "metadata": {},
   "outputs": [],
   "source": [
    "# help(Base.metadata)"
   ]
  },
  {
   "cell_type": "code",
   "execution_count": null,
   "metadata": {},
   "outputs": [],
   "source": [
    "Base.metadata.reflect(engine)"
   ]
  },
  {
   "cell_type": "code",
   "execution_count": null,
   "metadata": {},
   "outputs": [],
   "source": [
    "Base.metadata.clear()"
   ]
  },
  {
   "cell_type": "code",
   "execution_count": null,
   "metadata": {},
   "outputs": [],
   "source": [
    "for table in Base.metadata.tables:\n",
    "    print(table)"
   ]
  },
  {
   "cell_type": "code",
   "execution_count": 73,
   "metadata": {},
   "outputs": [
    {
     "data": {
      "text/plain": [
       "immutabledict({'database_update': Table('database_update', MetaData(bind=None), Column('id', Integer(), table=<database_update>, primary_key=True, nullable=False), Column('update_time', Time(), table=<database_update>), Column('update_date', Date(), table=<database_update>), Column('update_datetime', DateTime(), table=<database_update>), Column('update_type', String(length=255), table=<database_update>), Column('candidate_id_str', String(length=255), table=<database_update>), schema=None)})"
      ]
     },
     "execution_count": 73,
     "metadata": {},
     "output_type": "execute_result"
    }
   ],
   "source": [
    "Base.metadata.tables"
   ]
  },
  {
   "cell_type": "code",
   "execution_count": null,
   "metadata": {},
   "outputs": [],
   "source": [
    "# Base.metadata.remove(table = Update())"
   ]
  },
  {
   "cell_type": "code",
   "execution_count": null,
   "metadata": {},
   "outputs": [],
   "source": [
    "# help(Table)"
   ]
  },
  {
   "cell_type": "code",
   "execution_count": null,
   "metadata": {},
   "outputs": [],
   "source": [
    "# Base_AutoMap.metadata.remove(table = Update)"
   ]
  },
  {
   "cell_type": "code",
   "execution_count": null,
   "metadata": {},
   "outputs": [],
   "source": [
    "# Use this to clear out the db\n",
    "# ----------------------------------\n",
    "# Base.metadata.drop_all(engine)"
   ]
  },
  {
   "cell_type": "code",
   "execution_count": 74,
   "metadata": {},
   "outputs": [],
   "source": [
    "# Base.metadata.drop_all(engine)"
   ]
  },
  {
   "cell_type": "code",
   "execution_count": 14,
   "metadata": {},
   "outputs": [],
   "source": [
    "# engine.execute(\"select * from database_update\").fetchall()"
   ]
  },
  {
   "cell_type": "code",
   "execution_count": 49,
   "metadata": {},
   "outputs": [],
   "source": [
    "from sqlalchemy import inspect"
   ]
  },
  {
   "cell_type": "code",
   "execution_count": 83,
   "metadata": {},
   "outputs": [],
   "source": [
    "# Create the inspector and connect it to the engine\n",
    "inspector = inspect(engine)"
   ]
  },
  {
   "cell_type": "code",
   "execution_count": 84,
   "metadata": {},
   "outputs": [
    {
     "data": {
      "text/plain": [
       "['database_update', 'moving_averages', 'tweet_data']"
      ]
     },
     "execution_count": 84,
     "metadata": {},
     "output_type": "execute_result"
    }
   ],
   "source": [
    "# Collect the names of tables within the database\n",
    "inspector.get_table_names()"
   ]
  },
  {
   "cell_type": "code",
   "execution_count": null,
   "metadata": {},
   "outputs": [],
   "source": [
    "# Using the inspector to print the column names within the 'tweet_data' table and its types\n",
    "columns = inspector.get_columns('database_update')\n",
    "for column in columns:\n",
    "    print(column[\"name\"], column[\"type\"])"
   ]
  },
  {
   "cell_type": "markdown",
   "metadata": {},
   "source": [
    "## Testing"
   ]
  },
  {
   "cell_type": "code",
   "execution_count": null,
   "metadata": {},
   "outputs": [],
   "source": [
    "date_1 = dt.date(2019, 7, 30)\n",
    "date_2 = dt.date(2019, 7, 15)\n",
    "date_3 = dt.date(2019, 6, 30)"
   ]
  },
  {
   "cell_type": "code",
   "execution_count": 26,
   "metadata": {},
   "outputs": [],
   "source": [
    "from sqlalchemy.orm import Session"
   ]
  },
  {
   "cell_type": "code",
   "execution_count": 27,
   "metadata": {},
   "outputs": [],
   "source": [
    "session = Session(engine)"
   ]
  },
  {
   "cell_type": "code",
   "execution_count": 28,
   "metadata": {},
   "outputs": [],
   "source": [
    "Base_automap = automap_base()"
   ]
  },
  {
   "cell_type": "code",
   "execution_count": 29,
   "metadata": {},
   "outputs": [],
   "source": [
    "Base_automap.prepare(engine, reflect=True)"
   ]
  },
  {
   "cell_type": "code",
   "execution_count": 30,
   "metadata": {},
   "outputs": [],
   "source": [
    "Tweets = Base_automap.classes.tweet_data"
   ]
  },
  {
   "cell_type": "code",
   "execution_count": 31,
   "metadata": {},
   "outputs": [],
   "source": [
    "Moving_Averages = Base_automap.classes.moving_averages"
   ]
  },
  {
   "cell_type": "code",
   "execution_count": 32,
   "metadata": {},
   "outputs": [],
   "source": [
    "Update = Base_automap.classes.database_update"
   ]
  },
  {
   "cell_type": "code",
   "execution_count": null,
   "metadata": {},
   "outputs": [],
   "source": [
    "candidate_user_id = \"939091\""
   ]
  },
  {
   "cell_type": "code",
   "execution_count": null,
   "metadata": {},
   "outputs": [],
   "source": [
    "days_back = dt.timedelta(days=10)\n"
   ]
  },
  {
   "cell_type": "code",
   "execution_count": null,
   "metadata": {},
   "outputs": [],
   "source": [
    "most_recent_date = session.query(func.max(Tweets.created_at_date)).filter(Tweets.user_id_str == candidate_user_id).first()\n",
    "most_recent_date_object = most_recent_date[0]"
   ]
  },
  {
   "cell_type": "code",
   "execution_count": null,
   "metadata": {},
   "outputs": [],
   "source": [
    "oldest_date = session.query(func.min(Tweets.created_at_date)).filter(Tweets.user_id_str == candidate_user_id).first()\n",
    "oldest_date_object = oldest_date[0] + dt.timedelta(days = 10)"
   ]
  },
  {
   "cell_type": "code",
   "execution_count": null,
   "metadata": {},
   "outputs": [],
   "source": [
    "update_query_all = session.query(Tweets.user_name,\n",
    "    func.avg(Tweets.retweet_count),\n",
    "    func.avg(Tweets.favorite_count)).\\\n",
    "    filter(Tweets.user_id == \"939091\").\\\n",
    "    filter(Tweets.created_at_date >= (oldest_date_object - days_back)).\\\n",
    "    filter(Tweets.created_at_date <= most_recent_date_object)\n",
    "update_query_all"
   ]
  },
  {
   "cell_type": "code",
   "execution_count": 97,
   "metadata": {},
   "outputs": [],
   "source": [
    "none_query = session.query(Moving_Averages, func.avg(Moving_Averages.retweet_moving_average)).filter(Moving_Averages.date < dt.date(2000, 9, 11)).first()"
   ]
  },
  {
   "cell_type": "code",
   "execution_count": 93,
   "metadata": {},
   "outputs": [],
   "source": [
    "none_query = session.query(Moving_Averages).filter(Moving_Averages.date < dt.date(2000, 9, 11)).first()"
   ]
  },
  {
   "cell_type": "code",
   "execution_count": 61,
   "metadata": {},
   "outputs": [
    {
     "data": {
      "text/plain": [
       "False"
      ]
     },
     "execution_count": 61,
     "metadata": {},
     "output_type": "execute_result"
    }
   ],
   "source": [
    "none_query is None"
   ]
  },
  {
   "cell_type": "code",
   "execution_count": 101,
   "metadata": {},
   "outputs": [
    {
     "ename": "SyntaxError",
     "evalue": "invalid syntax (<ipython-input-101-524e90d6d2dd>, line 1)",
     "output_type": "error",
     "traceback": [
      "\u001b[1;36m  File \u001b[1;32m\"<ipython-input-101-524e90d6d2dd>\"\u001b[1;36m, line \u001b[1;32m1\u001b[0m\n\u001b[1;33m    if none_query[0], none_query[1], none_query[2] is None\u001b[0m\n\u001b[1;37m                    ^\u001b[0m\n\u001b[1;31mSyntaxError\u001b[0m\u001b[1;31m:\u001b[0m invalid syntax\n"
     ]
    }
   ],
   "source": [
    "if none_query[0], none_query[1], none_query[2] is None\n",
    "    print(none_query[0])\n",
    "else:\n",
    "    print(\"not none\")"
   ]
  },
  {
   "cell_type": "code",
   "execution_count": 96,
   "metadata": {},
   "outputs": [
    {
     "data": {
      "text/plain": [
       "True"
      ]
     },
     "execution_count": 96,
     "metadata": {},
     "output_type": "execute_result"
    }
   ],
   "source": [
    "none_query is None\n"
   ]
  },
  {
   "cell_type": "code",
   "execution_count": 106,
   "metadata": {},
   "outputs": [
    {
     "data": {
      "text/plain": [
       "[(1, '06:09:04.510413', '2019-08-03', '2019-08-03 06:09:04.510413', 'moving_averages - full', '939091'),\n",
       " (2, '06:11:03.264951', '2019-08-03', '2019-08-03 06:11:03.264951', 'moving_averages - full', '15808765'),\n",
       " (3, '06:11:31.208846', '2019-08-03', '2019-08-03 06:11:31.208846', 'moving_averages - full', '226222147'),\n",
       " (4, '06:11:59.724442', '2019-08-03', '2019-08-03 06:11:59.724442', 'moving_averages - full', '19682187'),\n",
       " (5, '06:12:30.209117', '2019-08-03', '2019-08-03 06:12:30.209117', 'moving_averages - full', '426028646'),\n",
       " (6, '06:13:12.525658', '2019-08-03', '2019-08-03 06:13:12.525658', 'moving_averages - full', '26637348'),\n",
       " (7, '06:13:47.276586', '2019-08-03', '2019-08-03 06:13:47.276586', 'moving_averages - full', '72198806'),\n",
       " (8, '06:14:07.438099', '2019-08-03', '2019-08-03 06:14:07.438099', 'moving_averages - full', '14709326'),\n",
       " (9, '06:14:23.613676', '2019-08-03', '2019-08-03 06:14:23.613676', 'moving_averages - full', '30354991'),\n",
       " (10, '06:14:51.914096', '2019-08-03', '2019-08-03 06:14:51.914096', 'moving_averages - full', '117839957'),\n",
       " (11, '06:15:14.696438', '2019-08-03', '2019-08-03 06:15:14.696438', 'moving_averages - full', '21789463'),\n",
       " (12, '06:15:36.605195', '2019-08-03', '2019-08-03 06:15:36.605195', 'moving_averages - full', '33537967'),\n",
       " (13, '06:16:00.105993', '2019-08-03', '2019-08-03 06:16:00.105993', 'moving_averages - full', '33954145'),\n",
       " (14, '06:16:29.377864', '2019-08-03', '2019-08-03 06:16:29.377864', 'moving_averages - full', '248495200'),\n",
       " (15, '06:16:44.549184', '2019-08-03', '2019-08-03 06:16:44.549184', 'moving_averages - full', '342863309'),\n",
       " (16, '06:17:13.226550', '2019-08-03', '2019-08-03 06:17:13.226550', 'moving_averages - full', '466532637'),\n",
       " (17, '06:17:32.676898', '2019-08-03', '2019-08-03 06:17:32.676898', 'moving_averages - full', '216776631'),\n",
       " (18, '06:18:00.889064', '2019-08-03', '2019-08-03 06:18:00.889064', 'moving_averages - full', '25073877'),\n",
       " (19, '06:18:26.977860', '2019-08-03', '2019-08-03 06:18:26.977860', 'moving_averages - full', '357606935'),\n",
       " (20, '06:18:55.502300', '2019-08-03', '2019-08-03 06:18:55.502300', 'moving_averages - full', '734783792502575105'),\n",
       " (21, '06:19:17.607631', '2019-08-03', '2019-08-03 06:19:17.607631', 'moving_averages - full', '21522338'),\n",
       " (22, '06:19:47.266423', '2019-08-03', '2019-08-03 06:19:47.266423', 'moving_averages - full', '2228878592'),\n",
       " (23, '06:20:03.980518', '2019-08-03', '2019-08-03 06:20:03.980518', 'moving_averages - full', '942156122'),\n",
       " (24, '06:20:36.189200', '2019-08-03', '2019-08-03 06:20:36.189200', 'moving_averages - full', '45645232'),\n",
       " (25, '06:22:44.679897', '2019-08-03', '2019-08-03 06:22:44.679897', 'moving_averages - full', '111721601'),\n",
       " (26, '06:22:57.627392', '2019-08-03', '2019-08-03 06:22:57.627392', 'moving_averages - full', '476193064'),\n",
       " (27, '06:24:30.788216', '2019-08-03', '2019-08-03 06:24:30.788216', 'moving_averages - full', '46764631'),\n",
       " (28, '06:27:20.791472', '2019-08-03', '2019-08-03 06:27:20.791472', 'moving_averages - full', '949934436')]"
      ]
     },
     "execution_count": 106,
     "metadata": {},
     "output_type": "execute_result"
    }
   ],
   "source": [
    "engine.execute(\"select * from database_update\").fetchall()"
   ]
  },
  {
   "cell_type": "code",
   "execution_count": null,
   "metadata": {},
   "outputs": [],
   "source": [
    "days_diff = (most_recent_date_object - oldest_date_object + dt.timedelta(days = 1)).days"
   ]
  },
  {
   "cell_type": "code",
   "execution_count": null,
   "metadata": {},
   "outputs": [],
   "source": [
    "for days in range(0, days_diff):\n",
    "\n",
    "    current_date = oldest_date_object + dt.timedelta(days = days)\n",
    "    print(current_date)\n",
    "\n",
    "    current_date_query = update_query_all.\\\n",
    "        filter(Tweets.created_at_date > (current_date - days_back)).\\\n",
    "        filter(Tweets.created_at_date <= current_date).first()\n",
    "    \n",
    "    print(current_date_query)\n",
    "\n",
    "    candidate_name = current_date_query[0]\n",
    "    retweet_moving_average = current_date_query[1]\n",
    "    favorite_moving_average = current_date_query[2]"
   ]
  },
  {
   "cell_type": "code",
   "execution_count": null,
   "metadata": {},
   "outputs": [],
   "source": [
    "session.query(Moving_Averages).filter(Moving_Averages.date == current_date).\\\n",
    "    filter(Moving_Averages.candidate_id_str == candidate_user_id).count()"
   ]
  },
  {
   "cell_type": "code",
   "execution_count": null,
   "metadata": {},
   "outputs": [],
   "source": [
    "session.query(Moving_Averages.candidate_name, Moving_Averages.candidate_id_str, Moving_Averages.date).all()"
   ]
  },
  {
   "cell_type": "code",
   "execution_count": null,
   "metadata": {},
   "outputs": [],
   "source": [
    "session.query(Update).delete()"
   ]
  },
  {
   "cell_type": "code",
   "execution_count": null,
   "metadata": {},
   "outputs": [],
   "source": [
    "session.commit()"
   ]
  },
  {
   "cell_type": "code",
   "execution_count": null,
   "metadata": {},
   "outputs": [],
   "source": [
    "session.query(Update).all()"
   ]
  },
  {
   "cell_type": "code",
   "execution_count": null,
   "metadata": {},
   "outputs": [],
   "source": [
    "session.add(Update(update_date = date_1))"
   ]
  },
  {
   "cell_type": "code",
   "execution_count": null,
   "metadata": {},
   "outputs": [],
   "source": [
    "session.new"
   ]
  },
  {
   "cell_type": "code",
   "execution_count": null,
   "metadata": {},
   "outputs": [],
   "source": [
    "session.commit()"
   ]
  },
  {
   "cell_type": "code",
   "execution_count": null,
   "metadata": {},
   "outputs": [],
   "source": [
    "session.query(Update.update_date).all()"
   ]
  },
  {
   "cell_type": "code",
   "execution_count": null,
   "metadata": {},
   "outputs": [],
   "source": [
    "session.add(Update(update_date = date_2))"
   ]
  },
  {
   "cell_type": "code",
   "execution_count": null,
   "metadata": {},
   "outputs": [],
   "source": [
    "session.add(Update(update_date = date_3))"
   ]
  },
  {
   "cell_type": "code",
   "execution_count": null,
   "metadata": {},
   "outputs": [],
   "source": [
    "session.new"
   ]
  },
  {
   "cell_type": "code",
   "execution_count": null,
   "metadata": {},
   "outputs": [],
   "source": [
    "session.commit()"
   ]
  },
  {
   "cell_type": "code",
   "execution_count": null,
   "metadata": {},
   "outputs": [],
   "source": [
    "session.query(Update.update_date).all()"
   ]
  },
  {
   "cell_type": "code",
   "execution_count": null,
   "metadata": {},
   "outputs": [],
   "source": [
    "query = session.query(func.min(Update.update_date)).first()\n",
    "query"
   ]
  },
  {
   "cell_type": "code",
   "execution_count": null,
   "metadata": {},
   "outputs": [],
   "source": [
    "type(query[0])"
   ]
  },
  {
   "cell_type": "code",
   "execution_count": null,
   "metadata": {},
   "outputs": [],
   "source": [
    "query[0]"
   ]
  },
  {
   "cell_type": "code",
   "execution_count": null,
   "metadata": {},
   "outputs": [],
   "source": [
    "help(session.query)"
   ]
  },
  {
   "cell_type": "code",
   "execution_count": null,
   "metadata": {},
   "outputs": [],
   "source": [
    "date_4 = dt.date(2019, 8, 1)"
   ]
  },
  {
   "cell_type": "code",
   "execution_count": null,
   "metadata": {},
   "outputs": [],
   "source": [
    "date_4 > query"
   ]
  },
  {
   "cell_type": "code",
   "execution_count": null,
   "metadata": {},
   "outputs": [],
   "source": [
    "(date_4 - date_1).days"
   ]
  },
  {
   "cell_type": "code",
   "execution_count": null,
   "metadata": {},
   "outputs": [],
   "source": [
    "session.add(Update_Record(updated_date = date_4))"
   ]
  },
  {
   "cell_type": "code",
   "execution_count": null,
   "metadata": {},
   "outputs": [],
   "source": [
    "session.commit()"
   ]
  },
  {
   "cell_type": "code",
   "execution_count": null,
   "metadata": {},
   "outputs": [],
   "source": [
    "session.query(Update.update_datetime).all()"
   ]
  },
  {
   "cell_type": "code",
   "execution_count": null,
   "metadata": {},
   "outputs": [],
   "source": [
    "session.query(func.max(Update.update_date)).first()"
   ]
  },
  {
   "cell_type": "code",
   "execution_count": null,
   "metadata": {},
   "outputs": [],
   "source": [
    "session.query(Moving_Averages.candidate_name, Moving_Averages.date, Moving_Averages.retweet_moving_average).all()"
   ]
  },
  {
   "cell_type": "code",
   "execution_count": null,
   "metadata": {},
   "outputs": [],
   "source": [
    "session.query(Moving_Averages).filter(Moving_Averages.date == dt.date(2019, 7, 30)).\\\n",
    "            filter(Moving_Averages.candidate_id_str == \"939091\").delete()"
   ]
  },
  {
   "cell_type": "code",
   "execution_count": null,
   "metadata": {},
   "outputs": [],
   "source": [
    "session.query(Moving_Averages).delete()"
   ]
  },
  {
   "cell_type": "code",
   "execution_count": null,
   "metadata": {},
   "outputs": [],
   "source": [
    "session.query(Moving_Averages).count()"
   ]
  },
  {
   "cell_type": "code",
   "execution_count": null,
   "metadata": {},
   "outputs": [],
   "source": [
    "session.query(Update).delete()"
   ]
  },
  {
   "cell_type": "code",
   "execution_count": null,
   "metadata": {},
   "outputs": [],
   "source": [
    "session.commit()"
   ]
  },
  {
   "cell_type": "code",
   "execution_count": null,
   "metadata": {},
   "outputs": [],
   "source": [
    "session.query(Moving_Averages).all()"
   ]
  },
  {
   "cell_type": "code",
   "execution_count": null,
   "metadata": {},
   "outputs": [],
   "source": [
    "session.close()"
   ]
  },
  {
   "cell_type": "code",
   "execution_count": 25,
   "metadata": {},
   "outputs": [
    {
     "ename": "NameError",
     "evalue": "name 'Session' is not defined",
     "output_type": "error",
     "traceback": [
      "\u001b[1;31m---------------------------------------------------------------------------\u001b[0m",
      "\u001b[1;31mNameError\u001b[0m                                 Traceback (most recent call last)",
      "\u001b[1;32m<ipython-input-25-55fba88a54a0>\u001b[0m in \u001b[0;36m<module>\u001b[1;34m\u001b[0m\n\u001b[1;32m----> 1\u001b[1;33m \u001b[0msession\u001b[0m \u001b[1;33m=\u001b[0m \u001b[0mSession\u001b[0m\u001b[1;33m(\u001b[0m\u001b[0mengine\u001b[0m\u001b[1;33m)\u001b[0m\u001b[1;33m\u001b[0m\u001b[1;33m\u001b[0m\u001b[0m\n\u001b[0m",
      "\u001b[1;31mNameError\u001b[0m: name 'Session' is not defined"
     ]
    }
   ],
   "source": [
    "session = Session(engine)"
   ]
  },
  {
   "cell_type": "code",
   "execution_count": null,
   "metadata": {},
   "outputs": [],
   "source": [
    "engine.execute(\"SELECT * FROM moving_averages\").fetchall()"
   ]
  },
  {
   "cell_type": "code",
   "execution_count": null,
   "metadata": {},
   "outputs": [],
   "source": [
    "today_datetime = dt.datetime.utcnow()\n",
    "today_date = today_datetime.date()\n",
    "thirty_days_ago = dt.date.today() - dt.timedelta(days = 30)\n",
    "\n",
    "time_delta = today_date - thirty_days_ago + dt.timedelta(days = 1)\n",
    "days_back = dt.timedelta(days = 10)\n",
    "\n",
    "session = Session(engine)\n",
    "\n",
    "moving_average_list = []\n",
    "\n",
    "moving_average_query = session.query(Moving_Averages.candidate_name,\n",
    "    Moving_Averages.date,\n",
    "    Moving_Averages.retweet_moving_average, \n",
    "    Moving_Averages.favorite_moving_average).\\\n",
    "    filter(Moving_Averages.date > (thirty_days_ago - days_back)).\\\n",
    "    filter(Moving_Averages.date <= today_date)"
   ]
  },
  {
   "cell_type": "code",
   "execution_count": null,
   "metadata": {},
   "outputs": [],
   "source": [
    "keys = (\"user_name\", \"moving_average_date\", \"retweet_moving_average\", \"favorite_moving_average\")\n",
    "moving_average_list = []\n",
    "for query in moving_average_query:\n",
    "    list_query = list(query)\n",
    "    list_query[1] = dt.datetime.strftime(list_query[1], \"%Y-%m-%d\")\n",
    "    print(list_query[1])\n",
    "    moving_average_dict = dict(zip(keys, list_query))\n",
    "    moving_average_list.append(moving_average_dict)"
   ]
  },
  {
   "cell_type": "code",
   "execution_count": null,
   "metadata": {},
   "outputs": [],
   "source": [
    "modified_list = []\n",
    "for date in moving_average_list"
   ]
  },
  {
   "cell_type": "code",
   "execution_count": null,
   "metadata": {},
   "outputs": [],
   "source": [
    "moving_average_query.count()"
   ]
  },
  {
   "cell_type": "code",
   "execution_count": null,
   "metadata": {},
   "outputs": [],
   "source": [
    "moving_average_list"
   ]
  },
  {
   "cell_type": "code",
   "execution_count": null,
   "metadata": {},
   "outputs": [],
   "source": []
  }
 ],
 "metadata": {
  "kernelspec": {
   "display_name": "Python 3",
   "language": "python",
   "name": "python3"
  },
  "language_info": {
   "codemirror_mode": {
    "name": "ipython",
    "version": 3
   },
   "file_extension": ".py",
   "mimetype": "text/x-python",
   "name": "python",
   "nbconvert_exporter": "python",
   "pygments_lexer": "ipython3",
   "version": "3.7.1"
  }
 },
 "nbformat": 4,
 "nbformat_minor": 2
}
