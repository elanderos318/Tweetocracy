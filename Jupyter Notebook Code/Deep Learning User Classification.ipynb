{
 "cells": [
  {
   "cell_type": "code",
   "execution_count": 1,
   "metadata": {},
   "outputs": [],
   "source": [
    "import pandas as pd\n",
    "import numpy as np\n",
    "# import matplotlib.pyplot as plt"
   ]
  },
  {
   "cell_type": "code",
   "execution_count": 2,
   "metadata": {},
   "outputs": [],
   "source": [
    "# Python SQL toolkit and Object Relational Mapper\n",
    "# import sqlalchemy\n",
    "# from sqlalchemy.ext.automap import automap_base\n",
    "# from sqlalchemy.orm import Session\n",
    "# from sqlalchemy import create_engine, func"
   ]
  },
  {
   "cell_type": "code",
   "execution_count": 3,
   "metadata": {},
   "outputs": [],
   "source": [
    "from sqlalchemy import create_engine"
   ]
  },
  {
   "cell_type": "code",
   "execution_count": 4,
   "metadata": {},
   "outputs": [],
   "source": [
    "import datetime as dt"
   ]
  },
  {
   "cell_type": "code",
   "execution_count": 5,
   "metadata": {},
   "outputs": [],
   "source": [
    "# from Candidates import candidates_list"
   ]
  },
  {
   "cell_type": "code",
   "execution_count": 6,
   "metadata": {},
   "outputs": [],
   "source": [
    "engine = create_engine(\"sqlite:///../db/twitter_db.sqlite\")\n",
    "conn = engine.connect()"
   ]
  },
  {
   "cell_type": "code",
   "execution_count": 7,
   "metadata": {},
   "outputs": [],
   "source": [
    "tweets_df = pd.read_sql(\"SELECT * FROM tweet_data\", conn)"
   ]
  },
  {
   "cell_type": "code",
   "execution_count": 8,
   "metadata": {},
   "outputs": [
    {
     "data": {
      "text/html": [
       "<div>\n",
       "<style scoped>\n",
       "    .dataframe tbody tr th:only-of-type {\n",
       "        vertical-align: middle;\n",
       "    }\n",
       "\n",
       "    .dataframe tbody tr th {\n",
       "        vertical-align: top;\n",
       "    }\n",
       "\n",
       "    .dataframe thead th {\n",
       "        text-align: right;\n",
       "    }\n",
       "</style>\n",
       "<table border=\"1\" class=\"dataframe\">\n",
       "  <thead>\n",
       "    <tr style=\"text-align: right;\">\n",
       "      <th></th>\n",
       "      <th>id</th>\n",
       "      <th>created_at</th>\n",
       "      <th>created_at_time</th>\n",
       "      <th>created_at_date</th>\n",
       "      <th>created_at_datetime</th>\n",
       "      <th>tweet_id</th>\n",
       "      <th>tweet_id_str</th>\n",
       "      <th>full_text</th>\n",
       "      <th>in_reply_to_status_id</th>\n",
       "      <th>in_reply_to_status_id_str</th>\n",
       "      <th>in_reply_to_user_id</th>\n",
       "      <th>in_reply_to_user_id_str</th>\n",
       "      <th>in_reply_to_screen_name</th>\n",
       "      <th>user_id</th>\n",
       "      <th>user_id_str</th>\n",
       "      <th>user_name</th>\n",
       "      <th>user_screen_name</th>\n",
       "      <th>retweet_count</th>\n",
       "      <th>favorite_count</th>\n",
       "    </tr>\n",
       "  </thead>\n",
       "  <tbody>\n",
       "    <tr>\n",
       "      <th>0</th>\n",
       "      <td>1</td>\n",
       "      <td>Wed Jul 31 22:21:23 +0000 2019</td>\n",
       "      <td>22:21:23.000000</td>\n",
       "      <td>2019-07-31</td>\n",
       "      <td>2019-07-31 22:21:23.000000</td>\n",
       "      <td>1156691352983412737</td>\n",
       "      <td>1156691352983412737</td>\n",
       "      <td>Here's the deal, President Trump inherited the...</td>\n",
       "      <td>NaN</td>\n",
       "      <td>None</td>\n",
       "      <td>NaN</td>\n",
       "      <td>None</td>\n",
       "      <td>None</td>\n",
       "      <td>939091</td>\n",
       "      <td>939091</td>\n",
       "      <td>Joe Biden</td>\n",
       "      <td>JoeBiden</td>\n",
       "      <td>938</td>\n",
       "      <td>4134</td>\n",
       "    </tr>\n",
       "    <tr>\n",
       "      <th>1</th>\n",
       "      <td>2</td>\n",
       "      <td>Wed Jul 31 21:28:00 +0000 2019</td>\n",
       "      <td>21:28:00.000000</td>\n",
       "      <td>2019-07-31</td>\n",
       "      <td>2019-07-31 21:28:00.000000</td>\n",
       "      <td>1156677917469896704</td>\n",
       "      <td>1156677917469896704</td>\n",
       "      <td>I’ve got some exciting news: I am now on Snapc...</td>\n",
       "      <td>NaN</td>\n",
       "      <td>None</td>\n",
       "      <td>NaN</td>\n",
       "      <td>None</td>\n",
       "      <td>None</td>\n",
       "      <td>939091</td>\n",
       "      <td>939091</td>\n",
       "      <td>Joe Biden</td>\n",
       "      <td>JoeBiden</td>\n",
       "      <td>173</td>\n",
       "      <td>790</td>\n",
       "    </tr>\n",
       "    <tr>\n",
       "      <th>2</th>\n",
       "      <td>3</td>\n",
       "      <td>Wed Jul 31 19:25:00 +0000 2019</td>\n",
       "      <td>19:25:00.000000</td>\n",
       "      <td>2019-07-31</td>\n",
       "      <td>2019-07-31 19:25:00.000000</td>\n",
       "      <td>1156646963506368512</td>\n",
       "      <td>1156646963506368512</td>\n",
       "      <td>A car accident took the lives of my first wife...</td>\n",
       "      <td>NaN</td>\n",
       "      <td>None</td>\n",
       "      <td>NaN</td>\n",
       "      <td>None</td>\n",
       "      <td>None</td>\n",
       "      <td>939091</td>\n",
       "      <td>939091</td>\n",
       "      <td>Joe Biden</td>\n",
       "      <td>JoeBiden</td>\n",
       "      <td>712</td>\n",
       "      <td>4376</td>\n",
       "    </tr>\n",
       "    <tr>\n",
       "      <th>3</th>\n",
       "      <td>4</td>\n",
       "      <td>Wed Jul 31 01:22:00 +0000 2019</td>\n",
       "      <td>01:22:00.000000</td>\n",
       "      <td>2019-07-31</td>\n",
       "      <td>2019-07-31 01:22:00.000000</td>\n",
       "      <td>1156374417691369474</td>\n",
       "      <td>1156374417691369474</td>\n",
       "      <td>On what would have been his 46th birthday, my ...</td>\n",
       "      <td>NaN</td>\n",
       "      <td>None</td>\n",
       "      <td>NaN</td>\n",
       "      <td>None</td>\n",
       "      <td>None</td>\n",
       "      <td>939091</td>\n",
       "      <td>939091</td>\n",
       "      <td>Joe Biden</td>\n",
       "      <td>JoeBiden</td>\n",
       "      <td>210</td>\n",
       "      <td>1155</td>\n",
       "    </tr>\n",
       "    <tr>\n",
       "      <th>4</th>\n",
       "      <td>5</td>\n",
       "      <td>Tue Jul 30 22:12:23 +0000 2019</td>\n",
       "      <td>22:12:23.000000</td>\n",
       "      <td>2019-07-30</td>\n",
       "      <td>2019-07-30 22:12:23.000000</td>\n",
       "      <td>1156326700759863296</td>\n",
       "      <td>1156326700759863296</td>\n",
       "      <td>President Trump &amp;amp; Betsy DeVos continue to ...</td>\n",
       "      <td>NaN</td>\n",
       "      <td>None</td>\n",
       "      <td>NaN</td>\n",
       "      <td>None</td>\n",
       "      <td>None</td>\n",
       "      <td>939091</td>\n",
       "      <td>939091</td>\n",
       "      <td>Joe Biden</td>\n",
       "      <td>JoeBiden</td>\n",
       "      <td>281</td>\n",
       "      <td>1215</td>\n",
       "    </tr>\n",
       "  </tbody>\n",
       "</table>\n",
       "</div>"
      ],
      "text/plain": [
       "   id                      created_at  created_at_time created_at_date  \\\n",
       "0   1  Wed Jul 31 22:21:23 +0000 2019  22:21:23.000000      2019-07-31   \n",
       "1   2  Wed Jul 31 21:28:00 +0000 2019  21:28:00.000000      2019-07-31   \n",
       "2   3  Wed Jul 31 19:25:00 +0000 2019  19:25:00.000000      2019-07-31   \n",
       "3   4  Wed Jul 31 01:22:00 +0000 2019  01:22:00.000000      2019-07-31   \n",
       "4   5  Tue Jul 30 22:12:23 +0000 2019  22:12:23.000000      2019-07-30   \n",
       "\n",
       "          created_at_datetime             tweet_id         tweet_id_str  \\\n",
       "0  2019-07-31 22:21:23.000000  1156691352983412737  1156691352983412737   \n",
       "1  2019-07-31 21:28:00.000000  1156677917469896704  1156677917469896704   \n",
       "2  2019-07-31 19:25:00.000000  1156646963506368512  1156646963506368512   \n",
       "3  2019-07-31 01:22:00.000000  1156374417691369474  1156374417691369474   \n",
       "4  2019-07-30 22:12:23.000000  1156326700759863296  1156326700759863296   \n",
       "\n",
       "                                           full_text  in_reply_to_status_id  \\\n",
       "0  Here's the deal, President Trump inherited the...                    NaN   \n",
       "1  I’ve got some exciting news: I am now on Snapc...                    NaN   \n",
       "2  A car accident took the lives of my first wife...                    NaN   \n",
       "3  On what would have been his 46th birthday, my ...                    NaN   \n",
       "4  President Trump &amp; Betsy DeVos continue to ...                    NaN   \n",
       "\n",
       "  in_reply_to_status_id_str  in_reply_to_user_id in_reply_to_user_id_str  \\\n",
       "0                      None                  NaN                    None   \n",
       "1                      None                  NaN                    None   \n",
       "2                      None                  NaN                    None   \n",
       "3                      None                  NaN                    None   \n",
       "4                      None                  NaN                    None   \n",
       "\n",
       "  in_reply_to_screen_name  user_id user_id_str  user_name user_screen_name  \\\n",
       "0                    None   939091      939091  Joe Biden         JoeBiden   \n",
       "1                    None   939091      939091  Joe Biden         JoeBiden   \n",
       "2                    None   939091      939091  Joe Biden         JoeBiden   \n",
       "3                    None   939091      939091  Joe Biden         JoeBiden   \n",
       "4                    None   939091      939091  Joe Biden         JoeBiden   \n",
       "\n",
       "   retweet_count  favorite_count  \n",
       "0            938            4134  \n",
       "1            173             790  \n",
       "2            712            4376  \n",
       "3            210            1155  \n",
       "4            281            1215  "
      ]
     },
     "execution_count": 8,
     "metadata": {},
     "output_type": "execute_result"
    }
   ],
   "source": [
    "tweets_df.head()"
   ]
  },
  {
   "cell_type": "code",
   "execution_count": 9,
   "metadata": {},
   "outputs": [],
   "source": [
    "tweets_df[\"created_at_datetime\"] = tweets_df[\"created_at_datetime\"].apply(lambda x: dt.datetime.strptime(x,\n",
    "                                                                \"%Y-%m-%d %H:%M:%S.%f\"))"
   ]
  },
  {
   "cell_type": "code",
   "execution_count": 10,
   "metadata": {},
   "outputs": [],
   "source": [
    "tweets_df[\"day\"] = tweets_df[\"created_at_datetime\"].apply(lambda x: dt.datetime.strftime(x, \"%A\"))\n",
    "tweets_df[\"hour\"] = tweets_df[\"created_at_datetime\"].apply(lambda x: dt.datetime.strftime(x, \"%H\"))\n",
    "tweets_df[\"month\"] = tweets_df[\"created_at_datetime\"].apply(lambda x: dt.datetime.strftime(x, \"%B\"))"
   ]
  },
  {
   "cell_type": "code",
   "execution_count": 11,
   "metadata": {
    "scrolled": true
   },
   "outputs": [],
   "source": [
    "tweets_df.drop(columns = [\"created_at\", \"created_at_time\", \"created_at_date\",\"created_at_datetime\",\n",
    "                    \"tweet_id\", \"tweet_id_str\", \"in_reply_to_status_id\",\n",
    "                    \"in_reply_to_status_id_str\", \"in_reply_to_user_id\",\n",
    "                    \"in_reply_to_user_id_str\", \"in_reply_to_screen_name\",\n",
    "                    \"user_id_str\", \"user_id\", \"user_screen_name\", \"id\"], inplace = True)"
   ]
  },
  {
   "cell_type": "code",
   "execution_count": 12,
   "metadata": {
    "scrolled": true
   },
   "outputs": [],
   "source": [
    "tweets_df = tweets_df[[\"user_name\", \"month\", \"day\", \"hour\", \"retweet_count\", \"favorite_count\", \"full_text\"]]"
   ]
  },
  {
   "cell_type": "code",
   "execution_count": 13,
   "metadata": {},
   "outputs": [
    {
     "data": {
      "text/html": [
       "<div>\n",
       "<style scoped>\n",
       "    .dataframe tbody tr th:only-of-type {\n",
       "        vertical-align: middle;\n",
       "    }\n",
       "\n",
       "    .dataframe tbody tr th {\n",
       "        vertical-align: top;\n",
       "    }\n",
       "\n",
       "    .dataframe thead th {\n",
       "        text-align: right;\n",
       "    }\n",
       "</style>\n",
       "<table border=\"1\" class=\"dataframe\">\n",
       "  <thead>\n",
       "    <tr style=\"text-align: right;\">\n",
       "      <th></th>\n",
       "      <th>user_name</th>\n",
       "      <th>month</th>\n",
       "      <th>day</th>\n",
       "      <th>hour</th>\n",
       "      <th>retweet_count</th>\n",
       "      <th>favorite_count</th>\n",
       "      <th>full_text</th>\n",
       "    </tr>\n",
       "  </thead>\n",
       "  <tbody>\n",
       "    <tr>\n",
       "      <th>0</th>\n",
       "      <td>Joe Biden</td>\n",
       "      <td>July</td>\n",
       "      <td>Wednesday</td>\n",
       "      <td>22</td>\n",
       "      <td>938</td>\n",
       "      <td>4134</td>\n",
       "      <td>Here's the deal, President Trump inherited the...</td>\n",
       "    </tr>\n",
       "    <tr>\n",
       "      <th>1</th>\n",
       "      <td>Joe Biden</td>\n",
       "      <td>July</td>\n",
       "      <td>Wednesday</td>\n",
       "      <td>21</td>\n",
       "      <td>173</td>\n",
       "      <td>790</td>\n",
       "      <td>I’ve got some exciting news: I am now on Snapc...</td>\n",
       "    </tr>\n",
       "    <tr>\n",
       "      <th>2</th>\n",
       "      <td>Joe Biden</td>\n",
       "      <td>July</td>\n",
       "      <td>Wednesday</td>\n",
       "      <td>19</td>\n",
       "      <td>712</td>\n",
       "      <td>4376</td>\n",
       "      <td>A car accident took the lives of my first wife...</td>\n",
       "    </tr>\n",
       "    <tr>\n",
       "      <th>3</th>\n",
       "      <td>Joe Biden</td>\n",
       "      <td>July</td>\n",
       "      <td>Wednesday</td>\n",
       "      <td>01</td>\n",
       "      <td>210</td>\n",
       "      <td>1155</td>\n",
       "      <td>On what would have been his 46th birthday, my ...</td>\n",
       "    </tr>\n",
       "    <tr>\n",
       "      <th>4</th>\n",
       "      <td>Joe Biden</td>\n",
       "      <td>July</td>\n",
       "      <td>Tuesday</td>\n",
       "      <td>22</td>\n",
       "      <td>281</td>\n",
       "      <td>1215</td>\n",
       "      <td>President Trump &amp;amp; Betsy DeVos continue to ...</td>\n",
       "    </tr>\n",
       "  </tbody>\n",
       "</table>\n",
       "</div>"
      ],
      "text/plain": [
       "   user_name month        day hour  retweet_count  favorite_count  \\\n",
       "0  Joe Biden  July  Wednesday   22            938            4134   \n",
       "1  Joe Biden  July  Wednesday   21            173             790   \n",
       "2  Joe Biden  July  Wednesday   19            712            4376   \n",
       "3  Joe Biden  July  Wednesday   01            210            1155   \n",
       "4  Joe Biden  July    Tuesday   22            281            1215   \n",
       "\n",
       "                                           full_text  \n",
       "0  Here's the deal, President Trump inherited the...  \n",
       "1  I’ve got some exciting news: I am now on Snapc...  \n",
       "2  A car accident took the lives of my first wife...  \n",
       "3  On what would have been his 46th birthday, my ...  \n",
       "4  President Trump &amp; Betsy DeVos continue to ...  "
      ]
     },
     "execution_count": 13,
     "metadata": {},
     "output_type": "execute_result"
    }
   ],
   "source": [
    "tweets_df.head()"
   ]
  },
  {
   "cell_type": "code",
   "execution_count": 60,
   "metadata": {},
   "outputs": [
    {
     "data": {
      "text/plain": [
       "28"
      ]
     },
     "execution_count": 60,
     "metadata": {},
     "output_type": "execute_result"
    }
   ],
   "source": [
    "len(tweets_df.groupby(tweets_df[\"user_name\"]).count())"
   ]
  },
  {
   "cell_type": "code",
   "execution_count": 14,
   "metadata": {},
   "outputs": [
    {
     "data": {
      "text/plain": [
       "40262"
      ]
     },
     "execution_count": 14,
     "metadata": {},
     "output_type": "execute_result"
    }
   ],
   "source": [
    "len(tweets_df)"
   ]
  },
  {
   "cell_type": "code",
   "execution_count": 15,
   "metadata": {},
   "outputs": [],
   "source": [
    "X_df = tweets_df[[\"full_text\", \"month\", \"day\", \"hour\", \"retweet_count\", \"favorite_count\"]]\n",
    "X_df = pd.get_dummies(X_df, columns = [\"month\", \"day\", \"hour\"])"
   ]
  },
  {
   "cell_type": "code",
   "execution_count": 16,
   "metadata": {},
   "outputs": [
    {
     "data": {
      "text/html": [
       "<div>\n",
       "<style scoped>\n",
       "    .dataframe tbody tr th:only-of-type {\n",
       "        vertical-align: middle;\n",
       "    }\n",
       "\n",
       "    .dataframe tbody tr th {\n",
       "        vertical-align: top;\n",
       "    }\n",
       "\n",
       "    .dataframe thead th {\n",
       "        text-align: right;\n",
       "    }\n",
       "</style>\n",
       "<table border=\"1\" class=\"dataframe\">\n",
       "  <thead>\n",
       "    <tr style=\"text-align: right;\">\n",
       "      <th></th>\n",
       "      <th>full_text</th>\n",
       "      <th>retweet_count</th>\n",
       "      <th>favorite_count</th>\n",
       "      <th>month_April</th>\n",
       "      <th>month_August</th>\n",
       "      <th>month_December</th>\n",
       "      <th>month_February</th>\n",
       "      <th>month_January</th>\n",
       "      <th>month_July</th>\n",
       "      <th>month_June</th>\n",
       "      <th>...</th>\n",
       "      <th>hour_14</th>\n",
       "      <th>hour_15</th>\n",
       "      <th>hour_16</th>\n",
       "      <th>hour_17</th>\n",
       "      <th>hour_18</th>\n",
       "      <th>hour_19</th>\n",
       "      <th>hour_20</th>\n",
       "      <th>hour_21</th>\n",
       "      <th>hour_22</th>\n",
       "      <th>hour_23</th>\n",
       "    </tr>\n",
       "  </thead>\n",
       "  <tbody>\n",
       "    <tr>\n",
       "      <th>0</th>\n",
       "      <td>Here's the deal, President Trump inherited the...</td>\n",
       "      <td>938</td>\n",
       "      <td>4134</td>\n",
       "      <td>0</td>\n",
       "      <td>0</td>\n",
       "      <td>0</td>\n",
       "      <td>0</td>\n",
       "      <td>0</td>\n",
       "      <td>1</td>\n",
       "      <td>0</td>\n",
       "      <td>...</td>\n",
       "      <td>0</td>\n",
       "      <td>0</td>\n",
       "      <td>0</td>\n",
       "      <td>0</td>\n",
       "      <td>0</td>\n",
       "      <td>0</td>\n",
       "      <td>0</td>\n",
       "      <td>0</td>\n",
       "      <td>1</td>\n",
       "      <td>0</td>\n",
       "    </tr>\n",
       "    <tr>\n",
       "      <th>1</th>\n",
       "      <td>I’ve got some exciting news: I am now on Snapc...</td>\n",
       "      <td>173</td>\n",
       "      <td>790</td>\n",
       "      <td>0</td>\n",
       "      <td>0</td>\n",
       "      <td>0</td>\n",
       "      <td>0</td>\n",
       "      <td>0</td>\n",
       "      <td>1</td>\n",
       "      <td>0</td>\n",
       "      <td>...</td>\n",
       "      <td>0</td>\n",
       "      <td>0</td>\n",
       "      <td>0</td>\n",
       "      <td>0</td>\n",
       "      <td>0</td>\n",
       "      <td>0</td>\n",
       "      <td>0</td>\n",
       "      <td>1</td>\n",
       "      <td>0</td>\n",
       "      <td>0</td>\n",
       "    </tr>\n",
       "  </tbody>\n",
       "</table>\n",
       "<p>2 rows × 46 columns</p>\n",
       "</div>"
      ],
      "text/plain": [
       "                                           full_text  retweet_count  \\\n",
       "0  Here's the deal, President Trump inherited the...            938   \n",
       "1  I’ve got some exciting news: I am now on Snapc...            173   \n",
       "\n",
       "   favorite_count  month_April  month_August  month_December  month_February  \\\n",
       "0            4134            0             0               0               0   \n",
       "1             790            0             0               0               0   \n",
       "\n",
       "   month_January  month_July  month_June   ...     hour_14  hour_15  hour_16  \\\n",
       "0              0           1           0   ...           0        0        0   \n",
       "1              0           1           0   ...           0        0        0   \n",
       "\n",
       "   hour_17  hour_18  hour_19  hour_20  hour_21  hour_22  hour_23  \n",
       "0        0        0        0        0        0        1        0  \n",
       "1        0        0        0        0        1        0        0  \n",
       "\n",
       "[2 rows x 46 columns]"
      ]
     },
     "execution_count": 16,
     "metadata": {},
     "output_type": "execute_result"
    }
   ],
   "source": [
    "X_df.head(2)"
   ]
  },
  {
   "cell_type": "code",
   "execution_count": 17,
   "metadata": {},
   "outputs": [],
   "source": [
    "# X_sub_df_1 = X_df[[\"full_text\", \"retweet_count\", \"favorite_count\"]]\n",
    "# X_sub_df_2 = X_df.loc[:, \"month_April\":\"hour_23\"]"
   ]
  },
  {
   "cell_type": "code",
   "execution_count": 18,
   "metadata": {},
   "outputs": [],
   "source": [
    "# X_sub_df_2.replace(to_replace = 0, value = np.nan, inplace = True)"
   ]
  },
  {
   "cell_type": "code",
   "execution_count": 19,
   "metadata": {},
   "outputs": [],
   "source": [
    "# X_df = pd.concat([X_sub_df_1, X_sub_df_2], axis = 1)"
   ]
  },
  {
   "cell_type": "code",
   "execution_count": 20,
   "metadata": {},
   "outputs": [],
   "source": [
    "# X_df.head(2)"
   ]
  },
  {
   "cell_type": "code",
   "execution_count": 21,
   "metadata": {},
   "outputs": [],
   "source": [
    "import nltk\n",
    "import re\n",
    "import string\n",
    "pd.set_option('display.max_colwidth', 100) # To extend column width\n",
    "\n",
    "stopwords = nltk.corpus.stopwords.words('english')\n",
    "wn = nltk.WordNetLemmatizer()"
   ]
  },
  {
   "cell_type": "code",
   "execution_count": 22,
   "metadata": {},
   "outputs": [],
   "source": [
    "def clean_text(text):\n",
    "    text = \"\".join([word.lower() for word in text if word not in string.punctuation])\n",
    "    tokens = re.split('\\W+', text)\n",
    "    text = [wn.lemmatize(word) for word in tokens if word not in stopwords]\n",
    "    return text"
   ]
  },
  {
   "cell_type": "code",
   "execution_count": 23,
   "metadata": {},
   "outputs": [],
   "source": [
    "from sklearn.feature_extraction.text import CountVectorizer\n",
    "\n",
    "# NGramVectorizer\n",
    "ngram_vect = CountVectorizer(ngram_range=(2,2), analyzer=clean_text)\n",
    "X_count = ngram_vect.fit_transform(X_df['full_text'])"
   ]
  },
  {
   "cell_type": "code",
   "execution_count": null,
   "metadata": {},
   "outputs": [],
   "source": [
    "X_count"
   ]
  },
  {
   "cell_type": "code",
   "execution_count": null,
   "metadata": {},
   "outputs": [],
   "source": [
    "help(X_count)"
   ]
  },
  {
   "cell_type": "code",
   "execution_count": null,
   "metadata": {},
   "outputs": [],
   "source": [
    "type(X_count.toarray())"
   ]
  },
  {
   "cell_type": "code",
   "execution_count": 24,
   "metadata": {},
   "outputs": [],
   "source": [
    "X_df.drop(columns = [\"full_text\"], inplace = True)"
   ]
  },
  {
   "cell_type": "code",
   "execution_count": null,
   "metadata": {},
   "outputs": [],
   "source": [
    "# X_count_df = pd.DataFrame(X_count.toarray(), columns=ngram_vect.get_feature_names())\n",
    "# X_count_df.replace(to_replace = 0, value = np.nan, inplace = True)"
   ]
  },
  {
   "cell_type": "code",
   "execution_count": 25,
   "metadata": {},
   "outputs": [],
   "source": [
    "X_df = pd.concat([X_df, pd.DataFrame(X_count.toarray(), columns=ngram_vect.get_feature_names())], axis=1)"
   ]
  },
  {
   "cell_type": "code",
   "execution_count": 26,
   "metadata": {},
   "outputs": [],
   "source": [
    "X_df = X_df.to_sparse(fill_value = 0)"
   ]
  },
  {
   "cell_type": "code",
   "execution_count": null,
   "metadata": {},
   "outputs": [],
   "source": [
    "type(X_df)"
   ]
  },
  {
   "cell_type": "code",
   "execution_count": 40,
   "metadata": {},
   "outputs": [
    {
     "data": {
      "text/html": [
       "<div>\n",
       "<style scoped>\n",
       "    .dataframe tbody tr th:only-of-type {\n",
       "        vertical-align: middle;\n",
       "    }\n",
       "\n",
       "    .dataframe tbody tr th {\n",
       "        vertical-align: top;\n",
       "    }\n",
       "\n",
       "    .dataframe thead th {\n",
       "        text-align: right;\n",
       "    }\n",
       "</style>\n",
       "<table border=\"1\" class=\"dataframe\">\n",
       "  <thead>\n",
       "    <tr style=\"text-align: right;\">\n",
       "      <th></th>\n",
       "      <th>retweet_count</th>\n",
       "      <th>favorite_count</th>\n",
       "      <th>month_April</th>\n",
       "      <th>month_August</th>\n",
       "      <th>month_December</th>\n",
       "      <th>month_February</th>\n",
       "      <th>month_January</th>\n",
       "      <th>month_July</th>\n",
       "      <th>month_June</th>\n",
       "      <th>month_March</th>\n",
       "      <th>...</th>\n",
       "      <th>هستند</th>\n",
       "      <th>چهلسالشکست</th>\n",
       "      <th>که</th>\n",
       "      <th>۴۰</th>\n",
       "      <th>⅓</th>\n",
       "      <th>⅔</th>\n",
       "      <th>祝你新年快乐</th>\n",
       "      <th>광주민주화운동</th>\n",
       "      <th>𝐥𝐞𝐠𝐚𝐥</th>\n",
       "      <th>𝑽𝒂𝒎𝒐𝒏𝒐𝒔</th>\n",
       "    </tr>\n",
       "  </thead>\n",
       "  <tbody>\n",
       "    <tr>\n",
       "      <th>0</th>\n",
       "      <td>938</td>\n",
       "      <td>4134</td>\n",
       "      <td>0</td>\n",
       "      <td>0</td>\n",
       "      <td>0</td>\n",
       "      <td>0</td>\n",
       "      <td>0</td>\n",
       "      <td>1</td>\n",
       "      <td>0</td>\n",
       "      <td>0</td>\n",
       "      <td>...</td>\n",
       "      <td>0</td>\n",
       "      <td>0</td>\n",
       "      <td>0</td>\n",
       "      <td>0</td>\n",
       "      <td>0</td>\n",
       "      <td>0</td>\n",
       "      <td>0</td>\n",
       "      <td>0</td>\n",
       "      <td>0</td>\n",
       "      <td>0</td>\n",
       "    </tr>\n",
       "    <tr>\n",
       "      <th>1</th>\n",
       "      <td>173</td>\n",
       "      <td>790</td>\n",
       "      <td>0</td>\n",
       "      <td>0</td>\n",
       "      <td>0</td>\n",
       "      <td>0</td>\n",
       "      <td>0</td>\n",
       "      <td>1</td>\n",
       "      <td>0</td>\n",
       "      <td>0</td>\n",
       "      <td>...</td>\n",
       "      <td>0</td>\n",
       "      <td>0</td>\n",
       "      <td>0</td>\n",
       "      <td>0</td>\n",
       "      <td>0</td>\n",
       "      <td>0</td>\n",
       "      <td>0</td>\n",
       "      <td>0</td>\n",
       "      <td>0</td>\n",
       "      <td>0</td>\n",
       "    </tr>\n",
       "  </tbody>\n",
       "</table>\n",
       "<p>2 rows × 58604 columns</p>\n",
       "</div>"
      ],
      "text/plain": [
       "   retweet_count  favorite_count  month_April  month_August  month_December  \\\n",
       "0            938            4134            0             0               0   \n",
       "1            173             790            0             0               0   \n",
       "\n",
       "   month_February  month_January  month_July  month_June  month_March  \\\n",
       "0               0              0           1           0            0   \n",
       "1               0              0           1           0            0   \n",
       "\n",
       "    ...     هستند  چهلسالشکست  که  ۴۰  ⅓  ⅔  祝你新年快乐  광주민주화운동  𝐥𝐞𝐠𝐚𝐥  𝑽𝒂𝒎𝒐𝒏𝒐𝒔  \n",
       "0   ...         0           0   0   0  0  0       0        0      0        0  \n",
       "1   ...         0           0   0   0  0  0       0        0      0        0  \n",
       "\n",
       "[2 rows x 58604 columns]"
      ]
     },
     "execution_count": 40,
     "metadata": {},
     "output_type": "execute_result"
    }
   ],
   "source": [
    "X_df.head(2)"
   ]
  },
  {
   "cell_type": "code",
   "execution_count": 55,
   "metadata": {},
   "outputs": [
    {
     "data": {
      "text/plain": [
       "58604"
      ]
     },
     "execution_count": 55,
     "metadata": {},
     "output_type": "execute_result"
    }
   ],
   "source": [
    "len(X_df.columns)"
   ]
  },
  {
   "cell_type": "code",
   "execution_count": 27,
   "metadata": {},
   "outputs": [],
   "source": [
    "data_y = tweets_df.values\n",
    "data_x = X_df.values\n",
    "X = data_x[:, 0:]\n",
    "y = data_y[:,0]"
   ]
  },
  {
   "cell_type": "code",
   "execution_count": 28,
   "metadata": {},
   "outputs": [
    {
     "data": {
      "text/plain": [
       "numpy.ndarray"
      ]
     },
     "execution_count": 28,
     "metadata": {},
     "output_type": "execute_result"
    }
   ],
   "source": [
    "type(X)"
   ]
  },
  {
   "cell_type": "code",
   "execution_count": 29,
   "metadata": {},
   "outputs": [],
   "source": [
    "from scipy.sparse import csr_matrix"
   ]
  },
  {
   "cell_type": "code",
   "execution_count": 30,
   "metadata": {},
   "outputs": [
    {
     "data": {
      "text/plain": [
       "<40262x58604 sparse matrix of type '<class 'numpy.int64'>'\n",
       "\twith 823141 stored elements in Compressed Sparse Row format>"
      ]
     },
     "execution_count": 30,
     "metadata": {},
     "output_type": "execute_result"
    }
   ],
   "source": [
    "csr_matrix(X)"
   ]
  },
  {
   "cell_type": "code",
   "execution_count": 31,
   "metadata": {},
   "outputs": [],
   "source": [
    "from sklearn.model_selection import train_test_split\n",
    "\n",
    "X_train, X_test, y_train, y_test = train_test_split(csr_matrix(X), y, random_state=42)"
   ]
  },
  {
   "cell_type": "code",
   "execution_count": 34,
   "metadata": {},
   "outputs": [],
   "source": [
    "from sklearn.preprocessing import MaxAbsScaler"
   ]
  },
  {
   "cell_type": "code",
   "execution_count": 35,
   "metadata": {},
   "outputs": [],
   "source": [
    "X_scaler = MaxAbsScaler().fit(X_train)"
   ]
  },
  {
   "cell_type": "code",
   "execution_count": 36,
   "metadata": {},
   "outputs": [],
   "source": [
    "X_train_scaled = X_scaler.transform(X_train)\n",
    "X_test_scaled = X_scaler.transform(X_test)"
   ]
  },
  {
   "cell_type": "code",
   "execution_count": 37,
   "metadata": {},
   "outputs": [],
   "source": [
    "from sklearn.preprocessing import LabelEncoder\n",
    "\n",
    "# Step 1: Label-encode data set\n",
    "label_encoder = LabelEncoder()\n",
    "label_encoder.fit(y_train)\n",
    "\n",
    "encoded_y_train = label_encoder.transform(y_train)\n",
    "encoded_y_test = label_encoder.transform(y_test)"
   ]
  },
  {
   "cell_type": "code",
   "execution_count": 38,
   "metadata": {},
   "outputs": [
    {
     "name": "stderr",
     "output_type": "stream",
     "text": [
      "Using TensorFlow backend.\n"
     ]
    }
   ],
   "source": [
    "from keras.utils import to_categorical\n",
    "\n",
    "# Step 2: One-hot encoding\n",
    "y_train_categorical = to_categorical(encoded_y_train)\n",
    "y_test_categorical = to_categorical(encoded_y_test)"
   ]
  },
  {
   "cell_type": "code",
   "execution_count": 39,
   "metadata": {},
   "outputs": [
    {
     "data": {
      "text/plain": [
       "<30196x58604 sparse matrix of type '<class 'numpy.int64'>'\n",
       "\twith 617157 stored elements in Compressed Sparse Row format>"
      ]
     },
     "execution_count": 39,
     "metadata": {},
     "output_type": "execute_result"
    }
   ],
   "source": [
    "X_train"
   ]
  },
  {
   "cell_type": "code",
   "execution_count": 61,
   "metadata": {},
   "outputs": [],
   "source": [
    "# first, create a normal neural network with 2 inputs, 6 hidden nodes, and 2 outputs\n",
    "from keras.models import Sequential\n",
    "from keras.layers import Dense\n",
    "\n",
    "deep_model = Sequential()\n",
    "deep_model.add(Dense(units=1000, activation='relu', input_dim=58604))\n",
    "deep_model.add(Dense(units=1000, activation='relu'))\n",
    "deep_model.add(Dense(units=28, activation='softmax'))"
   ]
  },
  {
   "cell_type": "code",
   "execution_count": 62,
   "metadata": {},
   "outputs": [
    {
     "name": "stdout",
     "output_type": "stream",
     "text": [
      "_________________________________________________________________\n",
      "Layer (type)                 Output Shape              Param #   \n",
      "=================================================================\n",
      "dense_7 (Dense)              (None, 1000)              58605000  \n",
      "_________________________________________________________________\n",
      "dense_8 (Dense)              (None, 1000)              1001000   \n",
      "_________________________________________________________________\n",
      "dense_9 (Dense)              (None, 28)                28028     \n",
      "=================================================================\n",
      "Total params: 59,634,028\n",
      "Trainable params: 59,634,028\n",
      "Non-trainable params: 0\n",
      "_________________________________________________________________\n"
     ]
    }
   ],
   "source": [
    "deep_model.summary()"
   ]
  },
  {
   "cell_type": "code",
   "execution_count": 63,
   "metadata": {},
   "outputs": [],
   "source": [
    "# Compile the model\n",
    "deep_model.compile(optimizer='adam',\n",
    "                   loss='categorical_crossentropy',\n",
    "                   metrics=['accuracy'])"
   ]
  },
  {
   "cell_type": "code",
   "execution_count": null,
   "metadata": {},
   "outputs": [
    {
     "name": "stdout",
     "output_type": "stream",
     "text": [
      "WARNING:tensorflow:From C:\\Users\\lande\\Anaconda3\\lib\\site-packages\\tensorflow\\python\\ops\\math_ops.py:3066: to_int32 (from tensorflow.python.ops.math_ops) is deprecated and will be removed in a future version.\n",
      "Instructions for updating:\n",
      "Use tf.cast instead.\n",
      "Epoch 1/100\n"
     ]
    }
   ],
   "source": [
    "# Fit the model to the training data\n",
    "deep_model.fit(\n",
    "    X_train_scaled,\n",
    "    y_train_categorical,\n",
    "    epochs=100,\n",
    "    shuffle=True,\n",
    "    verbose=2\n",
    ")"
   ]
  },
  {
   "cell_type": "code",
   "execution_count": 42,
   "metadata": {},
   "outputs": [],
   "source": [
    "df = pd.DataFrame(np.random.randn(10000, 4))"
   ]
  },
  {
   "cell_type": "code",
   "execution_count": 53,
   "metadata": {},
   "outputs": [
    {
     "data": {
      "text/html": [
       "<div>\n",
       "<style scoped>\n",
       "    .dataframe tbody tr th:only-of-type {\n",
       "        vertical-align: middle;\n",
       "    }\n",
       "\n",
       "    .dataframe tbody tr th {\n",
       "        vertical-align: top;\n",
       "    }\n",
       "\n",
       "    .dataframe thead th {\n",
       "        text-align: right;\n",
       "    }\n",
       "</style>\n",
       "<table border=\"1\" class=\"dataframe\">\n",
       "  <thead>\n",
       "    <tr style=\"text-align: right;\">\n",
       "      <th></th>\n",
       "      <th>0</th>\n",
       "      <th>1</th>\n",
       "      <th>2</th>\n",
       "      <th>3</th>\n",
       "    </tr>\n",
       "  </thead>\n",
       "  <tbody>\n",
       "    <tr>\n",
       "      <th>0</th>\n",
       "      <td>1.276867</td>\n",
       "      <td>-1.067148</td>\n",
       "      <td>1.956972</td>\n",
       "      <td>0.266448</td>\n",
       "    </tr>\n",
       "    <tr>\n",
       "      <th>1</th>\n",
       "      <td>1.477884</td>\n",
       "      <td>0.222252</td>\n",
       "      <td>-1.350203</td>\n",
       "      <td>-3.410060</td>\n",
       "    </tr>\n",
       "    <tr>\n",
       "      <th>2</th>\n",
       "      <td>-0.096345</td>\n",
       "      <td>-0.546482</td>\n",
       "      <td>-0.627817</td>\n",
       "      <td>-0.817991</td>\n",
       "    </tr>\n",
       "    <tr>\n",
       "      <th>3</th>\n",
       "      <td>0.334041</td>\n",
       "      <td>1.644420</td>\n",
       "      <td>-0.690802</td>\n",
       "      <td>-0.074156</td>\n",
       "    </tr>\n",
       "    <tr>\n",
       "      <th>4</th>\n",
       "      <td>-1.142075</td>\n",
       "      <td>1.458111</td>\n",
       "      <td>-0.626752</td>\n",
       "      <td>-1.127151</td>\n",
       "    </tr>\n",
       "  </tbody>\n",
       "</table>\n",
       "</div>"
      ],
      "text/plain": [
       "          0         1         2         3\n",
       "0  1.276867 -1.067148  1.956972  0.266448\n",
       "1  1.477884  0.222252 -1.350203 -3.410060\n",
       "2 -0.096345 -0.546482 -0.627817 -0.817991\n",
       "3  0.334041  1.644420 -0.690802 -0.074156\n",
       "4 -1.142075  1.458111 -0.626752 -1.127151"
      ]
     },
     "execution_count": 53,
     "metadata": {},
     "output_type": "execute_result"
    }
   ],
   "source": [
    "df.head()"
   ]
  },
  {
   "cell_type": "code",
   "execution_count": 54,
   "metadata": {},
   "outputs": [
    {
     "data": {
      "text/plain": [
       "4"
      ]
     },
     "execution_count": 54,
     "metadata": {},
     "output_type": "execute_result"
    }
   ],
   "source": [
    "len(df.columns)"
   ]
  },
  {
   "cell_type": "code",
   "execution_count": null,
   "metadata": {},
   "outputs": [],
   "source": [
    "# for i, r in df.iterrows():\n",
    "#     print(i)\n",
    "    print(type(r))\n",
    "#     print(r[2:])\n",
    "#     print(type(r[2:]))\n",
    "#     for x in range(0, len(r)):\n",
    "#         print(x)"
   ]
  },
  {
   "cell_type": "code",
   "execution_count": null,
   "metadata": {},
   "outputs": [],
   "source": [
    "x_csv_path = \"../datasets/features.csv\"\n",
    "y_csv_path = \"../datasets/tweets.csv\""
   ]
  },
  {
   "cell_type": "code",
   "execution_count": null,
   "metadata": {},
   "outputs": [],
   "source": [
    "features_csv = X_df.to_csv(x_csv_path, index = None, header = True, encoding = 'utf-8-sig')"
   ]
  },
  {
   "cell_type": "code",
   "execution_count": null,
   "metadata": {},
   "outputs": [],
   "source": [
    "tweets_csv = tweets_df.to_csv(y_csv_path, index = None, header = True, encoding = 'utf-8-sig')"
   ]
  },
  {
   "cell_type": "code",
   "execution_count": null,
   "metadata": {},
   "outputs": [],
   "source": []
  },
  {
   "cell_type": "code",
   "execution_count": null,
   "metadata": {},
   "outputs": [],
   "source": []
  },
  {
   "cell_type": "code",
   "execution_count": null,
   "metadata": {},
   "outputs": [],
   "source": []
  },
  {
   "cell_type": "code",
   "execution_count": null,
   "metadata": {},
   "outputs": [],
   "source": []
  },
  {
   "cell_type": "code",
   "execution_count": null,
   "metadata": {},
   "outputs": [],
   "source": []
  },
  {
   "cell_type": "code",
   "execution_count": null,
   "metadata": {},
   "outputs": [],
   "source": [
    "import nltk\n",
    "nltk.download('stopwords')"
   ]
  },
  {
   "cell_type": "code",
   "execution_count": null,
   "metadata": {},
   "outputs": [],
   "source": [
    "nltk.download('wordnet')"
   ]
  },
  {
   "cell_type": "code",
   "execution_count": null,
   "metadata": {},
   "outputs": [],
   "source": [
    "import re\n",
    "import string\n",
    "pd.set_option('display.max_colwidth', 100) # To extend column width\n",
    "\n",
    "stopwords = nltk.corpus.stopwords.words('english')\n",
    "wn = nltk.WordNetLemmatizer()"
   ]
  },
  {
   "cell_type": "code",
   "execution_count": null,
   "metadata": {},
   "outputs": [],
   "source": []
  },
  {
   "cell_type": "code",
   "execution_count": null,
   "metadata": {},
   "outputs": [],
   "source": [
    "# from sklearn.feature_extraction.text import CountVectorizer\n",
    "\n",
    "# count_vect = CountVectorizer(analyzer=clean_text)\n",
    "# X_counts = count_vect.fit_transform(tweets_df['full_text'])\n",
    "# print(X_counts.shape)\n",
    "# print(count_vect.get_feature_names())"
   ]
  },
  {
   "cell_type": "code",
   "execution_count": null,
   "metadata": {},
   "outputs": [],
   "source": [
    "# X_counts"
   ]
  },
  {
   "cell_type": "code",
   "execution_count": null,
   "metadata": {},
   "outputs": [],
   "source": [
    "# X_counts_df = pd.DataFrame(X_counts.toarray(), columns=count_vect.get_feature_names())\n",
    "# X_counts_df.head(10)"
   ]
  },
  {
   "cell_type": "code",
   "execution_count": null,
   "metadata": {},
   "outputs": [],
   "source": [
    "from sklearn.feature_extraction.text import CountVectorizer\n",
    "\n",
    "ngram_vect = CountVectorizer(ngram_range=(2,2),analyzer=clean_text) # It applies only bigram vectorizer\n",
    "X_counts = ngram_vect.fit_transform(tweets_df['full_text'])\n",
    "print(X_counts.shape)\n",
    "print(ngram_vect.get_feature_names())"
   ]
  },
  {
   "cell_type": "code",
   "execution_count": null,
   "metadata": {},
   "outputs": [],
   "source": [
    "X_counts_df = pd.DataFrame(X_counts.toarray(), columns=ngram_vect.get_feature_names())\n",
    "X_counts_df.head(10)"
   ]
  },
  {
   "cell_type": "code",
   "execution_count": null,
   "metadata": {},
   "outputs": [],
   "source": [
    "# from sklearn.feature_extraction.text import TfidfVectorizer\n",
    "\n",
    "# tfidf_vect = TfidfVectorizer(analyzer=clean_text)\n",
    "# X_tfidf = tfidf_vect.fit_transform(tweets_df['full_text'])\n",
    "# print(X_tfidf.shape)\n",
    "# print(tfidf_vect.get_feature_names())"
   ]
  },
  {
   "cell_type": "code",
   "execution_count": null,
   "metadata": {},
   "outputs": [],
   "source": [
    "# X_tfidf_df = pd.DataFrame(X_tfidf.toarray(), columns=tfidf_vect.get_feature_names())\n",
    "# X_tfidf_df.head(10)"
   ]
  },
  {
   "cell_type": "code",
   "execution_count": null,
   "metadata": {},
   "outputs": [],
   "source": [
    "# print(X_tfidf_df.loc[(X_tfidf_df!=0).any(axis=1)])"
   ]
  },
  {
   "cell_type": "code",
   "execution_count": null,
   "metadata": {},
   "outputs": [],
   "source": []
  },
  {
   "cell_type": "code",
   "execution_count": null,
   "metadata": {},
   "outputs": [],
   "source": [
    "from sklearn.preprocessing import LabelEncoder\n"
   ]
  },
  {
   "cell_type": "code",
   "execution_count": null,
   "metadata": {},
   "outputs": [],
   "source": [
    "tweets_df.head()"
   ]
  }
 ],
 "metadata": {
  "kernelspec": {
   "display_name": "Python 3",
   "language": "python",
   "name": "python3"
  },
  "language_info": {
   "codemirror_mode": {
    "name": "ipython",
    "version": 3
   },
   "file_extension": ".py",
   "mimetype": "text/x-python",
   "name": "python",
   "nbconvert_exporter": "python",
   "pygments_lexer": "ipython3",
   "version": "3.7.1"
  }
 },
 "nbformat": 4,
 "nbformat_minor": 2
}
