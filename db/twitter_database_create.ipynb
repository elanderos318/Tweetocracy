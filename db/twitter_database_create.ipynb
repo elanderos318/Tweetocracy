{
 "cells": [
  {
   "cell_type": "code",
   "execution_count": 1,
   "metadata": {},
   "outputs": [],
   "source": [
    "# Dependencies\n",
    "# ----------------------------------\n",
    "from sqlalchemy import create_engine\n",
    "from sqlalchemy.ext.declarative import declarative_base\n",
    "from sqlalchemy import Column, Integer, String, Float "
   ]
  },
  {
   "cell_type": "code",
   "execution_count": 2,
   "metadata": {},
   "outputs": [],
   "source": [
    "# Sets an object to utilize the default declarative base in SQL Alchemy\n",
    "Base = declarative_base()"
   ]
  },
  {
   "cell_type": "code",
   "execution_count": 3,
   "metadata": {},
   "outputs": [],
   "source": [
    "# Creates Classes which will serve as the anchor points for our Table\n",
    "class Tweet_Data(Base):\n",
    "    __tablename__ = 'tweet_data'\n",
    "    id = Column(Integer, primary_key=True)\n",
    "    created_at = Column(String(355))\n",
    "    tweet_id = Column(Integer)\n",
    "    tweet_id_str = Column(String(255))\n",
    "    full_text = Column(String(355))\n",
    "    in_reply_to_status_id = Column(Integer)\n",
    "    in_reply_to_status_id_str = Column(String(255))\n",
    "    in_reply_to_user_id = Column(Integer)\n",
    "    in_reply_to_user_id_str = Column(String(255))\n",
    "    in_reply_to_screen_name = Column(String(255))\n",
    "    user_id = Column(Integer)\n",
    "    user_id_str = Column(String(255))\n",
    "    user_name = Column(String(255))\n",
    "    user_screen_name = Column(String(255))\n",
    "    retweet_count = Column(Integer)\n",
    "    favorite_count = Column(Integer)"
   ]
  },
  {
   "cell_type": "code",
   "execution_count": 4,
   "metadata": {},
   "outputs": [],
   "source": [
    "# Create Database Connection\n",
    "engine = create_engine(\"sqlite:///../db/twitter_db.sqlite\")\n",
    "conn = engine.connect()"
   ]
  },
  {
   "cell_type": "code",
   "execution_count": 5,
   "metadata": {},
   "outputs": [],
   "source": [
    "# Create a \"Metadata\" Layer That Abstracts our SQL Database\n",
    "# ----------------------------------\n",
    "# Create (if not already in existence) the tables associated with our classes.\n",
    "Base.metadata.create_all(engine)"
   ]
  },
  {
   "cell_type": "code",
   "execution_count": null,
   "metadata": {},
   "outputs": [],
   "source": [
    "# Use this to clear out the db\n",
    "# ----------------------------------\n",
    "# Base.metadata.drop_all(engine)"
   ]
  },
  {
   "cell_type": "code",
   "execution_count": null,
   "metadata": {},
   "outputs": [],
   "source": [
    "# engine.execute(\"ALTER TABLE tweet_data DROP COLUMN hashtags;\")"
   ]
  },
  {
   "cell_type": "code",
   "execution_count": 6,
   "metadata": {},
   "outputs": [],
   "source": [
    "from sqlalchemy import inspect"
   ]
  },
  {
   "cell_type": "code",
   "execution_count": 7,
   "metadata": {},
   "outputs": [],
   "source": [
    "# Create the inspector and connect it to the engine\n",
    "inspector = inspect(engine)"
   ]
  },
  {
   "cell_type": "code",
   "execution_count": 8,
   "metadata": {},
   "outputs": [
    {
     "data": {
      "text/plain": [
       "['tweet_data']"
      ]
     },
     "execution_count": 8,
     "metadata": {},
     "output_type": "execute_result"
    }
   ],
   "source": [
    "# Collect the names of tables within the database\n",
    "inspector.get_table_names()"
   ]
  },
  {
   "cell_type": "code",
   "execution_count": 9,
   "metadata": {},
   "outputs": [
    {
     "name": "stdout",
     "output_type": "stream",
     "text": [
      "id INTEGER\n",
      "created_at VARCHAR(355)\n",
      "tweet_id INTEGER\n",
      "tweet_id_str VARCHAR(255)\n",
      "full_text VARCHAR(355)\n",
      "in_reply_to_status_id INTEGER\n",
      "in_reply_to_status_id_str VARCHAR(255)\n",
      "in_reply_to_user_id INTEGER\n",
      "in_reply_to_user_id_str VARCHAR(255)\n",
      "in_reply_to_screen_name VARCHAR(255)\n",
      "user_id INTEGER\n",
      "user_id_str VARCHAR(255)\n",
      "user_name VARCHAR(255)\n",
      "user_screen_name VARCHAR(255)\n",
      "retweet_count INTEGER\n",
      "favorite_count INTEGER\n"
     ]
    }
   ],
   "source": [
    "# Using the inspector to print the column names within the 'tweet_data' table and its types\n",
    "columns = inspector.get_columns('tweet_data')\n",
    "for column in columns:\n",
    "    print(column[\"name\"], column[\"type\"])"
   ]
  },
  {
   "cell_type": "code",
   "execution_count": null,
   "metadata": {},
   "outputs": [],
   "source": []
  }
 ],
 "metadata": {
  "kernelspec": {
   "display_name": "Python 3",
   "language": "python",
   "name": "python3"
  },
  "language_info": {
   "codemirror_mode": {
    "name": "ipython",
    "version": 3
   },
   "file_extension": ".py",
   "mimetype": "text/x-python",
   "name": "python",
   "nbconvert_exporter": "python",
   "pygments_lexer": "ipython3",
   "version": "3.7.1"
  }
 },
 "nbformat": 4,
 "nbformat_minor": 2
}
